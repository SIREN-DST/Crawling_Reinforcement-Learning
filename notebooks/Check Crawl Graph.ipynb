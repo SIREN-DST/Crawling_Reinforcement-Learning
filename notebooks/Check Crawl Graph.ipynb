{
 "cells": [
  {
   "cell_type": "code",
   "execution_count": 1,
   "metadata": {
    "collapsed": true
   },
   "outputs": [],
   "source": [
    "%matplotlib inline"
   ]
  },
  {
   "cell_type": "code",
   "execution_count": 911,
   "metadata": {
    "collapsed": false
   },
   "outputs": [],
   "source": [
    "import pickle\n",
    "from collections import Counter, namedtuple\n",
    "\n",
    "import networkx as nx\n",
    "import numpy as np\n",
    "import pandas as pd\n",
    "import matplotlib.pyplot as plt\n",
    "\n",
    "plt.style.use('ggplot')\n",
    "np.set_printoptions(precision=4, suppress=True)"
   ]
  },
  {
   "cell_type": "code",
   "execution_count": 3,
   "metadata": {
    "collapsed": false
   },
   "outputs": [],
   "source": [
    "from tqdm import tqdm\n",
    "\n",
    "def cleanup_graph(G):\n",
    "    for node_id, data in G.nodes_iter(data=True):\n",
    "        # 'scores' already contain all the information needed for rewards\n",
    "        if 'info' in data and 'forms' in data['info']:\n",
    "            del data['info']['forms']\n",
    "        if 'info' not in data:\n",
    "            data['ok'] = False\n",
    "            \n",
    "    for _, _, data in G.edges_iter(data=True):\n",
    "        if 'link' in data:\n",
    "            link = data['link']\n",
    "            url = link['url']\n",
    "            text = link.get('inside_text', '')\n",
    "            data.clear()\n",
    "            data.update(url=url, text=text)\n",
    "    return G"
   ]
  },
  {
   "cell_type": "code",
   "execution_count": 4,
   "metadata": {
    "collapsed": true
   },
   "outputs": [],
   "source": [
    "graph_paths = !ls ../deep-deep/data/alexa-*depth3.pickle"
   ]
  },
  {
   "cell_type": "code",
   "execution_count": 5,
   "metadata": {
    "collapsed": false
   },
   "outputs": [
    {
     "name": "stderr",
     "output_type": "stream",
     "text": [
      "100%|██████████| 10/10 [01:30<00:00,  8.19s/it]\n"
     ]
    }
   ],
   "source": [
    "#G = nx.read_gpickle('graph-50-d2.pickle')\n",
    "graphs = [nx.read_gpickle(path) for path in tqdm(graph_paths)]\n",
    "# G = nx.read_gpickle('../deep-deep/data/alexa-aa.csv.graph-depth3.pickle')\n",
    "# cleanup_graph(G)"
   ]
  },
  {
   "cell_type": "code",
   "execution_count": 6,
   "metadata": {
    "collapsed": false
   },
   "outputs": [
    {
     "name": "stderr",
     "output_type": "stream",
     "text": [
      "100%|██████████| 10/10 [00:22<00:00,  2.36s/it]\n"
     ]
    }
   ],
   "source": [
    "graphs = [cleanup_graph(g) for g in tqdm(graphs)]"
   ]
  },
  {
   "cell_type": "markdown",
   "metadata": {},
   "source": [
    "Edge information:"
   ]
  },
  {
   "cell_type": "code",
   "execution_count": 7,
   "metadata": {
    "collapsed": true
   },
   "outputs": [],
   "source": [
    "G = graphs[0]"
   ]
  },
  {
   "cell_type": "code",
   "execution_count": 8,
   "metadata": {
    "collapsed": false
   },
   "outputs": [
    {
     "data": {
      "text/plain": [
       "(3,\n",
       " 1343,\n",
       " {'text': 'Copyright Compliance',\n",
       "  'url': 'http://www.cc.com/legal/copyright-compliance'})"
      ]
     },
     "execution_count": 8,
     "metadata": {},
     "output_type": "execute_result"
    }
   ],
   "source": [
    "G.edges(data=True)[100]"
   ]
  },
  {
   "cell_type": "markdown",
   "metadata": {},
   "source": [
    "Node information:"
   ]
  },
  {
   "cell_type": "code",
   "execution_count": 1027,
   "metadata": {
    "collapsed": false
   },
   "outputs": [
    {
     "data": {
      "text/plain": [
       "'/foo/bar?k=v&egg=spam'"
      ]
     },
     "execution_count": 1027,
     "metadata": {},
     "output_type": "execute_result"
    }
   ],
   "source": [
    "from urllib.parse import unquote_plus\n",
    "from urllib.parse import urlsplit\n",
    "\n",
    "def url_path_query(url):\n",
    "    \"\"\"\n",
    "    Return URL path and query, without domain, scheme and fragment:\n",
    "\n",
    "    >>> url_path_query(\"http://example.com/foo/bar?k=v&egg=spam#id9\")\n",
    "    '/foo/bar?k=v&egg=spam'\n",
    "    \"\"\"\n",
    "    p = urlsplit(url)\n",
    "    return unquote_plus(p.path + '?' + p.query).lower()\n",
    "\n",
    "url_path_query(\"http://example.com/foo/bar?k=v&egg=spam#id9\")"
   ]
  },
  {
   "cell_type": "code",
   "execution_count": 9,
   "metadata": {
    "collapsed": false,
    "scrolled": true
   },
   "outputs": [
    {
     "data": {
      "text/plain": [
       "{'info': {'depth': 2,\n",
       "  'domain': 'vezess',\n",
       "  'scores': {'contact/comment': 0.0011033732400266506,\n",
       "   'join mailing list': 0.001686975891374705,\n",
       "   'login': 0.0015837758713771791,\n",
       "   'order/add to cart': 0.0023456014612122313,\n",
       "   'other': 0.0056311741844204087,\n",
       "   'password/login recovery': 0.00054091350886275799,\n",
       "   'registration': 0.0003751461409411641,\n",
       "   'search': 0.98673303970178505}},\n",
       " 'ok': True,\n",
       " 'original_url': 'http://www.vezess.hu/magazin/2016/05/27/felnijavitas_festes_homokfuvas/',\n",
       " 'url': 'http://www.vezess.hu/magazin/2016/05/27/felnijavitas_festes_homokfuvas/',\n",
       " 'visited': True}"
      ]
     },
     "execution_count": 9,
     "metadata": {},
     "output_type": "execute_result"
    }
   ],
   "source": [
    "G.node[500]"
   ]
  },
  {
   "cell_type": "markdown",
   "metadata": {},
   "source": [
    "The graph is used as an experience replay storage.\n",
    "We're using action-value $Q(a)$ functions with Q-learning algorithm. To learn Q function we need \"training examples\": \n",
    "\n",
    "* $a_t$ action taken (i.e. link followed);\n",
    "* $r_{t+1}$ observed reward (e.g. whether a form is found or is a page on-topic);\n",
    "* a set of actions $A_{t+1}$ (i.e. links) available at this page; next action $a_{t+1} \\in A_{t+1}$ used for TD updates is chosen from this set. In Q-learning it is a link with the highest $Q(a_{t+1})$ score; we need to store all available actions because $Q$ function changes over time.\n",
    "* discount $\\gamma$? How does it work? There is a footnote in http://arxiv.org/pdf/1511.05952v4.pdf\n",
    "\n",
    "$$R_{predicted} = Q(a_t)$$\n",
    "$$R_{observed TD} = r_{t+1} + \\gamma*Q(a_{t+1}), 0 < \\gamma < 1$$\n",
    "\n",
    "We can sample these training examples from the graph by getting visited nodes which has predcessors."
   ]
  },
  {
   "cell_type": "code",
   "execution_count": 10,
   "metadata": {
    "collapsed": false
   },
   "outputs": [
    {
     "data": {
      "text/plain": [
       "49731"
      ]
     },
     "execution_count": 10,
     "metadata": {},
     "output_type": "execute_result"
    }
   ],
   "source": [
    "def get_visited_nbunch(G):\n",
    "    return [\n",
    "        node_id for node_id, data in G.nodes(data=True) if data['visited'] and data['ok']\n",
    "    ]\n",
    "\n",
    "len(get_visited_nbunch(G))"
   ]
  },
  {
   "cell_type": "markdown",
   "metadata": {},
   "source": [
    "possible form types:\n",
    "\n",
    "* contact/comment\n",
    "* join mailing list\n",
    "* login\n",
    "* order/add to cart\n",
    "* other\n",
    "* password/login recovery\n",
    "* registration\n",
    "* search"
   ]
  },
  {
   "cell_type": "code",
   "execution_count": 776,
   "metadata": {
    "collapsed": true
   },
   "outputs": [],
   "source": [
    "def get_reward(node):\n",
    "    return node['info']['scores'].get('password/login recovery', 0)\n",
    "            \n",
    "\n",
    "def _iter_examples(G, nbunch):\n",
    "    for node_id in nbunch:\n",
    "        for from_, _, link in G.in_edges_iter(node_id, data=True):\n",
    "            if not link:\n",
    "                continue\n",
    "            yield node_id, link\n",
    "\n",
    "            \n",
    "def iter_examples(G):\n",
    "    nbunch = get_visited_nbunch(G)\n",
    "    for node_id, link in _iter_examples(G, nbunch):\n",
    "        reward = get_reward(G.node[node_id])\n",
    "        \n",
    "        # FIXME: what to do with dupefilter?\n",
    "        actions = list(G[node_id].values())\n",
    "        yield {\n",
    "#             'node_id': node_id,\n",
    "            'link': link, \n",
    "            'reward': reward, \n",
    "            'actions': actions\n",
    "        }\n",
    "\n",
    "\n",
    "def get_examples(G):\n",
    "    return list(iter_examples(G))\n",
    "\n",
    "def get_combined_examples(graphs):\n",
    "    res = []\n",
    "    for G in graphs:\n",
    "        res.extend(iter_examples(G))\n",
    "    return res"
   ]
  },
  {
   "cell_type": "code",
   "execution_count": 805,
   "metadata": {
    "collapsed": false
   },
   "outputs": [
    {
     "name": "stdout",
     "output_type": "stream",
     "text": [
      "49692\n",
      "CPU times: user 504 ms, sys: 0 ns, total: 504 ms\n",
      "Wall time: 504 ms\n"
     ]
    }
   ],
   "source": [
    "%%time\n",
    "# examples = get_combined_examples(tqdm(graphs))\n",
    "examples = get_examples(graphs[1])\n",
    "print(len(examples))"
   ]
  },
  {
   "cell_type": "code",
   "execution_count": 806,
   "metadata": {
    "collapsed": false
   },
   "outputs": [],
   "source": [
    "pos = [e for e in examples if e['reward'] > 0.5]\n",
    "neg = [e for e in examples if e['reward'] <= 0.5]"
   ]
  },
  {
   "cell_type": "code",
   "execution_count": 807,
   "metadata": {
    "collapsed": false
   },
   "outputs": [
    {
     "data": {
      "text/plain": [
       "(826, 48866)"
      ]
     },
     "execution_count": 807,
     "metadata": {},
     "output_type": "execute_result"
    }
   ],
   "source": [
    "len(pos), len(neg)"
   ]
  },
  {
   "cell_type": "code",
   "execution_count": 808,
   "metadata": {
    "collapsed": false
   },
   "outputs": [
    {
     "data": {
      "text/plain": [
       "{'actions': [],\n",
       " 'link': {'text': \"Event.observe('product-image-31', 'mouseover', function() {\\r\\n\\t\\t\\t\\t\\t\\t\\t\\t\\t$('product-image-31').src = 'http://media.fashionesta.com/media/catalog/product/cache/7/small_image/205x255/5e06319eda06f020e43594a9c230972d/4/1/41059_2.jpg';\\r\\n\\t\\t\\t\\t\\t\\t\\t\\t});\\r\\n\\t\\t\\t\\t\\t\\t\\t\\tEvent.observe('product-image-31', 'mouseout', function() {\\r\\n\\t\\t\\t\\t\\t\\t\\t\\t\\t$('product-image-31').src = 'http://media.fashionesta.com/media/catalog/product/cache/7/small_image/205x255/5e06319eda06f020e43594a9c230972d/4/1/41059_1.jpg';\\r\\n\\t\\t\\t\\t\\t\\t\\t\\t});\",\n",
       "  'url': 'http://www.fashionesta.com/us/gucci-top-rose.html'},\n",
       " 'reward': 0.530292915244297}"
      ]
     },
     "execution_count": 808,
     "metadata": {},
     "output_type": "execute_result"
    }
   ],
   "source": [
    "pos[110]"
   ]
  },
  {
   "cell_type": "code",
   "execution_count": 809,
   "metadata": {
    "collapsed": true
   },
   "outputs": [],
   "source": [
    "from collections import Counter\n",
    "from formasaurus.utils import get_domain"
   ]
  },
  {
   "cell_type": "markdown",
   "metadata": {},
   "source": [
    "Problem 1: there is a LOT of non-interesting links for some of domains.\n",
    "\n",
    "It means experience replay should take positive examples from multiple domains. For example, it there are 3 interesting pages on domain A (out of 500), and 300 interesting pages on domain B (out of 500) then it makes sense to sample positive examples from A more often.\n",
    "\n",
    "Problem 2: data can be very imbalanced. It may worth trying to sample a fixed fraction of positive examples (see e.g. http://people.csail.mit.edu/karthikn/pdfs/mud-play15.pdf)."
   ]
  },
  {
   "cell_type": "code",
   "execution_count": 810,
   "metadata": {
    "collapsed": false
   },
   "outputs": [
    {
     "data": {
      "text/plain": [
       "(21, 75)"
      ]
     },
     "execution_count": 810,
     "metadata": {},
     "output_type": "execute_result"
    }
   ],
   "source": [
    "pos_domains = [get_domain(r['link']['url']) for r in pos]\n",
    "neg_domains = [get_domain(r['link']['url']) for r in neg]\n",
    "len(set(pos_domains)), len(set(neg_domains))"
   ]
  },
  {
   "cell_type": "code",
   "execution_count": 811,
   "metadata": {
    "collapsed": false,
    "scrolled": true
   },
   "outputs": [
    {
     "data": {
      "text/plain": [
       "[('fashionesta', 641),\n",
       " ('fiestamericana', 158),\n",
       " ('aleksius', 4),\n",
       " ('tyreleader', 2),\n",
       " ('omb100', 2),\n",
       " ('csindy', 2),\n",
       " ('airportrentals', 2),\n",
       " ('bloomberg', 2),\n",
       " ('z0r', 1),\n",
       " ('guiadacidade', 1),\n",
       " ('videostar', 1),\n",
       " ('kixer', 1),\n",
       " ('dynamomania', 1),\n",
       " ('uai', 1),\n",
       " ('thevitalounge', 1),\n",
       " ('waymarking', 1),\n",
       " ('chemodan', 1),\n",
       " ('hq-mirror', 1),\n",
       " ('webmasterpark', 1),\n",
       " ('leechdrive', 1),\n",
       " ('henho', 1)]"
      ]
     },
     "execution_count": 811,
     "metadata": {},
     "output_type": "execute_result"
    }
   ],
   "source": [
    "Counter(pos_domains).most_common()"
   ]
  },
  {
   "cell_type": "markdown",
   "metadata": {},
   "source": [
    "Let's train a baseline classifier based on these examples."
   ]
  },
  {
   "cell_type": "code",
   "execution_count": 1098,
   "metadata": {
    "collapsed": false
   },
   "outputs": [],
   "source": [
    "from sklearn.cross_validation import train_test_split, cross_val_score, cross_val_predict, LabelKFold\n",
    "from sklearn.metrics import (\n",
    "    classification_report, \n",
    "    confusion_matrix, \n",
    "    mean_squared_error,\n",
    "    mean_absolute_error,\n",
    ")\n",
    "from sklearn.feature_extraction.text import CountVectorizer, HashingVectorizer\n",
    "from sklearn.pipeline import FeatureUnion, Pipeline, make_pipeline, make_union\n",
    "from sklearn.preprocessing import FunctionTransformer\n",
    "from sklearn.linear_model import (\n",
    "    LogisticRegression, \n",
    "    LogisticRegressionCV,\n",
    "    LinearRegression, \n",
    "    SGDRegressor, \n",
    "    ElasticNetCV, \n",
    "    ElasticNet\n",
    ")"
   ]
  },
  {
   "cell_type": "code",
   "execution_count": 1024,
   "metadata": {
    "collapsed": true
   },
   "outputs": [],
   "source": [
    "# def get_annotation_folds(X, n_folds):\n",
    "#     \"\"\"\n",
    "#     Return (train_indices, test_indices) folds iterator.\n",
    "#     It is guaranteed forms from the same website can't be both in\n",
    "#     train and test parts.\n",
    "#     \"\"\"\n",
    "#     return LabelKFold(\n",
    "#         labels=[get_domain(ann.url) for ann in annotations],\n",
    "#         n_folds=n_folds\n",
    "#     )\n",
    "\n",
    "def get_y(examples):\n",
    "    return np.asarray([ex['reward'] for ex in examples])\n",
    "\n",
    "def get_X(examples):\n",
    "    return np.asarray([ex['link']['text'] for ex in examples])"
   ]
  },
  {
   "cell_type": "code",
   "execution_count": 1050,
   "metadata": {
    "collapsed": false
   },
   "outputs": [],
   "source": [
    "BAD_DOMAINS_RECOVER = {'12gebrauchtwagen', 'tagcome', 'nyrr'}\n",
    "BAD_DOMAINS_REGISTER = {'safarinow'}\n",
    "\n",
    "good_examples = [\n",
    "    ex for ex in examples \n",
    "#     if get_domain(ex['link']['url']) not in BAD_DOMAINS_RECOVER\n",
    "]\n",
    "X = get_X(good_examples)\n",
    "y = get_y(good_examples)\n",
    "\n",
    "X_train, X_test, y_train, y_test = train_test_split(X, y, random_state=0)"
   ]
  },
  {
   "cell_type": "code",
   "execution_count": 1049,
   "metadata": {
    "collapsed": false
   },
   "outputs": [],
   "source": [
    "# from unbalanced_dataset.under_sampling import RandomUnderSampler\n",
    "\n",
    "# US = RandomUnderSampler(verbose=True, ratio=0.01)\n",
    "# usX_train, usy_train = US.fit_transform(X_train.reshape(-1, 1), y_train)\n",
    "# usX_train = usX_train.reshape(-1)\n",
    "# usX_train.shape, usy_train.sum()"
   ]
  },
  {
   "cell_type": "code",
   "execution_count": 1051,
   "metadata": {
    "collapsed": true
   },
   "outputs": [],
   "source": [
    "def plot_histograms(y_pred, y_test):\n",
    "    df = pd.DataFrame(columns=['y_pred', 'y_test'])\n",
    "    df['y_pred'] = y_pred\n",
    "    df['y_test'] = y_test\n",
    "    df.hist(sharex=True, sharey=True, bins=50, figsize=(12,5))\n",
    "    return df"
   ]
  },
  {
   "cell_type": "code",
   "execution_count": 1099,
   "metadata": {
    "collapsed": false
   },
   "outputs": [],
   "source": [
    "# vec = CountVectorizer(analyzer='char', ngram_range=(4, 5), strip_accents='unicode')\n",
    "vec = HashingVectorizer(\n",
    "    binary=True, \n",
    "    n_features=1000000,\n",
    "    non_negative=False,\n",
    "    norm='l2',\n",
    "#     strip_accents='unicode',\n",
    "    ngram_range=(1,2)\n",
    ")\n",
    "vec = CountVectorizer(binary=True, ngram_range=(1, 2))\n",
    "\n",
    "# url_vec = CountVectorizer(\n",
    "#     binary=True, \n",
    "#     preprocessor=url_path_query,\n",
    "#     analyzer='char',\n",
    "#     ngram_range=(4,4)\n",
    "# )\n",
    "\n",
    "clf = SGDRegressor(\n",
    "    penalty='l2',\n",
    "    average=False, \n",
    "    n_iter=1, \n",
    "    learning_rate='constant',\n",
    "#     loss='epsilon_insensitive', \n",
    "#     loss='', \n",
    "    alpha=1e-6, \n",
    "    eta0=1.0,\n",
    ")\n",
    "pipe = make_pipeline(vec, clf)"
   ]
  },
  {
   "cell_type": "code",
   "execution_count": 1089,
   "metadata": {
    "collapsed": false
   },
   "outputs": [],
   "source": [
    "clf.coef_"
   ]
  },
  {
   "cell_type": "code",
   "execution_count": 1132,
   "metadata": {
    "collapsed": false
   },
   "outputs": [
    {
     "data": {
      "text/plain": [
       "array([2, 1, 0, 6], dtype=int64)"
      ]
     },
     "execution_count": 1132,
     "metadata": {},
     "output_type": "execute_result"
    }
   ],
   "source": [
    "m = vec.transform(['привет мир', 'мир', 'ура!', 'кто-то что-то сказал'])\n",
    "# m.shape\n",
    "m * (np.random.randint(0, 2, size=m.shape[1])*2 - 1).T"
   ]
  },
  {
   "cell_type": "code",
   "execution_count": 1137,
   "metadata": {
    "collapsed": false
   },
   "outputs": [
    {
     "data": {
      "text/plain": [
       "2.1402460426850669e-06"
      ]
     },
     "execution_count": 1137,
     "metadata": {},
     "output_type": "execute_result"
    }
   ],
   "source": [
    "from scipy import sparse as sp\n",
    "size = m.shape[1]\n",
    "\n",
    "diag = sp.diags(np.random.randint(0, 2, size=size)*2 - 1)\n",
    "m.dot(diag).mean()"
   ]
  },
  {
   "cell_type": "code",
   "execution_count": null,
   "metadata": {
    "collapsed": true
   },
   "outputs": [],
   "source": [
    "class "
   ]
  },
  {
   "cell_type": "code",
   "execution_count": 1134,
   "metadata": {
    "collapsed": false
   },
   "outputs": [
    {
     "data": {
      "text/plain": [
       "array([1, 1, 1, 1, 1, 1, 1, 1, 1])"
      ]
     },
     "execution_count": 1134,
     "metadata": {},
     "output_type": "execute_result"
    }
   ],
   "source": [
    "m.data"
   ]
  },
  {
   "cell_type": "code",
   "execution_count": 1102,
   "metadata": {
    "collapsed": false
   },
   "outputs": [
    {
     "name": "stdout",
     "output_type": "stream",
     "text": [
      "CPU times: user 1.6 s, sys: 0 ns, total: 1.6 s\n",
      "Wall time: 1.6 s\n"
     ]
    }
   ],
   "source": [
    "%%time\n",
    "SIZE = -1\n",
    "# pipe.fit(usX_train, usy_train)\n",
    "pipe.fit(X_train[:SIZE], y_train[:SIZE])\n",
    "y_pred = pipe.predict(X_test)\n",
    "y_pred[y_pred < 0] = 0"
   ]
  },
  {
   "cell_type": "code",
   "execution_count": 1092,
   "metadata": {
    "collapsed": false
   },
   "outputs": [
    {
     "data": {
      "text/plain": [
       "336.29458299421538"
      ]
     },
     "execution_count": 1092,
     "metadata": {},
     "output_type": "execute_result"
    }
   ],
   "source": [
    "y_train[:SIZE][y_train[:SIZE] > 0.5].sum()"
   ]
  },
  {
   "cell_type": "code",
   "execution_count": 1093,
   "metadata": {
    "collapsed": false
   },
   "outputs": [
    {
     "data": {
      "text/plain": [
       "{'alpha': 1e-06,\n",
       " 'average': False,\n",
       " 'epsilon': 0.1,\n",
       " 'eta0': 1.0,\n",
       " 'fit_intercept': True,\n",
       " 'l1_ratio': 0.15,\n",
       " 'learning_rate': 'constant',\n",
       " 'loss': 'squared_loss',\n",
       " 'n_iter': 1,\n",
       " 'penalty': 'l2',\n",
       " 'power_t': 0.25,\n",
       " 'random_state': None,\n",
       " 'shuffle': True,\n",
       " 'verbose': 0,\n",
       " 'warm_start': False}"
      ]
     },
     "execution_count": 1093,
     "metadata": {},
     "output_type": "execute_result"
    },
    {
     "data": {
      "image/png": "[encoded data removed]",
      "text/plain": [
       "<matplotlib.figure.Figure at 0x7fe8fdf0b438>"
      ]
     },
     "metadata": {},
     "output_type": "display_data"
    }
   ],
   "source": [
    "df = plot_histograms(y_pred, y_test)\n",
    "clf.get_params()"
   ]
  },
  {
   "cell_type": "code",
   "execution_count": 1094,
   "metadata": {
    "collapsed": true
   },
   "outputs": [],
   "source": [
    "def loss(y_true, y_pred, threshold=0.5, k=10.0):\n",
    "    sample_weight = np.ones_like(y_true)\n",
    "    sample_weight[y_true > threshold] = k\n",
    "    return mean_squared_error(y_true, y_pred, sample_weight)"
   ]
  },
  {
   "cell_type": "code",
   "execution_count": 1095,
   "metadata": {
    "collapsed": false
   },
   "outputs": [
    {
     "name": "stdout",
     "output_type": "stream",
     "text": [
      "dummy zero: mse=0.0078, weighted=0.0491\n",
      "dummy mean: mse=0.0067, weighted=0.0431\n",
      "clf:        mse=0.0031, weighted=0.0188\n",
      "coef norm=45.5285 max=1.0279\n"
     ]
    }
   ],
   "source": [
    "y_0 = np.zeros_like(y_test, dtype=np.float)\n",
    "y_mean = np.ones_like(y_test) * y_test.mean()\n",
    "print(\"dummy zero: mse={:0.4f}, weighted={:0.4f}\".format(\n",
    "    mean_squared_error(y_test, y_0),\n",
    "    loss(y_test, y_0),\n",
    "))\n",
    "print(\"dummy mean: mse={:0.4f}, weighted={:0.4f}\".format(\n",
    "    mean_squared_error(y_test, y_mean),\n",
    "    loss(y_test, y_mean)\n",
    "))\n",
    "\n",
    "print(\"clf:        mse={:0.4f}, weighted={:0.4f}\".format(\n",
    "    mean_squared_error(y_test, y_pred),\n",
    "    loss(y_test, y_pred)\n",
    "))\n",
    "\n",
    "print(\"coef norm={:0.4f} max={:0.4f}\".format(    \n",
    "    (clf.coef_ ** 2).sum(),\n",
    "    clf.coef_.max(),\n",
    "))"
   ]
  },
  {
   "cell_type": "code",
   "execution_count": 1096,
   "metadata": {
    "collapsed": false
   },
   "outputs": [
    {
     "data": {
      "text/plain": [
       "array([ 0.6395, -0.0025,  0.0132,  0.1353, -0.0075, -0.0039,  0.4554])"
      ]
     },
     "execution_count": 1096,
     "metadata": {},
     "output_type": "execute_result"
    }
   ],
   "source": [
    "pipe.predict(['forgot password', 'registration', 'my little pony', 'comment', 'sign in', 'forum', 'забыли пароль'])"
   ]
  },
  {
   "cell_type": "code",
   "execution_count": 1060,
   "metadata": {
    "collapsed": false,
    "scrolled": true
   },
   "outputs": [
    {
     "ename": "AttributeError",
     "evalue": "'HashingVectorizer' object has no attribute 'vocabulary_'",
     "output_type": "error",
     "traceback": [
      "\u001b[1;31m---------------------------------------------------------------------------\u001b[0m",
      "\u001b[1;31mAttributeError\u001b[0m                            Traceback (most recent call last)",
      "\u001b[1;32m<ipython-input-1060-5816a2ac4279>\u001b[0m in \u001b[0;36m<module>\u001b[1;34m()\u001b[0m\n\u001b[0;32m      1\u001b[0m \u001b[0mindices\u001b[0m \u001b[1;33m=\u001b[0m \u001b[0mset\u001b[0m\u001b[1;33m(\u001b[0m\u001b[0mnp\u001b[0m\u001b[1;33m.\u001b[0m\u001b[0mwhere\u001b[0m\u001b[1;33m(\u001b[0m\u001b[0mclf\u001b[0m\u001b[1;33m.\u001b[0m\u001b[0mcoef_\u001b[0m \u001b[1;33m>\u001b[0m \u001b[1;36m0.5\u001b[0m\u001b[1;33m)\u001b[0m\u001b[1;33m[\u001b[0m\u001b[1;36m0\u001b[0m\u001b[1;33m]\u001b[0m\u001b[1;33m)\u001b[0m\u001b[1;33m\u001b[0m\u001b[0m\n\u001b[1;32m----> 2\u001b[1;33m \u001b[1;33m[\u001b[0m\u001b[0mw\u001b[0m \u001b[1;32mfor\u001b[0m \u001b[0mw\u001b[0m\u001b[1;33m,\u001b[0m \u001b[0midx\u001b[0m \u001b[1;32min\u001b[0m \u001b[0mvec\u001b[0m\u001b[1;33m.\u001b[0m\u001b[0mvocabulary_\u001b[0m\u001b[1;33m.\u001b[0m\u001b[0mitems\u001b[0m\u001b[1;33m(\u001b[0m\u001b[1;33m)\u001b[0m \u001b[1;32mif\u001b[0m \u001b[0midx\u001b[0m \u001b[1;32min\u001b[0m \u001b[0mindices\u001b[0m\u001b[1;33m]\u001b[0m\u001b[1;33m\u001b[0m\u001b[0m\n\u001b[0m",
      "\u001b[1;31mAttributeError\u001b[0m: 'HashingVectorizer' object has no attribute 'vocabulary_'"
     ]
    }
   ],
   "source": [
    "indices = set(np.where(clf.coef_ > 0.5)[0])\n",
    "[w for w, idx in vec.vocabulary_.items() if idx in indices]"
   ]
  },
  {
   "cell_type": "code",
   "execution_count": null,
   "metadata": {
    "collapsed": false
   },
   "outputs": [],
   "source": []
  },
  {
   "cell_type": "code",
   "execution_count": 511,
   "metadata": {
    "collapsed": false
   },
   "outputs": [],
   "source": [
    "# np.where(clf.coef_ > 0.3)[0]"
   ]
  },
  {
   "cell_type": "code",
   "execution_count": null,
   "metadata": {
    "collapsed": true
   },
   "outputs": [],
   "source": []
  },
  {
   "cell_type": "code",
   "execution_count": 1080,
   "metadata": {
    "collapsed": true
   },
   "outputs": [],
   "source": [
    "import matplotlib.pyplot as plt\n",
    "\n",
    "def plot_confusion_matrix(cm, title='Confusion matrix', cmap=plt.cm.Blues):\n",
    "    plt.imshow(cm, interpolation='nearest', cmap=cmap)\n",
    "    plt.title(title)\n",
    "    plt.colorbar()\n",
    "#     tick_marks = np.arange(len(iris.target_names))\n",
    "#     plt.xticks(tick_marks, iris.target_names, rotation=45)\n",
    "#     plt.yticks(tick_marks, iris.target_names)\n",
    "    plt.tight_layout()\n",
    "    plt.ylabel('True label')\n",
    "    plt.xlabel('Predicted label')\n",
    "    \n",
    "cm = confusion_matrix(y_test, y_pred)\n",
    "plot_confusion_matrix(cm)    "
   ]
  },
  {
   "cell_type": "code",
   "execution_count": 48,
   "metadata": {
    "collapsed": false
   },
   "outputs": [
    {
     "data": {
      "text/plain": [
       "{'actions': [{'text': '', 'url': 'https://www.icontact.com/login-pro'},\n",
       "  {'text': 'Privacy Policy',\n",
       "   'url': 'https://www.icontact.com/legal/privacy-policy-2016'}],\n",
       " 'link': {'text': 'Upgrade to a full account today',\n",
       "  'url': 'https://www.icontact.com/login?loginText=upgrade'},\n",
       " 'node_id': 288,\n",
       " 'reward': 0.97704821622819793}"
      ]
     },
     "execution_count": 48,
     "metadata": {},
     "output_type": "execute_result"
    }
   ],
   "source": [
    "pos[0]"
   ]
  }
 ],
 "metadata": {
  "kernelspec": {
   "display_name": "Python 3",
   "language": "python",
   "name": "python3"
  },
  "language_info": {
   "codemirror_mode": {
    "name": "ipython",
    "version": 3
   },
   "file_extension": ".py",
   "mimetype": "text/x-python",
   "name": "python",
   "nbconvert_exporter": "python",
   "pygments_lexer": "ipython3",
   "version": "3.5.1+"
  }
 },
 "nbformat": 4,
 "nbformat_minor": 0
}
