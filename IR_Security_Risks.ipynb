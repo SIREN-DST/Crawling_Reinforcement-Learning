{
  "nbformat": 4,
  "nbformat_minor": 0,
  "metadata": {
    "colab": {
      "name": "IR_Security_Risks.ipynb",
      "provenance": []
    },
    "kernelspec": {
      "name": "python3",
      "display_name": "Python 3"
    },
    "language_info": {
      "name": "python"
    },
    "widgets": {
      "application/vnd.jupyter.widget-state+json": {
        "deee632d3e5e45da81f42881ec3f9f7e": {
          "model_module": "@jupyter-widgets/controls",
          "model_name": "HBoxModel",
          "model_module_version": "1.5.0",
          "state": {
            "_view_name": "HBoxView",
            "_dom_classes": [],
            "_model_name": "HBoxModel",
            "_view_module": "@jupyter-widgets/controls",
            "_model_module_version": "1.5.0",
            "_view_count": null,
            "_view_module_version": "1.5.0",
            "box_style": "",
            "layout": "IPY_MODEL_78a2d667f05845fb8d28ece7a7707772",
            "_model_module": "@jupyter-widgets/controls",
            "children": [
              "IPY_MODEL_7d5b976af27d4ae9855d88de7afe8f41",
              "IPY_MODEL_c98100057fab4ed7bf72d1265aa2a9c0",
              "IPY_MODEL_74c0d926764b45e5931dcf65b4afb45e"
            ]
          }
        },
        "78a2d667f05845fb8d28ece7a7707772": {
          "model_module": "@jupyter-widgets/base",
          "model_name": "LayoutModel",
          "model_module_version": "1.2.0",
          "state": {
            "_view_name": "LayoutView",
            "grid_template_rows": null,
            "right": null,
            "justify_content": null,
            "_view_module": "@jupyter-widgets/base",
            "overflow": null,
            "_model_module_version": "1.2.0",
            "_view_count": null,
            "flex_flow": null,
            "width": null,
            "min_width": null,
            "border": null,
            "align_items": null,
            "bottom": null,
            "_model_module": "@jupyter-widgets/base",
            "top": null,
            "grid_column": null,
            "overflow_y": null,
            "overflow_x": null,
            "grid_auto_flow": null,
            "grid_area": null,
            "grid_template_columns": null,
            "flex": null,
            "_model_name": "LayoutModel",
            "justify_items": null,
            "grid_row": null,
            "max_height": null,
            "align_content": null,
            "visibility": null,
            "align_self": null,
            "height": null,
            "min_height": null,
            "padding": null,
            "grid_auto_rows": null,
            "grid_gap": null,
            "max_width": null,
            "order": null,
            "_view_module_version": "1.2.0",
            "grid_template_areas": null,
            "object_position": null,
            "object_fit": null,
            "grid_auto_columns": null,
            "margin": null,
            "display": null,
            "left": null
          }
        },
        "7d5b976af27d4ae9855d88de7afe8f41": {
          "model_module": "@jupyter-widgets/controls",
          "model_name": "HTMLModel",
          "model_module_version": "1.5.0",
          "state": {
            "_view_name": "HTMLView",
            "style": "IPY_MODEL_12965c085608417d89daaaec038c0367",
            "_dom_classes": [],
            "description": "",
            "_model_name": "HTMLModel",
            "placeholder": "​",
            "_view_module": "@jupyter-widgets/controls",
            "_model_module_version": "1.5.0",
            "value": "Downloading: 100%",
            "_view_count": null,
            "_view_module_version": "1.5.0",
            "description_tooltip": null,
            "_model_module": "@jupyter-widgets/controls",
            "layout": "IPY_MODEL_9374925973154332960fe28a01038033"
          }
        },
        "c98100057fab4ed7bf72d1265aa2a9c0": {
          "model_module": "@jupyter-widgets/controls",
          "model_name": "FloatProgressModel",
          "model_module_version": "1.5.0",
          "state": {
            "_view_name": "ProgressView",
            "style": "IPY_MODEL_661e7506cfc742d89cfadfda0ad6cd25",
            "_dom_classes": [],
            "description": "",
            "_model_name": "FloatProgressModel",
            "bar_style": "success",
            "max": 391,
            "_view_module": "@jupyter-widgets/controls",
            "_model_module_version": "1.5.0",
            "value": 391,
            "_view_count": null,
            "_view_module_version": "1.5.0",
            "orientation": "horizontal",
            "min": 0,
            "description_tooltip": null,
            "_model_module": "@jupyter-widgets/controls",
            "layout": "IPY_MODEL_413121ce0d1242978b45aea5f6db951d"
          }
        },
        "74c0d926764b45e5931dcf65b4afb45e": {
          "model_module": "@jupyter-widgets/controls",
          "model_name": "HTMLModel",
          "model_module_version": "1.5.0",
          "state": {
            "_view_name": "HTMLView",
            "style": "IPY_MODEL_2d3557287ee1462da13c971479252905",
            "_dom_classes": [],
            "description": "",
            "_model_name": "HTMLModel",
            "placeholder": "​",
            "_view_module": "@jupyter-widgets/controls",
            "_model_module_version": "1.5.0",
            "value": " 391/391 [00:00&lt;00:00, 8.85kB/s]",
            "_view_count": null,
            "_view_module_version": "1.5.0",
            "description_tooltip": null,
            "_model_module": "@jupyter-widgets/controls",
            "layout": "IPY_MODEL_fd13c773342e45cb9265d49e9b9faa8d"
          }
        },
        "12965c085608417d89daaaec038c0367": {
          "model_module": "@jupyter-widgets/controls",
          "model_name": "DescriptionStyleModel",
          "model_module_version": "1.5.0",
          "state": {
            "_view_name": "StyleView",
            "_model_name": "DescriptionStyleModel",
            "description_width": "",
            "_view_module": "@jupyter-widgets/base",
            "_model_module_version": "1.5.0",
            "_view_count": null,
            "_view_module_version": "1.2.0",
            "_model_module": "@jupyter-widgets/controls"
          }
        },
        "9374925973154332960fe28a01038033": {
          "model_module": "@jupyter-widgets/base",
          "model_name": "LayoutModel",
          "model_module_version": "1.2.0",
          "state": {
            "_view_name": "LayoutView",
            "grid_template_rows": null,
            "right": null,
            "justify_content": null,
            "_view_module": "@jupyter-widgets/base",
            "overflow": null,
            "_model_module_version": "1.2.0",
            "_view_count": null,
            "flex_flow": null,
            "width": null,
            "min_width": null,
            "border": null,
            "align_items": null,
            "bottom": null,
            "_model_module": "@jupyter-widgets/base",
            "top": null,
            "grid_column": null,
            "overflow_y": null,
            "overflow_x": null,
            "grid_auto_flow": null,
            "grid_area": null,
            "grid_template_columns": null,
            "flex": null,
            "_model_name": "LayoutModel",
            "justify_items": null,
            "grid_row": null,
            "max_height": null,
            "align_content": null,
            "visibility": null,
            "align_self": null,
            "height": null,
            "min_height": null,
            "padding": null,
            "grid_auto_rows": null,
            "grid_gap": null,
            "max_width": null,
            "order": null,
            "_view_module_version": "1.2.0",
            "grid_template_areas": null,
            "object_position": null,
            "object_fit": null,
            "grid_auto_columns": null,
            "margin": null,
            "display": null,
            "left": null
          }
        },
        "661e7506cfc742d89cfadfda0ad6cd25": {
          "model_module": "@jupyter-widgets/controls",
          "model_name": "ProgressStyleModel",
          "model_module_version": "1.5.0",
          "state": {
            "_view_name": "StyleView",
            "_model_name": "ProgressStyleModel",
            "description_width": "",
            "_view_module": "@jupyter-widgets/base",
            "_model_module_version": "1.5.0",
            "_view_count": null,
            "_view_module_version": "1.2.0",
            "bar_color": null,
            "_model_module": "@jupyter-widgets/controls"
          }
        },
        "413121ce0d1242978b45aea5f6db951d": {
          "model_module": "@jupyter-widgets/base",
          "model_name": "LayoutModel",
          "model_module_version": "1.2.0",
          "state": {
            "_view_name": "LayoutView",
            "grid_template_rows": null,
            "right": null,
            "justify_content": null,
            "_view_module": "@jupyter-widgets/base",
            "overflow": null,
            "_model_module_version": "1.2.0",
            "_view_count": null,
            "flex_flow": null,
            "width": null,
            "min_width": null,
            "border": null,
            "align_items": null,
            "bottom": null,
            "_model_module": "@jupyter-widgets/base",
            "top": null,
            "grid_column": null,
            "overflow_y": null,
            "overflow_x": null,
            "grid_auto_flow": null,
            "grid_area": null,
            "grid_template_columns": null,
            "flex": null,
            "_model_name": "LayoutModel",
            "justify_items": null,
            "grid_row": null,
            "max_height": null,
            "align_content": null,
            "visibility": null,
            "align_self": null,
            "height": null,
            "min_height": null,
            "padding": null,
            "grid_auto_rows": null,
            "grid_gap": null,
            "max_width": null,
            "order": null,
            "_view_module_version": "1.2.0",
            "grid_template_areas": null,
            "object_position": null,
            "object_fit": null,
            "grid_auto_columns": null,
            "margin": null,
            "display": null,
            "left": null
          }
        },
        "2d3557287ee1462da13c971479252905": {
          "model_module": "@jupyter-widgets/controls",
          "model_name": "DescriptionStyleModel",
          "model_module_version": "1.5.0",
          "state": {
            "_view_name": "StyleView",
            "_model_name": "DescriptionStyleModel",
            "description_width": "",
            "_view_module": "@jupyter-widgets/base",
            "_model_module_version": "1.5.0",
            "_view_count": null,
            "_view_module_version": "1.2.0",
            "_model_module": "@jupyter-widgets/controls"
          }
        },
        "fd13c773342e45cb9265d49e9b9faa8d": {
          "model_module": "@jupyter-widgets/base",
          "model_name": "LayoutModel",
          "model_module_version": "1.2.0",
          "state": {
            "_view_name": "LayoutView",
            "grid_template_rows": null,
            "right": null,
            "justify_content": null,
            "_view_module": "@jupyter-widgets/base",
            "overflow": null,
            "_model_module_version": "1.2.0",
            "_view_count": null,
            "flex_flow": null,
            "width": null,
            "min_width": null,
            "border": null,
            "align_items": null,
            "bottom": null,
            "_model_module": "@jupyter-widgets/base",
            "top": null,
            "grid_column": null,
            "overflow_y": null,
            "overflow_x": null,
            "grid_auto_flow": null,
            "grid_area": null,
            "grid_template_columns": null,
            "flex": null,
            "_model_name": "LayoutModel",
            "justify_items": null,
            "grid_row": null,
            "max_height": null,
            "align_content": null,
            "visibility": null,
            "align_self": null,
            "height": null,
            "min_height": null,
            "padding": null,
            "grid_auto_rows": null,
            "grid_gap": null,
            "max_width": null,
            "order": null,
            "_view_module_version": "1.2.0",
            "grid_template_areas": null,
            "object_position": null,
            "object_fit": null,
            "grid_auto_columns": null,
            "margin": null,
            "display": null,
            "left": null
          }
        },
        "3c9f80c7f63b445fb056089eca4abec5": {
          "model_module": "@jupyter-widgets/controls",
          "model_name": "HBoxModel",
          "model_module_version": "1.5.0",
          "state": {
            "_view_name": "HBoxView",
            "_dom_classes": [],
            "_model_name": "HBoxModel",
            "_view_module": "@jupyter-widgets/controls",
            "_model_module_version": "1.5.0",
            "_view_count": null,
            "_view_module_version": "1.5.0",
            "box_style": "",
            "layout": "IPY_MODEL_7f4163ce87264e5ead0e4f7843748f2f",
            "_model_module": "@jupyter-widgets/controls",
            "children": [
              "IPY_MODEL_0f1cd8fb38da4832bed0cef0b3eef165",
              "IPY_MODEL_b6fb5a26096d4095bf683ce71aae2ea3",
              "IPY_MODEL_13e9c900dd484122a654f3b9d3275f3e"
            ]
          }
        },
        "7f4163ce87264e5ead0e4f7843748f2f": {
          "model_module": "@jupyter-widgets/base",
          "model_name": "LayoutModel",
          "model_module_version": "1.2.0",
          "state": {
            "_view_name": "LayoutView",
            "grid_template_rows": null,
            "right": null,
            "justify_content": null,
            "_view_module": "@jupyter-widgets/base",
            "overflow": null,
            "_model_module_version": "1.2.0",
            "_view_count": null,
            "flex_flow": null,
            "width": null,
            "min_width": null,
            "border": null,
            "align_items": null,
            "bottom": null,
            "_model_module": "@jupyter-widgets/base",
            "top": null,
            "grid_column": null,
            "overflow_y": null,
            "overflow_x": null,
            "grid_auto_flow": null,
            "grid_area": null,
            "grid_template_columns": null,
            "flex": null,
            "_model_name": "LayoutModel",
            "justify_items": null,
            "grid_row": null,
            "max_height": null,
            "align_content": null,
            "visibility": null,
            "align_self": null,
            "height": null,
            "min_height": null,
            "padding": null,
            "grid_auto_rows": null,
            "grid_gap": null,
            "max_width": null,
            "order": null,
            "_view_module_version": "1.2.0",
            "grid_template_areas": null,
            "object_position": null,
            "object_fit": null,
            "grid_auto_columns": null,
            "margin": null,
            "display": null,
            "left": null
          }
        },
        "0f1cd8fb38da4832bed0cef0b3eef165": {
          "model_module": "@jupyter-widgets/controls",
          "model_name": "HTMLModel",
          "model_module_version": "1.5.0",
          "state": {
            "_view_name": "HTMLView",
            "style": "IPY_MODEL_9557b4bc859a4a08a405952f2d42a007",
            "_dom_classes": [],
            "description": "",
            "_model_name": "HTMLModel",
            "placeholder": "​",
            "_view_module": "@jupyter-widgets/controls",
            "_model_module_version": "1.5.0",
            "value": "Downloading: 100%",
            "_view_count": null,
            "_view_module_version": "1.5.0",
            "description_tooltip": null,
            "_model_module": "@jupyter-widgets/controls",
            "layout": "IPY_MODEL_45c94ec1765740c2883c0d7b12fd41ee"
          }
        },
        "b6fb5a26096d4095bf683ce71aae2ea3": {
          "model_module": "@jupyter-widgets/controls",
          "model_name": "FloatProgressModel",
          "model_module_version": "1.5.0",
          "state": {
            "_view_name": "ProgressView",
            "style": "IPY_MODEL_bf8ef5d1005e4f348e37edaa37f1fa33",
            "_dom_classes": [],
            "description": "",
            "_model_name": "FloatProgressModel",
            "bar_style": "success",
            "max": 3951,
            "_view_module": "@jupyter-widgets/controls",
            "_model_module_version": "1.5.0",
            "value": 3951,
            "_view_count": null,
            "_view_module_version": "1.5.0",
            "orientation": "horizontal",
            "min": 0,
            "description_tooltip": null,
            "_model_module": "@jupyter-widgets/controls",
            "layout": "IPY_MODEL_0f15bdf894374393b047ec592bf65efd"
          }
        },
        "13e9c900dd484122a654f3b9d3275f3e": {
          "model_module": "@jupyter-widgets/controls",
          "model_name": "HTMLModel",
          "model_module_version": "1.5.0",
          "state": {
            "_view_name": "HTMLView",
            "style": "IPY_MODEL_8a5ef60ef462462f8b1b3862224f3996",
            "_dom_classes": [],
            "description": "",
            "_model_name": "HTMLModel",
            "placeholder": "​",
            "_view_module": "@jupyter-widgets/controls",
            "_model_module_version": "1.5.0",
            "value": " 3.95k/3.95k [00:00&lt;00:00, 96.7kB/s]",
            "_view_count": null,
            "_view_module_version": "1.5.0",
            "description_tooltip": null,
            "_model_module": "@jupyter-widgets/controls",
            "layout": "IPY_MODEL_cb43498e7cb947618298d2b064eef7cb"
          }
        },
        "9557b4bc859a4a08a405952f2d42a007": {
          "model_module": "@jupyter-widgets/controls",
          "model_name": "DescriptionStyleModel",
          "model_module_version": "1.5.0",
          "state": {
            "_view_name": "StyleView",
            "_model_name": "DescriptionStyleModel",
            "description_width": "",
            "_view_module": "@jupyter-widgets/base",
            "_model_module_version": "1.5.0",
            "_view_count": null,
            "_view_module_version": "1.2.0",
            "_model_module": "@jupyter-widgets/controls"
          }
        },
        "45c94ec1765740c2883c0d7b12fd41ee": {
          "model_module": "@jupyter-widgets/base",
          "model_name": "LayoutModel",
          "model_module_version": "1.2.0",
          "state": {
            "_view_name": "LayoutView",
            "grid_template_rows": null,
            "right": null,
            "justify_content": null,
            "_view_module": "@jupyter-widgets/base",
            "overflow": null,
            "_model_module_version": "1.2.0",
            "_view_count": null,
            "flex_flow": null,
            "width": null,
            "min_width": null,
            "border": null,
            "align_items": null,
            "bottom": null,
            "_model_module": "@jupyter-widgets/base",
            "top": null,
            "grid_column": null,
            "overflow_y": null,
            "overflow_x": null,
            "grid_auto_flow": null,
            "grid_area": null,
            "grid_template_columns": null,
            "flex": null,
            "_model_name": "LayoutModel",
            "justify_items": null,
            "grid_row": null,
            "max_height": null,
            "align_content": null,
            "visibility": null,
            "align_self": null,
            "height": null,
            "min_height": null,
            "padding": null,
            "grid_auto_rows": null,
            "grid_gap": null,
            "max_width": null,
            "order": null,
            "_view_module_version": "1.2.0",
            "grid_template_areas": null,
            "object_position": null,
            "object_fit": null,
            "grid_auto_columns": null,
            "margin": null,
            "display": null,
            "left": null
          }
        },
        "bf8ef5d1005e4f348e37edaa37f1fa33": {
          "model_module": "@jupyter-widgets/controls",
          "model_name": "ProgressStyleModel",
          "model_module_version": "1.5.0",
          "state": {
            "_view_name": "StyleView",
            "_model_name": "ProgressStyleModel",
            "description_width": "",
            "_view_module": "@jupyter-widgets/base",
            "_model_module_version": "1.5.0",
            "_view_count": null,
            "_view_module_version": "1.2.0",
            "bar_color": null,
            "_model_module": "@jupyter-widgets/controls"
          }
        },
        "0f15bdf894374393b047ec592bf65efd": {
          "model_module": "@jupyter-widgets/base",
          "model_name": "LayoutModel",
          "model_module_version": "1.2.0",
          "state": {
            "_view_name": "LayoutView",
            "grid_template_rows": null,
            "right": null,
            "justify_content": null,
            "_view_module": "@jupyter-widgets/base",
            "overflow": null,
            "_model_module_version": "1.2.0",
            "_view_count": null,
            "flex_flow": null,
            "width": null,
            "min_width": null,
            "border": null,
            "align_items": null,
            "bottom": null,
            "_model_module": "@jupyter-widgets/base",
            "top": null,
            "grid_column": null,
            "overflow_y": null,
            "overflow_x": null,
            "grid_auto_flow": null,
            "grid_area": null,
            "grid_template_columns": null,
            "flex": null,
            "_model_name": "LayoutModel",
            "justify_items": null,
            "grid_row": null,
            "max_height": null,
            "align_content": null,
            "visibility": null,
            "align_self": null,
            "height": null,
            "min_height": null,
            "padding": null,
            "grid_auto_rows": null,
            "grid_gap": null,
            "max_width": null,
            "order": null,
            "_view_module_version": "1.2.0",
            "grid_template_areas": null,
            "object_position": null,
            "object_fit": null,
            "grid_auto_columns": null,
            "margin": null,
            "display": null,
            "left": null
          }
        },
        "8a5ef60ef462462f8b1b3862224f3996": {
          "model_module": "@jupyter-widgets/controls",
          "model_name": "DescriptionStyleModel",
          "model_module_version": "1.5.0",
          "state": {
            "_view_name": "StyleView",
            "_model_name": "DescriptionStyleModel",
            "description_width": "",
            "_view_module": "@jupyter-widgets/base",
            "_model_module_version": "1.5.0",
            "_view_count": null,
            "_view_module_version": "1.2.0",
            "_model_module": "@jupyter-widgets/controls"
          }
        },
        "cb43498e7cb947618298d2b064eef7cb": {
          "model_module": "@jupyter-widgets/base",
          "model_name": "LayoutModel",
          "model_module_version": "1.2.0",
          "state": {
            "_view_name": "LayoutView",
            "grid_template_rows": null,
            "right": null,
            "justify_content": null,
            "_view_module": "@jupyter-widgets/base",
            "overflow": null,
            "_model_module_version": "1.2.0",
            "_view_count": null,
            "flex_flow": null,
            "width": null,
            "min_width": null,
            "border": null,
            "align_items": null,
            "bottom": null,
            "_model_module": "@jupyter-widgets/base",
            "top": null,
            "grid_column": null,
            "overflow_y": null,
            "overflow_x": null,
            "grid_auto_flow": null,
            "grid_area": null,
            "grid_template_columns": null,
            "flex": null,
            "_model_name": "LayoutModel",
            "justify_items": null,
            "grid_row": null,
            "max_height": null,
            "align_content": null,
            "visibility": null,
            "align_self": null,
            "height": null,
            "min_height": null,
            "padding": null,
            "grid_auto_rows": null,
            "grid_gap": null,
            "max_width": null,
            "order": null,
            "_view_module_version": "1.2.0",
            "grid_template_areas": null,
            "object_position": null,
            "object_fit": null,
            "grid_auto_columns": null,
            "margin": null,
            "display": null,
            "left": null
          }
        },
        "c36bab90c2be487bbe07b1ea57aede21": {
          "model_module": "@jupyter-widgets/controls",
          "model_name": "HBoxModel",
          "model_module_version": "1.5.0",
          "state": {
            "_view_name": "HBoxView",
            "_dom_classes": [],
            "_model_name": "HBoxModel",
            "_view_module": "@jupyter-widgets/controls",
            "_model_module_version": "1.5.0",
            "_view_count": null,
            "_view_module_version": "1.5.0",
            "box_style": "",
            "layout": "IPY_MODEL_d985b824e5d24ae092c501c30aded093",
            "_model_module": "@jupyter-widgets/controls",
            "children": [
              "IPY_MODEL_054ea23092094e4f885f0901528efe83",
              "IPY_MODEL_f4706d0a2c324976be7ef8ea91f69efb",
              "IPY_MODEL_b6f6a44da26f4dc2934658a78d757d0e"
            ]
          }
        },
        "d985b824e5d24ae092c501c30aded093": {
          "model_module": "@jupyter-widgets/base",
          "model_name": "LayoutModel",
          "model_module_version": "1.2.0",
          "state": {
            "_view_name": "LayoutView",
            "grid_template_rows": null,
            "right": null,
            "justify_content": null,
            "_view_module": "@jupyter-widgets/base",
            "overflow": null,
            "_model_module_version": "1.2.0",
            "_view_count": null,
            "flex_flow": null,
            "width": null,
            "min_width": null,
            "border": null,
            "align_items": null,
            "bottom": null,
            "_model_module": "@jupyter-widgets/base",
            "top": null,
            "grid_column": null,
            "overflow_y": null,
            "overflow_x": null,
            "grid_auto_flow": null,
            "grid_area": null,
            "grid_template_columns": null,
            "flex": null,
            "_model_name": "LayoutModel",
            "justify_items": null,
            "grid_row": null,
            "max_height": null,
            "align_content": null,
            "visibility": null,
            "align_self": null,
            "height": null,
            "min_height": null,
            "padding": null,
            "grid_auto_rows": null,
            "grid_gap": null,
            "max_width": null,
            "order": null,
            "_view_module_version": "1.2.0",
            "grid_template_areas": null,
            "object_position": null,
            "object_fit": null,
            "grid_auto_columns": null,
            "margin": null,
            "display": null,
            "left": null
          }
        },
        "054ea23092094e4f885f0901528efe83": {
          "model_module": "@jupyter-widgets/controls",
          "model_name": "HTMLModel",
          "model_module_version": "1.5.0",
          "state": {
            "_view_name": "HTMLView",
            "style": "IPY_MODEL_c0ca200e1fb2414d9f2aebf26605f1b2",
            "_dom_classes": [],
            "description": "",
            "_model_name": "HTMLModel",
            "placeholder": "​",
            "_view_module": "@jupyter-widgets/controls",
            "_model_module_version": "1.5.0",
            "value": "Downloading: 100%",
            "_view_count": null,
            "_view_module_version": "1.5.0",
            "description_tooltip": null,
            "_model_module": "@jupyter-widgets/controls",
            "layout": "IPY_MODEL_2f56de5167c04dbd940e21f8754205af"
          }
        },
        "f4706d0a2c324976be7ef8ea91f69efb": {
          "model_module": "@jupyter-widgets/controls",
          "model_name": "FloatProgressModel",
          "model_module_version": "1.5.0",
          "state": {
            "_view_name": "ProgressView",
            "style": "IPY_MODEL_7027c55eab2745e48a4db6f8fbefd379",
            "_dom_classes": [],
            "description": "",
            "_model_name": "FloatProgressModel",
            "bar_style": "success",
            "max": 2,
            "_view_module": "@jupyter-widgets/controls",
            "_model_module_version": "1.5.0",
            "value": 2,
            "_view_count": null,
            "_view_module_version": "1.5.0",
            "orientation": "horizontal",
            "min": 0,
            "description_tooltip": null,
            "_model_module": "@jupyter-widgets/controls",
            "layout": "IPY_MODEL_abbfd00690134d269b2503277c153c5e"
          }
        },
        "b6f6a44da26f4dc2934658a78d757d0e": {
          "model_module": "@jupyter-widgets/controls",
          "model_name": "HTMLModel",
          "model_module_version": "1.5.0",
          "state": {
            "_view_name": "HTMLView",
            "style": "IPY_MODEL_06bc056164e14f7ea5a7a75e63b814f1",
            "_dom_classes": [],
            "description": "",
            "_model_name": "HTMLModel",
            "placeholder": "​",
            "_view_module": "@jupyter-widgets/controls",
            "_model_module_version": "1.5.0",
            "value": " 2.00/2.00 [00:00&lt;00:00, 38.4B/s]",
            "_view_count": null,
            "_view_module_version": "1.5.0",
            "description_tooltip": null,
            "_model_module": "@jupyter-widgets/controls",
            "layout": "IPY_MODEL_e5ec8573d9414b4dab53328f306b846a"
          }
        },
        "c0ca200e1fb2414d9f2aebf26605f1b2": {
          "model_module": "@jupyter-widgets/controls",
          "model_name": "DescriptionStyleModel",
          "model_module_version": "1.5.0",
          "state": {
            "_view_name": "StyleView",
            "_model_name": "DescriptionStyleModel",
            "description_width": "",
            "_view_module": "@jupyter-widgets/base",
            "_model_module_version": "1.5.0",
            "_view_count": null,
            "_view_module_version": "1.2.0",
            "_model_module": "@jupyter-widgets/controls"
          }
        },
        "2f56de5167c04dbd940e21f8754205af": {
          "model_module": "@jupyter-widgets/base",
          "model_name": "LayoutModel",
          "model_module_version": "1.2.0",
          "state": {
            "_view_name": "LayoutView",
            "grid_template_rows": null,
            "right": null,
            "justify_content": null,
            "_view_module": "@jupyter-widgets/base",
            "overflow": null,
            "_model_module_version": "1.2.0",
            "_view_count": null,
            "flex_flow": null,
            "width": null,
            "min_width": null,
            "border": null,
            "align_items": null,
            "bottom": null,
            "_model_module": "@jupyter-widgets/base",
            "top": null,
            "grid_column": null,
            "overflow_y": null,
            "overflow_x": null,
            "grid_auto_flow": null,
            "grid_area": null,
            "grid_template_columns": null,
            "flex": null,
            "_model_name": "LayoutModel",
            "justify_items": null,
            "grid_row": null,
            "max_height": null,
            "align_content": null,
            "visibility": null,
            "align_self": null,
            "height": null,
            "min_height": null,
            "padding": null,
            "grid_auto_rows": null,
            "grid_gap": null,
            "max_width": null,
            "order": null,
            "_view_module_version": "1.2.0",
            "grid_template_areas": null,
            "object_position": null,
            "object_fit": null,
            "grid_auto_columns": null,
            "margin": null,
            "display": null,
            "left": null
          }
        },
        "7027c55eab2745e48a4db6f8fbefd379": {
          "model_module": "@jupyter-widgets/controls",
          "model_name": "ProgressStyleModel",
          "model_module_version": "1.5.0",
          "state": {
            "_view_name": "StyleView",
            "_model_name": "ProgressStyleModel",
            "description_width": "",
            "_view_module": "@jupyter-widgets/base",
            "_model_module_version": "1.5.0",
            "_view_count": null,
            "_view_module_version": "1.2.0",
            "bar_color": null,
            "_model_module": "@jupyter-widgets/controls"
          }
        },
        "abbfd00690134d269b2503277c153c5e": {
          "model_module": "@jupyter-widgets/base",
          "model_name": "LayoutModel",
          "model_module_version": "1.2.0",
          "state": {
            "_view_name": "LayoutView",
            "grid_template_rows": null,
            "right": null,
            "justify_content": null,
            "_view_module": "@jupyter-widgets/base",
            "overflow": null,
            "_model_module_version": "1.2.0",
            "_view_count": null,
            "flex_flow": null,
            "width": null,
            "min_width": null,
            "border": null,
            "align_items": null,
            "bottom": null,
            "_model_module": "@jupyter-widgets/base",
            "top": null,
            "grid_column": null,
            "overflow_y": null,
            "overflow_x": null,
            "grid_auto_flow": null,
            "grid_area": null,
            "grid_template_columns": null,
            "flex": null,
            "_model_name": "LayoutModel",
            "justify_items": null,
            "grid_row": null,
            "max_height": null,
            "align_content": null,
            "visibility": null,
            "align_self": null,
            "height": null,
            "min_height": null,
            "padding": null,
            "grid_auto_rows": null,
            "grid_gap": null,
            "max_width": null,
            "order": null,
            "_view_module_version": "1.2.0",
            "grid_template_areas": null,
            "object_position": null,
            "object_fit": null,
            "grid_auto_columns": null,
            "margin": null,
            "display": null,
            "left": null
          }
        },
        "06bc056164e14f7ea5a7a75e63b814f1": {
          "model_module": "@jupyter-widgets/controls",
          "model_name": "DescriptionStyleModel",
          "model_module_version": "1.5.0",
          "state": {
            "_view_name": "StyleView",
            "_model_name": "DescriptionStyleModel",
            "description_width": "",
            "_view_module": "@jupyter-widgets/base",
            "_model_module_version": "1.5.0",
            "_view_count": null,
            "_view_module_version": "1.2.0",
            "_model_module": "@jupyter-widgets/controls"
          }
        },
        "e5ec8573d9414b4dab53328f306b846a": {
          "model_module": "@jupyter-widgets/base",
          "model_name": "LayoutModel",
          "model_module_version": "1.2.0",
          "state": {
            "_view_name": "LayoutView",
            "grid_template_rows": null,
            "right": null,
            "justify_content": null,
            "_view_module": "@jupyter-widgets/base",
            "overflow": null,
            "_model_module_version": "1.2.0",
            "_view_count": null,
            "flex_flow": null,
            "width": null,
            "min_width": null,
            "border": null,
            "align_items": null,
            "bottom": null,
            "_model_module": "@jupyter-widgets/base",
            "top": null,
            "grid_column": null,
            "overflow_y": null,
            "overflow_x": null,
            "grid_auto_flow": null,
            "grid_area": null,
            "grid_template_columns": null,
            "flex": null,
            "_model_name": "LayoutModel",
            "justify_items": null,
            "grid_row": null,
            "max_height": null,
            "align_content": null,
            "visibility": null,
            "align_self": null,
            "height": null,
            "min_height": null,
            "padding": null,
            "grid_auto_rows": null,
            "grid_gap": null,
            "max_width": null,
            "order": null,
            "_view_module_version": "1.2.0",
            "grid_template_areas": null,
            "object_position": null,
            "object_fit": null,
            "grid_auto_columns": null,
            "margin": null,
            "display": null,
            "left": null
          }
        },
        "c3bd1eb77f71484d8ee33ba9d607ba08": {
          "model_module": "@jupyter-widgets/controls",
          "model_name": "HBoxModel",
          "model_module_version": "1.5.0",
          "state": {
            "_view_name": "HBoxView",
            "_dom_classes": [],
            "_model_name": "HBoxModel",
            "_view_module": "@jupyter-widgets/controls",
            "_model_module_version": "1.5.0",
            "_view_count": null,
            "_view_module_version": "1.5.0",
            "box_style": "",
            "layout": "IPY_MODEL_93d1eaf68ca14698bb33389dba256de2",
            "_model_module": "@jupyter-widgets/controls",
            "children": [
              "IPY_MODEL_8bfb6ecfb4e647c4b0ca69d6c079b8ee",
              "IPY_MODEL_d3aef5dbfaae4944b8b005d73d8e9352",
              "IPY_MODEL_29f240288c3e4ad5954bbcb86f43158a"
            ]
          }
        },
        "93d1eaf68ca14698bb33389dba256de2": {
          "model_module": "@jupyter-widgets/base",
          "model_name": "LayoutModel",
          "model_module_version": "1.2.0",
          "state": {
            "_view_name": "LayoutView",
            "grid_template_rows": null,
            "right": null,
            "justify_content": null,
            "_view_module": "@jupyter-widgets/base",
            "overflow": null,
            "_model_module_version": "1.2.0",
            "_view_count": null,
            "flex_flow": null,
            "width": null,
            "min_width": null,
            "border": null,
            "align_items": null,
            "bottom": null,
            "_model_module": "@jupyter-widgets/base",
            "top": null,
            "grid_column": null,
            "overflow_y": null,
            "overflow_x": null,
            "grid_auto_flow": null,
            "grid_area": null,
            "grid_template_columns": null,
            "flex": null,
            "_model_name": "LayoutModel",
            "justify_items": null,
            "grid_row": null,
            "max_height": null,
            "align_content": null,
            "visibility": null,
            "align_self": null,
            "height": null,
            "min_height": null,
            "padding": null,
            "grid_auto_rows": null,
            "grid_gap": null,
            "max_width": null,
            "order": null,
            "_view_module_version": "1.2.0",
            "grid_template_areas": null,
            "object_position": null,
            "object_fit": null,
            "grid_auto_columns": null,
            "margin": null,
            "display": null,
            "left": null
          }
        },
        "8bfb6ecfb4e647c4b0ca69d6c079b8ee": {
          "model_module": "@jupyter-widgets/controls",
          "model_name": "HTMLModel",
          "model_module_version": "1.5.0",
          "state": {
            "_view_name": "HTMLView",
            "style": "IPY_MODEL_505e8636979540f88003d0fa04066560",
            "_dom_classes": [],
            "description": "",
            "_model_name": "HTMLModel",
            "placeholder": "​",
            "_view_module": "@jupyter-widgets/controls",
            "_model_module_version": "1.5.0",
            "value": "Downloading: 100%",
            "_view_count": null,
            "_view_module_version": "1.5.0",
            "description_tooltip": null,
            "_model_module": "@jupyter-widgets/controls",
            "layout": "IPY_MODEL_d4ad0babeec14792b0b85562d3cba339"
          }
        },
        "d3aef5dbfaae4944b8b005d73d8e9352": {
          "model_module": "@jupyter-widgets/controls",
          "model_name": "FloatProgressModel",
          "model_module_version": "1.5.0",
          "state": {
            "_view_name": "ProgressView",
            "style": "IPY_MODEL_848d8c8970044345b0f1f05e0ef6f8c1",
            "_dom_classes": [],
            "description": "",
            "_model_name": "FloatProgressModel",
            "bar_style": "success",
            "max": 625,
            "_view_module": "@jupyter-widgets/controls",
            "_model_module_version": "1.5.0",
            "value": 625,
            "_view_count": null,
            "_view_module_version": "1.5.0",
            "orientation": "horizontal",
            "min": 0,
            "description_tooltip": null,
            "_model_module": "@jupyter-widgets/controls",
            "layout": "IPY_MODEL_b212b71df471420c9fa0b5327834dc26"
          }
        },
        "29f240288c3e4ad5954bbcb86f43158a": {
          "model_module": "@jupyter-widgets/controls",
          "model_name": "HTMLModel",
          "model_module_version": "1.5.0",
          "state": {
            "_view_name": "HTMLView",
            "style": "IPY_MODEL_15214315fa504b799074b52b1410e272",
            "_dom_classes": [],
            "description": "",
            "_model_name": "HTMLModel",
            "placeholder": "​",
            "_view_module": "@jupyter-widgets/controls",
            "_model_module_version": "1.5.0",
            "value": " 625/625 [00:00&lt;00:00, 15.5kB/s]",
            "_view_count": null,
            "_view_module_version": "1.5.0",
            "description_tooltip": null,
            "_model_module": "@jupyter-widgets/controls",
            "layout": "IPY_MODEL_efa1a2fa22634f91b361561a2eda1fa4"
          }
        },
        "505e8636979540f88003d0fa04066560": {
          "model_module": "@jupyter-widgets/controls",
          "model_name": "DescriptionStyleModel",
          "model_module_version": "1.5.0",
          "state": {
            "_view_name": "StyleView",
            "_model_name": "DescriptionStyleModel",
            "description_width": "",
            "_view_module": "@jupyter-widgets/base",
            "_model_module_version": "1.5.0",
            "_view_count": null,
            "_view_module_version": "1.2.0",
            "_model_module": "@jupyter-widgets/controls"
          }
        },
        "d4ad0babeec14792b0b85562d3cba339": {
          "model_module": "@jupyter-widgets/base",
          "model_name": "LayoutModel",
          "model_module_version": "1.2.0",
          "state": {
            "_view_name": "LayoutView",
            "grid_template_rows": null,
            "right": null,
            "justify_content": null,
            "_view_module": "@jupyter-widgets/base",
            "overflow": null,
            "_model_module_version": "1.2.0",
            "_view_count": null,
            "flex_flow": null,
            "width": null,
            "min_width": null,
            "border": null,
            "align_items": null,
            "bottom": null,
            "_model_module": "@jupyter-widgets/base",
            "top": null,
            "grid_column": null,
            "overflow_y": null,
            "overflow_x": null,
            "grid_auto_flow": null,
            "grid_area": null,
            "grid_template_columns": null,
            "flex": null,
            "_model_name": "LayoutModel",
            "justify_items": null,
            "grid_row": null,
            "max_height": null,
            "align_content": null,
            "visibility": null,
            "align_self": null,
            "height": null,
            "min_height": null,
            "padding": null,
            "grid_auto_rows": null,
            "grid_gap": null,
            "max_width": null,
            "order": null,
            "_view_module_version": "1.2.0",
            "grid_template_areas": null,
            "object_position": null,
            "object_fit": null,
            "grid_auto_columns": null,
            "margin": null,
            "display": null,
            "left": null
          }
        },
        "848d8c8970044345b0f1f05e0ef6f8c1": {
          "model_module": "@jupyter-widgets/controls",
          "model_name": "ProgressStyleModel",
          "model_module_version": "1.5.0",
          "state": {
            "_view_name": "StyleView",
            "_model_name": "ProgressStyleModel",
            "description_width": "",
            "_view_module": "@jupyter-widgets/base",
            "_model_module_version": "1.5.0",
            "_view_count": null,
            "_view_module_version": "1.2.0",
            "bar_color": null,
            "_model_module": "@jupyter-widgets/controls"
          }
        },
        "b212b71df471420c9fa0b5327834dc26": {
          "model_module": "@jupyter-widgets/base",
          "model_name": "LayoutModel",
          "model_module_version": "1.2.0",
          "state": {
            "_view_name": "LayoutView",
            "grid_template_rows": null,
            "right": null,
            "justify_content": null,
            "_view_module": "@jupyter-widgets/base",
            "overflow": null,
            "_model_module_version": "1.2.0",
            "_view_count": null,
            "flex_flow": null,
            "width": null,
            "min_width": null,
            "border": null,
            "align_items": null,
            "bottom": null,
            "_model_module": "@jupyter-widgets/base",
            "top": null,
            "grid_column": null,
            "overflow_y": null,
            "overflow_x": null,
            "grid_auto_flow": null,
            "grid_area": null,
            "grid_template_columns": null,
            "flex": null,
            "_model_name": "LayoutModel",
            "justify_items": null,
            "grid_row": null,
            "max_height": null,
            "align_content": null,
            "visibility": null,
            "align_self": null,
            "height": null,
            "min_height": null,
            "padding": null,
            "grid_auto_rows": null,
            "grid_gap": null,
            "max_width": null,
            "order": null,
            "_view_module_version": "1.2.0",
            "grid_template_areas": null,
            "object_position": null,
            "object_fit": null,
            "grid_auto_columns": null,
            "margin": null,
            "display": null,
            "left": null
          }
        },
        "15214315fa504b799074b52b1410e272": {
          "model_module": "@jupyter-widgets/controls",
          "model_name": "DescriptionStyleModel",
          "model_module_version": "1.5.0",
          "state": {
            "_view_name": "StyleView",
            "_model_name": "DescriptionStyleModel",
            "description_width": "",
            "_view_module": "@jupyter-widgets/base",
            "_model_module_version": "1.5.0",
            "_view_count": null,
            "_view_module_version": "1.2.0",
            "_model_module": "@jupyter-widgets/controls"
          }
        },
        "efa1a2fa22634f91b361561a2eda1fa4": {
          "model_module": "@jupyter-widgets/base",
          "model_name": "LayoutModel",
          "model_module_version": "1.2.0",
          "state": {
            "_view_name": "LayoutView",
            "grid_template_rows": null,
            "right": null,
            "justify_content": null,
            "_view_module": "@jupyter-widgets/base",
            "overflow": null,
            "_model_module_version": "1.2.0",
            "_view_count": null,
            "flex_flow": null,
            "width": null,
            "min_width": null,
            "border": null,
            "align_items": null,
            "bottom": null,
            "_model_module": "@jupyter-widgets/base",
            "top": null,
            "grid_column": null,
            "overflow_y": null,
            "overflow_x": null,
            "grid_auto_flow": null,
            "grid_area": null,
            "grid_template_columns": null,
            "flex": null,
            "_model_name": "LayoutModel",
            "justify_items": null,
            "grid_row": null,
            "max_height": null,
            "align_content": null,
            "visibility": null,
            "align_self": null,
            "height": null,
            "min_height": null,
            "padding": null,
            "grid_auto_rows": null,
            "grid_gap": null,
            "max_width": null,
            "order": null,
            "_view_module_version": "1.2.0",
            "grid_template_areas": null,
            "object_position": null,
            "object_fit": null,
            "grid_auto_columns": null,
            "margin": null,
            "display": null,
            "left": null
          }
        },
        "d538f3e4b487400f8858ea36fadffd8c": {
          "model_module": "@jupyter-widgets/controls",
          "model_name": "HBoxModel",
          "model_module_version": "1.5.0",
          "state": {
            "_view_name": "HBoxView",
            "_dom_classes": [],
            "_model_name": "HBoxModel",
            "_view_module": "@jupyter-widgets/controls",
            "_model_module_version": "1.5.0",
            "_view_count": null,
            "_view_module_version": "1.5.0",
            "box_style": "",
            "layout": "IPY_MODEL_bddb416832704296ab757bbca2c99043",
            "_model_module": "@jupyter-widgets/controls",
            "children": [
              "IPY_MODEL_7b5edb0f949c4c63a8d1365364dedfad",
              "IPY_MODEL_9773e8b47e82492cb4d3a81299d27f58",
              "IPY_MODEL_00f62cb9838c4c31af4872257e7bd81d"
            ]
          }
        },
        "bddb416832704296ab757bbca2c99043": {
          "model_module": "@jupyter-widgets/base",
          "model_name": "LayoutModel",
          "model_module_version": "1.2.0",
          "state": {
            "_view_name": "LayoutView",
            "grid_template_rows": null,
            "right": null,
            "justify_content": null,
            "_view_module": "@jupyter-widgets/base",
            "overflow": null,
            "_model_module_version": "1.2.0",
            "_view_count": null,
            "flex_flow": null,
            "width": null,
            "min_width": null,
            "border": null,
            "align_items": null,
            "bottom": null,
            "_model_module": "@jupyter-widgets/base",
            "top": null,
            "grid_column": null,
            "overflow_y": null,
            "overflow_x": null,
            "grid_auto_flow": null,
            "grid_area": null,
            "grid_template_columns": null,
            "flex": null,
            "_model_name": "LayoutModel",
            "justify_items": null,
            "grid_row": null,
            "max_height": null,
            "align_content": null,
            "visibility": null,
            "align_self": null,
            "height": null,
            "min_height": null,
            "padding": null,
            "grid_auto_rows": null,
            "grid_gap": null,
            "max_width": null,
            "order": null,
            "_view_module_version": "1.2.0",
            "grid_template_areas": null,
            "object_position": null,
            "object_fit": null,
            "grid_auto_columns": null,
            "margin": null,
            "display": null,
            "left": null
          }
        },
        "7b5edb0f949c4c63a8d1365364dedfad": {
          "model_module": "@jupyter-widgets/controls",
          "model_name": "HTMLModel",
          "model_module_version": "1.5.0",
          "state": {
            "_view_name": "HTMLView",
            "style": "IPY_MODEL_3ca7c935170d4f2ba1bed6ea55c24a64",
            "_dom_classes": [],
            "description": "",
            "_model_name": "HTMLModel",
            "placeholder": "​",
            "_view_module": "@jupyter-widgets/controls",
            "_model_module_version": "1.5.0",
            "value": "Downloading: 100%",
            "_view_count": null,
            "_view_module_version": "1.5.0",
            "description_tooltip": null,
            "_model_module": "@jupyter-widgets/controls",
            "layout": "IPY_MODEL_d6658bd51fb84ce288adc5bd034da414"
          }
        },
        "9773e8b47e82492cb4d3a81299d27f58": {
          "model_module": "@jupyter-widgets/controls",
          "model_name": "FloatProgressModel",
          "model_module_version": "1.5.0",
          "state": {
            "_view_name": "ProgressView",
            "style": "IPY_MODEL_3ed56d807e514b158e48903831b9a483",
            "_dom_classes": [],
            "description": "",
            "_model_name": "FloatProgressModel",
            "bar_style": "success",
            "max": 122,
            "_view_module": "@jupyter-widgets/controls",
            "_model_module_version": "1.5.0",
            "value": 122,
            "_view_count": null,
            "_view_module_version": "1.5.0",
            "orientation": "horizontal",
            "min": 0,
            "description_tooltip": null,
            "_model_module": "@jupyter-widgets/controls",
            "layout": "IPY_MODEL_bab68423ba874d4fa8b79bf0da8be901"
          }
        },
        "00f62cb9838c4c31af4872257e7bd81d": {
          "model_module": "@jupyter-widgets/controls",
          "model_name": "HTMLModel",
          "model_module_version": "1.5.0",
          "state": {
            "_view_name": "HTMLView",
            "style": "IPY_MODEL_52c7c2ccd13c4da19485ca7c7f0ef0b8",
            "_dom_classes": [],
            "description": "",
            "_model_name": "HTMLModel",
            "placeholder": "​",
            "_view_module": "@jupyter-widgets/controls",
            "_model_module_version": "1.5.0",
            "value": " 122/122 [00:00&lt;00:00, 2.67kB/s]",
            "_view_count": null,
            "_view_module_version": "1.5.0",
            "description_tooltip": null,
            "_model_module": "@jupyter-widgets/controls",
            "layout": "IPY_MODEL_55a16ef017ff4d3793d7cefce72206e1"
          }
        },
        "3ca7c935170d4f2ba1bed6ea55c24a64": {
          "model_module": "@jupyter-widgets/controls",
          "model_name": "DescriptionStyleModel",
          "model_module_version": "1.5.0",
          "state": {
            "_view_name": "StyleView",
            "_model_name": "DescriptionStyleModel",
            "description_width": "",
            "_view_module": "@jupyter-widgets/base",
            "_model_module_version": "1.5.0",
            "_view_count": null,
            "_view_module_version": "1.2.0",
            "_model_module": "@jupyter-widgets/controls"
          }
        },
        "d6658bd51fb84ce288adc5bd034da414": {
          "model_module": "@jupyter-widgets/base",
          "model_name": "LayoutModel",
          "model_module_version": "1.2.0",
          "state": {
            "_view_name": "LayoutView",
            "grid_template_rows": null,
            "right": null,
            "justify_content": null,
            "_view_module": "@jupyter-widgets/base",
            "overflow": null,
            "_model_module_version": "1.2.0",
            "_view_count": null,
            "flex_flow": null,
            "width": null,
            "min_width": null,
            "border": null,
            "align_items": null,
            "bottom": null,
            "_model_module": "@jupyter-widgets/base",
            "top": null,
            "grid_column": null,
            "overflow_y": null,
            "overflow_x": null,
            "grid_auto_flow": null,
            "grid_area": null,
            "grid_template_columns": null,
            "flex": null,
            "_model_name": "LayoutModel",
            "justify_items": null,
            "grid_row": null,
            "max_height": null,
            "align_content": null,
            "visibility": null,
            "align_self": null,
            "height": null,
            "min_height": null,
            "padding": null,
            "grid_auto_rows": null,
            "grid_gap": null,
            "max_width": null,
            "order": null,
            "_view_module_version": "1.2.0",
            "grid_template_areas": null,
            "object_position": null,
            "object_fit": null,
            "grid_auto_columns": null,
            "margin": null,
            "display": null,
            "left": null
          }
        },
        "3ed56d807e514b158e48903831b9a483": {
          "model_module": "@jupyter-widgets/controls",
          "model_name": "ProgressStyleModel",
          "model_module_version": "1.5.0",
          "state": {
            "_view_name": "StyleView",
            "_model_name": "ProgressStyleModel",
            "description_width": "",
            "_view_module": "@jupyter-widgets/base",
            "_model_module_version": "1.5.0",
            "_view_count": null,
            "_view_module_version": "1.2.0",
            "bar_color": null,
            "_model_module": "@jupyter-widgets/controls"
          }
        },
        "bab68423ba874d4fa8b79bf0da8be901": {
          "model_module": "@jupyter-widgets/base",
          "model_name": "LayoutModel",
          "model_module_version": "1.2.0",
          "state": {
            "_view_name": "LayoutView",
            "grid_template_rows": null,
            "right": null,
            "justify_content": null,
            "_view_module": "@jupyter-widgets/base",
            "overflow": null,
            "_model_module_version": "1.2.0",
            "_view_count": null,
            "flex_flow": null,
            "width": null,
            "min_width": null,
            "border": null,
            "align_items": null,
            "bottom": null,
            "_model_module": "@jupyter-widgets/base",
            "top": null,
            "grid_column": null,
            "overflow_y": null,
            "overflow_x": null,
            "grid_auto_flow": null,
            "grid_area": null,
            "grid_template_columns": null,
            "flex": null,
            "_model_name": "LayoutModel",
            "justify_items": null,
            "grid_row": null,
            "max_height": null,
            "align_content": null,
            "visibility": null,
            "align_self": null,
            "height": null,
            "min_height": null,
            "padding": null,
            "grid_auto_rows": null,
            "grid_gap": null,
            "max_width": null,
            "order": null,
            "_view_module_version": "1.2.0",
            "grid_template_areas": null,
            "object_position": null,
            "object_fit": null,
            "grid_auto_columns": null,
            "margin": null,
            "display": null,
            "left": null
          }
        },
        "52c7c2ccd13c4da19485ca7c7f0ef0b8": {
          "model_module": "@jupyter-widgets/controls",
          "model_name": "DescriptionStyleModel",
          "model_module_version": "1.5.0",
          "state": {
            "_view_name": "StyleView",
            "_model_name": "DescriptionStyleModel",
            "description_width": "",
            "_view_module": "@jupyter-widgets/base",
            "_model_module_version": "1.5.0",
            "_view_count": null,
            "_view_module_version": "1.2.0",
            "_model_module": "@jupyter-widgets/controls"
          }
        },
        "55a16ef017ff4d3793d7cefce72206e1": {
          "model_module": "@jupyter-widgets/base",
          "model_name": "LayoutModel",
          "model_module_version": "1.2.0",
          "state": {
            "_view_name": "LayoutView",
            "grid_template_rows": null,
            "right": null,
            "justify_content": null,
            "_view_module": "@jupyter-widgets/base",
            "overflow": null,
            "_model_module_version": "1.2.0",
            "_view_count": null,
            "flex_flow": null,
            "width": null,
            "min_width": null,
            "border": null,
            "align_items": null,
            "bottom": null,
            "_model_module": "@jupyter-widgets/base",
            "top": null,
            "grid_column": null,
            "overflow_y": null,
            "overflow_x": null,
            "grid_auto_flow": null,
            "grid_area": null,
            "grid_template_columns": null,
            "flex": null,
            "_model_name": "LayoutModel",
            "justify_items": null,
            "grid_row": null,
            "max_height": null,
            "align_content": null,
            "visibility": null,
            "align_self": null,
            "height": null,
            "min_height": null,
            "padding": null,
            "grid_auto_rows": null,
            "grid_gap": null,
            "max_width": null,
            "order": null,
            "_view_module_version": "1.2.0",
            "grid_template_areas": null,
            "object_position": null,
            "object_fit": null,
            "grid_auto_columns": null,
            "margin": null,
            "display": null,
            "left": null
          }
        },
        "dd884bdca06b44039b81bd1a64099da0": {
          "model_module": "@jupyter-widgets/controls",
          "model_name": "HBoxModel",
          "model_module_version": "1.5.0",
          "state": {
            "_view_name": "HBoxView",
            "_dom_classes": [],
            "_model_name": "HBoxModel",
            "_view_module": "@jupyter-widgets/controls",
            "_model_module_version": "1.5.0",
            "_view_count": null,
            "_view_module_version": "1.5.0",
            "box_style": "",
            "layout": "IPY_MODEL_226827d963e34af68f98ec678aabfb6e",
            "_model_module": "@jupyter-widgets/controls",
            "children": [
              "IPY_MODEL_1a36c0a512f74567aebde4062e884fda",
              "IPY_MODEL_7336678c6cf54043b85b878d9273d7b4",
              "IPY_MODEL_5f0370be286e4a3187ca6b8afe61e36e"
            ]
          }
        },
        "226827d963e34af68f98ec678aabfb6e": {
          "model_module": "@jupyter-widgets/base",
          "model_name": "LayoutModel",
          "model_module_version": "1.2.0",
          "state": {
            "_view_name": "LayoutView",
            "grid_template_rows": null,
            "right": null,
            "justify_content": null,
            "_view_module": "@jupyter-widgets/base",
            "overflow": null,
            "_model_module_version": "1.2.0",
            "_view_count": null,
            "flex_flow": null,
            "width": null,
            "min_width": null,
            "border": null,
            "align_items": null,
            "bottom": null,
            "_model_module": "@jupyter-widgets/base",
            "top": null,
            "grid_column": null,
            "overflow_y": null,
            "overflow_x": null,
            "grid_auto_flow": null,
            "grid_area": null,
            "grid_template_columns": null,
            "flex": null,
            "_model_name": "LayoutModel",
            "justify_items": null,
            "grid_row": null,
            "max_height": null,
            "align_content": null,
            "visibility": null,
            "align_self": null,
            "height": null,
            "min_height": null,
            "padding": null,
            "grid_auto_rows": null,
            "grid_gap": null,
            "max_width": null,
            "order": null,
            "_view_module_version": "1.2.0",
            "grid_template_areas": null,
            "object_position": null,
            "object_fit": null,
            "grid_auto_columns": null,
            "margin": null,
            "display": null,
            "left": null
          }
        },
        "1a36c0a512f74567aebde4062e884fda": {
          "model_module": "@jupyter-widgets/controls",
          "model_name": "HTMLModel",
          "model_module_version": "1.5.0",
          "state": {
            "_view_name": "HTMLView",
            "style": "IPY_MODEL_8a583783107b4046917844d3fbdf6833",
            "_dom_classes": [],
            "description": "",
            "_model_name": "HTMLModel",
            "placeholder": "​",
            "_view_module": "@jupyter-widgets/controls",
            "_model_module_version": "1.5.0",
            "value": "Downloading: 100%",
            "_view_count": null,
            "_view_module_version": "1.5.0",
            "description_tooltip": null,
            "_model_module": "@jupyter-widgets/controls",
            "layout": "IPY_MODEL_43d4643d5e7843be995c2701e8424e09"
          }
        },
        "7336678c6cf54043b85b878d9273d7b4": {
          "model_module": "@jupyter-widgets/controls",
          "model_name": "FloatProgressModel",
          "model_module_version": "1.5.0",
          "state": {
            "_view_name": "ProgressView",
            "style": "IPY_MODEL_9d706d292e514463b060ba40412e4753",
            "_dom_classes": [],
            "description": "",
            "_model_name": "FloatProgressModel",
            "bar_style": "success",
            "max": 229,
            "_view_module": "@jupyter-widgets/controls",
            "_model_module_version": "1.5.0",
            "value": 229,
            "_view_count": null,
            "_view_module_version": "1.5.0",
            "orientation": "horizontal",
            "min": 0,
            "description_tooltip": null,
            "_model_module": "@jupyter-widgets/controls",
            "layout": "IPY_MODEL_771046f5a1cb413abb4cb75763136800"
          }
        },
        "5f0370be286e4a3187ca6b8afe61e36e": {
          "model_module": "@jupyter-widgets/controls",
          "model_name": "HTMLModel",
          "model_module_version": "1.5.0",
          "state": {
            "_view_name": "HTMLView",
            "style": "IPY_MODEL_c07b0e8999fc4dae9980667f7713b244",
            "_dom_classes": [],
            "description": "",
            "_model_name": "HTMLModel",
            "placeholder": "​",
            "_view_module": "@jupyter-widgets/controls",
            "_model_module_version": "1.5.0",
            "value": " 229/229 [00:00&lt;00:00, 5.16kB/s]",
            "_view_count": null,
            "_view_module_version": "1.5.0",
            "description_tooltip": null,
            "_model_module": "@jupyter-widgets/controls",
            "layout": "IPY_MODEL_4ecff2e7d9ff40d78e6924edc389eccd"
          }
        },
        "8a583783107b4046917844d3fbdf6833": {
          "model_module": "@jupyter-widgets/controls",
          "model_name": "DescriptionStyleModel",
          "model_module_version": "1.5.0",
          "state": {
            "_view_name": "StyleView",
            "_model_name": "DescriptionStyleModel",
            "description_width": "",
            "_view_module": "@jupyter-widgets/base",
            "_model_module_version": "1.5.0",
            "_view_count": null,
            "_view_module_version": "1.2.0",
            "_model_module": "@jupyter-widgets/controls"
          }
        },
        "43d4643d5e7843be995c2701e8424e09": {
          "model_module": "@jupyter-widgets/base",
          "model_name": "LayoutModel",
          "model_module_version": "1.2.0",
          "state": {
            "_view_name": "LayoutView",
            "grid_template_rows": null,
            "right": null,
            "justify_content": null,
            "_view_module": "@jupyter-widgets/base",
            "overflow": null,
            "_model_module_version": "1.2.0",
            "_view_count": null,
            "flex_flow": null,
            "width": null,
            "min_width": null,
            "border": null,
            "align_items": null,
            "bottom": null,
            "_model_module": "@jupyter-widgets/base",
            "top": null,
            "grid_column": null,
            "overflow_y": null,
            "overflow_x": null,
            "grid_auto_flow": null,
            "grid_area": null,
            "grid_template_columns": null,
            "flex": null,
            "_model_name": "LayoutModel",
            "justify_items": null,
            "grid_row": null,
            "max_height": null,
            "align_content": null,
            "visibility": null,
            "align_self": null,
            "height": null,
            "min_height": null,
            "padding": null,
            "grid_auto_rows": null,
            "grid_gap": null,
            "max_width": null,
            "order": null,
            "_view_module_version": "1.2.0",
            "grid_template_areas": null,
            "object_position": null,
            "object_fit": null,
            "grid_auto_columns": null,
            "margin": null,
            "display": null,
            "left": null
          }
        },
        "9d706d292e514463b060ba40412e4753": {
          "model_module": "@jupyter-widgets/controls",
          "model_name": "ProgressStyleModel",
          "model_module_version": "1.5.0",
          "state": {
            "_view_name": "StyleView",
            "_model_name": "ProgressStyleModel",
            "description_width": "",
            "_view_module": "@jupyter-widgets/base",
            "_model_module_version": "1.5.0",
            "_view_count": null,
            "_view_module_version": "1.2.0",
            "bar_color": null,
            "_model_module": "@jupyter-widgets/controls"
          }
        },
        "771046f5a1cb413abb4cb75763136800": {
          "model_module": "@jupyter-widgets/base",
          "model_name": "LayoutModel",
          "model_module_version": "1.2.0",
          "state": {
            "_view_name": "LayoutView",
            "grid_template_rows": null,
            "right": null,
            "justify_content": null,
            "_view_module": "@jupyter-widgets/base",
            "overflow": null,
            "_model_module_version": "1.2.0",
            "_view_count": null,
            "flex_flow": null,
            "width": null,
            "min_width": null,
            "border": null,
            "align_items": null,
            "bottom": null,
            "_model_module": "@jupyter-widgets/base",
            "top": null,
            "grid_column": null,
            "overflow_y": null,
            "overflow_x": null,
            "grid_auto_flow": null,
            "grid_area": null,
            "grid_template_columns": null,
            "flex": null,
            "_model_name": "LayoutModel",
            "justify_items": null,
            "grid_row": null,
            "max_height": null,
            "align_content": null,
            "visibility": null,
            "align_self": null,
            "height": null,
            "min_height": null,
            "padding": null,
            "grid_auto_rows": null,
            "grid_gap": null,
            "max_width": null,
            "order": null,
            "_view_module_version": "1.2.0",
            "grid_template_areas": null,
            "object_position": null,
            "object_fit": null,
            "grid_auto_columns": null,
            "margin": null,
            "display": null,
            "left": null
          }
        },
        "c07b0e8999fc4dae9980667f7713b244": {
          "model_module": "@jupyter-widgets/controls",
          "model_name": "DescriptionStyleModel",
          "model_module_version": "1.5.0",
          "state": {
            "_view_name": "StyleView",
            "_model_name": "DescriptionStyleModel",
            "description_width": "",
            "_view_module": "@jupyter-widgets/base",
            "_model_module_version": "1.5.0",
            "_view_count": null,
            "_view_module_version": "1.2.0",
            "_model_module": "@jupyter-widgets/controls"
          }
        },
        "4ecff2e7d9ff40d78e6924edc389eccd": {
          "model_module": "@jupyter-widgets/base",
          "model_name": "LayoutModel",
          "model_module_version": "1.2.0",
          "state": {
            "_view_name": "LayoutView",
            "grid_template_rows": null,
            "right": null,
            "justify_content": null,
            "_view_module": "@jupyter-widgets/base",
            "overflow": null,
            "_model_module_version": "1.2.0",
            "_view_count": null,
            "flex_flow": null,
            "width": null,
            "min_width": null,
            "border": null,
            "align_items": null,
            "bottom": null,
            "_model_module": "@jupyter-widgets/base",
            "top": null,
            "grid_column": null,
            "overflow_y": null,
            "overflow_x": null,
            "grid_auto_flow": null,
            "grid_area": null,
            "grid_template_columns": null,
            "flex": null,
            "_model_name": "LayoutModel",
            "justify_items": null,
            "grid_row": null,
            "max_height": null,
            "align_content": null,
            "visibility": null,
            "align_self": null,
            "height": null,
            "min_height": null,
            "padding": null,
            "grid_auto_rows": null,
            "grid_gap": null,
            "max_width": null,
            "order": null,
            "_view_module_version": "1.2.0",
            "grid_template_areas": null,
            "object_position": null,
            "object_fit": null,
            "grid_auto_columns": null,
            "margin": null,
            "display": null,
            "left": null
          }
        },
        "0c1c288192e94223aeaeba903bd57bb9": {
          "model_module": "@jupyter-widgets/controls",
          "model_name": "HBoxModel",
          "model_module_version": "1.5.0",
          "state": {
            "_view_name": "HBoxView",
            "_dom_classes": [],
            "_model_name": "HBoxModel",
            "_view_module": "@jupyter-widgets/controls",
            "_model_module_version": "1.5.0",
            "_view_count": null,
            "_view_module_version": "1.5.0",
            "box_style": "",
            "layout": "IPY_MODEL_199fed673999484c88671c1438c08028",
            "_model_module": "@jupyter-widgets/controls",
            "children": [
              "IPY_MODEL_787eec3041044c458fd7c33df04e4b6b",
              "IPY_MODEL_06ae0312c0e046a09bf2550f42dc7610",
              "IPY_MODEL_a11b0f8e84ae4da08642503479dc4361"
            ]
          }
        },
        "199fed673999484c88671c1438c08028": {
          "model_module": "@jupyter-widgets/base",
          "model_name": "LayoutModel",
          "model_module_version": "1.2.0",
          "state": {
            "_view_name": "LayoutView",
            "grid_template_rows": null,
            "right": null,
            "justify_content": null,
            "_view_module": "@jupyter-widgets/base",
            "overflow": null,
            "_model_module_version": "1.2.0",
            "_view_count": null,
            "flex_flow": null,
            "width": null,
            "min_width": null,
            "border": null,
            "align_items": null,
            "bottom": null,
            "_model_module": "@jupyter-widgets/base",
            "top": null,
            "grid_column": null,
            "overflow_y": null,
            "overflow_x": null,
            "grid_auto_flow": null,
            "grid_area": null,
            "grid_template_columns": null,
            "flex": null,
            "_model_name": "LayoutModel",
            "justify_items": null,
            "grid_row": null,
            "max_height": null,
            "align_content": null,
            "visibility": null,
            "align_self": null,
            "height": null,
            "min_height": null,
            "padding": null,
            "grid_auto_rows": null,
            "grid_gap": null,
            "max_width": null,
            "order": null,
            "_view_module_version": "1.2.0",
            "grid_template_areas": null,
            "object_position": null,
            "object_fit": null,
            "grid_auto_columns": null,
            "margin": null,
            "display": null,
            "left": null
          }
        },
        "787eec3041044c458fd7c33df04e4b6b": {
          "model_module": "@jupyter-widgets/controls",
          "model_name": "HTMLModel",
          "model_module_version": "1.5.0",
          "state": {
            "_view_name": "HTMLView",
            "style": "IPY_MODEL_eb66bc9721f34419a7972e42369cc920",
            "_dom_classes": [],
            "description": "",
            "_model_name": "HTMLModel",
            "placeholder": "​",
            "_view_module": "@jupyter-widgets/controls",
            "_model_module_version": "1.5.0",
            "value": "Downloading: 100%",
            "_view_count": null,
            "_view_module_version": "1.5.0",
            "description_tooltip": null,
            "_model_module": "@jupyter-widgets/controls",
            "layout": "IPY_MODEL_482fae2ed374410386189fb4e379ef46"
          }
        },
        "06ae0312c0e046a09bf2550f42dc7610": {
          "model_module": "@jupyter-widgets/controls",
          "model_name": "FloatProgressModel",
          "model_module_version": "1.5.0",
          "state": {
            "_view_name": "ProgressView",
            "style": "IPY_MODEL_0b8735477c1d44be94e1e75617d5e6ec",
            "_dom_classes": [],
            "description": "",
            "_model_name": "FloatProgressModel",
            "bar_style": "success",
            "max": 438007537,
            "_view_module": "@jupyter-widgets/controls",
            "_model_module_version": "1.5.0",
            "value": 438007537,
            "_view_count": null,
            "_view_module_version": "1.5.0",
            "orientation": "horizontal",
            "min": 0,
            "description_tooltip": null,
            "_model_module": "@jupyter-widgets/controls",
            "layout": "IPY_MODEL_46345acb395a4e88ac4bfad280f0b302"
          }
        },
        "a11b0f8e84ae4da08642503479dc4361": {
          "model_module": "@jupyter-widgets/controls",
          "model_name": "HTMLModel",
          "model_module_version": "1.5.0",
          "state": {
            "_view_name": "HTMLView",
            "style": "IPY_MODEL_7a3cd3e91c03463d90b31fc1d6852d09",
            "_dom_classes": [],
            "description": "",
            "_model_name": "HTMLModel",
            "placeholder": "​",
            "_view_module": "@jupyter-widgets/controls",
            "_model_module_version": "1.5.0",
            "value": " 438M/438M [00:10&lt;00:00, 44.7MB/s]",
            "_view_count": null,
            "_view_module_version": "1.5.0",
            "description_tooltip": null,
            "_model_module": "@jupyter-widgets/controls",
            "layout": "IPY_MODEL_e0c6c20b182f46bb833a9ffb38905715"
          }
        },
        "eb66bc9721f34419a7972e42369cc920": {
          "model_module": "@jupyter-widgets/controls",
          "model_name": "DescriptionStyleModel",
          "model_module_version": "1.5.0",
          "state": {
            "_view_name": "StyleView",
            "_model_name": "DescriptionStyleModel",
            "description_width": "",
            "_view_module": "@jupyter-widgets/base",
            "_model_module_version": "1.5.0",
            "_view_count": null,
            "_view_module_version": "1.2.0",
            "_model_module": "@jupyter-widgets/controls"
          }
        },
        "482fae2ed374410386189fb4e379ef46": {
          "model_module": "@jupyter-widgets/base",
          "model_name": "LayoutModel",
          "model_module_version": "1.2.0",
          "state": {
            "_view_name": "LayoutView",
            "grid_template_rows": null,
            "right": null,
            "justify_content": null,
            "_view_module": "@jupyter-widgets/base",
            "overflow": null,
            "_model_module_version": "1.2.0",
            "_view_count": null,
            "flex_flow": null,
            "width": null,
            "min_width": null,
            "border": null,
            "align_items": null,
            "bottom": null,
            "_model_module": "@jupyter-widgets/base",
            "top": null,
            "grid_column": null,
            "overflow_y": null,
            "overflow_x": null,
            "grid_auto_flow": null,
            "grid_area": null,
            "grid_template_columns": null,
            "flex": null,
            "_model_name": "LayoutModel",
            "justify_items": null,
            "grid_row": null,
            "max_height": null,
            "align_content": null,
            "visibility": null,
            "align_self": null,
            "height": null,
            "min_height": null,
            "padding": null,
            "grid_auto_rows": null,
            "grid_gap": null,
            "max_width": null,
            "order": null,
            "_view_module_version": "1.2.0",
            "grid_template_areas": null,
            "object_position": null,
            "object_fit": null,
            "grid_auto_columns": null,
            "margin": null,
            "display": null,
            "left": null
          }
        },
        "0b8735477c1d44be94e1e75617d5e6ec": {
          "model_module": "@jupyter-widgets/controls",
          "model_name": "ProgressStyleModel",
          "model_module_version": "1.5.0",
          "state": {
            "_view_name": "StyleView",
            "_model_name": "ProgressStyleModel",
            "description_width": "",
            "_view_module": "@jupyter-widgets/base",
            "_model_module_version": "1.5.0",
            "_view_count": null,
            "_view_module_version": "1.2.0",
            "bar_color": null,
            "_model_module": "@jupyter-widgets/controls"
          }
        },
        "46345acb395a4e88ac4bfad280f0b302": {
          "model_module": "@jupyter-widgets/base",
          "model_name": "LayoutModel",
          "model_module_version": "1.2.0",
          "state": {
            "_view_name": "LayoutView",
            "grid_template_rows": null,
            "right": null,
            "justify_content": null,
            "_view_module": "@jupyter-widgets/base",
            "overflow": null,
            "_model_module_version": "1.2.0",
            "_view_count": null,
            "flex_flow": null,
            "width": null,
            "min_width": null,
            "border": null,
            "align_items": null,
            "bottom": null,
            "_model_module": "@jupyter-widgets/base",
            "top": null,
            "grid_column": null,
            "overflow_y": null,
            "overflow_x": null,
            "grid_auto_flow": null,
            "grid_area": null,
            "grid_template_columns": null,
            "flex": null,
            "_model_name": "LayoutModel",
            "justify_items": null,
            "grid_row": null,
            "max_height": null,
            "align_content": null,
            "visibility": null,
            "align_self": null,
            "height": null,
            "min_height": null,
            "padding": null,
            "grid_auto_rows": null,
            "grid_gap": null,
            "max_width": null,
            "order": null,
            "_view_module_version": "1.2.0",
            "grid_template_areas": null,
            "object_position": null,
            "object_fit": null,
            "grid_auto_columns": null,
            "margin": null,
            "display": null,
            "left": null
          }
        },
        "7a3cd3e91c03463d90b31fc1d6852d09": {
          "model_module": "@jupyter-widgets/controls",
          "model_name": "DescriptionStyleModel",
          "model_module_version": "1.5.0",
          "state": {
            "_view_name": "StyleView",
            "_model_name": "DescriptionStyleModel",
            "description_width": "",
            "_view_module": "@jupyter-widgets/base",
            "_model_module_version": "1.5.0",
            "_view_count": null,
            "_view_module_version": "1.2.0",
            "_model_module": "@jupyter-widgets/controls"
          }
        },
        "e0c6c20b182f46bb833a9ffb38905715": {
          "model_module": "@jupyter-widgets/base",
          "model_name": "LayoutModel",
          "model_module_version": "1.2.0",
          "state": {
            "_view_name": "LayoutView",
            "grid_template_rows": null,
            "right": null,
            "justify_content": null,
            "_view_module": "@jupyter-widgets/base",
            "overflow": null,
            "_model_module_version": "1.2.0",
            "_view_count": null,
            "flex_flow": null,
            "width": null,
            "min_width": null,
            "border": null,
            "align_items": null,
            "bottom": null,
            "_model_module": "@jupyter-widgets/base",
            "top": null,
            "grid_column": null,
            "overflow_y": null,
            "overflow_x": null,
            "grid_auto_flow": null,
            "grid_area": null,
            "grid_template_columns": null,
            "flex": null,
            "_model_name": "LayoutModel",
            "justify_items": null,
            "grid_row": null,
            "max_height": null,
            "align_content": null,
            "visibility": null,
            "align_self": null,
            "height": null,
            "min_height": null,
            "padding": null,
            "grid_auto_rows": null,
            "grid_gap": null,
            "max_width": null,
            "order": null,
            "_view_module_version": "1.2.0",
            "grid_template_areas": null,
            "object_position": null,
            "object_fit": null,
            "grid_auto_columns": null,
            "margin": null,
            "display": null,
            "left": null
          }
        },
        "11196866bc294c6486eafcc898a91ea3": {
          "model_module": "@jupyter-widgets/controls",
          "model_name": "HBoxModel",
          "model_module_version": "1.5.0",
          "state": {
            "_view_name": "HBoxView",
            "_dom_classes": [],
            "_model_name": "HBoxModel",
            "_view_module": "@jupyter-widgets/controls",
            "_model_module_version": "1.5.0",
            "_view_count": null,
            "_view_module_version": "1.5.0",
            "box_style": "",
            "layout": "IPY_MODEL_c7ce83cc0b7a4306b232c9e224524a8c",
            "_model_module": "@jupyter-widgets/controls",
            "children": [
              "IPY_MODEL_3168aa5cf8f744e280366ad2b600a80a",
              "IPY_MODEL_3e22515aee15489e96f2b858518a7ba1",
              "IPY_MODEL_e89747f0d43a4b66879e15d50f7a18e4"
            ]
          }
        },
        "c7ce83cc0b7a4306b232c9e224524a8c": {
          "model_module": "@jupyter-widgets/base",
          "model_name": "LayoutModel",
          "model_module_version": "1.2.0",
          "state": {
            "_view_name": "LayoutView",
            "grid_template_rows": null,
            "right": null,
            "justify_content": null,
            "_view_module": "@jupyter-widgets/base",
            "overflow": null,
            "_model_module_version": "1.2.0",
            "_view_count": null,
            "flex_flow": null,
            "width": null,
            "min_width": null,
            "border": null,
            "align_items": null,
            "bottom": null,
            "_model_module": "@jupyter-widgets/base",
            "top": null,
            "grid_column": null,
            "overflow_y": null,
            "overflow_x": null,
            "grid_auto_flow": null,
            "grid_area": null,
            "grid_template_columns": null,
            "flex": null,
            "_model_name": "LayoutModel",
            "justify_items": null,
            "grid_row": null,
            "max_height": null,
            "align_content": null,
            "visibility": null,
            "align_self": null,
            "height": null,
            "min_height": null,
            "padding": null,
            "grid_auto_rows": null,
            "grid_gap": null,
            "max_width": null,
            "order": null,
            "_view_module_version": "1.2.0",
            "grid_template_areas": null,
            "object_position": null,
            "object_fit": null,
            "grid_auto_columns": null,
            "margin": null,
            "display": null,
            "left": null
          }
        },
        "3168aa5cf8f744e280366ad2b600a80a": {
          "model_module": "@jupyter-widgets/controls",
          "model_name": "HTMLModel",
          "model_module_version": "1.5.0",
          "state": {
            "_view_name": "HTMLView",
            "style": "IPY_MODEL_85751e03d729440994f681e28eccb350",
            "_dom_classes": [],
            "description": "",
            "_model_name": "HTMLModel",
            "placeholder": "​",
            "_view_module": "@jupyter-widgets/controls",
            "_model_module_version": "1.5.0",
            "value": "Downloading: 100%",
            "_view_count": null,
            "_view_module_version": "1.5.0",
            "description_tooltip": null,
            "_model_module": "@jupyter-widgets/controls",
            "layout": "IPY_MODEL_21afccf5a4a24eec854db74ab4a7371f"
          }
        },
        "3e22515aee15489e96f2b858518a7ba1": {
          "model_module": "@jupyter-widgets/controls",
          "model_name": "FloatProgressModel",
          "model_module_version": "1.5.0",
          "state": {
            "_view_name": "ProgressView",
            "style": "IPY_MODEL_cb39a2e9cc344faca026ae79a479b022",
            "_dom_classes": [],
            "description": "",
            "_model_name": "FloatProgressModel",
            "bar_style": "success",
            "max": 53,
            "_view_module": "@jupyter-widgets/controls",
            "_model_module_version": "1.5.0",
            "value": 53,
            "_view_count": null,
            "_view_module_version": "1.5.0",
            "orientation": "horizontal",
            "min": 0,
            "description_tooltip": null,
            "_model_module": "@jupyter-widgets/controls",
            "layout": "IPY_MODEL_7ff2a9c71c8142c7b0ab509b4d859fb9"
          }
        },
        "e89747f0d43a4b66879e15d50f7a18e4": {
          "model_module": "@jupyter-widgets/controls",
          "model_name": "HTMLModel",
          "model_module_version": "1.5.0",
          "state": {
            "_view_name": "HTMLView",
            "style": "IPY_MODEL_656c8905f0fc490d81ab40e4d2f5b75b",
            "_dom_classes": [],
            "description": "",
            "_model_name": "HTMLModel",
            "placeholder": "​",
            "_view_module": "@jupyter-widgets/controls",
            "_model_module_version": "1.5.0",
            "value": " 53.0/53.0 [00:00&lt;00:00, 1.05kB/s]",
            "_view_count": null,
            "_view_module_version": "1.5.0",
            "description_tooltip": null,
            "_model_module": "@jupyter-widgets/controls",
            "layout": "IPY_MODEL_a5d43ad2b67b421cb9cc249f0f9e4c14"
          }
        },
        "85751e03d729440994f681e28eccb350": {
          "model_module": "@jupyter-widgets/controls",
          "model_name": "DescriptionStyleModel",
          "model_module_version": "1.5.0",
          "state": {
            "_view_name": "StyleView",
            "_model_name": "DescriptionStyleModel",
            "description_width": "",
            "_view_module": "@jupyter-widgets/base",
            "_model_module_version": "1.5.0",
            "_view_count": null,
            "_view_module_version": "1.2.0",
            "_model_module": "@jupyter-widgets/controls"
          }
        },
        "21afccf5a4a24eec854db74ab4a7371f": {
          "model_module": "@jupyter-widgets/base",
          "model_name": "LayoutModel",
          "model_module_version": "1.2.0",
          "state": {
            "_view_name": "LayoutView",
            "grid_template_rows": null,
            "right": null,
            "justify_content": null,
            "_view_module": "@jupyter-widgets/base",
            "overflow": null,
            "_model_module_version": "1.2.0",
            "_view_count": null,
            "flex_flow": null,
            "width": null,
            "min_width": null,
            "border": null,
            "align_items": null,
            "bottom": null,
            "_model_module": "@jupyter-widgets/base",
            "top": null,
            "grid_column": null,
            "overflow_y": null,
            "overflow_x": null,
            "grid_auto_flow": null,
            "grid_area": null,
            "grid_template_columns": null,
            "flex": null,
            "_model_name": "LayoutModel",
            "justify_items": null,
            "grid_row": null,
            "max_height": null,
            "align_content": null,
            "visibility": null,
            "align_self": null,
            "height": null,
            "min_height": null,
            "padding": null,
            "grid_auto_rows": null,
            "grid_gap": null,
            "max_width": null,
            "order": null,
            "_view_module_version": "1.2.0",
            "grid_template_areas": null,
            "object_position": null,
            "object_fit": null,
            "grid_auto_columns": null,
            "margin": null,
            "display": null,
            "left": null
          }
        },
        "cb39a2e9cc344faca026ae79a479b022": {
          "model_module": "@jupyter-widgets/controls",
          "model_name": "ProgressStyleModel",
          "model_module_version": "1.5.0",
          "state": {
            "_view_name": "StyleView",
            "_model_name": "ProgressStyleModel",
            "description_width": "",
            "_view_module": "@jupyter-widgets/base",
            "_model_module_version": "1.5.0",
            "_view_count": null,
            "_view_module_version": "1.2.0",
            "bar_color": null,
            "_model_module": "@jupyter-widgets/controls"
          }
        },
        "7ff2a9c71c8142c7b0ab509b4d859fb9": {
          "model_module": "@jupyter-widgets/base",
          "model_name": "LayoutModel",
          "model_module_version": "1.2.0",
          "state": {
            "_view_name": "LayoutView",
            "grid_template_rows": null,
            "right": null,
            "justify_content": null,
            "_view_module": "@jupyter-widgets/base",
            "overflow": null,
            "_model_module_version": "1.2.0",
            "_view_count": null,
            "flex_flow": null,
            "width": null,
            "min_width": null,
            "border": null,
            "align_items": null,
            "bottom": null,
            "_model_module": "@jupyter-widgets/base",
            "top": null,
            "grid_column": null,
            "overflow_y": null,
            "overflow_x": null,
            "grid_auto_flow": null,
            "grid_area": null,
            "grid_template_columns": null,
            "flex": null,
            "_model_name": "LayoutModel",
            "justify_items": null,
            "grid_row": null,
            "max_height": null,
            "align_content": null,
            "visibility": null,
            "align_self": null,
            "height": null,
            "min_height": null,
            "padding": null,
            "grid_auto_rows": null,
            "grid_gap": null,
            "max_width": null,
            "order": null,
            "_view_module_version": "1.2.0",
            "grid_template_areas": null,
            "object_position": null,
            "object_fit": null,
            "grid_auto_columns": null,
            "margin": null,
            "display": null,
            "left": null
          }
        },
        "656c8905f0fc490d81ab40e4d2f5b75b": {
          "model_module": "@jupyter-widgets/controls",
          "model_name": "DescriptionStyleModel",
          "model_module_version": "1.5.0",
          "state": {
            "_view_name": "StyleView",
            "_model_name": "DescriptionStyleModel",
            "description_width": "",
            "_view_module": "@jupyter-widgets/base",
            "_model_module_version": "1.5.0",
            "_view_count": null,
            "_view_module_version": "1.2.0",
            "_model_module": "@jupyter-widgets/controls"
          }
        },
        "a5d43ad2b67b421cb9cc249f0f9e4c14": {
          "model_module": "@jupyter-widgets/base",
          "model_name": "LayoutModel",
          "model_module_version": "1.2.0",
          "state": {
            "_view_name": "LayoutView",
            "grid_template_rows": null,
            "right": null,
            "justify_content": null,
            "_view_module": "@jupyter-widgets/base",
            "overflow": null,
            "_model_module_version": "1.2.0",
            "_view_count": null,
            "flex_flow": null,
            "width": null,
            "min_width": null,
            "border": null,
            "align_items": null,
            "bottom": null,
            "_model_module": "@jupyter-widgets/base",
            "top": null,
            "grid_column": null,
            "overflow_y": null,
            "overflow_x": null,
            "grid_auto_flow": null,
            "grid_area": null,
            "grid_template_columns": null,
            "flex": null,
            "_model_name": "LayoutModel",
            "justify_items": null,
            "grid_row": null,
            "max_height": null,
            "align_content": null,
            "visibility": null,
            "align_self": null,
            "height": null,
            "min_height": null,
            "padding": null,
            "grid_auto_rows": null,
            "grid_gap": null,
            "max_width": null,
            "order": null,
            "_view_module_version": "1.2.0",
            "grid_template_areas": null,
            "object_position": null,
            "object_fit": null,
            "grid_auto_columns": null,
            "margin": null,
            "display": null,
            "left": null
          }
        },
        "8d8ef4d78f314c169aad744ab442ca95": {
          "model_module": "@jupyter-widgets/controls",
          "model_name": "HBoxModel",
          "model_module_version": "1.5.0",
          "state": {
            "_view_name": "HBoxView",
            "_dom_classes": [],
            "_model_name": "HBoxModel",
            "_view_module": "@jupyter-widgets/controls",
            "_model_module_version": "1.5.0",
            "_view_count": null,
            "_view_module_version": "1.5.0",
            "box_style": "",
            "layout": "IPY_MODEL_3d0a695f5be64e7fa2ff178d8b126c33",
            "_model_module": "@jupyter-widgets/controls",
            "children": [
              "IPY_MODEL_31220c97ddc343c393c952d85eb48378",
              "IPY_MODEL_c128b82cbd1c4fe998175c75fc59ebf6",
              "IPY_MODEL_ba0c7134bad64c84a103e19ba7b16bc0"
            ]
          }
        },
        "3d0a695f5be64e7fa2ff178d8b126c33": {
          "model_module": "@jupyter-widgets/base",
          "model_name": "LayoutModel",
          "model_module_version": "1.2.0",
          "state": {
            "_view_name": "LayoutView",
            "grid_template_rows": null,
            "right": null,
            "justify_content": null,
            "_view_module": "@jupyter-widgets/base",
            "overflow": null,
            "_model_module_version": "1.2.0",
            "_view_count": null,
            "flex_flow": null,
            "width": null,
            "min_width": null,
            "border": null,
            "align_items": null,
            "bottom": null,
            "_model_module": "@jupyter-widgets/base",
            "top": null,
            "grid_column": null,
            "overflow_y": null,
            "overflow_x": null,
            "grid_auto_flow": null,
            "grid_area": null,
            "grid_template_columns": null,
            "flex": null,
            "_model_name": "LayoutModel",
            "justify_items": null,
            "grid_row": null,
            "max_height": null,
            "align_content": null,
            "visibility": null,
            "align_self": null,
            "height": null,
            "min_height": null,
            "padding": null,
            "grid_auto_rows": null,
            "grid_gap": null,
            "max_width": null,
            "order": null,
            "_view_module_version": "1.2.0",
            "grid_template_areas": null,
            "object_position": null,
            "object_fit": null,
            "grid_auto_columns": null,
            "margin": null,
            "display": null,
            "left": null
          }
        },
        "31220c97ddc343c393c952d85eb48378": {
          "model_module": "@jupyter-widgets/controls",
          "model_name": "HTMLModel",
          "model_module_version": "1.5.0",
          "state": {
            "_view_name": "HTMLView",
            "style": "IPY_MODEL_2edbd36d14024956902b841083c2398b",
            "_dom_classes": [],
            "description": "",
            "_model_name": "HTMLModel",
            "placeholder": "​",
            "_view_module": "@jupyter-widgets/controls",
            "_model_module_version": "1.5.0",
            "value": "Downloading: 100%",
            "_view_count": null,
            "_view_module_version": "1.5.0",
            "description_tooltip": null,
            "_model_module": "@jupyter-widgets/controls",
            "layout": "IPY_MODEL_d4e8d442472c4f0c9d4495172f01b9ed"
          }
        },
        "c128b82cbd1c4fe998175c75fc59ebf6": {
          "model_module": "@jupyter-widgets/controls",
          "model_name": "FloatProgressModel",
          "model_module_version": "1.5.0",
          "state": {
            "_view_name": "ProgressView",
            "style": "IPY_MODEL_f20755adae254028a7056dd2725217a6",
            "_dom_classes": [],
            "description": "",
            "_model_name": "FloatProgressModel",
            "bar_style": "success",
            "max": 112,
            "_view_module": "@jupyter-widgets/controls",
            "_model_module_version": "1.5.0",
            "value": 112,
            "_view_count": null,
            "_view_module_version": "1.5.0",
            "orientation": "horizontal",
            "min": 0,
            "description_tooltip": null,
            "_model_module": "@jupyter-widgets/controls",
            "layout": "IPY_MODEL_3b1d688508e54ae0af940c2550c41b16"
          }
        },
        "ba0c7134bad64c84a103e19ba7b16bc0": {
          "model_module": "@jupyter-widgets/controls",
          "model_name": "HTMLModel",
          "model_module_version": "1.5.0",
          "state": {
            "_view_name": "HTMLView",
            "style": "IPY_MODEL_e5e3587778e741bd8aa4d388e3fd7fb1",
            "_dom_classes": [],
            "description": "",
            "_model_name": "HTMLModel",
            "placeholder": "​",
            "_view_module": "@jupyter-widgets/controls",
            "_model_module_version": "1.5.0",
            "value": " 112/112 [00:00&lt;00:00, 2.99kB/s]",
            "_view_count": null,
            "_view_module_version": "1.5.0",
            "description_tooltip": null,
            "_model_module": "@jupyter-widgets/controls",
            "layout": "IPY_MODEL_486cc6c7831d4e578e7d9ac93b988ffc"
          }
        },
        "2edbd36d14024956902b841083c2398b": {
          "model_module": "@jupyter-widgets/controls",
          "model_name": "DescriptionStyleModel",
          "model_module_version": "1.5.0",
          "state": {
            "_view_name": "StyleView",
            "_model_name": "DescriptionStyleModel",
            "description_width": "",
            "_view_module": "@jupyter-widgets/base",
            "_model_module_version": "1.5.0",
            "_view_count": null,
            "_view_module_version": "1.2.0",
            "_model_module": "@jupyter-widgets/controls"
          }
        },
        "d4e8d442472c4f0c9d4495172f01b9ed": {
          "model_module": "@jupyter-widgets/base",
          "model_name": "LayoutModel",
          "model_module_version": "1.2.0",
          "state": {
            "_view_name": "LayoutView",
            "grid_template_rows": null,
            "right": null,
            "justify_content": null,
            "_view_module": "@jupyter-widgets/base",
            "overflow": null,
            "_model_module_version": "1.2.0",
            "_view_count": null,
            "flex_flow": null,
            "width": null,
            "min_width": null,
            "border": null,
            "align_items": null,
            "bottom": null,
            "_model_module": "@jupyter-widgets/base",
            "top": null,
            "grid_column": null,
            "overflow_y": null,
            "overflow_x": null,
            "grid_auto_flow": null,
            "grid_area": null,
            "grid_template_columns": null,
            "flex": null,
            "_model_name": "LayoutModel",
            "justify_items": null,
            "grid_row": null,
            "max_height": null,
            "align_content": null,
            "visibility": null,
            "align_self": null,
            "height": null,
            "min_height": null,
            "padding": null,
            "grid_auto_rows": null,
            "grid_gap": null,
            "max_width": null,
            "order": null,
            "_view_module_version": "1.2.0",
            "grid_template_areas": null,
            "object_position": null,
            "object_fit": null,
            "grid_auto_columns": null,
            "margin": null,
            "display": null,
            "left": null
          }
        },
        "f20755adae254028a7056dd2725217a6": {
          "model_module": "@jupyter-widgets/controls",
          "model_name": "ProgressStyleModel",
          "model_module_version": "1.5.0",
          "state": {
            "_view_name": "StyleView",
            "_model_name": "ProgressStyleModel",
            "description_width": "",
            "_view_module": "@jupyter-widgets/base",
            "_model_module_version": "1.5.0",
            "_view_count": null,
            "_view_module_version": "1.2.0",
            "bar_color": null,
            "_model_module": "@jupyter-widgets/controls"
          }
        },
        "3b1d688508e54ae0af940c2550c41b16": {
          "model_module": "@jupyter-widgets/base",
          "model_name": "LayoutModel",
          "model_module_version": "1.2.0",
          "state": {
            "_view_name": "LayoutView",
            "grid_template_rows": null,
            "right": null,
            "justify_content": null,
            "_view_module": "@jupyter-widgets/base",
            "overflow": null,
            "_model_module_version": "1.2.0",
            "_view_count": null,
            "flex_flow": null,
            "width": null,
            "min_width": null,
            "border": null,
            "align_items": null,
            "bottom": null,
            "_model_module": "@jupyter-widgets/base",
            "top": null,
            "grid_column": null,
            "overflow_y": null,
            "overflow_x": null,
            "grid_auto_flow": null,
            "grid_area": null,
            "grid_template_columns": null,
            "flex": null,
            "_model_name": "LayoutModel",
            "justify_items": null,
            "grid_row": null,
            "max_height": null,
            "align_content": null,
            "visibility": null,
            "align_self": null,
            "height": null,
            "min_height": null,
            "padding": null,
            "grid_auto_rows": null,
            "grid_gap": null,
            "max_width": null,
            "order": null,
            "_view_module_version": "1.2.0",
            "grid_template_areas": null,
            "object_position": null,
            "object_fit": null,
            "grid_auto_columns": null,
            "margin": null,
            "display": null,
            "left": null
          }
        },
        "e5e3587778e741bd8aa4d388e3fd7fb1": {
          "model_module": "@jupyter-widgets/controls",
          "model_name": "DescriptionStyleModel",
          "model_module_version": "1.5.0",
          "state": {
            "_view_name": "StyleView",
            "_model_name": "DescriptionStyleModel",
            "description_width": "",
            "_view_module": "@jupyter-widgets/base",
            "_model_module_version": "1.5.0",
            "_view_count": null,
            "_view_module_version": "1.2.0",
            "_model_module": "@jupyter-widgets/controls"
          }
        },
        "486cc6c7831d4e578e7d9ac93b988ffc": {
          "model_module": "@jupyter-widgets/base",
          "model_name": "LayoutModel",
          "model_module_version": "1.2.0",
          "state": {
            "_view_name": "LayoutView",
            "grid_template_rows": null,
            "right": null,
            "justify_content": null,
            "_view_module": "@jupyter-widgets/base",
            "overflow": null,
            "_model_module_version": "1.2.0",
            "_view_count": null,
            "flex_flow": null,
            "width": null,
            "min_width": null,
            "border": null,
            "align_items": null,
            "bottom": null,
            "_model_module": "@jupyter-widgets/base",
            "top": null,
            "grid_column": null,
            "overflow_y": null,
            "overflow_x": null,
            "grid_auto_flow": null,
            "grid_area": null,
            "grid_template_columns": null,
            "flex": null,
            "_model_name": "LayoutModel",
            "justify_items": null,
            "grid_row": null,
            "max_height": null,
            "align_content": null,
            "visibility": null,
            "align_self": null,
            "height": null,
            "min_height": null,
            "padding": null,
            "grid_auto_rows": null,
            "grid_gap": null,
            "max_width": null,
            "order": null,
            "_view_module_version": "1.2.0",
            "grid_template_areas": null,
            "object_position": null,
            "object_fit": null,
            "grid_auto_columns": null,
            "margin": null,
            "display": null,
            "left": null
          }
        },
        "c45223f7eaf34dc3ac524f7331c3bfc2": {
          "model_module": "@jupyter-widgets/controls",
          "model_name": "HBoxModel",
          "model_module_version": "1.5.0",
          "state": {
            "_view_name": "HBoxView",
            "_dom_classes": [],
            "_model_name": "HBoxModel",
            "_view_module": "@jupyter-widgets/controls",
            "_model_module_version": "1.5.0",
            "_view_count": null,
            "_view_module_version": "1.5.0",
            "box_style": "",
            "layout": "IPY_MODEL_739c29a286cb488b9b0edc3d6c28c682",
            "_model_module": "@jupyter-widgets/controls",
            "children": [
              "IPY_MODEL_64e2b086ca0d49608f714355d80599e6",
              "IPY_MODEL_a1eb0e43311f49bb9a905c0023839823",
              "IPY_MODEL_5e08364e2fb647489838b4a865a5272c"
            ]
          }
        },
        "739c29a286cb488b9b0edc3d6c28c682": {
          "model_module": "@jupyter-widgets/base",
          "model_name": "LayoutModel",
          "model_module_version": "1.2.0",
          "state": {
            "_view_name": "LayoutView",
            "grid_template_rows": null,
            "right": null,
            "justify_content": null,
            "_view_module": "@jupyter-widgets/base",
            "overflow": null,
            "_model_module_version": "1.2.0",
            "_view_count": null,
            "flex_flow": null,
            "width": null,
            "min_width": null,
            "border": null,
            "align_items": null,
            "bottom": null,
            "_model_module": "@jupyter-widgets/base",
            "top": null,
            "grid_column": null,
            "overflow_y": null,
            "overflow_x": null,
            "grid_auto_flow": null,
            "grid_area": null,
            "grid_template_columns": null,
            "flex": null,
            "_model_name": "LayoutModel",
            "justify_items": null,
            "grid_row": null,
            "max_height": null,
            "align_content": null,
            "visibility": null,
            "align_self": null,
            "height": null,
            "min_height": null,
            "padding": null,
            "grid_auto_rows": null,
            "grid_gap": null,
            "max_width": null,
            "order": null,
            "_view_module_version": "1.2.0",
            "grid_template_areas": null,
            "object_position": null,
            "object_fit": null,
            "grid_auto_columns": null,
            "margin": null,
            "display": null,
            "left": null
          }
        },
        "64e2b086ca0d49608f714355d80599e6": {
          "model_module": "@jupyter-widgets/controls",
          "model_name": "HTMLModel",
          "model_module_version": "1.5.0",
          "state": {
            "_view_name": "HTMLView",
            "style": "IPY_MODEL_6afc7d8a67394796adb6abe69c56a851",
            "_dom_classes": [],
            "description": "",
            "_model_name": "HTMLModel",
            "placeholder": "​",
            "_view_module": "@jupyter-widgets/controls",
            "_model_module_version": "1.5.0",
            "value": "Downloading: 100%",
            "_view_count": null,
            "_view_module_version": "1.5.0",
            "description_tooltip": null,
            "_model_module": "@jupyter-widgets/controls",
            "layout": "IPY_MODEL_e49da8cc085c40c194149d42dc63449b"
          }
        },
        "a1eb0e43311f49bb9a905c0023839823": {
          "model_module": "@jupyter-widgets/controls",
          "model_name": "FloatProgressModel",
          "model_module_version": "1.5.0",
          "state": {
            "_view_name": "ProgressView",
            "style": "IPY_MODEL_896bbf70e6634761a4f45296b87f3d1e",
            "_dom_classes": [],
            "description": "",
            "_model_name": "FloatProgressModel",
            "bar_style": "success",
            "max": 466081,
            "_view_module": "@jupyter-widgets/controls",
            "_model_module_version": "1.5.0",
            "value": 466081,
            "_view_count": null,
            "_view_module_version": "1.5.0",
            "orientation": "horizontal",
            "min": 0,
            "description_tooltip": null,
            "_model_module": "@jupyter-widgets/controls",
            "layout": "IPY_MODEL_a4412d994e6e4572b15957f8633b8206"
          }
        },
        "5e08364e2fb647489838b4a865a5272c": {
          "model_module": "@jupyter-widgets/controls",
          "model_name": "HTMLModel",
          "model_module_version": "1.5.0",
          "state": {
            "_view_name": "HTMLView",
            "style": "IPY_MODEL_9e9b77b3f7ce4dda9bf233d4796ddeb9",
            "_dom_classes": [],
            "description": "",
            "_model_name": "HTMLModel",
            "placeholder": "​",
            "_view_module": "@jupyter-widgets/controls",
            "_model_module_version": "1.5.0",
            "value": " 466k/466k [00:00&lt;00:00, 1.03MB/s]",
            "_view_count": null,
            "_view_module_version": "1.5.0",
            "description_tooltip": null,
            "_model_module": "@jupyter-widgets/controls",
            "layout": "IPY_MODEL_92aaa09cdc1a4799b4db2ce652ed313c"
          }
        },
        "6afc7d8a67394796adb6abe69c56a851": {
          "model_module": "@jupyter-widgets/controls",
          "model_name": "DescriptionStyleModel",
          "model_module_version": "1.5.0",
          "state": {
            "_view_name": "StyleView",
            "_model_name": "DescriptionStyleModel",
            "description_width": "",
            "_view_module": "@jupyter-widgets/base",
            "_model_module_version": "1.5.0",
            "_view_count": null,
            "_view_module_version": "1.2.0",
            "_model_module": "@jupyter-widgets/controls"
          }
        },
        "e49da8cc085c40c194149d42dc63449b": {
          "model_module": "@jupyter-widgets/base",
          "model_name": "LayoutModel",
          "model_module_version": "1.2.0",
          "state": {
            "_view_name": "LayoutView",
            "grid_template_rows": null,
            "right": null,
            "justify_content": null,
            "_view_module": "@jupyter-widgets/base",
            "overflow": null,
            "_model_module_version": "1.2.0",
            "_view_count": null,
            "flex_flow": null,
            "width": null,
            "min_width": null,
            "border": null,
            "align_items": null,
            "bottom": null,
            "_model_module": "@jupyter-widgets/base",
            "top": null,
            "grid_column": null,
            "overflow_y": null,
            "overflow_x": null,
            "grid_auto_flow": null,
            "grid_area": null,
            "grid_template_columns": null,
            "flex": null,
            "_model_name": "LayoutModel",
            "justify_items": null,
            "grid_row": null,
            "max_height": null,
            "align_content": null,
            "visibility": null,
            "align_self": null,
            "height": null,
            "min_height": null,
            "padding": null,
            "grid_auto_rows": null,
            "grid_gap": null,
            "max_width": null,
            "order": null,
            "_view_module_version": "1.2.0",
            "grid_template_areas": null,
            "object_position": null,
            "object_fit": null,
            "grid_auto_columns": null,
            "margin": null,
            "display": null,
            "left": null
          }
        },
        "896bbf70e6634761a4f45296b87f3d1e": {
          "model_module": "@jupyter-widgets/controls",
          "model_name": "ProgressStyleModel",
          "model_module_version": "1.5.0",
          "state": {
            "_view_name": "StyleView",
            "_model_name": "ProgressStyleModel",
            "description_width": "",
            "_view_module": "@jupyter-widgets/base",
            "_model_module_version": "1.5.0",
            "_view_count": null,
            "_view_module_version": "1.2.0",
            "bar_color": null,
            "_model_module": "@jupyter-widgets/controls"
          }
        },
        "a4412d994e6e4572b15957f8633b8206": {
          "model_module": "@jupyter-widgets/base",
          "model_name": "LayoutModel",
          "model_module_version": "1.2.0",
          "state": {
            "_view_name": "LayoutView",
            "grid_template_rows": null,
            "right": null,
            "justify_content": null,
            "_view_module": "@jupyter-widgets/base",
            "overflow": null,
            "_model_module_version": "1.2.0",
            "_view_count": null,
            "flex_flow": null,
            "width": null,
            "min_width": null,
            "border": null,
            "align_items": null,
            "bottom": null,
            "_model_module": "@jupyter-widgets/base",
            "top": null,
            "grid_column": null,
            "overflow_y": null,
            "overflow_x": null,
            "grid_auto_flow": null,
            "grid_area": null,
            "grid_template_columns": null,
            "flex": null,
            "_model_name": "LayoutModel",
            "justify_items": null,
            "grid_row": null,
            "max_height": null,
            "align_content": null,
            "visibility": null,
            "align_self": null,
            "height": null,
            "min_height": null,
            "padding": null,
            "grid_auto_rows": null,
            "grid_gap": null,
            "max_width": null,
            "order": null,
            "_view_module_version": "1.2.0",
            "grid_template_areas": null,
            "object_position": null,
            "object_fit": null,
            "grid_auto_columns": null,
            "margin": null,
            "display": null,
            "left": null
          }
        },
        "9e9b77b3f7ce4dda9bf233d4796ddeb9": {
          "model_module": "@jupyter-widgets/controls",
          "model_name": "DescriptionStyleModel",
          "model_module_version": "1.5.0",
          "state": {
            "_view_name": "StyleView",
            "_model_name": "DescriptionStyleModel",
            "description_width": "",
            "_view_module": "@jupyter-widgets/base",
            "_model_module_version": "1.5.0",
            "_view_count": null,
            "_view_module_version": "1.2.0",
            "_model_module": "@jupyter-widgets/controls"
          }
        },
        "92aaa09cdc1a4799b4db2ce652ed313c": {
          "model_module": "@jupyter-widgets/base",
          "model_name": "LayoutModel",
          "model_module_version": "1.2.0",
          "state": {
            "_view_name": "LayoutView",
            "grid_template_rows": null,
            "right": null,
            "justify_content": null,
            "_view_module": "@jupyter-widgets/base",
            "overflow": null,
            "_model_module_version": "1.2.0",
            "_view_count": null,
            "flex_flow": null,
            "width": null,
            "min_width": null,
            "border": null,
            "align_items": null,
            "bottom": null,
            "_model_module": "@jupyter-widgets/base",
            "top": null,
            "grid_column": null,
            "overflow_y": null,
            "overflow_x": null,
            "grid_auto_flow": null,
            "grid_area": null,
            "grid_template_columns": null,
            "flex": null,
            "_model_name": "LayoutModel",
            "justify_items": null,
            "grid_row": null,
            "max_height": null,
            "align_content": null,
            "visibility": null,
            "align_self": null,
            "height": null,
            "min_height": null,
            "padding": null,
            "grid_auto_rows": null,
            "grid_gap": null,
            "max_width": null,
            "order": null,
            "_view_module_version": "1.2.0",
            "grid_template_areas": null,
            "object_position": null,
            "object_fit": null,
            "grid_auto_columns": null,
            "margin": null,
            "display": null,
            "left": null
          }
        },
        "d588174883174aed9fd81df0830c4be0": {
          "model_module": "@jupyter-widgets/controls",
          "model_name": "HBoxModel",
          "model_module_version": "1.5.0",
          "state": {
            "_view_name": "HBoxView",
            "_dom_classes": [],
            "_model_name": "HBoxModel",
            "_view_module": "@jupyter-widgets/controls",
            "_model_module_version": "1.5.0",
            "_view_count": null,
            "_view_module_version": "1.5.0",
            "box_style": "",
            "layout": "IPY_MODEL_34deab9e7c1948a7bdc4b42efd1af5e1",
            "_model_module": "@jupyter-widgets/controls",
            "children": [
              "IPY_MODEL_df9a0785fe9744a996782b3d99339ca6",
              "IPY_MODEL_22c243153dd44e97a153f8ebdce7149a",
              "IPY_MODEL_c3d4201414314ed3853365bc1506aeb9"
            ]
          }
        },
        "34deab9e7c1948a7bdc4b42efd1af5e1": {
          "model_module": "@jupyter-widgets/base",
          "model_name": "LayoutModel",
          "model_module_version": "1.2.0",
          "state": {
            "_view_name": "LayoutView",
            "grid_template_rows": null,
            "right": null,
            "justify_content": null,
            "_view_module": "@jupyter-widgets/base",
            "overflow": null,
            "_model_module_version": "1.2.0",
            "_view_count": null,
            "flex_flow": null,
            "width": null,
            "min_width": null,
            "border": null,
            "align_items": null,
            "bottom": null,
            "_model_module": "@jupyter-widgets/base",
            "top": null,
            "grid_column": null,
            "overflow_y": null,
            "overflow_x": null,
            "grid_auto_flow": null,
            "grid_area": null,
            "grid_template_columns": null,
            "flex": null,
            "_model_name": "LayoutModel",
            "justify_items": null,
            "grid_row": null,
            "max_height": null,
            "align_content": null,
            "visibility": null,
            "align_self": null,
            "height": null,
            "min_height": null,
            "padding": null,
            "grid_auto_rows": null,
            "grid_gap": null,
            "max_width": null,
            "order": null,
            "_view_module_version": "1.2.0",
            "grid_template_areas": null,
            "object_position": null,
            "object_fit": null,
            "grid_auto_columns": null,
            "margin": null,
            "display": null,
            "left": null
          }
        },
        "df9a0785fe9744a996782b3d99339ca6": {
          "model_module": "@jupyter-widgets/controls",
          "model_name": "HTMLModel",
          "model_module_version": "1.5.0",
          "state": {
            "_view_name": "HTMLView",
            "style": "IPY_MODEL_a054b43e3bca434794186cbc8d9e578c",
            "_dom_classes": [],
            "description": "",
            "_model_name": "HTMLModel",
            "placeholder": "​",
            "_view_module": "@jupyter-widgets/controls",
            "_model_module_version": "1.5.0",
            "value": "Downloading: 100%",
            "_view_count": null,
            "_view_module_version": "1.5.0",
            "description_tooltip": null,
            "_model_module": "@jupyter-widgets/controls",
            "layout": "IPY_MODEL_926d029fd78a4c52b46612d00160cd4b"
          }
        },
        "22c243153dd44e97a153f8ebdce7149a": {
          "model_module": "@jupyter-widgets/controls",
          "model_name": "FloatProgressModel",
          "model_module_version": "1.5.0",
          "state": {
            "_view_name": "ProgressView",
            "style": "IPY_MODEL_785c80827a6f4a7ab1a9e7a9464a815f",
            "_dom_classes": [],
            "description": "",
            "_model_name": "FloatProgressModel",
            "bar_style": "success",
            "max": 399,
            "_view_module": "@jupyter-widgets/controls",
            "_model_module_version": "1.5.0",
            "value": 399,
            "_view_count": null,
            "_view_module_version": "1.5.0",
            "orientation": "horizontal",
            "min": 0,
            "description_tooltip": null,
            "_model_module": "@jupyter-widgets/controls",
            "layout": "IPY_MODEL_a27dd98a1c79451b88d245019babb3fc"
          }
        },
        "c3d4201414314ed3853365bc1506aeb9": {
          "model_module": "@jupyter-widgets/controls",
          "model_name": "HTMLModel",
          "model_module_version": "1.5.0",
          "state": {
            "_view_name": "HTMLView",
            "style": "IPY_MODEL_f6cb0c362ce54b52a66661dec1fd1ecc",
            "_dom_classes": [],
            "description": "",
            "_model_name": "HTMLModel",
            "placeholder": "​",
            "_view_module": "@jupyter-widgets/controls",
            "_model_module_version": "1.5.0",
            "value": " 399/399 [00:00&lt;00:00, 8.59kB/s]",
            "_view_count": null,
            "_view_module_version": "1.5.0",
            "description_tooltip": null,
            "_model_module": "@jupyter-widgets/controls",
            "layout": "IPY_MODEL_42511fcf1f0c4b858fd839d4725f1764"
          }
        },
        "a054b43e3bca434794186cbc8d9e578c": {
          "model_module": "@jupyter-widgets/controls",
          "model_name": "DescriptionStyleModel",
          "model_module_version": "1.5.0",
          "state": {
            "_view_name": "StyleView",
            "_model_name": "DescriptionStyleModel",
            "description_width": "",
            "_view_module": "@jupyter-widgets/base",
            "_model_module_version": "1.5.0",
            "_view_count": null,
            "_view_module_version": "1.2.0",
            "_model_module": "@jupyter-widgets/controls"
          }
        },
        "926d029fd78a4c52b46612d00160cd4b": {
          "model_module": "@jupyter-widgets/base",
          "model_name": "LayoutModel",
          "model_module_version": "1.2.0",
          "state": {
            "_view_name": "LayoutView",
            "grid_template_rows": null,
            "right": null,
            "justify_content": null,
            "_view_module": "@jupyter-widgets/base",
            "overflow": null,
            "_model_module_version": "1.2.0",
            "_view_count": null,
            "flex_flow": null,
            "width": null,
            "min_width": null,
            "border": null,
            "align_items": null,
            "bottom": null,
            "_model_module": "@jupyter-widgets/base",
            "top": null,
            "grid_column": null,
            "overflow_y": null,
            "overflow_x": null,
            "grid_auto_flow": null,
            "grid_area": null,
            "grid_template_columns": null,
            "flex": null,
            "_model_name": "LayoutModel",
            "justify_items": null,
            "grid_row": null,
            "max_height": null,
            "align_content": null,
            "visibility": null,
            "align_self": null,
            "height": null,
            "min_height": null,
            "padding": null,
            "grid_auto_rows": null,
            "grid_gap": null,
            "max_width": null,
            "order": null,
            "_view_module_version": "1.2.0",
            "grid_template_areas": null,
            "object_position": null,
            "object_fit": null,
            "grid_auto_columns": null,
            "margin": null,
            "display": null,
            "left": null
          }
        },
        "785c80827a6f4a7ab1a9e7a9464a815f": {
          "model_module": "@jupyter-widgets/controls",
          "model_name": "ProgressStyleModel",
          "model_module_version": "1.5.0",
          "state": {
            "_view_name": "StyleView",
            "_model_name": "ProgressStyleModel",
            "description_width": "",
            "_view_module": "@jupyter-widgets/base",
            "_model_module_version": "1.5.0",
            "_view_count": null,
            "_view_module_version": "1.2.0",
            "bar_color": null,
            "_model_module": "@jupyter-widgets/controls"
          }
        },
        "a27dd98a1c79451b88d245019babb3fc": {
          "model_module": "@jupyter-widgets/base",
          "model_name": "LayoutModel",
          "model_module_version": "1.2.0",
          "state": {
            "_view_name": "LayoutView",
            "grid_template_rows": null,
            "right": null,
            "justify_content": null,
            "_view_module": "@jupyter-widgets/base",
            "overflow": null,
            "_model_module_version": "1.2.0",
            "_view_count": null,
            "flex_flow": null,
            "width": null,
            "min_width": null,
            "border": null,
            "align_items": null,
            "bottom": null,
            "_model_module": "@jupyter-widgets/base",
            "top": null,
            "grid_column": null,
            "overflow_y": null,
            "overflow_x": null,
            "grid_auto_flow": null,
            "grid_area": null,
            "grid_template_columns": null,
            "flex": null,
            "_model_name": "LayoutModel",
            "justify_items": null,
            "grid_row": null,
            "max_height": null,
            "align_content": null,
            "visibility": null,
            "align_self": null,
            "height": null,
            "min_height": null,
            "padding": null,
            "grid_auto_rows": null,
            "grid_gap": null,
            "max_width": null,
            "order": null,
            "_view_module_version": "1.2.0",
            "grid_template_areas": null,
            "object_position": null,
            "object_fit": null,
            "grid_auto_columns": null,
            "margin": null,
            "display": null,
            "left": null
          }
        },
        "f6cb0c362ce54b52a66661dec1fd1ecc": {
          "model_module": "@jupyter-widgets/controls",
          "model_name": "DescriptionStyleModel",
          "model_module_version": "1.5.0",
          "state": {
            "_view_name": "StyleView",
            "_model_name": "DescriptionStyleModel",
            "description_width": "",
            "_view_module": "@jupyter-widgets/base",
            "_model_module_version": "1.5.0",
            "_view_count": null,
            "_view_module_version": "1.2.0",
            "_model_module": "@jupyter-widgets/controls"
          }
        },
        "42511fcf1f0c4b858fd839d4725f1764": {
          "model_module": "@jupyter-widgets/base",
          "model_name": "LayoutModel",
          "model_module_version": "1.2.0",
          "state": {
            "_view_name": "LayoutView",
            "grid_template_rows": null,
            "right": null,
            "justify_content": null,
            "_view_module": "@jupyter-widgets/base",
            "overflow": null,
            "_model_module_version": "1.2.0",
            "_view_count": null,
            "flex_flow": null,
            "width": null,
            "min_width": null,
            "border": null,
            "align_items": null,
            "bottom": null,
            "_model_module": "@jupyter-widgets/base",
            "top": null,
            "grid_column": null,
            "overflow_y": null,
            "overflow_x": null,
            "grid_auto_flow": null,
            "grid_area": null,
            "grid_template_columns": null,
            "flex": null,
            "_model_name": "LayoutModel",
            "justify_items": null,
            "grid_row": null,
            "max_height": null,
            "align_content": null,
            "visibility": null,
            "align_self": null,
            "height": null,
            "min_height": null,
            "padding": null,
            "grid_auto_rows": null,
            "grid_gap": null,
            "max_width": null,
            "order": null,
            "_view_module_version": "1.2.0",
            "grid_template_areas": null,
            "object_position": null,
            "object_fit": null,
            "grid_auto_columns": null,
            "margin": null,
            "display": null,
            "left": null
          }
        },
        "35fcdb9f8fef48b196e411ea6dc78ef4": {
          "model_module": "@jupyter-widgets/controls",
          "model_name": "HBoxModel",
          "model_module_version": "1.5.0",
          "state": {
            "_view_name": "HBoxView",
            "_dom_classes": [],
            "_model_name": "HBoxModel",
            "_view_module": "@jupyter-widgets/controls",
            "_model_module_version": "1.5.0",
            "_view_count": null,
            "_view_module_version": "1.5.0",
            "box_style": "",
            "layout": "IPY_MODEL_4d9122c8779149d5a4ca7a894e421c48",
            "_model_module": "@jupyter-widgets/controls",
            "children": [
              "IPY_MODEL_fb73ab05aa5f435995d75745d15dc3c1",
              "IPY_MODEL_823fc668b75d4bcda61968da05247ad9",
              "IPY_MODEL_16e1f4d2c4494f1f8b88467252fe7978"
            ]
          }
        },
        "4d9122c8779149d5a4ca7a894e421c48": {
          "model_module": "@jupyter-widgets/base",
          "model_name": "LayoutModel",
          "model_module_version": "1.2.0",
          "state": {
            "_view_name": "LayoutView",
            "grid_template_rows": null,
            "right": null,
            "justify_content": null,
            "_view_module": "@jupyter-widgets/base",
            "overflow": null,
            "_model_module_version": "1.2.0",
            "_view_count": null,
            "flex_flow": null,
            "width": null,
            "min_width": null,
            "border": null,
            "align_items": null,
            "bottom": null,
            "_model_module": "@jupyter-widgets/base",
            "top": null,
            "grid_column": null,
            "overflow_y": null,
            "overflow_x": null,
            "grid_auto_flow": null,
            "grid_area": null,
            "grid_template_columns": null,
            "flex": null,
            "_model_name": "LayoutModel",
            "justify_items": null,
            "grid_row": null,
            "max_height": null,
            "align_content": null,
            "visibility": null,
            "align_self": null,
            "height": null,
            "min_height": null,
            "padding": null,
            "grid_auto_rows": null,
            "grid_gap": null,
            "max_width": null,
            "order": null,
            "_view_module_version": "1.2.0",
            "grid_template_areas": null,
            "object_position": null,
            "object_fit": null,
            "grid_auto_columns": null,
            "margin": null,
            "display": null,
            "left": null
          }
        },
        "fb73ab05aa5f435995d75745d15dc3c1": {
          "model_module": "@jupyter-widgets/controls",
          "model_name": "HTMLModel",
          "model_module_version": "1.5.0",
          "state": {
            "_view_name": "HTMLView",
            "style": "IPY_MODEL_db5547cbfa0241528a2393296b22d2dc",
            "_dom_classes": [],
            "description": "",
            "_model_name": "HTMLModel",
            "placeholder": "​",
            "_view_module": "@jupyter-widgets/controls",
            "_model_module_version": "1.5.0",
            "value": "Downloading: 100%",
            "_view_count": null,
            "_view_module_version": "1.5.0",
            "description_tooltip": null,
            "_model_module": "@jupyter-widgets/controls",
            "layout": "IPY_MODEL_08ad734b8e76406db28015d36e7d2af6"
          }
        },
        "823fc668b75d4bcda61968da05247ad9": {
          "model_module": "@jupyter-widgets/controls",
          "model_name": "FloatProgressModel",
          "model_module_version": "1.5.0",
          "state": {
            "_view_name": "ProgressView",
            "style": "IPY_MODEL_54d4faffa6a44cf5901820153283ab60",
            "_dom_classes": [],
            "description": "",
            "_model_name": "FloatProgressModel",
            "bar_style": "success",
            "max": 231508,
            "_view_module": "@jupyter-widgets/controls",
            "_model_module_version": "1.5.0",
            "value": 231508,
            "_view_count": null,
            "_view_module_version": "1.5.0",
            "orientation": "horizontal",
            "min": 0,
            "description_tooltip": null,
            "_model_module": "@jupyter-widgets/controls",
            "layout": "IPY_MODEL_ff9793c3aa4440b0b1680d5a423b16f9"
          }
        },
        "16e1f4d2c4494f1f8b88467252fe7978": {
          "model_module": "@jupyter-widgets/controls",
          "model_name": "HTMLModel",
          "model_module_version": "1.5.0",
          "state": {
            "_view_name": "HTMLView",
            "style": "IPY_MODEL_d5903fd333824a72a8ddfd539fead06b",
            "_dom_classes": [],
            "description": "",
            "_model_name": "HTMLModel",
            "placeholder": "​",
            "_view_module": "@jupyter-widgets/controls",
            "_model_module_version": "1.5.0",
            "value": " 232k/232k [00:00&lt;00:00, 1.02MB/s]",
            "_view_count": null,
            "_view_module_version": "1.5.0",
            "description_tooltip": null,
            "_model_module": "@jupyter-widgets/controls",
            "layout": "IPY_MODEL_4b22613ca33c4beeb8133e56e5ca71f3"
          }
        },
        "db5547cbfa0241528a2393296b22d2dc": {
          "model_module": "@jupyter-widgets/controls",
          "model_name": "DescriptionStyleModel",
          "model_module_version": "1.5.0",
          "state": {
            "_view_name": "StyleView",
            "_model_name": "DescriptionStyleModel",
            "description_width": "",
            "_view_module": "@jupyter-widgets/base",
            "_model_module_version": "1.5.0",
            "_view_count": null,
            "_view_module_version": "1.2.0",
            "_model_module": "@jupyter-widgets/controls"
          }
        },
        "08ad734b8e76406db28015d36e7d2af6": {
          "model_module": "@jupyter-widgets/base",
          "model_name": "LayoutModel",
          "model_module_version": "1.2.0",
          "state": {
            "_view_name": "LayoutView",
            "grid_template_rows": null,
            "right": null,
            "justify_content": null,
            "_view_module": "@jupyter-widgets/base",
            "overflow": null,
            "_model_module_version": "1.2.0",
            "_view_count": null,
            "flex_flow": null,
            "width": null,
            "min_width": null,
            "border": null,
            "align_items": null,
            "bottom": null,
            "_model_module": "@jupyter-widgets/base",
            "top": null,
            "grid_column": null,
            "overflow_y": null,
            "overflow_x": null,
            "grid_auto_flow": null,
            "grid_area": null,
            "grid_template_columns": null,
            "flex": null,
            "_model_name": "LayoutModel",
            "justify_items": null,
            "grid_row": null,
            "max_height": null,
            "align_content": null,
            "visibility": null,
            "align_self": null,
            "height": null,
            "min_height": null,
            "padding": null,
            "grid_auto_rows": null,
            "grid_gap": null,
            "max_width": null,
            "order": null,
            "_view_module_version": "1.2.0",
            "grid_template_areas": null,
            "object_position": null,
            "object_fit": null,
            "grid_auto_columns": null,
            "margin": null,
            "display": null,
            "left": null
          }
        },
        "54d4faffa6a44cf5901820153283ab60": {
          "model_module": "@jupyter-widgets/controls",
          "model_name": "ProgressStyleModel",
          "model_module_version": "1.5.0",
          "state": {
            "_view_name": "StyleView",
            "_model_name": "ProgressStyleModel",
            "description_width": "",
            "_view_module": "@jupyter-widgets/base",
            "_model_module_version": "1.5.0",
            "_view_count": null,
            "_view_module_version": "1.2.0",
            "bar_color": null,
            "_model_module": "@jupyter-widgets/controls"
          }
        },
        "ff9793c3aa4440b0b1680d5a423b16f9": {
          "model_module": "@jupyter-widgets/base",
          "model_name": "LayoutModel",
          "model_module_version": "1.2.0",
          "state": {
            "_view_name": "LayoutView",
            "grid_template_rows": null,
            "right": null,
            "justify_content": null,
            "_view_module": "@jupyter-widgets/base",
            "overflow": null,
            "_model_module_version": "1.2.0",
            "_view_count": null,
            "flex_flow": null,
            "width": null,
            "min_width": null,
            "border": null,
            "align_items": null,
            "bottom": null,
            "_model_module": "@jupyter-widgets/base",
            "top": null,
            "grid_column": null,
            "overflow_y": null,
            "overflow_x": null,
            "grid_auto_flow": null,
            "grid_area": null,
            "grid_template_columns": null,
            "flex": null,
            "_model_name": "LayoutModel",
            "justify_items": null,
            "grid_row": null,
            "max_height": null,
            "align_content": null,
            "visibility": null,
            "align_self": null,
            "height": null,
            "min_height": null,
            "padding": null,
            "grid_auto_rows": null,
            "grid_gap": null,
            "max_width": null,
            "order": null,
            "_view_module_version": "1.2.0",
            "grid_template_areas": null,
            "object_position": null,
            "object_fit": null,
            "grid_auto_columns": null,
            "margin": null,
            "display": null,
            "left": null
          }
        },
        "d5903fd333824a72a8ddfd539fead06b": {
          "model_module": "@jupyter-widgets/controls",
          "model_name": "DescriptionStyleModel",
          "model_module_version": "1.5.0",
          "state": {
            "_view_name": "StyleView",
            "_model_name": "DescriptionStyleModel",
            "description_width": "",
            "_view_module": "@jupyter-widgets/base",
            "_model_module_version": "1.5.0",
            "_view_count": null,
            "_view_module_version": "1.2.0",
            "_model_module": "@jupyter-widgets/controls"
          }
        },
        "4b22613ca33c4beeb8133e56e5ca71f3": {
          "model_module": "@jupyter-widgets/base",
          "model_name": "LayoutModel",
          "model_module_version": "1.2.0",
          "state": {
            "_view_name": "LayoutView",
            "grid_template_rows": null,
            "right": null,
            "justify_content": null,
            "_view_module": "@jupyter-widgets/base",
            "overflow": null,
            "_model_module_version": "1.2.0",
            "_view_count": null,
            "flex_flow": null,
            "width": null,
            "min_width": null,
            "border": null,
            "align_items": null,
            "bottom": null,
            "_model_module": "@jupyter-widgets/base",
            "top": null,
            "grid_column": null,
            "overflow_y": null,
            "overflow_x": null,
            "grid_auto_flow": null,
            "grid_area": null,
            "grid_template_columns": null,
            "flex": null,
            "_model_name": "LayoutModel",
            "justify_items": null,
            "grid_row": null,
            "max_height": null,
            "align_content": null,
            "visibility": null,
            "align_self": null,
            "height": null,
            "min_height": null,
            "padding": null,
            "grid_auto_rows": null,
            "grid_gap": null,
            "max_width": null,
            "order": null,
            "_view_module_version": "1.2.0",
            "grid_template_areas": null,
            "object_position": null,
            "object_fit": null,
            "grid_auto_columns": null,
            "margin": null,
            "display": null,
            "left": null
          }
        },
        "d0e44c1f2da94e5c8ff873abcc03f879": {
          "model_module": "@jupyter-widgets/controls",
          "model_name": "HBoxModel",
          "model_module_version": "1.5.0",
          "state": {
            "_view_name": "HBoxView",
            "_dom_classes": [],
            "_model_name": "HBoxModel",
            "_view_module": "@jupyter-widgets/controls",
            "_model_module_version": "1.5.0",
            "_view_count": null,
            "_view_module_version": "1.5.0",
            "box_style": "",
            "layout": "IPY_MODEL_3a523d6ac4044bc49cf7b6992379bad3",
            "_model_module": "@jupyter-widgets/controls",
            "children": [
              "IPY_MODEL_951d73da799f4a88b0e6f430b087640d",
              "IPY_MODEL_d9795fbf299c416dbc723cd93c53f3fc",
              "IPY_MODEL_b66fec6ae8c94ced8404cbb539229231"
            ]
          }
        },
        "3a523d6ac4044bc49cf7b6992379bad3": {
          "model_module": "@jupyter-widgets/base",
          "model_name": "LayoutModel",
          "model_module_version": "1.2.0",
          "state": {
            "_view_name": "LayoutView",
            "grid_template_rows": null,
            "right": null,
            "justify_content": null,
            "_view_module": "@jupyter-widgets/base",
            "overflow": null,
            "_model_module_version": "1.2.0",
            "_view_count": null,
            "flex_flow": null,
            "width": null,
            "min_width": null,
            "border": null,
            "align_items": null,
            "bottom": null,
            "_model_module": "@jupyter-widgets/base",
            "top": null,
            "grid_column": null,
            "overflow_y": null,
            "overflow_x": null,
            "grid_auto_flow": null,
            "grid_area": null,
            "grid_template_columns": null,
            "flex": null,
            "_model_name": "LayoutModel",
            "justify_items": null,
            "grid_row": null,
            "max_height": null,
            "align_content": null,
            "visibility": null,
            "align_self": null,
            "height": null,
            "min_height": null,
            "padding": null,
            "grid_auto_rows": null,
            "grid_gap": null,
            "max_width": null,
            "order": null,
            "_view_module_version": "1.2.0",
            "grid_template_areas": null,
            "object_position": null,
            "object_fit": null,
            "grid_auto_columns": null,
            "margin": null,
            "display": null,
            "left": null
          }
        },
        "951d73da799f4a88b0e6f430b087640d": {
          "model_module": "@jupyter-widgets/controls",
          "model_name": "HTMLModel",
          "model_module_version": "1.5.0",
          "state": {
            "_view_name": "HTMLView",
            "style": "IPY_MODEL_ee668df6f60541d0b217318bef82c8f2",
            "_dom_classes": [],
            "description": "",
            "_model_name": "HTMLModel",
            "placeholder": "​",
            "_view_module": "@jupyter-widgets/controls",
            "_model_module_version": "1.5.0",
            "value": "Downloading: 100%",
            "_view_count": null,
            "_view_module_version": "1.5.0",
            "description_tooltip": null,
            "_model_module": "@jupyter-widgets/controls",
            "layout": "IPY_MODEL_61dca32655284518be9c8b8a96a13e5a"
          }
        },
        "d9795fbf299c416dbc723cd93c53f3fc": {
          "model_module": "@jupyter-widgets/controls",
          "model_name": "FloatProgressModel",
          "model_module_version": "1.5.0",
          "state": {
            "_view_name": "ProgressView",
            "style": "IPY_MODEL_ca0a3e32b12d4e0aa27b907fd2e77f5c",
            "_dom_classes": [],
            "description": "",
            "_model_name": "FloatProgressModel",
            "bar_style": "success",
            "max": 190,
            "_view_module": "@jupyter-widgets/controls",
            "_model_module_version": "1.5.0",
            "value": 190,
            "_view_count": null,
            "_view_module_version": "1.5.0",
            "orientation": "horizontal",
            "min": 0,
            "description_tooltip": null,
            "_model_module": "@jupyter-widgets/controls",
            "layout": "IPY_MODEL_baa2401c7fb8402db0b93c0c1290648e"
          }
        },
        "b66fec6ae8c94ced8404cbb539229231": {
          "model_module": "@jupyter-widgets/controls",
          "model_name": "HTMLModel",
          "model_module_version": "1.5.0",
          "state": {
            "_view_name": "HTMLView",
            "style": "IPY_MODEL_1ebe8369febb4c3dbe235f1d9f8cc761",
            "_dom_classes": [],
            "description": "",
            "_model_name": "HTMLModel",
            "placeholder": "​",
            "_view_module": "@jupyter-widgets/controls",
            "_model_module_version": "1.5.0",
            "value": " 190/190 [00:00&lt;00:00, 3.96kB/s]",
            "_view_count": null,
            "_view_module_version": "1.5.0",
            "description_tooltip": null,
            "_model_module": "@jupyter-widgets/controls",
            "layout": "IPY_MODEL_02e6c27541ed4aca81070c6ad1f952fa"
          }
        },
        "ee668df6f60541d0b217318bef82c8f2": {
          "model_module": "@jupyter-widgets/controls",
          "model_name": "DescriptionStyleModel",
          "model_module_version": "1.5.0",
          "state": {
            "_view_name": "StyleView",
            "_model_name": "DescriptionStyleModel",
            "description_width": "",
            "_view_module": "@jupyter-widgets/base",
            "_model_module_version": "1.5.0",
            "_view_count": null,
            "_view_module_version": "1.2.0",
            "_model_module": "@jupyter-widgets/controls"
          }
        },
        "61dca32655284518be9c8b8a96a13e5a": {
          "model_module": "@jupyter-widgets/base",
          "model_name": "LayoutModel",
          "model_module_version": "1.2.0",
          "state": {
            "_view_name": "LayoutView",
            "grid_template_rows": null,
            "right": null,
            "justify_content": null,
            "_view_module": "@jupyter-widgets/base",
            "overflow": null,
            "_model_module_version": "1.2.0",
            "_view_count": null,
            "flex_flow": null,
            "width": null,
            "min_width": null,
            "border": null,
            "align_items": null,
            "bottom": null,
            "_model_module": "@jupyter-widgets/base",
            "top": null,
            "grid_column": null,
            "overflow_y": null,
            "overflow_x": null,
            "grid_auto_flow": null,
            "grid_area": null,
            "grid_template_columns": null,
            "flex": null,
            "_model_name": "LayoutModel",
            "justify_items": null,
            "grid_row": null,
            "max_height": null,
            "align_content": null,
            "visibility": null,
            "align_self": null,
            "height": null,
            "min_height": null,
            "padding": null,
            "grid_auto_rows": null,
            "grid_gap": null,
            "max_width": null,
            "order": null,
            "_view_module_version": "1.2.0",
            "grid_template_areas": null,
            "object_position": null,
            "object_fit": null,
            "grid_auto_columns": null,
            "margin": null,
            "display": null,
            "left": null
          }
        },
        "ca0a3e32b12d4e0aa27b907fd2e77f5c": {
          "model_module": "@jupyter-widgets/controls",
          "model_name": "ProgressStyleModel",
          "model_module_version": "1.5.0",
          "state": {
            "_view_name": "StyleView",
            "_model_name": "ProgressStyleModel",
            "description_width": "",
            "_view_module": "@jupyter-widgets/base",
            "_model_module_version": "1.5.0",
            "_view_count": null,
            "_view_module_version": "1.2.0",
            "bar_color": null,
            "_model_module": "@jupyter-widgets/controls"
          }
        },
        "baa2401c7fb8402db0b93c0c1290648e": {
          "model_module": "@jupyter-widgets/base",
          "model_name": "LayoutModel",
          "model_module_version": "1.2.0",
          "state": {
            "_view_name": "LayoutView",
            "grid_template_rows": null,
            "right": null,
            "justify_content": null,
            "_view_module": "@jupyter-widgets/base",
            "overflow": null,
            "_model_module_version": "1.2.0",
            "_view_count": null,
            "flex_flow": null,
            "width": null,
            "min_width": null,
            "border": null,
            "align_items": null,
            "bottom": null,
            "_model_module": "@jupyter-widgets/base",
            "top": null,
            "grid_column": null,
            "overflow_y": null,
            "overflow_x": null,
            "grid_auto_flow": null,
            "grid_area": null,
            "grid_template_columns": null,
            "flex": null,
            "_model_name": "LayoutModel",
            "justify_items": null,
            "grid_row": null,
            "max_height": null,
            "align_content": null,
            "visibility": null,
            "align_self": null,
            "height": null,
            "min_height": null,
            "padding": null,
            "grid_auto_rows": null,
            "grid_gap": null,
            "max_width": null,
            "order": null,
            "_view_module_version": "1.2.0",
            "grid_template_areas": null,
            "object_position": null,
            "object_fit": null,
            "grid_auto_columns": null,
            "margin": null,
            "display": null,
            "left": null
          }
        },
        "1ebe8369febb4c3dbe235f1d9f8cc761": {
          "model_module": "@jupyter-widgets/controls",
          "model_name": "DescriptionStyleModel",
          "model_module_version": "1.5.0",
          "state": {
            "_view_name": "StyleView",
            "_model_name": "DescriptionStyleModel",
            "description_width": "",
            "_view_module": "@jupyter-widgets/base",
            "_model_module_version": "1.5.0",
            "_view_count": null,
            "_view_module_version": "1.2.0",
            "_model_module": "@jupyter-widgets/controls"
          }
        },
        "02e6c27541ed4aca81070c6ad1f952fa": {
          "model_module": "@jupyter-widgets/base",
          "model_name": "LayoutModel",
          "model_module_version": "1.2.0",
          "state": {
            "_view_name": "LayoutView",
            "grid_template_rows": null,
            "right": null,
            "justify_content": null,
            "_view_module": "@jupyter-widgets/base",
            "overflow": null,
            "_model_module_version": "1.2.0",
            "_view_count": null,
            "flex_flow": null,
            "width": null,
            "min_width": null,
            "border": null,
            "align_items": null,
            "bottom": null,
            "_model_module": "@jupyter-widgets/base",
            "top": null,
            "grid_column": null,
            "overflow_y": null,
            "overflow_x": null,
            "grid_auto_flow": null,
            "grid_area": null,
            "grid_template_columns": null,
            "flex": null,
            "_model_name": "LayoutModel",
            "justify_items": null,
            "grid_row": null,
            "max_height": null,
            "align_content": null,
            "visibility": null,
            "align_self": null,
            "height": null,
            "min_height": null,
            "padding": null,
            "grid_auto_rows": null,
            "grid_gap": null,
            "max_width": null,
            "order": null,
            "_view_module_version": "1.2.0",
            "grid_template_areas": null,
            "object_position": null,
            "object_fit": null,
            "grid_auto_columns": null,
            "margin": null,
            "display": null,
            "left": null
          }
        },
        "2ba5ed40430b4e0a96784617324803fb": {
          "model_module": "@jupyter-widgets/controls",
          "model_name": "HBoxModel",
          "model_module_version": "1.5.0",
          "state": {
            "_view_name": "HBoxView",
            "_dom_classes": [],
            "_model_name": "HBoxModel",
            "_view_module": "@jupyter-widgets/controls",
            "_model_module_version": "1.5.0",
            "_view_count": null,
            "_view_module_version": "1.5.0",
            "box_style": "",
            "layout": "IPY_MODEL_189378cdd52749709ceedc5cb84c28be",
            "_model_module": "@jupyter-widgets/controls",
            "children": [
              "IPY_MODEL_9b1d891bd99e488e8ac9ac5a425e0776",
              "IPY_MODEL_0f2e46fdf6fb4a579af6aec2fc0562fc",
              "IPY_MODEL_b11154b6a909494d8832c96756d058b8"
            ]
          }
        },
        "189378cdd52749709ceedc5cb84c28be": {
          "model_module": "@jupyter-widgets/base",
          "model_name": "LayoutModel",
          "model_module_version": "1.2.0",
          "state": {
            "_view_name": "LayoutView",
            "grid_template_rows": null,
            "right": null,
            "justify_content": null,
            "_view_module": "@jupyter-widgets/base",
            "overflow": null,
            "_model_module_version": "1.2.0",
            "_view_count": null,
            "flex_flow": null,
            "width": null,
            "min_width": null,
            "border": null,
            "align_items": null,
            "bottom": null,
            "_model_module": "@jupyter-widgets/base",
            "top": null,
            "grid_column": null,
            "overflow_y": null,
            "overflow_x": null,
            "grid_auto_flow": null,
            "grid_area": null,
            "grid_template_columns": null,
            "flex": null,
            "_model_name": "LayoutModel",
            "justify_items": null,
            "grid_row": null,
            "max_height": null,
            "align_content": null,
            "visibility": null,
            "align_self": null,
            "height": null,
            "min_height": null,
            "padding": null,
            "grid_auto_rows": null,
            "grid_gap": null,
            "max_width": null,
            "order": null,
            "_view_module_version": "1.2.0",
            "grid_template_areas": null,
            "object_position": null,
            "object_fit": null,
            "grid_auto_columns": null,
            "margin": null,
            "display": null,
            "left": null
          }
        },
        "9b1d891bd99e488e8ac9ac5a425e0776": {
          "model_module": "@jupyter-widgets/controls",
          "model_name": "HTMLModel",
          "model_module_version": "1.5.0",
          "state": {
            "_view_name": "HTMLView",
            "style": "IPY_MODEL_4046e21c157242e2b058258cd6f6c61d",
            "_dom_classes": [],
            "description": "",
            "_model_name": "HTMLModel",
            "placeholder": "​",
            "_view_module": "@jupyter-widgets/controls",
            "_model_module_version": "1.5.0",
            "value": "Downloading: 100%",
            "_view_count": null,
            "_view_module_version": "1.5.0",
            "description_tooltip": null,
            "_model_module": "@jupyter-widgets/controls",
            "layout": "IPY_MODEL_3bb35b593eaa43eeafe9c971d374a9ab"
          }
        },
        "0f2e46fdf6fb4a579af6aec2fc0562fc": {
          "model_module": "@jupyter-widgets/controls",
          "model_name": "FloatProgressModel",
          "model_module_version": "1.5.0",
          "state": {
            "_view_name": "ProgressView",
            "style": "IPY_MODEL_9a53c6e68b6d48a09abaca873bda6b83",
            "_dom_classes": [],
            "description": "",
            "_model_name": "FloatProgressModel",
            "bar_style": "success",
            "max": 399,
            "_view_module": "@jupyter-widgets/controls",
            "_model_module_version": "1.5.0",
            "value": 399,
            "_view_count": null,
            "_view_module_version": "1.5.0",
            "orientation": "horizontal",
            "min": 0,
            "description_tooltip": null,
            "_model_module": "@jupyter-widgets/controls",
            "layout": "IPY_MODEL_fe5a240b33384414b48e4e7132da5014"
          }
        },
        "b11154b6a909494d8832c96756d058b8": {
          "model_module": "@jupyter-widgets/controls",
          "model_name": "HTMLModel",
          "model_module_version": "1.5.0",
          "state": {
            "_view_name": "HTMLView",
            "style": "IPY_MODEL_0f0567bced9b4f7b834f567bd5373af9",
            "_dom_classes": [],
            "description": "",
            "_model_name": "HTMLModel",
            "placeholder": "​",
            "_view_module": "@jupyter-widgets/controls",
            "_model_module_version": "1.5.0",
            "value": " 399/399 [00:00&lt;00:00, 6.37kB/s]",
            "_view_count": null,
            "_view_module_version": "1.5.0",
            "description_tooltip": null,
            "_model_module": "@jupyter-widgets/controls",
            "layout": "IPY_MODEL_3ce2684f504442c7945b43bbc523c4a7"
          }
        },
        "4046e21c157242e2b058258cd6f6c61d": {
          "model_module": "@jupyter-widgets/controls",
          "model_name": "DescriptionStyleModel",
          "model_module_version": "1.5.0",
          "state": {
            "_view_name": "StyleView",
            "_model_name": "DescriptionStyleModel",
            "description_width": "",
            "_view_module": "@jupyter-widgets/base",
            "_model_module_version": "1.5.0",
            "_view_count": null,
            "_view_module_version": "1.2.0",
            "_model_module": "@jupyter-widgets/controls"
          }
        },
        "3bb35b593eaa43eeafe9c971d374a9ab": {
          "model_module": "@jupyter-widgets/base",
          "model_name": "LayoutModel",
          "model_module_version": "1.2.0",
          "state": {
            "_view_name": "LayoutView",
            "grid_template_rows": null,
            "right": null,
            "justify_content": null,
            "_view_module": "@jupyter-widgets/base",
            "overflow": null,
            "_model_module_version": "1.2.0",
            "_view_count": null,
            "flex_flow": null,
            "width": null,
            "min_width": null,
            "border": null,
            "align_items": null,
            "bottom": null,
            "_model_module": "@jupyter-widgets/base",
            "top": null,
            "grid_column": null,
            "overflow_y": null,
            "overflow_x": null,
            "grid_auto_flow": null,
            "grid_area": null,
            "grid_template_columns": null,
            "flex": null,
            "_model_name": "LayoutModel",
            "justify_items": null,
            "grid_row": null,
            "max_height": null,
            "align_content": null,
            "visibility": null,
            "align_self": null,
            "height": null,
            "min_height": null,
            "padding": null,
            "grid_auto_rows": null,
            "grid_gap": null,
            "max_width": null,
            "order": null,
            "_view_module_version": "1.2.0",
            "grid_template_areas": null,
            "object_position": null,
            "object_fit": null,
            "grid_auto_columns": null,
            "margin": null,
            "display": null,
            "left": null
          }
        },
        "9a53c6e68b6d48a09abaca873bda6b83": {
          "model_module": "@jupyter-widgets/controls",
          "model_name": "ProgressStyleModel",
          "model_module_version": "1.5.0",
          "state": {
            "_view_name": "StyleView",
            "_model_name": "ProgressStyleModel",
            "description_width": "",
            "_view_module": "@jupyter-widgets/base",
            "_model_module_version": "1.5.0",
            "_view_count": null,
            "_view_module_version": "1.2.0",
            "bar_color": null,
            "_model_module": "@jupyter-widgets/controls"
          }
        },
        "fe5a240b33384414b48e4e7132da5014": {
          "model_module": "@jupyter-widgets/base",
          "model_name": "LayoutModel",
          "model_module_version": "1.2.0",
          "state": {
            "_view_name": "LayoutView",
            "grid_template_rows": null,
            "right": null,
            "justify_content": null,
            "_view_module": "@jupyter-widgets/base",
            "overflow": null,
            "_model_module_version": "1.2.0",
            "_view_count": null,
            "flex_flow": null,
            "width": null,
            "min_width": null,
            "border": null,
            "align_items": null,
            "bottom": null,
            "_model_module": "@jupyter-widgets/base",
            "top": null,
            "grid_column": null,
            "overflow_y": null,
            "overflow_x": null,
            "grid_auto_flow": null,
            "grid_area": null,
            "grid_template_columns": null,
            "flex": null,
            "_model_name": "LayoutModel",
            "justify_items": null,
            "grid_row": null,
            "max_height": null,
            "align_content": null,
            "visibility": null,
            "align_self": null,
            "height": null,
            "min_height": null,
            "padding": null,
            "grid_auto_rows": null,
            "grid_gap": null,
            "max_width": null,
            "order": null,
            "_view_module_version": "1.2.0",
            "grid_template_areas": null,
            "object_position": null,
            "object_fit": null,
            "grid_auto_columns": null,
            "margin": null,
            "display": null,
            "left": null
          }
        },
        "0f0567bced9b4f7b834f567bd5373af9": {
          "model_module": "@jupyter-widgets/controls",
          "model_name": "DescriptionStyleModel",
          "model_module_version": "1.5.0",
          "state": {
            "_view_name": "StyleView",
            "_model_name": "DescriptionStyleModel",
            "description_width": "",
            "_view_module": "@jupyter-widgets/base",
            "_model_module_version": "1.5.0",
            "_view_count": null,
            "_view_module_version": "1.2.0",
            "_model_module": "@jupyter-widgets/controls"
          }
        },
        "3ce2684f504442c7945b43bbc523c4a7": {
          "model_module": "@jupyter-widgets/base",
          "model_name": "LayoutModel",
          "model_module_version": "1.2.0",
          "state": {
            "_view_name": "LayoutView",
            "grid_template_rows": null,
            "right": null,
            "justify_content": null,
            "_view_module": "@jupyter-widgets/base",
            "overflow": null,
            "_model_module_version": "1.2.0",
            "_view_count": null,
            "flex_flow": null,
            "width": null,
            "min_width": null,
            "border": null,
            "align_items": null,
            "bottom": null,
            "_model_module": "@jupyter-widgets/base",
            "top": null,
            "grid_column": null,
            "overflow_y": null,
            "overflow_x": null,
            "grid_auto_flow": null,
            "grid_area": null,
            "grid_template_columns": null,
            "flex": null,
            "_model_name": "LayoutModel",
            "justify_items": null,
            "grid_row": null,
            "max_height": null,
            "align_content": null,
            "visibility": null,
            "align_self": null,
            "height": null,
            "min_height": null,
            "padding": null,
            "grid_auto_rows": null,
            "grid_gap": null,
            "max_width": null,
            "order": null,
            "_view_module_version": "1.2.0",
            "grid_template_areas": null,
            "object_position": null,
            "object_fit": null,
            "grid_auto_columns": null,
            "margin": null,
            "display": null,
            "left": null
          }
        },
        "1633884f31d74e16bf01f0bfd583fb72": {
          "model_module": "@jupyter-widgets/controls",
          "model_name": "HBoxModel",
          "model_module_version": "1.5.0",
          "state": {
            "_view_name": "HBoxView",
            "_dom_classes": [],
            "_model_name": "HBoxModel",
            "_view_module": "@jupyter-widgets/controls",
            "_model_module_version": "1.5.0",
            "_view_count": null,
            "_view_module_version": "1.5.0",
            "box_style": "",
            "layout": "IPY_MODEL_9f44867250dd471f953ab8865ed442c2",
            "_model_module": "@jupyter-widgets/controls",
            "children": [
              "IPY_MODEL_2ae8784834ef4d0193df2eb39bfafd33",
              "IPY_MODEL_36defc6143cf40a39043948f77cb630b",
              "IPY_MODEL_b69bee9820b2418ba74d6d681a291e0d"
            ]
          }
        },
        "9f44867250dd471f953ab8865ed442c2": {
          "model_module": "@jupyter-widgets/base",
          "model_name": "LayoutModel",
          "model_module_version": "1.2.0",
          "state": {
            "_view_name": "LayoutView",
            "grid_template_rows": null,
            "right": null,
            "justify_content": null,
            "_view_module": "@jupyter-widgets/base",
            "overflow": null,
            "_model_module_version": "1.2.0",
            "_view_count": null,
            "flex_flow": null,
            "width": null,
            "min_width": null,
            "border": null,
            "align_items": null,
            "bottom": null,
            "_model_module": "@jupyter-widgets/base",
            "top": null,
            "grid_column": null,
            "overflow_y": null,
            "overflow_x": null,
            "grid_auto_flow": null,
            "grid_area": null,
            "grid_template_columns": null,
            "flex": null,
            "_model_name": "LayoutModel",
            "justify_items": null,
            "grid_row": null,
            "max_height": null,
            "align_content": null,
            "visibility": null,
            "align_self": null,
            "height": null,
            "min_height": null,
            "padding": null,
            "grid_auto_rows": null,
            "grid_gap": null,
            "max_width": null,
            "order": null,
            "_view_module_version": "1.2.0",
            "grid_template_areas": null,
            "object_position": null,
            "object_fit": null,
            "grid_auto_columns": null,
            "margin": null,
            "display": null,
            "left": null
          }
        },
        "2ae8784834ef4d0193df2eb39bfafd33": {
          "model_module": "@jupyter-widgets/controls",
          "model_name": "HTMLModel",
          "model_module_version": "1.5.0",
          "state": {
            "_view_name": "HTMLView",
            "style": "IPY_MODEL_1b0c6e69774c4dfd82c2a645886d6d60",
            "_dom_classes": [],
            "description": "",
            "_model_name": "HTMLModel",
            "placeholder": "​",
            "_view_module": "@jupyter-widgets/controls",
            "_model_module_version": "1.5.0",
            "value": "Downloading: 100%",
            "_view_count": null,
            "_view_module_version": "1.5.0",
            "description_tooltip": null,
            "_model_module": "@jupyter-widgets/controls",
            "layout": "IPY_MODEL_cc32e5bbdd6348e1b798ef6787095f6e"
          }
        },
        "36defc6143cf40a39043948f77cb630b": {
          "model_module": "@jupyter-widgets/controls",
          "model_name": "FloatProgressModel",
          "model_module_version": "1.5.0",
          "state": {
            "_view_name": "ProgressView",
            "style": "IPY_MODEL_c9e13153a970428e87dba8d54b13011b",
            "_dom_classes": [],
            "description": "",
            "_model_name": "FloatProgressModel",
            "bar_style": "success",
            "max": 625,
            "_view_module": "@jupyter-widgets/controls",
            "_model_module_version": "1.5.0",
            "value": 625,
            "_view_count": null,
            "_view_module_version": "1.5.0",
            "orientation": "horizontal",
            "min": 0,
            "description_tooltip": null,
            "_model_module": "@jupyter-widgets/controls",
            "layout": "IPY_MODEL_04b3def799704cce8e372e8b8a80cb94"
          }
        },
        "b69bee9820b2418ba74d6d681a291e0d": {
          "model_module": "@jupyter-widgets/controls",
          "model_name": "HTMLModel",
          "model_module_version": "1.5.0",
          "state": {
            "_view_name": "HTMLView",
            "style": "IPY_MODEL_f74b45b24869494c866bc4a07ef45e50",
            "_dom_classes": [],
            "description": "",
            "_model_name": "HTMLModel",
            "placeholder": "​",
            "_view_module": "@jupyter-widgets/controls",
            "_model_module_version": "1.5.0",
            "value": " 625/625 [00:00&lt;00:00, 11.3kB/s]",
            "_view_count": null,
            "_view_module_version": "1.5.0",
            "description_tooltip": null,
            "_model_module": "@jupyter-widgets/controls",
            "layout": "IPY_MODEL_28f74d0337e34ed6ab7264077e206614"
          }
        },
        "1b0c6e69774c4dfd82c2a645886d6d60": {
          "model_module": "@jupyter-widgets/controls",
          "model_name": "DescriptionStyleModel",
          "model_module_version": "1.5.0",
          "state": {
            "_view_name": "StyleView",
            "_model_name": "DescriptionStyleModel",
            "description_width": "",
            "_view_module": "@jupyter-widgets/base",
            "_model_module_version": "1.5.0",
            "_view_count": null,
            "_view_module_version": "1.2.0",
            "_model_module": "@jupyter-widgets/controls"
          }
        },
        "cc32e5bbdd6348e1b798ef6787095f6e": {
          "model_module": "@jupyter-widgets/base",
          "model_name": "LayoutModel",
          "model_module_version": "1.2.0",
          "state": {
            "_view_name": "LayoutView",
            "grid_template_rows": null,
            "right": null,
            "justify_content": null,
            "_view_module": "@jupyter-widgets/base",
            "overflow": null,
            "_model_module_version": "1.2.0",
            "_view_count": null,
            "flex_flow": null,
            "width": null,
            "min_width": null,
            "border": null,
            "align_items": null,
            "bottom": null,
            "_model_module": "@jupyter-widgets/base",
            "top": null,
            "grid_column": null,
            "overflow_y": null,
            "overflow_x": null,
            "grid_auto_flow": null,
            "grid_area": null,
            "grid_template_columns": null,
            "flex": null,
            "_model_name": "LayoutModel",
            "justify_items": null,
            "grid_row": null,
            "max_height": null,
            "align_content": null,
            "visibility": null,
            "align_self": null,
            "height": null,
            "min_height": null,
            "padding": null,
            "grid_auto_rows": null,
            "grid_gap": null,
            "max_width": null,
            "order": null,
            "_view_module_version": "1.2.0",
            "grid_template_areas": null,
            "object_position": null,
            "object_fit": null,
            "grid_auto_columns": null,
            "margin": null,
            "display": null,
            "left": null
          }
        },
        "c9e13153a970428e87dba8d54b13011b": {
          "model_module": "@jupyter-widgets/controls",
          "model_name": "ProgressStyleModel",
          "model_module_version": "1.5.0",
          "state": {
            "_view_name": "StyleView",
            "_model_name": "ProgressStyleModel",
            "description_width": "",
            "_view_module": "@jupyter-widgets/base",
            "_model_module_version": "1.5.0",
            "_view_count": null,
            "_view_module_version": "1.2.0",
            "bar_color": null,
            "_model_module": "@jupyter-widgets/controls"
          }
        },
        "04b3def799704cce8e372e8b8a80cb94": {
          "model_module": "@jupyter-widgets/base",
          "model_name": "LayoutModel",
          "model_module_version": "1.2.0",
          "state": {
            "_view_name": "LayoutView",
            "grid_template_rows": null,
            "right": null,
            "justify_content": null,
            "_view_module": "@jupyter-widgets/base",
            "overflow": null,
            "_model_module_version": "1.2.0",
            "_view_count": null,
            "flex_flow": null,
            "width": null,
            "min_width": null,
            "border": null,
            "align_items": null,
            "bottom": null,
            "_model_module": "@jupyter-widgets/base",
            "top": null,
            "grid_column": null,
            "overflow_y": null,
            "overflow_x": null,
            "grid_auto_flow": null,
            "grid_area": null,
            "grid_template_columns": null,
            "flex": null,
            "_model_name": "LayoutModel",
            "justify_items": null,
            "grid_row": null,
            "max_height": null,
            "align_content": null,
            "visibility": null,
            "align_self": null,
            "height": null,
            "min_height": null,
            "padding": null,
            "grid_auto_rows": null,
            "grid_gap": null,
            "max_width": null,
            "order": null,
            "_view_module_version": "1.2.0",
            "grid_template_areas": null,
            "object_position": null,
            "object_fit": null,
            "grid_auto_columns": null,
            "margin": null,
            "display": null,
            "left": null
          }
        },
        "f74b45b24869494c866bc4a07ef45e50": {
          "model_module": "@jupyter-widgets/controls",
          "model_name": "DescriptionStyleModel",
          "model_module_version": "1.5.0",
          "state": {
            "_view_name": "StyleView",
            "_model_name": "DescriptionStyleModel",
            "description_width": "",
            "_view_module": "@jupyter-widgets/base",
            "_model_module_version": "1.5.0",
            "_view_count": null,
            "_view_module_version": "1.2.0",
            "_model_module": "@jupyter-widgets/controls"
          }
        },
        "28f74d0337e34ed6ab7264077e206614": {
          "model_module": "@jupyter-widgets/base",
          "model_name": "LayoutModel",
          "model_module_version": "1.2.0",
          "state": {
            "_view_name": "LayoutView",
            "grid_template_rows": null,
            "right": null,
            "justify_content": null,
            "_view_module": "@jupyter-widgets/base",
            "overflow": null,
            "_model_module_version": "1.2.0",
            "_view_count": null,
            "flex_flow": null,
            "width": null,
            "min_width": null,
            "border": null,
            "align_items": null,
            "bottom": null,
            "_model_module": "@jupyter-widgets/base",
            "top": null,
            "grid_column": null,
            "overflow_y": null,
            "overflow_x": null,
            "grid_auto_flow": null,
            "grid_area": null,
            "grid_template_columns": null,
            "flex": null,
            "_model_name": "LayoutModel",
            "justify_items": null,
            "grid_row": null,
            "max_height": null,
            "align_content": null,
            "visibility": null,
            "align_self": null,
            "height": null,
            "min_height": null,
            "padding": null,
            "grid_auto_rows": null,
            "grid_gap": null,
            "max_width": null,
            "order": null,
            "_view_module_version": "1.2.0",
            "grid_template_areas": null,
            "object_position": null,
            "object_fit": null,
            "grid_auto_columns": null,
            "margin": null,
            "display": null,
            "left": null
          }
        },
        "8746df9cf9eb40cdaeb350dfe56aecd3": {
          "model_module": "@jupyter-widgets/controls",
          "model_name": "HBoxModel",
          "model_module_version": "1.5.0",
          "state": {
            "_view_name": "HBoxView",
            "_dom_classes": [],
            "_model_name": "HBoxModel",
            "_view_module": "@jupyter-widgets/controls",
            "_model_module_version": "1.5.0",
            "_view_count": null,
            "_view_module_version": "1.5.0",
            "box_style": "",
            "layout": "IPY_MODEL_8bd8f8bcbf1544428eda707d1f0a7518",
            "_model_module": "@jupyter-widgets/controls",
            "children": [
              "IPY_MODEL_2a45ce74ea2445f19a865710577c3f42",
              "IPY_MODEL_a324ca736d044560960b851058a863e9",
              "IPY_MODEL_fdc676b8386d4c55acbc7c34acacdacf"
            ]
          }
        },
        "8bd8f8bcbf1544428eda707d1f0a7518": {
          "model_module": "@jupyter-widgets/base",
          "model_name": "LayoutModel",
          "model_module_version": "1.2.0",
          "state": {
            "_view_name": "LayoutView",
            "grid_template_rows": null,
            "right": null,
            "justify_content": null,
            "_view_module": "@jupyter-widgets/base",
            "overflow": null,
            "_model_module_version": "1.2.0",
            "_view_count": null,
            "flex_flow": null,
            "width": null,
            "min_width": null,
            "border": null,
            "align_items": null,
            "bottom": null,
            "_model_module": "@jupyter-widgets/base",
            "top": null,
            "grid_column": null,
            "overflow_y": null,
            "overflow_x": null,
            "grid_auto_flow": null,
            "grid_area": null,
            "grid_template_columns": null,
            "flex": null,
            "_model_name": "LayoutModel",
            "justify_items": null,
            "grid_row": null,
            "max_height": null,
            "align_content": null,
            "visibility": null,
            "align_self": null,
            "height": null,
            "min_height": null,
            "padding": null,
            "grid_auto_rows": null,
            "grid_gap": null,
            "max_width": null,
            "order": null,
            "_view_module_version": "1.2.0",
            "grid_template_areas": null,
            "object_position": null,
            "object_fit": null,
            "grid_auto_columns": null,
            "margin": null,
            "display": null,
            "left": null
          }
        },
        "2a45ce74ea2445f19a865710577c3f42": {
          "model_module": "@jupyter-widgets/controls",
          "model_name": "HTMLModel",
          "model_module_version": "1.5.0",
          "state": {
            "_view_name": "HTMLView",
            "style": "IPY_MODEL_387a0651932f418e8c07cb2cc168d583",
            "_dom_classes": [],
            "description": "",
            "_model_name": "HTMLModel",
            "placeholder": "​",
            "_view_module": "@jupyter-widgets/controls",
            "_model_module_version": "1.5.0",
            "value": "Downloading: 100%",
            "_view_count": null,
            "_view_module_version": "1.5.0",
            "description_tooltip": null,
            "_model_module": "@jupyter-widgets/controls",
            "layout": "IPY_MODEL_edf763ee44cc458ab35e08e8e202653e"
          }
        },
        "a324ca736d044560960b851058a863e9": {
          "model_module": "@jupyter-widgets/controls",
          "model_name": "FloatProgressModel",
          "model_module_version": "1.5.0",
          "state": {
            "_view_name": "ProgressView",
            "style": "IPY_MODEL_4dbd3cfb9fdc44ea9c7b87f9cd66e788",
            "_dom_classes": [],
            "description": "",
            "_model_name": "FloatProgressModel",
            "bar_style": "success",
            "max": 231508,
            "_view_module": "@jupyter-widgets/controls",
            "_model_module_version": "1.5.0",
            "value": 231508,
            "_view_count": null,
            "_view_module_version": "1.5.0",
            "orientation": "horizontal",
            "min": 0,
            "description_tooltip": null,
            "_model_module": "@jupyter-widgets/controls",
            "layout": "IPY_MODEL_68c7504aa5a54e4cb565c06a3abb3208"
          }
        },
        "fdc676b8386d4c55acbc7c34acacdacf": {
          "model_module": "@jupyter-widgets/controls",
          "model_name": "HTMLModel",
          "model_module_version": "1.5.0",
          "state": {
            "_view_name": "HTMLView",
            "style": "IPY_MODEL_2481a1e69f554331a2f3b7c6d2fdb85c",
            "_dom_classes": [],
            "description": "",
            "_model_name": "HTMLModel",
            "placeholder": "​",
            "_view_module": "@jupyter-widgets/controls",
            "_model_module_version": "1.5.0",
            "value": " 232k/232k [00:00&lt;00:00, 1.54MB/s]",
            "_view_count": null,
            "_view_module_version": "1.5.0",
            "description_tooltip": null,
            "_model_module": "@jupyter-widgets/controls",
            "layout": "IPY_MODEL_347cacaf5b144ddcb5a2cf73a3826ce9"
          }
        },
        "387a0651932f418e8c07cb2cc168d583": {
          "model_module": "@jupyter-widgets/controls",
          "model_name": "DescriptionStyleModel",
          "model_module_version": "1.5.0",
          "state": {
            "_view_name": "StyleView",
            "_model_name": "DescriptionStyleModel",
            "description_width": "",
            "_view_module": "@jupyter-widgets/base",
            "_model_module_version": "1.5.0",
            "_view_count": null,
            "_view_module_version": "1.2.0",
            "_model_module": "@jupyter-widgets/controls"
          }
        },
        "edf763ee44cc458ab35e08e8e202653e": {
          "model_module": "@jupyter-widgets/base",
          "model_name": "LayoutModel",
          "model_module_version": "1.2.0",
          "state": {
            "_view_name": "LayoutView",
            "grid_template_rows": null,
            "right": null,
            "justify_content": null,
            "_view_module": "@jupyter-widgets/base",
            "overflow": null,
            "_model_module_version": "1.2.0",
            "_view_count": null,
            "flex_flow": null,
            "width": null,
            "min_width": null,
            "border": null,
            "align_items": null,
            "bottom": null,
            "_model_module": "@jupyter-widgets/base",
            "top": null,
            "grid_column": null,
            "overflow_y": null,
            "overflow_x": null,
            "grid_auto_flow": null,
            "grid_area": null,
            "grid_template_columns": null,
            "flex": null,
            "_model_name": "LayoutModel",
            "justify_items": null,
            "grid_row": null,
            "max_height": null,
            "align_content": null,
            "visibility": null,
            "align_self": null,
            "height": null,
            "min_height": null,
            "padding": null,
            "grid_auto_rows": null,
            "grid_gap": null,
            "max_width": null,
            "order": null,
            "_view_module_version": "1.2.0",
            "grid_template_areas": null,
            "object_position": null,
            "object_fit": null,
            "grid_auto_columns": null,
            "margin": null,
            "display": null,
            "left": null
          }
        },
        "4dbd3cfb9fdc44ea9c7b87f9cd66e788": {
          "model_module": "@jupyter-widgets/controls",
          "model_name": "ProgressStyleModel",
          "model_module_version": "1.5.0",
          "state": {
            "_view_name": "StyleView",
            "_model_name": "ProgressStyleModel",
            "description_width": "",
            "_view_module": "@jupyter-widgets/base",
            "_model_module_version": "1.5.0",
            "_view_count": null,
            "_view_module_version": "1.2.0",
            "bar_color": null,
            "_model_module": "@jupyter-widgets/controls"
          }
        },
        "68c7504aa5a54e4cb565c06a3abb3208": {
          "model_module": "@jupyter-widgets/base",
          "model_name": "LayoutModel",
          "model_module_version": "1.2.0",
          "state": {
            "_view_name": "LayoutView",
            "grid_template_rows": null,
            "right": null,
            "justify_content": null,
            "_view_module": "@jupyter-widgets/base",
            "overflow": null,
            "_model_module_version": "1.2.0",
            "_view_count": null,
            "flex_flow": null,
            "width": null,
            "min_width": null,
            "border": null,
            "align_items": null,
            "bottom": null,
            "_model_module": "@jupyter-widgets/base",
            "top": null,
            "grid_column": null,
            "overflow_y": null,
            "overflow_x": null,
            "grid_auto_flow": null,
            "grid_area": null,
            "grid_template_columns": null,
            "flex": null,
            "_model_name": "LayoutModel",
            "justify_items": null,
            "grid_row": null,
            "max_height": null,
            "align_content": null,
            "visibility": null,
            "align_self": null,
            "height": null,
            "min_height": null,
            "padding": null,
            "grid_auto_rows": null,
            "grid_gap": null,
            "max_width": null,
            "order": null,
            "_view_module_version": "1.2.0",
            "grid_template_areas": null,
            "object_position": null,
            "object_fit": null,
            "grid_auto_columns": null,
            "margin": null,
            "display": null,
            "left": null
          }
        },
        "2481a1e69f554331a2f3b7c6d2fdb85c": {
          "model_module": "@jupyter-widgets/controls",
          "model_name": "DescriptionStyleModel",
          "model_module_version": "1.5.0",
          "state": {
            "_view_name": "StyleView",
            "_model_name": "DescriptionStyleModel",
            "description_width": "",
            "_view_module": "@jupyter-widgets/base",
            "_model_module_version": "1.5.0",
            "_view_count": null,
            "_view_module_version": "1.2.0",
            "_model_module": "@jupyter-widgets/controls"
          }
        },
        "347cacaf5b144ddcb5a2cf73a3826ce9": {
          "model_module": "@jupyter-widgets/base",
          "model_name": "LayoutModel",
          "model_module_version": "1.2.0",
          "state": {
            "_view_name": "LayoutView",
            "grid_template_rows": null,
            "right": null,
            "justify_content": null,
            "_view_module": "@jupyter-widgets/base",
            "overflow": null,
            "_model_module_version": "1.2.0",
            "_view_count": null,
            "flex_flow": null,
            "width": null,
            "min_width": null,
            "border": null,
            "align_items": null,
            "bottom": null,
            "_model_module": "@jupyter-widgets/base",
            "top": null,
            "grid_column": null,
            "overflow_y": null,
            "overflow_x": null,
            "grid_auto_flow": null,
            "grid_area": null,
            "grid_template_columns": null,
            "flex": null,
            "_model_name": "LayoutModel",
            "justify_items": null,
            "grid_row": null,
            "max_height": null,
            "align_content": null,
            "visibility": null,
            "align_self": null,
            "height": null,
            "min_height": null,
            "padding": null,
            "grid_auto_rows": null,
            "grid_gap": null,
            "max_width": null,
            "order": null,
            "_view_module_version": "1.2.0",
            "grid_template_areas": null,
            "object_position": null,
            "object_fit": null,
            "grid_auto_columns": null,
            "margin": null,
            "display": null,
            "left": null
          }
        },
        "78d3ee420a0e40f2aec44a68a57c4feb": {
          "model_module": "@jupyter-widgets/controls",
          "model_name": "HBoxModel",
          "model_module_version": "1.5.0",
          "state": {
            "_view_name": "HBoxView",
            "_dom_classes": [],
            "_model_name": "HBoxModel",
            "_view_module": "@jupyter-widgets/controls",
            "_model_module_version": "1.5.0",
            "_view_count": null,
            "_view_module_version": "1.5.0",
            "box_style": "",
            "layout": "IPY_MODEL_10f075c121c84ba19bf4c5fccb9ad3e6",
            "_model_module": "@jupyter-widgets/controls",
            "children": [
              "IPY_MODEL_04e76445e65d40b98807bd97cbdae4cf",
              "IPY_MODEL_d2b9c41936a447a3869755e06acdb583",
              "IPY_MODEL_d4bb54b086d9408faa8e5a3d659d34ab"
            ]
          }
        },
        "10f075c121c84ba19bf4c5fccb9ad3e6": {
          "model_module": "@jupyter-widgets/base",
          "model_name": "LayoutModel",
          "model_module_version": "1.2.0",
          "state": {
            "_view_name": "LayoutView",
            "grid_template_rows": null,
            "right": null,
            "justify_content": null,
            "_view_module": "@jupyter-widgets/base",
            "overflow": null,
            "_model_module_version": "1.2.0",
            "_view_count": null,
            "flex_flow": null,
            "width": null,
            "min_width": null,
            "border": null,
            "align_items": null,
            "bottom": null,
            "_model_module": "@jupyter-widgets/base",
            "top": null,
            "grid_column": null,
            "overflow_y": null,
            "overflow_x": null,
            "grid_auto_flow": null,
            "grid_area": null,
            "grid_template_columns": null,
            "flex": null,
            "_model_name": "LayoutModel",
            "justify_items": null,
            "grid_row": null,
            "max_height": null,
            "align_content": null,
            "visibility": null,
            "align_self": null,
            "height": null,
            "min_height": null,
            "padding": null,
            "grid_auto_rows": null,
            "grid_gap": null,
            "max_width": null,
            "order": null,
            "_view_module_version": "1.2.0",
            "grid_template_areas": null,
            "object_position": null,
            "object_fit": null,
            "grid_auto_columns": null,
            "margin": null,
            "display": null,
            "left": null
          }
        },
        "04e76445e65d40b98807bd97cbdae4cf": {
          "model_module": "@jupyter-widgets/controls",
          "model_name": "HTMLModel",
          "model_module_version": "1.5.0",
          "state": {
            "_view_name": "HTMLView",
            "style": "IPY_MODEL_7ce4df29e83b4840abc1c3a0fd717325",
            "_dom_classes": [],
            "description": "",
            "_model_name": "HTMLModel",
            "placeholder": "​",
            "_view_module": "@jupyter-widgets/controls",
            "_model_module_version": "1.5.0",
            "value": "Downloading: 100%",
            "_view_count": null,
            "_view_module_version": "1.5.0",
            "description_tooltip": null,
            "_model_module": "@jupyter-widgets/controls",
            "layout": "IPY_MODEL_458b4f39ba42493db737f5e33559d529"
          }
        },
        "d2b9c41936a447a3869755e06acdb583": {
          "model_module": "@jupyter-widgets/controls",
          "model_name": "FloatProgressModel",
          "model_module_version": "1.5.0",
          "state": {
            "_view_name": "ProgressView",
            "style": "IPY_MODEL_21b3240baf964dbf8bad50b75557b311",
            "_dom_classes": [],
            "description": "",
            "_model_name": "FloatProgressModel",
            "bar_style": "success",
            "max": 466081,
            "_view_module": "@jupyter-widgets/controls",
            "_model_module_version": "1.5.0",
            "value": 466081,
            "_view_count": null,
            "_view_module_version": "1.5.0",
            "orientation": "horizontal",
            "min": 0,
            "description_tooltip": null,
            "_model_module": "@jupyter-widgets/controls",
            "layout": "IPY_MODEL_2a4730972644452ea7e7bf5aa6838624"
          }
        },
        "d4bb54b086d9408faa8e5a3d659d34ab": {
          "model_module": "@jupyter-widgets/controls",
          "model_name": "HTMLModel",
          "model_module_version": "1.5.0",
          "state": {
            "_view_name": "HTMLView",
            "style": "IPY_MODEL_0c3c5c0c733a4808b772cbf9bb243ede",
            "_dom_classes": [],
            "description": "",
            "_model_name": "HTMLModel",
            "placeholder": "​",
            "_view_module": "@jupyter-widgets/controls",
            "_model_module_version": "1.5.0",
            "value": " 466k/466k [00:00&lt;00:00, 1.50MB/s]",
            "_view_count": null,
            "_view_module_version": "1.5.0",
            "description_tooltip": null,
            "_model_module": "@jupyter-widgets/controls",
            "layout": "IPY_MODEL_e600b825b9f64dd4a8ad09d56334ceb7"
          }
        },
        "7ce4df29e83b4840abc1c3a0fd717325": {
          "model_module": "@jupyter-widgets/controls",
          "model_name": "DescriptionStyleModel",
          "model_module_version": "1.5.0",
          "state": {
            "_view_name": "StyleView",
            "_model_name": "DescriptionStyleModel",
            "description_width": "",
            "_view_module": "@jupyter-widgets/base",
            "_model_module_version": "1.5.0",
            "_view_count": null,
            "_view_module_version": "1.2.0",
            "_model_module": "@jupyter-widgets/controls"
          }
        },
        "458b4f39ba42493db737f5e33559d529": {
          "model_module": "@jupyter-widgets/base",
          "model_name": "LayoutModel",
          "model_module_version": "1.2.0",
          "state": {
            "_view_name": "LayoutView",
            "grid_template_rows": null,
            "right": null,
            "justify_content": null,
            "_view_module": "@jupyter-widgets/base",
            "overflow": null,
            "_model_module_version": "1.2.0",
            "_view_count": null,
            "flex_flow": null,
            "width": null,
            "min_width": null,
            "border": null,
            "align_items": null,
            "bottom": null,
            "_model_module": "@jupyter-widgets/base",
            "top": null,
            "grid_column": null,
            "overflow_y": null,
            "overflow_x": null,
            "grid_auto_flow": null,
            "grid_area": null,
            "grid_template_columns": null,
            "flex": null,
            "_model_name": "LayoutModel",
            "justify_items": null,
            "grid_row": null,
            "max_height": null,
            "align_content": null,
            "visibility": null,
            "align_self": null,
            "height": null,
            "min_height": null,
            "padding": null,
            "grid_auto_rows": null,
            "grid_gap": null,
            "max_width": null,
            "order": null,
            "_view_module_version": "1.2.0",
            "grid_template_areas": null,
            "object_position": null,
            "object_fit": null,
            "grid_auto_columns": null,
            "margin": null,
            "display": null,
            "left": null
          }
        },
        "21b3240baf964dbf8bad50b75557b311": {
          "model_module": "@jupyter-widgets/controls",
          "model_name": "ProgressStyleModel",
          "model_module_version": "1.5.0",
          "state": {
            "_view_name": "StyleView",
            "_model_name": "ProgressStyleModel",
            "description_width": "",
            "_view_module": "@jupyter-widgets/base",
            "_model_module_version": "1.5.0",
            "_view_count": null,
            "_view_module_version": "1.2.0",
            "bar_color": null,
            "_model_module": "@jupyter-widgets/controls"
          }
        },
        "2a4730972644452ea7e7bf5aa6838624": {
          "model_module": "@jupyter-widgets/base",
          "model_name": "LayoutModel",
          "model_module_version": "1.2.0",
          "state": {
            "_view_name": "LayoutView",
            "grid_template_rows": null,
            "right": null,
            "justify_content": null,
            "_view_module": "@jupyter-widgets/base",
            "overflow": null,
            "_model_module_version": "1.2.0",
            "_view_count": null,
            "flex_flow": null,
            "width": null,
            "min_width": null,
            "border": null,
            "align_items": null,
            "bottom": null,
            "_model_module": "@jupyter-widgets/base",
            "top": null,
            "grid_column": null,
            "overflow_y": null,
            "overflow_x": null,
            "grid_auto_flow": null,
            "grid_area": null,
            "grid_template_columns": null,
            "flex": null,
            "_model_name": "LayoutModel",
            "justify_items": null,
            "grid_row": null,
            "max_height": null,
            "align_content": null,
            "visibility": null,
            "align_self": null,
            "height": null,
            "min_height": null,
            "padding": null,
            "grid_auto_rows": null,
            "grid_gap": null,
            "max_width": null,
            "order": null,
            "_view_module_version": "1.2.0",
            "grid_template_areas": null,
            "object_position": null,
            "object_fit": null,
            "grid_auto_columns": null,
            "margin": null,
            "display": null,
            "left": null
          }
        },
        "0c3c5c0c733a4808b772cbf9bb243ede": {
          "model_module": "@jupyter-widgets/controls",
          "model_name": "DescriptionStyleModel",
          "model_module_version": "1.5.0",
          "state": {
            "_view_name": "StyleView",
            "_model_name": "DescriptionStyleModel",
            "description_width": "",
            "_view_module": "@jupyter-widgets/base",
            "_model_module_version": "1.5.0",
            "_view_count": null,
            "_view_module_version": "1.2.0",
            "_model_module": "@jupyter-widgets/controls"
          }
        },
        "e600b825b9f64dd4a8ad09d56334ceb7": {
          "model_module": "@jupyter-widgets/base",
          "model_name": "LayoutModel",
          "model_module_version": "1.2.0",
          "state": {
            "_view_name": "LayoutView",
            "grid_template_rows": null,
            "right": null,
            "justify_content": null,
            "_view_module": "@jupyter-widgets/base",
            "overflow": null,
            "_model_module_version": "1.2.0",
            "_view_count": null,
            "flex_flow": null,
            "width": null,
            "min_width": null,
            "border": null,
            "align_items": null,
            "bottom": null,
            "_model_module": "@jupyter-widgets/base",
            "top": null,
            "grid_column": null,
            "overflow_y": null,
            "overflow_x": null,
            "grid_auto_flow": null,
            "grid_area": null,
            "grid_template_columns": null,
            "flex": null,
            "_model_name": "LayoutModel",
            "justify_items": null,
            "grid_row": null,
            "max_height": null,
            "align_content": null,
            "visibility": null,
            "align_self": null,
            "height": null,
            "min_height": null,
            "padding": null,
            "grid_auto_rows": null,
            "grid_gap": null,
            "max_width": null,
            "order": null,
            "_view_module_version": "1.2.0",
            "grid_template_areas": null,
            "object_position": null,
            "object_fit": null,
            "grid_auto_columns": null,
            "margin": null,
            "display": null,
            "left": null
          }
        },
        "70a7d28994d048e09895e55450f5f992": {
          "model_module": "@jupyter-widgets/controls",
          "model_name": "HBoxModel",
          "model_module_version": "1.5.0",
          "state": {
            "_view_name": "HBoxView",
            "_dom_classes": [],
            "_model_name": "HBoxModel",
            "_view_module": "@jupyter-widgets/controls",
            "_model_module_version": "1.5.0",
            "_view_count": null,
            "_view_module_version": "1.5.0",
            "box_style": "",
            "layout": "IPY_MODEL_b8839aacd36b41f1bfaccf90e9023041",
            "_model_module": "@jupyter-widgets/controls",
            "children": [
              "IPY_MODEL_76d1d8b6ef174edbac8ec4f36002139c",
              "IPY_MODEL_dfab9b92a80d4fdab55a8ed31640d2ae",
              "IPY_MODEL_4341a1d4517f423eb126a2209bda5ee5"
            ]
          }
        },
        "b8839aacd36b41f1bfaccf90e9023041": {
          "model_module": "@jupyter-widgets/base",
          "model_name": "LayoutModel",
          "model_module_version": "1.2.0",
          "state": {
            "_view_name": "LayoutView",
            "grid_template_rows": null,
            "right": null,
            "justify_content": null,
            "_view_module": "@jupyter-widgets/base",
            "overflow": null,
            "_model_module_version": "1.2.0",
            "_view_count": null,
            "flex_flow": null,
            "width": null,
            "min_width": null,
            "border": null,
            "align_items": null,
            "bottom": null,
            "_model_module": "@jupyter-widgets/base",
            "top": null,
            "grid_column": null,
            "overflow_y": null,
            "overflow_x": null,
            "grid_auto_flow": null,
            "grid_area": null,
            "grid_template_columns": null,
            "flex": null,
            "_model_name": "LayoutModel",
            "justify_items": null,
            "grid_row": null,
            "max_height": null,
            "align_content": null,
            "visibility": null,
            "align_self": null,
            "height": null,
            "min_height": null,
            "padding": null,
            "grid_auto_rows": null,
            "grid_gap": null,
            "max_width": null,
            "order": null,
            "_view_module_version": "1.2.0",
            "grid_template_areas": null,
            "object_position": null,
            "object_fit": null,
            "grid_auto_columns": null,
            "margin": null,
            "display": null,
            "left": null
          }
        },
        "76d1d8b6ef174edbac8ec4f36002139c": {
          "model_module": "@jupyter-widgets/controls",
          "model_name": "HTMLModel",
          "model_module_version": "1.5.0",
          "state": {
            "_view_name": "HTMLView",
            "style": "IPY_MODEL_b42fa6b8138f44febaeb5cc2ef3588ca",
            "_dom_classes": [],
            "description": "",
            "_model_name": "HTMLModel",
            "placeholder": "​",
            "_view_module": "@jupyter-widgets/controls",
            "_model_module_version": "1.5.0",
            "value": "Downloading: 100%",
            "_view_count": null,
            "_view_module_version": "1.5.0",
            "description_tooltip": null,
            "_model_module": "@jupyter-widgets/controls",
            "layout": "IPY_MODEL_c5b71ca9d05f4822a28353524c14e0ad"
          }
        },
        "dfab9b92a80d4fdab55a8ed31640d2ae": {
          "model_module": "@jupyter-widgets/controls",
          "model_name": "FloatProgressModel",
          "model_module_version": "1.5.0",
          "state": {
            "_view_name": "ProgressView",
            "style": "IPY_MODEL_56d378b448454614b14cdb88845f0970",
            "_dom_classes": [],
            "description": "",
            "_model_name": "FloatProgressModel",
            "bar_style": "success",
            "max": 2,
            "_view_module": "@jupyter-widgets/controls",
            "_model_module_version": "1.5.0",
            "value": 2,
            "_view_count": null,
            "_view_module_version": "1.5.0",
            "orientation": "horizontal",
            "min": 0,
            "description_tooltip": null,
            "_model_module": "@jupyter-widgets/controls",
            "layout": "IPY_MODEL_22198a551fe0411e9385666cba236f04"
          }
        },
        "4341a1d4517f423eb126a2209bda5ee5": {
          "model_module": "@jupyter-widgets/controls",
          "model_name": "HTMLModel",
          "model_module_version": "1.5.0",
          "state": {
            "_view_name": "HTMLView",
            "style": "IPY_MODEL_e0f9902313734c62b337ec10ac6d7ae7",
            "_dom_classes": [],
            "description": "",
            "_model_name": "HTMLModel",
            "placeholder": "​",
            "_view_module": "@jupyter-widgets/controls",
            "_model_module_version": "1.5.0",
            "value": " 2.00/2.00 [00:00&lt;00:00, 34.8B/s]",
            "_view_count": null,
            "_view_module_version": "1.5.0",
            "description_tooltip": null,
            "_model_module": "@jupyter-widgets/controls",
            "layout": "IPY_MODEL_efd2a51ce76640b5b76c8ad4b7a3d3a5"
          }
        },
        "b42fa6b8138f44febaeb5cc2ef3588ca": {
          "model_module": "@jupyter-widgets/controls",
          "model_name": "DescriptionStyleModel",
          "model_module_version": "1.5.0",
          "state": {
            "_view_name": "StyleView",
            "_model_name": "DescriptionStyleModel",
            "description_width": "",
            "_view_module": "@jupyter-widgets/base",
            "_model_module_version": "1.5.0",
            "_view_count": null,
            "_view_module_version": "1.2.0",
            "_model_module": "@jupyter-widgets/controls"
          }
        },
        "c5b71ca9d05f4822a28353524c14e0ad": {
          "model_module": "@jupyter-widgets/base",
          "model_name": "LayoutModel",
          "model_module_version": "1.2.0",
          "state": {
            "_view_name": "LayoutView",
            "grid_template_rows": null,
            "right": null,
            "justify_content": null,
            "_view_module": "@jupyter-widgets/base",
            "overflow": null,
            "_model_module_version": "1.2.0",
            "_view_count": null,
            "flex_flow": null,
            "width": null,
            "min_width": null,
            "border": null,
            "align_items": null,
            "bottom": null,
            "_model_module": "@jupyter-widgets/base",
            "top": null,
            "grid_column": null,
            "overflow_y": null,
            "overflow_x": null,
            "grid_auto_flow": null,
            "grid_area": null,
            "grid_template_columns": null,
            "flex": null,
            "_model_name": "LayoutModel",
            "justify_items": null,
            "grid_row": null,
            "max_height": null,
            "align_content": null,
            "visibility": null,
            "align_self": null,
            "height": null,
            "min_height": null,
            "padding": null,
            "grid_auto_rows": null,
            "grid_gap": null,
            "max_width": null,
            "order": null,
            "_view_module_version": "1.2.0",
            "grid_template_areas": null,
            "object_position": null,
            "object_fit": null,
            "grid_auto_columns": null,
            "margin": null,
            "display": null,
            "left": null
          }
        },
        "56d378b448454614b14cdb88845f0970": {
          "model_module": "@jupyter-widgets/controls",
          "model_name": "ProgressStyleModel",
          "model_module_version": "1.5.0",
          "state": {
            "_view_name": "StyleView",
            "_model_name": "ProgressStyleModel",
            "description_width": "",
            "_view_module": "@jupyter-widgets/base",
            "_model_module_version": "1.5.0",
            "_view_count": null,
            "_view_module_version": "1.2.0",
            "bar_color": null,
            "_model_module": "@jupyter-widgets/controls"
          }
        },
        "22198a551fe0411e9385666cba236f04": {
          "model_module": "@jupyter-widgets/base",
          "model_name": "LayoutModel",
          "model_module_version": "1.2.0",
          "state": {
            "_view_name": "LayoutView",
            "grid_template_rows": null,
            "right": null,
            "justify_content": null,
            "_view_module": "@jupyter-widgets/base",
            "overflow": null,
            "_model_module_version": "1.2.0",
            "_view_count": null,
            "flex_flow": null,
            "width": null,
            "min_width": null,
            "border": null,
            "align_items": null,
            "bottom": null,
            "_model_module": "@jupyter-widgets/base",
            "top": null,
            "grid_column": null,
            "overflow_y": null,
            "overflow_x": null,
            "grid_auto_flow": null,
            "grid_area": null,
            "grid_template_columns": null,
            "flex": null,
            "_model_name": "LayoutModel",
            "justify_items": null,
            "grid_row": null,
            "max_height": null,
            "align_content": null,
            "visibility": null,
            "align_self": null,
            "height": null,
            "min_height": null,
            "padding": null,
            "grid_auto_rows": null,
            "grid_gap": null,
            "max_width": null,
            "order": null,
            "_view_module_version": "1.2.0",
            "grid_template_areas": null,
            "object_position": null,
            "object_fit": null,
            "grid_auto_columns": null,
            "margin": null,
            "display": null,
            "left": null
          }
        },
        "e0f9902313734c62b337ec10ac6d7ae7": {
          "model_module": "@jupyter-widgets/controls",
          "model_name": "DescriptionStyleModel",
          "model_module_version": "1.5.0",
          "state": {
            "_view_name": "StyleView",
            "_model_name": "DescriptionStyleModel",
            "description_width": "",
            "_view_module": "@jupyter-widgets/base",
            "_model_module_version": "1.5.0",
            "_view_count": null,
            "_view_module_version": "1.2.0",
            "_model_module": "@jupyter-widgets/controls"
          }
        },
        "efd2a51ce76640b5b76c8ad4b7a3d3a5": {
          "model_module": "@jupyter-widgets/base",
          "model_name": "LayoutModel",
          "model_module_version": "1.2.0",
          "state": {
            "_view_name": "LayoutView",
            "grid_template_rows": null,
            "right": null,
            "justify_content": null,
            "_view_module": "@jupyter-widgets/base",
            "overflow": null,
            "_model_module_version": "1.2.0",
            "_view_count": null,
            "flex_flow": null,
            "width": null,
            "min_width": null,
            "border": null,
            "align_items": null,
            "bottom": null,
            "_model_module": "@jupyter-widgets/base",
            "top": null,
            "grid_column": null,
            "overflow_y": null,
            "overflow_x": null,
            "grid_auto_flow": null,
            "grid_area": null,
            "grid_template_columns": null,
            "flex": null,
            "_model_name": "LayoutModel",
            "justify_items": null,
            "grid_row": null,
            "max_height": null,
            "align_content": null,
            "visibility": null,
            "align_self": null,
            "height": null,
            "min_height": null,
            "padding": null,
            "grid_auto_rows": null,
            "grid_gap": null,
            "max_width": null,
            "order": null,
            "_view_module_version": "1.2.0",
            "grid_template_areas": null,
            "object_position": null,
            "object_fit": null,
            "grid_auto_columns": null,
            "margin": null,
            "display": null,
            "left": null
          }
        },
        "0e0dd0f8cb894cd2b59d698cc283ab77": {
          "model_module": "@jupyter-widgets/controls",
          "model_name": "HBoxModel",
          "model_module_version": "1.5.0",
          "state": {
            "_view_name": "HBoxView",
            "_dom_classes": [],
            "_model_name": "HBoxModel",
            "_view_module": "@jupyter-widgets/controls",
            "_model_module_version": "1.5.0",
            "_view_count": null,
            "_view_module_version": "1.5.0",
            "box_style": "",
            "layout": "IPY_MODEL_27b5f44f85b44ddca2d27fafef35ff3b",
            "_model_module": "@jupyter-widgets/controls",
            "children": [
              "IPY_MODEL_6e6f8c6c381b4ce1aa8e49f14684c473",
              "IPY_MODEL_cc5dc15914aa4143a14168f1321183bb",
              "IPY_MODEL_4b8ef189a96d4e4cb8b9434830868761"
            ]
          }
        },
        "27b5f44f85b44ddca2d27fafef35ff3b": {
          "model_module": "@jupyter-widgets/base",
          "model_name": "LayoutModel",
          "model_module_version": "1.2.0",
          "state": {
            "_view_name": "LayoutView",
            "grid_template_rows": null,
            "right": null,
            "justify_content": null,
            "_view_module": "@jupyter-widgets/base",
            "overflow": null,
            "_model_module_version": "1.2.0",
            "_view_count": null,
            "flex_flow": null,
            "width": null,
            "min_width": null,
            "border": null,
            "align_items": null,
            "bottom": null,
            "_model_module": "@jupyter-widgets/base",
            "top": null,
            "grid_column": null,
            "overflow_y": null,
            "overflow_x": null,
            "grid_auto_flow": null,
            "grid_area": null,
            "grid_template_columns": null,
            "flex": null,
            "_model_name": "LayoutModel",
            "justify_items": null,
            "grid_row": null,
            "max_height": null,
            "align_content": null,
            "visibility": null,
            "align_self": null,
            "height": null,
            "min_height": null,
            "padding": null,
            "grid_auto_rows": null,
            "grid_gap": null,
            "max_width": null,
            "order": null,
            "_view_module_version": "1.2.0",
            "grid_template_areas": null,
            "object_position": null,
            "object_fit": null,
            "grid_auto_columns": null,
            "margin": null,
            "display": null,
            "left": null
          }
        },
        "6e6f8c6c381b4ce1aa8e49f14684c473": {
          "model_module": "@jupyter-widgets/controls",
          "model_name": "HTMLModel",
          "model_module_version": "1.5.0",
          "state": {
            "_view_name": "HTMLView",
            "style": "IPY_MODEL_df057131e9c04e489a7b368c1357764e",
            "_dom_classes": [],
            "description": "",
            "_model_name": "HTMLModel",
            "placeholder": "​",
            "_view_module": "@jupyter-widgets/controls",
            "_model_module_version": "1.5.0",
            "value": "Downloading: 100%",
            "_view_count": null,
            "_view_module_version": "1.5.0",
            "description_tooltip": null,
            "_model_module": "@jupyter-widgets/controls",
            "layout": "IPY_MODEL_1359d862a55d4db683eb46b466ed16ca"
          }
        },
        "cc5dc15914aa4143a14168f1321183bb": {
          "model_module": "@jupyter-widgets/controls",
          "model_name": "FloatProgressModel",
          "model_module_version": "1.5.0",
          "state": {
            "_view_name": "ProgressView",
            "style": "IPY_MODEL_01b58c6203a84b119647e9cbec2fb42c",
            "_dom_classes": [],
            "description": "",
            "_model_name": "FloatProgressModel",
            "bar_style": "success",
            "max": 112,
            "_view_module": "@jupyter-widgets/controls",
            "_model_module_version": "1.5.0",
            "value": 112,
            "_view_count": null,
            "_view_module_version": "1.5.0",
            "orientation": "horizontal",
            "min": 0,
            "description_tooltip": null,
            "_model_module": "@jupyter-widgets/controls",
            "layout": "IPY_MODEL_d2c7b5823c654f198f322c251128568c"
          }
        },
        "4b8ef189a96d4e4cb8b9434830868761": {
          "model_module": "@jupyter-widgets/controls",
          "model_name": "HTMLModel",
          "model_module_version": "1.5.0",
          "state": {
            "_view_name": "HTMLView",
            "style": "IPY_MODEL_cad9c9c8ac6246ad8a4d09a813932ae5",
            "_dom_classes": [],
            "description": "",
            "_model_name": "HTMLModel",
            "placeholder": "​",
            "_view_module": "@jupyter-widgets/controls",
            "_model_module_version": "1.5.0",
            "value": " 112/112 [00:00&lt;00:00, 2.83kB/s]",
            "_view_count": null,
            "_view_module_version": "1.5.0",
            "description_tooltip": null,
            "_model_module": "@jupyter-widgets/controls",
            "layout": "IPY_MODEL_9c9e9d18b935462d8e0cfb0c8ee8832b"
          }
        },
        "df057131e9c04e489a7b368c1357764e": {
          "model_module": "@jupyter-widgets/controls",
          "model_name": "DescriptionStyleModel",
          "model_module_version": "1.5.0",
          "state": {
            "_view_name": "StyleView",
            "_model_name": "DescriptionStyleModel",
            "description_width": "",
            "_view_module": "@jupyter-widgets/base",
            "_model_module_version": "1.5.0",
            "_view_count": null,
            "_view_module_version": "1.2.0",
            "_model_module": "@jupyter-widgets/controls"
          }
        },
        "1359d862a55d4db683eb46b466ed16ca": {
          "model_module": "@jupyter-widgets/base",
          "model_name": "LayoutModel",
          "model_module_version": "1.2.0",
          "state": {
            "_view_name": "LayoutView",
            "grid_template_rows": null,
            "right": null,
            "justify_content": null,
            "_view_module": "@jupyter-widgets/base",
            "overflow": null,
            "_model_module_version": "1.2.0",
            "_view_count": null,
            "flex_flow": null,
            "width": null,
            "min_width": null,
            "border": null,
            "align_items": null,
            "bottom": null,
            "_model_module": "@jupyter-widgets/base",
            "top": null,
            "grid_column": null,
            "overflow_y": null,
            "overflow_x": null,
            "grid_auto_flow": null,
            "grid_area": null,
            "grid_template_columns": null,
            "flex": null,
            "_model_name": "LayoutModel",
            "justify_items": null,
            "grid_row": null,
            "max_height": null,
            "align_content": null,
            "visibility": null,
            "align_self": null,
            "height": null,
            "min_height": null,
            "padding": null,
            "grid_auto_rows": null,
            "grid_gap": null,
            "max_width": null,
            "order": null,
            "_view_module_version": "1.2.0",
            "grid_template_areas": null,
            "object_position": null,
            "object_fit": null,
            "grid_auto_columns": null,
            "margin": null,
            "display": null,
            "left": null
          }
        },
        "01b58c6203a84b119647e9cbec2fb42c": {
          "model_module": "@jupyter-widgets/controls",
          "model_name": "ProgressStyleModel",
          "model_module_version": "1.5.0",
          "state": {
            "_view_name": "StyleView",
            "_model_name": "ProgressStyleModel",
            "description_width": "",
            "_view_module": "@jupyter-widgets/base",
            "_model_module_version": "1.5.0",
            "_view_count": null,
            "_view_module_version": "1.2.0",
            "bar_color": null,
            "_model_module": "@jupyter-widgets/controls"
          }
        },
        "d2c7b5823c654f198f322c251128568c": {
          "model_module": "@jupyter-widgets/base",
          "model_name": "LayoutModel",
          "model_module_version": "1.2.0",
          "state": {
            "_view_name": "LayoutView",
            "grid_template_rows": null,
            "right": null,
            "justify_content": null,
            "_view_module": "@jupyter-widgets/base",
            "overflow": null,
            "_model_module_version": "1.2.0",
            "_view_count": null,
            "flex_flow": null,
            "width": null,
            "min_width": null,
            "border": null,
            "align_items": null,
            "bottom": null,
            "_model_module": "@jupyter-widgets/base",
            "top": null,
            "grid_column": null,
            "overflow_y": null,
            "overflow_x": null,
            "grid_auto_flow": null,
            "grid_area": null,
            "grid_template_columns": null,
            "flex": null,
            "_model_name": "LayoutModel",
            "justify_items": null,
            "grid_row": null,
            "max_height": null,
            "align_content": null,
            "visibility": null,
            "align_self": null,
            "height": null,
            "min_height": null,
            "padding": null,
            "grid_auto_rows": null,
            "grid_gap": null,
            "max_width": null,
            "order": null,
            "_view_module_version": "1.2.0",
            "grid_template_areas": null,
            "object_position": null,
            "object_fit": null,
            "grid_auto_columns": null,
            "margin": null,
            "display": null,
            "left": null
          }
        },
        "cad9c9c8ac6246ad8a4d09a813932ae5": {
          "model_module": "@jupyter-widgets/controls",
          "model_name": "DescriptionStyleModel",
          "model_module_version": "1.5.0",
          "state": {
            "_view_name": "StyleView",
            "_model_name": "DescriptionStyleModel",
            "description_width": "",
            "_view_module": "@jupyter-widgets/base",
            "_model_module_version": "1.5.0",
            "_view_count": null,
            "_view_module_version": "1.2.0",
            "_model_module": "@jupyter-widgets/controls"
          }
        },
        "9c9e9d18b935462d8e0cfb0c8ee8832b": {
          "model_module": "@jupyter-widgets/base",
          "model_name": "LayoutModel",
          "model_module_version": "1.2.0",
          "state": {
            "_view_name": "LayoutView",
            "grid_template_rows": null,
            "right": null,
            "justify_content": null,
            "_view_module": "@jupyter-widgets/base",
            "overflow": null,
            "_model_module_version": "1.2.0",
            "_view_count": null,
            "flex_flow": null,
            "width": null,
            "min_width": null,
            "border": null,
            "align_items": null,
            "bottom": null,
            "_model_module": "@jupyter-widgets/base",
            "top": null,
            "grid_column": null,
            "overflow_y": null,
            "overflow_x": null,
            "grid_auto_flow": null,
            "grid_area": null,
            "grid_template_columns": null,
            "flex": null,
            "_model_name": "LayoutModel",
            "justify_items": null,
            "grid_row": null,
            "max_height": null,
            "align_content": null,
            "visibility": null,
            "align_self": null,
            "height": null,
            "min_height": null,
            "padding": null,
            "grid_auto_rows": null,
            "grid_gap": null,
            "max_width": null,
            "order": null,
            "_view_module_version": "1.2.0",
            "grid_template_areas": null,
            "object_position": null,
            "object_fit": null,
            "grid_auto_columns": null,
            "margin": null,
            "display": null,
            "left": null
          }
        },
        "f2a9839c1ebf4d8fa150ee46542f786f": {
          "model_module": "@jupyter-widgets/controls",
          "model_name": "HBoxModel",
          "model_module_version": "1.5.0",
          "state": {
            "_view_name": "HBoxView",
            "_dom_classes": [],
            "_model_name": "HBoxModel",
            "_view_module": "@jupyter-widgets/controls",
            "_model_module_version": "1.5.0",
            "_view_count": null,
            "_view_module_version": "1.5.0",
            "box_style": "",
            "layout": "IPY_MODEL_fc1478bc134e476a881f6b1d61446468",
            "_model_module": "@jupyter-widgets/controls",
            "children": [
              "IPY_MODEL_d30eb23c2a454d759f0ae8d40dca99c4",
              "IPY_MODEL_7e1ace8b08e343de9a65203560303ae0",
              "IPY_MODEL_c65cf954d9974dad9877cbda9f77c59d"
            ]
          }
        },
        "fc1478bc134e476a881f6b1d61446468": {
          "model_module": "@jupyter-widgets/base",
          "model_name": "LayoutModel",
          "model_module_version": "1.2.0",
          "state": {
            "_view_name": "LayoutView",
            "grid_template_rows": null,
            "right": null,
            "justify_content": null,
            "_view_module": "@jupyter-widgets/base",
            "overflow": null,
            "_model_module_version": "1.2.0",
            "_view_count": null,
            "flex_flow": null,
            "width": null,
            "min_width": null,
            "border": null,
            "align_items": null,
            "bottom": null,
            "_model_module": "@jupyter-widgets/base",
            "top": null,
            "grid_column": null,
            "overflow_y": null,
            "overflow_x": null,
            "grid_auto_flow": null,
            "grid_area": null,
            "grid_template_columns": null,
            "flex": null,
            "_model_name": "LayoutModel",
            "justify_items": null,
            "grid_row": null,
            "max_height": null,
            "align_content": null,
            "visibility": null,
            "align_self": null,
            "height": null,
            "min_height": null,
            "padding": null,
            "grid_auto_rows": null,
            "grid_gap": null,
            "max_width": null,
            "order": null,
            "_view_module_version": "1.2.0",
            "grid_template_areas": null,
            "object_position": null,
            "object_fit": null,
            "grid_auto_columns": null,
            "margin": null,
            "display": null,
            "left": null
          }
        },
        "d30eb23c2a454d759f0ae8d40dca99c4": {
          "model_module": "@jupyter-widgets/controls",
          "model_name": "HTMLModel",
          "model_module_version": "1.5.0",
          "state": {
            "_view_name": "HTMLView",
            "style": "IPY_MODEL_d0e2436cfcef4021909f2f43c72692d3",
            "_dom_classes": [],
            "description": "",
            "_model_name": "HTMLModel",
            "placeholder": "​",
            "_view_module": "@jupyter-widgets/controls",
            "_model_module_version": "1.5.0",
            "value": "Downloading: 100%",
            "_view_count": null,
            "_view_module_version": "1.5.0",
            "description_tooltip": null,
            "_model_module": "@jupyter-widgets/controls",
            "layout": "IPY_MODEL_b527f191852b433a86395bbb269d7898"
          }
        },
        "7e1ace8b08e343de9a65203560303ae0": {
          "model_module": "@jupyter-widgets/controls",
          "model_name": "FloatProgressModel",
          "model_module_version": "1.5.0",
          "state": {
            "_view_name": "ProgressView",
            "style": "IPY_MODEL_34ed605a2d1f4b2c946c0933d49dfc20",
            "_dom_classes": [],
            "description": "",
            "_model_name": "FloatProgressModel",
            "bar_style": "success",
            "max": 438007537,
            "_view_module": "@jupyter-widgets/controls",
            "_model_module_version": "1.5.0",
            "value": 438007537,
            "_view_count": null,
            "_view_module_version": "1.5.0",
            "orientation": "horizontal",
            "min": 0,
            "description_tooltip": null,
            "_model_module": "@jupyter-widgets/controls",
            "layout": "IPY_MODEL_03e7a60a627648b29f8ccd5bf37952e4"
          }
        },
        "c65cf954d9974dad9877cbda9f77c59d": {
          "model_module": "@jupyter-widgets/controls",
          "model_name": "HTMLModel",
          "model_module_version": "1.5.0",
          "state": {
            "_view_name": "HTMLView",
            "style": "IPY_MODEL_4d6f3faf2f7b4744b7f30591b24cc89e",
            "_dom_classes": [],
            "description": "",
            "_model_name": "HTMLModel",
            "placeholder": "​",
            "_view_module": "@jupyter-widgets/controls",
            "_model_module_version": "1.5.0",
            "value": " 438M/438M [00:11&lt;00:00, 30.0MB/s]",
            "_view_count": null,
            "_view_module_version": "1.5.0",
            "description_tooltip": null,
            "_model_module": "@jupyter-widgets/controls",
            "layout": "IPY_MODEL_01a016ec2721404c8138a22fd161564b"
          }
        },
        "d0e2436cfcef4021909f2f43c72692d3": {
          "model_module": "@jupyter-widgets/controls",
          "model_name": "DescriptionStyleModel",
          "model_module_version": "1.5.0",
          "state": {
            "_view_name": "StyleView",
            "_model_name": "DescriptionStyleModel",
            "description_width": "",
            "_view_module": "@jupyter-widgets/base",
            "_model_module_version": "1.5.0",
            "_view_count": null,
            "_view_module_version": "1.2.0",
            "_model_module": "@jupyter-widgets/controls"
          }
        },
        "b527f191852b433a86395bbb269d7898": {
          "model_module": "@jupyter-widgets/base",
          "model_name": "LayoutModel",
          "model_module_version": "1.2.0",
          "state": {
            "_view_name": "LayoutView",
            "grid_template_rows": null,
            "right": null,
            "justify_content": null,
            "_view_module": "@jupyter-widgets/base",
            "overflow": null,
            "_model_module_version": "1.2.0",
            "_view_count": null,
            "flex_flow": null,
            "width": null,
            "min_width": null,
            "border": null,
            "align_items": null,
            "bottom": null,
            "_model_module": "@jupyter-widgets/base",
            "top": null,
            "grid_column": null,
            "overflow_y": null,
            "overflow_x": null,
            "grid_auto_flow": null,
            "grid_area": null,
            "grid_template_columns": null,
            "flex": null,
            "_model_name": "LayoutModel",
            "justify_items": null,
            "grid_row": null,
            "max_height": null,
            "align_content": null,
            "visibility": null,
            "align_self": null,
            "height": null,
            "min_height": null,
            "padding": null,
            "grid_auto_rows": null,
            "grid_gap": null,
            "max_width": null,
            "order": null,
            "_view_module_version": "1.2.0",
            "grid_template_areas": null,
            "object_position": null,
            "object_fit": null,
            "grid_auto_columns": null,
            "margin": null,
            "display": null,
            "left": null
          }
        },
        "34ed605a2d1f4b2c946c0933d49dfc20": {
          "model_module": "@jupyter-widgets/controls",
          "model_name": "ProgressStyleModel",
          "model_module_version": "1.5.0",
          "state": {
            "_view_name": "StyleView",
            "_model_name": "ProgressStyleModel",
            "description_width": "",
            "_view_module": "@jupyter-widgets/base",
            "_model_module_version": "1.5.0",
            "_view_count": null,
            "_view_module_version": "1.2.0",
            "bar_color": null,
            "_model_module": "@jupyter-widgets/controls"
          }
        },
        "03e7a60a627648b29f8ccd5bf37952e4": {
          "model_module": "@jupyter-widgets/base",
          "model_name": "LayoutModel",
          "model_module_version": "1.2.0",
          "state": {
            "_view_name": "LayoutView",
            "grid_template_rows": null,
            "right": null,
            "justify_content": null,
            "_view_module": "@jupyter-widgets/base",
            "overflow": null,
            "_model_module_version": "1.2.0",
            "_view_count": null,
            "flex_flow": null,
            "width": null,
            "min_width": null,
            "border": null,
            "align_items": null,
            "bottom": null,
            "_model_module": "@jupyter-widgets/base",
            "top": null,
            "grid_column": null,
            "overflow_y": null,
            "overflow_x": null,
            "grid_auto_flow": null,
            "grid_area": null,
            "grid_template_columns": null,
            "flex": null,
            "_model_name": "LayoutModel",
            "justify_items": null,
            "grid_row": null,
            "max_height": null,
            "align_content": null,
            "visibility": null,
            "align_self": null,
            "height": null,
            "min_height": null,
            "padding": null,
            "grid_auto_rows": null,
            "grid_gap": null,
            "max_width": null,
            "order": null,
            "_view_module_version": "1.2.0",
            "grid_template_areas": null,
            "object_position": null,
            "object_fit": null,
            "grid_auto_columns": null,
            "margin": null,
            "display": null,
            "left": null
          }
        },
        "4d6f3faf2f7b4744b7f30591b24cc89e": {
          "model_module": "@jupyter-widgets/controls",
          "model_name": "DescriptionStyleModel",
          "model_module_version": "1.5.0",
          "state": {
            "_view_name": "StyleView",
            "_model_name": "DescriptionStyleModel",
            "description_width": "",
            "_view_module": "@jupyter-widgets/base",
            "_model_module_version": "1.5.0",
            "_view_count": null,
            "_view_module_version": "1.2.0",
            "_model_module": "@jupyter-widgets/controls"
          }
        },
        "01a016ec2721404c8138a22fd161564b": {
          "model_module": "@jupyter-widgets/base",
          "model_name": "LayoutModel",
          "model_module_version": "1.2.0",
          "state": {
            "_view_name": "LayoutView",
            "grid_template_rows": null,
            "right": null,
            "justify_content": null,
            "_view_module": "@jupyter-widgets/base",
            "overflow": null,
            "_model_module_version": "1.2.0",
            "_view_count": null,
            "flex_flow": null,
            "width": null,
            "min_width": null,
            "border": null,
            "align_items": null,
            "bottom": null,
            "_model_module": "@jupyter-widgets/base",
            "top": null,
            "grid_column": null,
            "overflow_y": null,
            "overflow_x": null,
            "grid_auto_flow": null,
            "grid_area": null,
            "grid_template_columns": null,
            "flex": null,
            "_model_name": "LayoutModel",
            "justify_items": null,
            "grid_row": null,
            "max_height": null,
            "align_content": null,
            "visibility": null,
            "align_self": null,
            "height": null,
            "min_height": null,
            "padding": null,
            "grid_auto_rows": null,
            "grid_gap": null,
            "max_width": null,
            "order": null,
            "_view_module_version": "1.2.0",
            "grid_template_areas": null,
            "object_position": null,
            "object_fit": null,
            "grid_auto_columns": null,
            "margin": null,
            "display": null,
            "left": null
          }
        }
      }
    }
  },
  "cells": [
    {
      "cell_type": "markdown",
      "metadata": {
        "id": "O58bXLzre-me"
      },
      "source": [
        "## What is OWASP?\n",
        "OWASP stands for the Open Web Application Security Project, an online community that produces articles, methodologies, documentation, tools, and technologies in the field of web application security.\n",
        "\n",
        "## What is the OWASP Top 10?\n",
        "OWASP Top 10 is the list of the 10 most common application vulnerabilities. It also shows their risks, impacts, and countermeasures. Updated every three to four years, the latest OWASP vulnerabilities list was released in 2017. Let’s dive into it!\n",
        "\n",
        "##The Top 10 OWASP vulnerabilities in 2021 are:\n",
        "\n",
        "*   Injection.\n",
        "*   Broken authentication.\n",
        "*   Sensitive data exposure.\n",
        "*   XML external entities (XXE)\n",
        "*   Broken access control.\n",
        "*   Security misconfigurations.\n",
        "*   Cross site scripting (XSS)\n",
        "*   Insecure deserialization.\n",
        "*   Using components with known vulnerabilities\n",
        "*   Insufficient logging and monitoring\n",
        "\n"
      ]
    },
    {
      "cell_type": "markdown",
      "metadata": {
        "id": "V_xexUgomuvf"
      },
      "source": [
        "webpage , list of urls, -> values,\n",
        "credit score(landing club) dataset credibility dataset and genera  finding the type of page"
      ]
    },
    {
      "cell_type": "markdown",
      "metadata": {
        "id": "cJkZXQZfzVXR"
      },
      "source": [
        "# Web Crawler --"
      ]
    },
    {
      "cell_type": "code",
      "metadata": {
        "colab": {
          "base_uri": "https://localhost:8080/"
        },
        "id": "NPLfHrbzt08k",
        "outputId": "800b9da7-04bf-449f-fa1f-34c3bad064f9"
      },
      "source": [
        "import nltk\n",
        "nltk.download('averaged_perceptron_tagger')\n",
        "nltk.download('stopwords')\n",
        "nltk.download('punkt')\n",
        "nltk.download('maxent_ne_chunker')\n",
        "from nltk.corpus import stopwords\n",
        "from nltk.tokenize import word_tokenize, sent_tokenize\n",
        "stop_words = set(stopwords.words('english'))\n",
        "nltk.download(\"words\")"
      ],
      "execution_count": null,
      "outputs": [
        {
          "output_type": "stream",
          "text": [
            "[nltk_data] Downloading package averaged_perceptron_tagger to\n",
            "[nltk_data]     /root/nltk_data...\n",
            "[nltk_data]   Unzipping taggers/averaged_perceptron_tagger.zip.\n",
            "[nltk_data] Downloading package stopwords to /root/nltk_data...\n",
            "[nltk_data]   Unzipping corpora/stopwords.zip.\n",
            "[nltk_data] Downloading package punkt to /root/nltk_data...\n",
            "[nltk_data]   Unzipping tokenizers/punkt.zip.\n",
            "[nltk_data] Downloading package maxent_ne_chunker to\n",
            "[nltk_data]     /root/nltk_data...\n",
            "[nltk_data]   Unzipping chunkers/maxent_ne_chunker.zip.\n",
            "[nltk_data] Downloading package words to /root/nltk_data...\n",
            "[nltk_data]   Unzipping corpora/words.zip.\n"
          ],
          "name": "stdout"
        },
        {
          "output_type": "execute_result",
          "data": {
            "text/plain": [
              "True"
            ]
          },
          "metadata": {},
          "execution_count": 1
        }
      ]
    },
    {
      "cell_type": "code",
      "metadata": {
        "id": "8nnMPfbYZGW6"
      },
      "source": [
        "import requests #for making HTTP requests in Python\n",
        "from bs4 import BeautifulSoup # pulling data from HTML or XML files"
      ],
      "execution_count": null,
      "outputs": []
    },
    {
      "cell_type": "code",
      "metadata": {
        "id": "CDIbKgtgZK8V"
      },
      "source": [
        "query = \"Injection\"\n",
        "# https://nvd.nist.gov/vuln/search/results?form_type=Basic&results_type=overview&query=Injection&search_type=all&isCpeNameSearch=false"
      ],
      "execution_count": null,
      "outputs": []
    },
    {
      "cell_type": "code",
      "metadata": {
        "id": "L3EeR-chZPp8"
      },
      "source": [
        "# r = requests.get('https://www.google.com/search?q={}'.format(query))\n",
        "r = requests.get('https://nvd.nist.gov/vuln/search/results?form_type=Basic&results_type=overview&query=Injection&search_type=all&isCpeNameSearch=false')"
      ],
      "execution_count": null,
      "outputs": []
    },
    {
      "cell_type": "code",
      "metadata": {
        "id": "0H__FKbbaowj"
      },
      "source": [
        "soup = BeautifulSoup(r.text, \"html.parser\") # Using BeautifulSoup we will parse the web page to extraxt the liks from the page\n",
        "# soup\n",
        "# print(soup.prettify())"
      ],
      "execution_count": null,
      "outputs": []
    },
    {
      "cell_type": "code",
      "metadata": {
        "colab": {
          "base_uri": "https://localhost:8080/"
        },
        "id": "WTWoR_1ma_S7",
        "outputId": "3b2b8668-27a9-4443-c161-37106fb3ebd4"
      },
      "source": [
        "# Extract the useful liks from list of links\n",
        "links = []\n",
        "for item1 in soup.find_all('li'):\n",
        "  for item2 in soup.find_all('a'):\n",
        "    links.append(item2.get('href'))\n",
        "# links </li>\n",
        "print(links)\n"
      ],
      "execution_count": null,
      "outputs": [
        {
          "output_type": "stream",
          "text": [
            "['https://nvd.nist.gov', 'https://www.nist.gov', '#', '/general', '/general/nvd-dashboard', '/general/news', '/general/email-list', '/general/faq', '/general/visualizations', '/vuln', '/vuln/search', '/vuln/full-listing', '/vuln/categories', '/vuln/data-feeds', '/vuln/vendor-comments', '/vuln/cvmap', '/vuln-metrics/cvss#', '/vuln-metrics/cvss/v3-calculator', '/vuln-metrics/cvss/v2-calculator', '/products', '/products/cpe', '/products/cpe/search', '/products/cpe/statistics', '/products/swid', '/info', '/other', 'https://ncp.nist.gov', 'https://ncp.nist.gov/cce', 'https://csrc.nist.gov/Projects/risk-management/sp800-53-controls/release-search#!/800-53', 'https://csrc.nist.gov/projects/scap-validation-program', 'https://csrc.nist.gov/projects/security-content-automation-protocol', 'https://csrc.nist.gov/projects/united-states-government-configuration-baseline', '/search', '/vuln/search', '/products/cpe/search', 'https://www.nist.gov/itl', '/', None, '/vuln', '/vuln/search', '/vuln/search?results_type=overview&query=Injection&search_type=all&form_type=Basic&isCpeNameSearch=false', '/vuln/search/results?isCpeNameSearch=false&query=Injection&results_type=overview&form_type=Basic&search_type=all&startIndex=0', '/vuln/search/results?isCpeNameSearch=false&query=Injection&results_type=overview&form_type=Basic&search_type=all&startIndex=20', '/vuln/search/results?isCpeNameSearch=false&query=Injection&results_type=overview&form_type=Basic&search_type=all&startIndex=40', '/vuln/search/results?isCpeNameSearch=false&query=Injection&results_type=overview&form_type=Basic&search_type=all&startIndex=60', '/vuln/search/results?isCpeNameSearch=false&query=Injection&results_type=overview&form_type=Basic&search_type=all&startIndex=80', '/vuln/search/results?isCpeNameSearch=false&query=Injection&results_type=overview&form_type=Basic&search_type=all&startIndex=100', '/vuln/search/results?isCpeNameSearch=false&query=Injection&results_type=overview&form_type=Basic&search_type=all&startIndex=120', '/vuln/search/results?isCpeNameSearch=false&query=Injection&results_type=overview&form_type=Basic&search_type=all&startIndex=140', '/vuln/search/results?isCpeNameSearch=false&query=Injection&results_type=overview&form_type=Basic&search_type=all&startIndex=160', '/vuln/search/results?isCpeNameSearch=false&query=Injection&results_type=overview&form_type=Basic&search_type=all&startIndex=180', '/vuln/search/results?isCpeNameSearch=false&query=Injection&results_type=overview&form_type=Basic&search_type=all&startIndex=20', '/vuln/search/results?isCpeNameSearch=false&query=Injection&results_type=overview&form_type=Basic&search_type=all&startIndex=12640', '/vuln/detail/CVE-2021-24557', '/vuln/detail/CVE-2021-24555', '/vuln/detail/CVE-2021-24554', '/vuln/detail/CVE-2021-24553', '/vuln/detail/CVE-2021-24552', '/vuln/detail/CVE-2021-24551', '/vuln/detail/CVE-2021-24550', '/vuln/detail/CVE-2021-24506', '/vuln/detail/CVE-2021-24497', '/vuln/detail/CVE-2021-39244', '/vuln/detail/CVE-2021-39371', '/vuln/detail/CVE-2021-39367', '/vuln/detail/CVE-2021-36011', '/vuln-metrics/cvss/v3-calculator?name=CVE-2021-36011&vector=AV:N/AC:H/PR:N/UI:R/S:C/C:H/I:H/A:H&version=3.1&source=Adobe%20Systems%20Incorporated', '/vuln/detail/CVE-2021-36748', '/vuln/detail/CVE-2020-18885', '/vuln/detail/CVE-2020-18877', '/vuln/detail/CVE-2021-39302', '/vuln/detail/CVE-2021-27999', '/vuln/detail/CVE-2020-22122', '/vuln/detail/CVE-2021-37702', '/vuln/search/results?isCpeNameSearch=false&query=Injection&results_type=overview&form_type=Basic&search_type=all&startIndex=0', '/vuln/search/results?isCpeNameSearch=false&query=Injection&results_type=overview&form_type=Basic&search_type=all&startIndex=20', '/vuln/search/results?isCpeNameSearch=false&query=Injection&results_type=overview&form_type=Basic&search_type=all&startIndex=40', '/vuln/search/results?isCpeNameSearch=false&query=Injection&results_type=overview&form_type=Basic&search_type=all&startIndex=60', '/vuln/search/results?isCpeNameSearch=false&query=Injection&results_type=overview&form_type=Basic&search_type=all&startIndex=80', '/vuln/search/results?isCpeNameSearch=false&query=Injection&results_type=overview&form_type=Basic&search_type=all&startIndex=100', '/vuln/search/results?isCpeNameSearch=false&query=Injection&results_type=overview&form_type=Basic&search_type=all&startIndex=120', '/vuln/search/results?isCpeNameSearch=false&query=Injection&results_type=overview&form_type=Basic&search_type=all&startIndex=140', '/vuln/search/results?isCpeNameSearch=false&query=Injection&results_type=overview&form_type=Basic&search_type=all&startIndex=160', '/vuln/search/results?isCpeNameSearch=false&query=Injection&results_type=overview&form_type=Basic&search_type=all&startIndex=180', '/vuln/search/results?isCpeNameSearch=false&query=Injection&results_type=overview&form_type=Basic&search_type=all&startIndex=20', '/vuln/search/results?isCpeNameSearch=false&query=Injection&results_type=overview&form_type=Basic&search_type=all&startIndex=12640', 'https://twitter.com/NISTCyber', 'https://www.facebook.com/NIST', 'https://www.linkedin.com/company/nist', 'https://www.youtube.com/user/USNISTGOV', 'https://www.nist.gov/news-events/nist-rss-feeds', 'https://public.govdelivery.com/accounts/USNIST/subscriber/new?qsp=USNIST_3', None, 'https://www.nist.gov', 'tel:301-975-2000', 'mailto:nvd@nist.gov', 'https://www.nist.gov/about-nist/contact-us', 'https://www.nist.gov/about-nist/our-organization', 'mailto:soc@us-cert.gov', 'https://www.cisa.gov', None, 'https://www.nist.gov/privacy-policy', 'https://www.nist.gov/privacy-policy#privpolicy', 'https://www.nist.gov/privacy-policy#secnot', 'https://www.nist.gov/privacy-policy#accesstate', 'https://www.nist.gov/privacy', 'https://www.nist.gov/no-fear-act-policy', 'https://www.nist.gov/disclaimer', 'https://www.nist.gov/foia', 'https://www.nist.gov/environmental-policy-statement', 'https://www.nist.gov/privacy-policy#cookie', 'https://www.nist.gov/summary-report-scientific-integrity', 'https://www.nist.gov/nist-information-quality-standards', 'https://www.commerce.gov/', 'https://www.healthcare.gov/', 'https://www.science.gov/', 'https://www.usa.gov/', 'https://nvd.nist.gov', 'https://www.nist.gov', '#', '/general', '/general/nvd-dashboard', '/general/news', '/general/email-list', '/general/faq', '/general/visualizations', '/vuln', '/vuln/search', '/vuln/full-listing', '/vuln/categories', '/vuln/data-feeds', '/vuln/vendor-comments', '/vuln/cvmap', '/vuln-metrics/cvss#', '/vuln-metrics/cvss/v3-calculator', '/vuln-metrics/cvss/v2-calculator', '/products', '/products/cpe', '/products/cpe/search', '/products/cpe/statistics', '/products/swid', '/info', '/other', 'https://ncp.nist.gov', 'https://ncp.nist.gov/cce', 'https://csrc.nist.gov/Projects/risk-management/sp800-53-controls/release-search#!/800-53', 'https://csrc.nist.gov/projects/scap-validation-program', 'https://csrc.nist.gov/projects/security-content-automation-protocol', 'https://csrc.nist.gov/projects/united-states-government-configuration-baseline', '/search', '/vuln/search', '/products/cpe/search', 'https://www.nist.gov/itl', '/', None, '/vuln', '/vuln/search', '/vuln/search?results_type=overview&query=Injection&search_type=all&form_type=Basic&isCpeNameSearch=false', '/vuln/search/results?isCpeNameSearch=false&query=Injection&results_type=overview&form_type=Basic&search_type=all&startIndex=0', '/vuln/search/results?isCpeNameSearch=false&query=Injection&results_type=overview&form_type=Basic&search_type=all&startIndex=20', '/vuln/search/results?isCpeNameSearch=false&query=Injection&results_type=overview&form_type=Basic&search_type=all&startIndex=40', '/vuln/search/results?isCpeNameSearch=false&query=Injection&results_type=overview&form_type=Basic&search_type=all&startIndex=60', '/vuln/search/results?isCpeNameSearch=false&query=Injection&results_type=overview&form_type=Basic&search_type=all&startIndex=80', '/vuln/search/results?isCpeNameSearch=false&query=Injection&results_type=overview&form_type=Basic&search_type=all&startIndex=100', '/vuln/search/results?isCpeNameSearch=false&query=Injection&results_type=overview&form_type=Basic&search_type=all&startIndex=120', '/vuln/search/results?isCpeNameSearch=false&query=Injection&results_type=overview&form_type=Basic&search_type=all&startIndex=140', '/vuln/search/results?isCpeNameSearch=false&query=Injection&results_type=overview&form_type=Basic&search_type=all&startIndex=160', '/vuln/search/results?isCpeNameSearch=false&query=Injection&results_type=overview&form_type=Basic&search_type=all&startIndex=180', '/vuln/search/results?isCpeNameSearch=false&query=Injection&results_type=overview&form_type=Basic&search_type=all&startIndex=20', '/vuln/search/results?isCpeNameSearch=false&query=Injection&results_type=overview&form_type=Basic&search_type=all&startIndex=12640', '/vuln/detail/CVE-2021-24557', '/vuln/detail/CVE-2021-24555', '/vuln/detail/CVE-2021-24554', '/vuln/detail/CVE-2021-24553', '/vuln/detail/CVE-2021-24552', '/vuln/detail/CVE-2021-24551', '/vuln/detail/CVE-2021-24550', '/vuln/detail/CVE-2021-24506', '/vuln/detail/CVE-2021-24497', '/vuln/detail/CVE-2021-39244', '/vuln/detail/CVE-2021-39371', '/vuln/detail/CVE-2021-39367', '/vuln/detail/CVE-2021-36011', '/vuln-metrics/cvss/v3-calculator?name=CVE-2021-36011&vector=AV:N/AC:H/PR:N/UI:R/S:C/C:H/I:H/A:H&version=3.1&source=Adobe%20Systems%20Incorporated', '/vuln/detail/CVE-2021-36748', '/vuln/detail/CVE-2020-18885', '/vuln/detail/CVE-2020-18877', '/vuln/detail/CVE-2021-39302', '/vuln/detail/CVE-2021-27999', '/vuln/detail/CVE-2020-22122', '/vuln/detail/CVE-2021-37702', '/vuln/search/results?isCpeNameSearch=false&query=Injection&results_type=overview&form_type=Basic&search_type=all&startIndex=0', '/vuln/search/results?isCpeNameSearch=false&query=Injection&results_type=overview&form_type=Basic&search_type=all&startIndex=20', '/vuln/search/results?isCpeNameSearch=false&query=Injection&results_type=overview&form_type=Basic&search_type=all&startIndex=40', '/vuln/search/results?isCpeNameSearch=false&query=Injection&results_type=overview&form_type=Basic&search_type=all&startIndex=60', '/vuln/search/results?isCpeNameSearch=false&query=Injection&results_type=overview&form_type=Basic&search_type=all&startIndex=80', '/vuln/search/results?isCpeNameSearch=false&query=Injection&results_type=overview&form_type=Basic&search_type=all&startIndex=100', '/vuln/search/results?isCpeNameSearch=false&query=Injection&results_type=overview&form_type=Basic&search_type=all&startIndex=120', '/vuln/search/results?isCpeNameSearch=false&query=Injection&results_type=overview&form_type=Basic&search_type=all&startIndex=140', '/vuln/search/results?isCpeNameSearch=false&query=Injection&results_type=overview&form_type=Basic&search_type=all&startIndex=160', '/vuln/search/results?isCpeNameSearch=false&query=Injection&results_type=overview&form_type=Basic&search_type=all&startIndex=180', '/vuln/search/results?isCpeNameSearch=false&query=Injection&results_type=overview&form_type=Basic&search_type=all&startIndex=20', '/vuln/search/results?isCpeNameSearch=false&query=Injection&results_type=overview&form_type=Basic&search_type=all&startIndex=12640', 'https://twitter.com/NISTCyber', 'https://www.facebook.com/NIST', 'https://www.linkedin.com/company/nist', 'https://www.youtube.com/user/USNISTGOV', 'https://www.nist.gov/news-events/nist-rss-feeds', 'https://public.govdelivery.com/accounts/USNIST/subscriber/new?qsp=USNIST_3', None, 'https://www.nist.gov', 'tel:301-975-2000', 'mailto:nvd@nist.gov', 'https://www.nist.gov/about-nist/contact-us', 'https://www.nist.gov/about-nist/our-organization', 'mailto:soc@us-cert.gov', 'https://www.cisa.gov', None, 'https://www.nist.gov/privacy-policy', 'https://www.nist.gov/privacy-policy#privpolicy', 'https://www.nist.gov/privacy-policy#secnot', 'https://www.nist.gov/privacy-policy#accesstate', 'https://www.nist.gov/privacy', 'https://www.nist.gov/no-fear-act-policy', 'https://www.nist.gov/disclaimer', 'https://www.nist.gov/foia', 'https://www.nist.gov/environmental-policy-statement', 'https://www.nist.gov/privacy-policy#cookie', 'https://www.nist.gov/summary-report-scientific-integrity', 'https://www.nist.gov/nist-information-quality-standards', 'https://www.commerce.gov/', 'https://www.healthcare.gov/', 'https://www.science.gov/', 'https://www.usa.gov/', 'https://nvd.nist.gov', 'https://www.nist.gov', '#', '/general', '/general/nvd-dashboard', '/general/news', '/general/email-list', '/general/faq', '/general/visualizations', '/vuln', '/vuln/search', '/vuln/full-listing', '/vuln/categories', '/vuln/data-feeds', '/vuln/vendor-comments', '/vuln/cvmap', '/vuln-metrics/cvss#', '/vuln-metrics/cvss/v3-calculator', '/vuln-metrics/cvss/v2-calculator', '/products', '/products/cpe', '/products/cpe/search', '/products/cpe/statistics', '/products/swid', '/info', '/other', 'https://ncp.nist.gov', 'https://ncp.nist.gov/cce', 'https://csrc.nist.gov/Projects/risk-management/sp800-53-controls/release-search#!/800-53', 'https://csrc.nist.gov/projects/scap-validation-program', 'https://csrc.nist.gov/projects/security-content-automation-protocol', 'https://csrc.nist.gov/projects/united-states-government-configuration-baseline', '/search', '/vuln/search', '/products/cpe/search', 'https://www.nist.gov/itl', '/', None, '/vuln', '/vuln/search', '/vuln/search?results_type=overview&query=Injection&search_type=all&form_type=Basic&isCpeNameSearch=false', '/vuln/search/results?isCpeNameSearch=false&query=Injection&results_type=overview&form_type=Basic&search_type=all&startIndex=0', '/vuln/search/results?isCpeNameSearch=false&query=Injection&results_type=overview&form_type=Basic&search_type=all&startIndex=20', '/vuln/search/results?isCpeNameSearch=false&query=Injection&results_type=overview&form_type=Basic&search_type=all&startIndex=40', '/vuln/search/results?isCpeNameSearch=false&query=Injection&results_type=overview&form_type=Basic&search_type=all&startIndex=60', '/vuln/search/results?isCpeNameSearch=false&query=Injection&results_type=overview&form_type=Basic&search_type=all&startIndex=80', '/vuln/search/results?isCpeNameSearch=false&query=Injection&results_type=overview&form_type=Basic&search_type=all&startIndex=100', '/vuln/search/results?isCpeNameSearch=false&query=Injection&results_type=overview&form_type=Basic&search_type=all&startIndex=120', '/vuln/search/results?isCpeNameSearch=false&query=Injection&results_type=overview&form_type=Basic&search_type=all&startIndex=140', '/vuln/search/results?isCpeNameSearch=false&query=Injection&results_type=overview&form_type=Basic&search_type=all&startIndex=160', '/vuln/search/results?isCpeNameSearch=false&query=Injection&results_type=overview&form_type=Basic&search_type=all&startIndex=180', '/vuln/search/results?isCpeNameSearch=false&query=Injection&results_type=overview&form_type=Basic&search_type=all&startIndex=20', '/vuln/search/results?isCpeNameSearch=false&query=Injection&results_type=overview&form_type=Basic&search_type=all&startIndex=12640', '/vuln/detail/CVE-2021-24557', '/vuln/detail/CVE-2021-24555', '/vuln/detail/CVE-2021-24554', '/vuln/detail/CVE-2021-24553', '/vuln/detail/CVE-2021-24552', '/vuln/detail/CVE-2021-24551', '/vuln/detail/CVE-2021-24550', '/vuln/detail/CVE-2021-24506', '/vuln/detail/CVE-2021-24497', '/vuln/detail/CVE-2021-39244', '/vuln/detail/CVE-2021-39371', '/vuln/detail/CVE-2021-39367', '/vuln/detail/CVE-2021-36011', '/vuln-metrics/cvss/v3-calculator?name=CVE-2021-36011&vector=AV:N/AC:H/PR:N/UI:R/S:C/C:H/I:H/A:H&version=3.1&source=Adobe%20Systems%20Incorporated', '/vuln/detail/CVE-2021-36748', '/vuln/detail/CVE-2020-18885', '/vuln/detail/CVE-2020-18877', '/vuln/detail/CVE-2021-39302', '/vuln/detail/CVE-2021-27999', '/vuln/detail/CVE-2020-22122', '/vuln/detail/CVE-2021-37702', '/vuln/search/results?isCpeNameSearch=false&query=Injection&results_type=overview&form_type=Basic&search_type=all&startIndex=0', '/vuln/search/results?isCpeNameSearch=false&query=Injection&results_type=overview&form_type=Basic&search_type=all&startIndex=20', '/vuln/search/results?isCpeNameSearch=false&query=Injection&results_type=overview&form_type=Basic&search_type=all&startIndex=40', '/vuln/search/results?isCpeNameSearch=false&query=Injection&results_type=overview&form_type=Basic&search_type=all&startIndex=60', '/vuln/search/results?isCpeNameSearch=false&query=Injection&results_type=overview&form_type=Basic&search_type=all&startIndex=80', '/vuln/search/results?isCpeNameSearch=false&query=Injection&results_type=overview&form_type=Basic&search_type=all&startIndex=100', '/vuln/search/results?isCpeNameSearch=false&query=Injection&results_type=overview&form_type=Basic&search_type=all&startIndex=120', '/vuln/search/results?isCpeNameSearch=false&query=Injection&results_type=overview&form_type=Basic&search_type=all&startIndex=140', '/vuln/search/results?isCpeNameSearch=false&query=Injection&results_type=overview&form_type=Basic&search_type=all&startIndex=160', '/vuln/search/results?isCpeNameSearch=false&query=Injection&results_type=overview&form_type=Basic&search_type=all&startIndex=180', '/vuln/search/results?isCpeNameSearch=false&query=Injection&results_type=overview&form_type=Basic&search_type=all&startIndex=20', '/vuln/search/results?isCpeNameSearch=false&query=Injection&results_type=overview&form_type=Basic&search_type=all&startIndex=12640', 'https://twitter.com/NISTCyber', 'https://www.facebook.com/NIST', 'https://www.linkedin.com/company/nist', 'https://www.youtube.com/user/USNISTGOV', 'https://www.nist.gov/news-events/nist-rss-feeds', 'https://public.govdelivery.com/accounts/USNIST/subscriber/new?qsp=USNIST_3', None, 'https://www.nist.gov', 'tel:301-975-2000', 'mailto:nvd@nist.gov', 'https://www.nist.gov/about-nist/contact-us', 'https://www.nist.gov/about-nist/our-organization', 'mailto:soc@us-cert.gov', 'https://www.cisa.gov', None, 'https://www.nist.gov/privacy-policy', 'https://www.nist.gov/privacy-policy#privpolicy', 'https://www.nist.gov/privacy-policy#secnot', 'https://www.nist.gov/privacy-policy#accesstate', 'https://www.nist.gov/privacy', 'https://www.nist.gov/no-fear-act-policy', 'https://www.nist.gov/disclaimer', 'https://www.nist.gov/foia', 'https://www.nist.gov/environmental-policy-statement', 'https://www.nist.gov/privacy-policy#cookie', 'https://www.nist.gov/summary-report-scientific-integrity', 'https://www.nist.gov/nist-information-quality-standards', 'https://www.commerce.gov/', 'https://www.healthcare.gov/', 'https://www.science.gov/', 'https://www.usa.gov/', 'https://nvd.nist.gov', 'https://www.nist.gov', '#', '/general', '/general/nvd-dashboard', '/general/news', '/general/email-list', '/general/faq', '/general/visualizations', '/vuln', '/vuln/search', '/vuln/full-listing', '/vuln/categories', '/vuln/data-feeds', '/vuln/vendor-comments', '/vuln/cvmap', '/vuln-metrics/cvss#', '/vuln-metrics/cvss/v3-calculator', '/vuln-metrics/cvss/v2-calculator', '/products', '/products/cpe', '/products/cpe/search', '/products/cpe/statistics', '/products/swid', '/info', '/other', 'https://ncp.nist.gov', 'https://ncp.nist.gov/cce', 'https://csrc.nist.gov/Projects/risk-management/sp800-53-controls/release-search#!/800-53', 'https://csrc.nist.gov/projects/scap-validation-program', 'https://csrc.nist.gov/projects/security-content-automation-protocol', 'https://csrc.nist.gov/projects/united-states-government-configuration-baseline', '/search', '/vuln/search', '/products/cpe/search', 'https://www.nist.gov/itl', '/', None, '/vuln', '/vuln/search', '/vuln/search?results_type=overview&query=Injection&search_type=all&form_type=Basic&isCpeNameSearch=false', '/vuln/search/results?isCpeNameSearch=false&query=Injection&results_type=overview&form_type=Basic&search_type=all&startIndex=0', '/vuln/search/results?isCpeNameSearch=false&query=Injection&results_type=overview&form_type=Basic&search_type=all&startIndex=20', '/vuln/search/results?isCpeNameSearch=false&query=Injection&results_type=overview&form_type=Basic&search_type=all&startIndex=40', '/vuln/search/results?isCpeNameSearch=false&query=Injection&results_type=overview&form_type=Basic&search_type=all&startIndex=60', '/vuln/search/results?isCpeNameSearch=false&query=Injection&results_type=overview&form_type=Basic&search_type=all&startIndex=80', '/vuln/search/results?isCpeNameSearch=false&query=Injection&results_type=overview&form_type=Basic&search_type=all&startIndex=100', '/vuln/search/results?isCpeNameSearch=false&query=Injection&results_type=overview&form_type=Basic&search_type=all&startIndex=120', '/vuln/search/results?isCpeNameSearch=false&query=Injection&results_type=overview&form_type=Basic&search_type=all&startIndex=140', '/vuln/search/results?isCpeNameSearch=false&query=Injection&results_type=overview&form_type=Basic&search_type=all&startIndex=160', '/vuln/search/results?isCpeNameSearch=false&query=Injection&results_type=overview&form_type=Basic&search_type=all&startIndex=180', '/vuln/search/results?isCpeNameSearch=false&query=Injection&results_type=overview&form_type=Basic&search_type=all&startIndex=20', '/vuln/search/results?isCpeNameSearch=false&query=Injection&results_type=overview&form_type=Basic&search_type=all&startIndex=12640', '/vuln/detail/CVE-2021-24557', '/vuln/detail/CVE-2021-24555', '/vuln/detail/CVE-2021-24554', '/vuln/detail/CVE-2021-24553', '/vuln/detail/CVE-2021-24552', '/vuln/detail/CVE-2021-24551', '/vuln/detail/CVE-2021-24550', '/vuln/detail/CVE-2021-24506', '/vuln/detail/CVE-2021-24497', '/vuln/detail/CVE-2021-39244', '/vuln/detail/CVE-2021-39371', '/vuln/detail/CVE-2021-39367', '/vuln/detail/CVE-2021-36011', '/vuln-metrics/cvss/v3-calculator?name=CVE-2021-36011&vector=AV:N/AC:H/PR:N/UI:R/S:C/C:H/I:H/A:H&version=3.1&source=Adobe%20Systems%20Incorporated', '/vuln/detail/CVE-2021-36748', '/vuln/detail/CVE-2020-18885', '/vuln/detail/CVE-2020-18877', '/vuln/detail/CVE-2021-39302', '/vuln/detail/CVE-2021-27999', '/vuln/detail/CVE-2020-22122', '/vuln/detail/CVE-2021-37702', '/vuln/search/results?isCpeNameSearch=false&query=Injection&results_type=overview&form_type=Basic&search_type=all&startIndex=0', '/vuln/search/results?isCpeNameSearch=false&query=Injection&results_type=overview&form_type=Basic&search_type=all&startIndex=20', '/vuln/search/results?isCpeNameSearch=false&query=Injection&results_type=overview&form_type=Basic&search_type=all&startIndex=40', '/vuln/search/results?isCpeNameSearch=false&query=Injection&results_type=overview&form_type=Basic&search_type=all&startIndex=60', '/vuln/search/results?isCpeNameSearch=false&query=Injection&results_type=overview&form_type=Basic&search_type=all&startIndex=80', '/vuln/search/results?isCpeNameSearch=false&query=Injection&results_type=overview&form_type=Basic&search_type=all&startIndex=100', '/vuln/search/results?isCpeNameSearch=false&query=Injection&results_type=overview&form_type=Basic&search_type=all&startIndex=120', '/vuln/search/results?isCpeNameSearch=false&query=Injection&results_type=overview&form_type=Basic&search_type=all&startIndex=140', '/vuln/search/results?isCpeNameSearch=false&query=Injection&results_type=overview&form_type=Basic&search_type=all&startIndex=160', '/vuln/search/results?isCpeNameSearch=false&query=Injection&results_type=overview&form_type=Basic&search_type=all&startIndex=180', '/vuln/search/results?isCpeNameSearch=false&query=Injection&results_type=overview&form_type=Basic&search_type=all&startIndex=20', '/vuln/search/results?isCpeNameSearch=false&query=Injection&results_type=overview&form_type=Basic&search_type=all&startIndex=12640', 'https://twitter.com/NISTCyber', 'https://www.facebook.com/NIST', 'https://www.linkedin.com/company/nist', 'https://www.youtube.com/user/USNISTGOV', 'https://www.nist.gov/news-events/nist-rss-feeds', 'https://public.govdelivery.com/accounts/USNIST/subscriber/new?qsp=USNIST_3', None, 'https://www.nist.gov', 'tel:301-975-2000', 'mailto:nvd@nist.gov', 'https://www.nist.gov/about-nist/contact-us', 'https://www.nist.gov/about-nist/our-organization', 'mailto:soc@us-cert.gov', 'https://www.cisa.gov', None, 'https://www.nist.gov/privacy-policy', 'https://www.nist.gov/privacy-policy#privpolicy', 'https://www.nist.gov/privacy-policy#secnot', 'https://www.nist.gov/privacy-policy#accesstate', 'https://www.nist.gov/privacy', 'https://www.nist.gov/no-fear-act-policy', 'https://www.nist.gov/disclaimer', 'https://www.nist.gov/foia', 'https://www.nist.gov/environmental-policy-statement', 'https://www.nist.gov/privacy-policy#cookie', 'https://www.nist.gov/summary-report-scientific-integrity', 'https://www.nist.gov/nist-information-quality-standards', 'https://www.commerce.gov/', 'https://www.healthcare.gov/', 'https://www.science.gov/', 'https://www.usa.gov/', 'https://nvd.nist.gov', 'https://www.nist.gov', '#', '/general', '/general/nvd-dashboard', '/general/news', '/general/email-list', '/general/faq', '/general/visualizations', '/vuln', '/vuln/search', '/vuln/full-listing', '/vuln/categories', '/vuln/data-feeds', '/vuln/vendor-comments', '/vuln/cvmap', '/vuln-metrics/cvss#', '/vuln-metrics/cvss/v3-calculator', '/vuln-metrics/cvss/v2-calculator', '/products', '/products/cpe', '/products/cpe/search', '/products/cpe/statistics', '/products/swid', '/info', '/other', 'https://ncp.nist.gov', 'https://ncp.nist.gov/cce', 'https://csrc.nist.gov/Projects/risk-management/sp800-53-controls/release-search#!/800-53', 'https://csrc.nist.gov/projects/scap-validation-program', 'https://csrc.nist.gov/projects/security-content-automation-protocol', 'https://csrc.nist.gov/projects/united-states-government-configuration-baseline', '/search', '/vuln/search', '/products/cpe/search', 'https://www.nist.gov/itl', '/', None, '/vuln', '/vuln/search', '/vuln/search?results_type=overview&query=Injection&search_type=all&form_type=Basic&isCpeNameSearch=false', '/vuln/search/results?isCpeNameSearch=false&query=Injection&results_type=overview&form_type=Basic&search_type=all&startIndex=0', '/vuln/search/results?isCpeNameSearch=false&query=Injection&results_type=overview&form_type=Basic&search_type=all&startIndex=20', '/vuln/search/results?isCpeNameSearch=false&query=Injection&results_type=overview&form_type=Basic&search_type=all&startIndex=40', '/vuln/search/results?isCpeNameSearch=false&query=Injection&results_type=overview&form_type=Basic&search_type=all&startIndex=60', '/vuln/search/results?isCpeNameSearch=false&query=Injection&results_type=overview&form_type=Basic&search_type=all&startIndex=80', '/vuln/search/results?isCpeNameSearch=false&query=Injection&results_type=overview&form_type=Basic&search_type=all&startIndex=100', '/vuln/search/results?isCpeNameSearch=false&query=Injection&results_type=overview&form_type=Basic&search_type=all&startIndex=120', '/vuln/search/results?isCpeNameSearch=false&query=Injection&results_type=overview&form_type=Basic&search_type=all&startIndex=140', '/vuln/search/results?isCpeNameSearch=false&query=Injection&results_type=overview&form_type=Basic&search_type=all&startIndex=160', '/vuln/search/results?isCpeNameSearch=false&query=Injection&results_type=overview&form_type=Basic&search_type=all&startIndex=180', '/vuln/search/results?isCpeNameSearch=false&query=Injection&results_type=overview&form_type=Basic&search_type=all&startIndex=20', '/vuln/search/results?isCpeNameSearch=false&query=Injection&results_type=overview&form_type=Basic&search_type=all&startIndex=12640', '/vuln/detail/CVE-2021-24557', '/vuln/detail/CVE-2021-24555', '/vuln/detail/CVE-2021-24554', '/vuln/detail/CVE-2021-24553', '/vuln/detail/CVE-2021-24552', '/vuln/detail/CVE-2021-24551', '/vuln/detail/CVE-2021-24550', '/vuln/detail/CVE-2021-24506', '/vuln/detail/CVE-2021-24497', '/vuln/detail/CVE-2021-39244', '/vuln/detail/CVE-2021-39371', '/vuln/detail/CVE-2021-39367', '/vuln/detail/CVE-2021-36011', '/vuln-metrics/cvss/v3-calculator?name=CVE-2021-36011&vector=AV:N/AC:H/PR:N/UI:R/S:C/C:H/I:H/A:H&version=3.1&source=Adobe%20Systems%20Incorporated', '/vuln/detail/CVE-2021-36748', '/vuln/detail/CVE-2020-18885', '/vuln/detail/CVE-2020-18877', '/vuln/detail/CVE-2021-39302', '/vuln/detail/CVE-2021-27999', '/vuln/detail/CVE-2020-22122', '/vuln/detail/CVE-2021-37702', '/vuln/search/results?isCpeNameSearch=false&query=Injection&results_type=overview&form_type=Basic&search_type=all&startIndex=0', '/vuln/search/results?isCpeNameSearch=false&query=Injection&results_type=overview&form_type=Basic&search_type=all&startIndex=20', '/vuln/search/results?isCpeNameSearch=false&query=Injection&results_type=overview&form_type=Basic&search_type=all&startIndex=40', '/vuln/search/results?isCpeNameSearch=false&query=Injection&results_type=overview&form_type=Basic&search_type=all&startIndex=60', '/vuln/search/results?isCpeNameSearch=false&query=Injection&results_type=overview&form_type=Basic&search_type=all&startIndex=80', '/vuln/search/results?isCpeNameSearch=false&query=Injection&results_type=overview&form_type=Basic&search_type=all&startIndex=100', '/vuln/search/results?isCpeNameSearch=false&query=Injection&results_type=overview&form_type=Basic&search_type=all&startIndex=120', '/vuln/search/results?isCpeNameSearch=false&query=Injection&results_type=overview&form_type=Basic&search_type=all&startIndex=140', '/vuln/search/results?isCpeNameSearch=false&query=Injection&results_type=overview&form_type=Basic&search_type=all&startIndex=160', '/vuln/search/results?isCpeNameSearch=false&query=Injection&results_type=overview&form_type=Basic&search_type=all&startIndex=180', '/vuln/search/results?isCpeNameSearch=false&query=Injection&results_type=overview&form_type=Basic&search_type=all&startIndex=20', '/vuln/search/results?isCpeNameSearch=false&query=Injection&results_type=overview&form_type=Basic&search_type=all&startIndex=12640', 'https://twitter.com/NISTCyber', 'https://www.facebook.com/NIST', 'https://www.linkedin.com/company/nist', 'https://www.youtube.com/user/USNISTGOV', 'https://www.nist.gov/news-events/nist-rss-feeds', 'https://public.govdelivery.com/accounts/USNIST/subscriber/new?qsp=USNIST_3', None, 'https://www.nist.gov', 'tel:301-975-2000', 'mailto:nvd@nist.gov', 'https://www.nist.gov/about-nist/contact-us', 'https://www.nist.gov/about-nist/our-organization', 'mailto:soc@us-cert.gov', 'https://www.cisa.gov', None, 'https://www.nist.gov/privacy-policy', 'https://www.nist.gov/privacy-policy#privpolicy', 'https://www.nist.gov/privacy-policy#secnot', 'https://www.nist.gov/privacy-policy#accesstate', 'https://www.nist.gov/privacy', 'https://www.nist.gov/no-fear-act-policy', 'https://www.nist.gov/disclaimer', 'https://www.nist.gov/foia', 'https://www.nist.gov/environmental-policy-statement', 'https://www.nist.gov/privacy-policy#cookie', 'https://www.nist.gov/summary-report-scientific-integrity', 'https://www.nist.gov/nist-information-quality-standards', 'https://www.commerce.gov/', 'https://www.healthcare.gov/', 'https://www.science.gov/', 'https://www.usa.gov/', 'https://nvd.nist.gov', 'https://www.nist.gov', '#', '/general', '/general/nvd-dashboard', '/general/news', '/general/email-list', '/general/faq', '/general/visualizations', '/vuln', '/vuln/search', '/vuln/full-listing', '/vuln/categories', '/vuln/data-feeds', '/vuln/vendor-comments', '/vuln/cvmap', '/vuln-metrics/cvss#', '/vuln-metrics/cvss/v3-calculator', '/vuln-metrics/cvss/v2-calculator', '/products', '/products/cpe', '/products/cpe/search', '/products/cpe/statistics', '/products/swid', '/info', '/other', 'https://ncp.nist.gov', 'https://ncp.nist.gov/cce', 'https://csrc.nist.gov/Projects/risk-management/sp800-53-controls/release-search#!/800-53', 'https://csrc.nist.gov/projects/scap-validation-program', 'https://csrc.nist.gov/projects/security-content-automation-protocol', 'https://csrc.nist.gov/projects/united-states-government-configuration-baseline', '/search', '/vuln/search', '/products/cpe/search', 'https://www.nist.gov/itl', '/', None, '/vuln', '/vuln/search', '/vuln/search?results_type=overview&query=Injection&search_type=all&form_type=Basic&isCpeNameSearch=false', '/vuln/search/results?isCpeNameSearch=false&query=Injection&results_type=overview&form_type=Basic&search_type=all&startIndex=0', '/vuln/search/results?isCpeNameSearch=false&query=Injection&results_type=overview&form_type=Basic&search_type=all&startIndex=20', '/vuln/search/results?isCpeNameSearch=false&query=Injection&results_type=overview&form_type=Basic&search_type=all&startIndex=40', '/vuln/search/results?isCpeNameSearch=false&query=Injection&results_type=overview&form_type=Basic&search_type=all&startIndex=60', '/vuln/search/results?isCpeNameSearch=false&query=Injection&results_type=overview&form_type=Basic&search_type=all&startIndex=80', '/vuln/search/results?isCpeNameSearch=false&query=Injection&results_type=overview&form_type=Basic&search_type=all&startIndex=100', '/vuln/search/results?isCpeNameSearch=false&query=Injection&results_type=overview&form_type=Basic&search_type=all&startIndex=120', '/vuln/search/results?isCpeNameSearch=false&query=Injection&results_type=overview&form_type=Basic&search_type=all&startIndex=140', '/vuln/search/results?isCpeNameSearch=false&query=Injection&results_type=overview&form_type=Basic&search_type=all&startIndex=160', '/vuln/search/results?isCpeNameSearch=false&query=Injection&results_type=overview&form_type=Basic&search_type=all&startIndex=180', '/vuln/search/results?isCpeNameSearch=false&query=Injection&results_type=overview&form_type=Basic&search_type=all&startIndex=20', '/vuln/search/results?isCpeNameSearch=false&query=Injection&results_type=overview&form_type=Basic&search_type=all&startIndex=12640', '/vuln/detail/CVE-2021-24557', '/vuln/detail/CVE-2021-24555', '/vuln/detail/CVE-2021-24554', '/vuln/detail/CVE-2021-24553', '/vuln/detail/CVE-2021-24552', '/vuln/detail/CVE-2021-24551', '/vuln/detail/CVE-2021-24550', '/vuln/detail/CVE-2021-24506', '/vuln/detail/CVE-2021-24497', '/vuln/detail/CVE-2021-39244', '/vuln/detail/CVE-2021-39371', '/vuln/detail/CVE-2021-39367', '/vuln/detail/CVE-2021-36011', '/vuln-metrics/cvss/v3-calculator?name=CVE-2021-36011&vector=AV:N/AC:H/PR:N/UI:R/S:C/C:H/I:H/A:H&version=3.1&source=Adobe%20Systems%20Incorporated', '/vuln/detail/CVE-2021-36748', '/vuln/detail/CVE-2020-18885', '/vuln/detail/CVE-2020-18877', '/vuln/detail/CVE-2021-39302', '/vuln/detail/CVE-2021-27999', '/vuln/detail/CVE-2020-22122', '/vuln/detail/CVE-2021-37702', '/vuln/search/results?isCpeNameSearch=false&query=Injection&results_type=overview&form_type=Basic&search_type=all&startIndex=0', '/vuln/search/results?isCpeNameSearch=false&query=Injection&results_type=overview&form_type=Basic&search_type=all&startIndex=20', '/vuln/search/results?isCpeNameSearch=false&query=Injection&results_type=overview&form_type=Basic&search_type=all&startIndex=40', '/vuln/search/results?isCpeNameSearch=false&query=Injection&results_type=overview&form_type=Basic&search_type=all&startIndex=60', '/vuln/search/results?isCpeNameSearch=false&query=Injection&results_type=overview&form_type=Basic&search_type=all&startIndex=80', '/vuln/search/results?isCpeNameSearch=false&query=Injection&results_type=overview&form_type=Basic&search_type=all&startIndex=100', '/vuln/search/results?isCpeNameSearch=false&query=Injection&results_type=overview&form_type=Basic&search_type=all&startIndex=120', '/vuln/search/results?isCpeNameSearch=false&query=Injection&results_type=overview&form_type=Basic&search_type=all&startIndex=140', '/vuln/search/results?isCpeNameSearch=false&query=Injection&results_type=overview&form_type=Basic&search_type=all&startIndex=160', '/vuln/search/results?isCpeNameSearch=false&query=Injection&results_type=overview&form_type=Basic&search_type=all&startIndex=180', '/vuln/search/results?isCpeNameSearch=false&query=Injection&results_type=overview&form_type=Basic&search_type=all&startIndex=20', '/vuln/search/results?isCpeNameSearch=false&query=Injection&results_type=overview&form_type=Basic&search_type=all&startIndex=12640', 'https://twitter.com/NISTCyber', 'https://www.facebook.com/NIST', 'https://www.linkedin.com/company/nist', 'https://www.youtube.com/user/USNISTGOV', 'https://www.nist.gov/news-events/nist-rss-feeds', 'https://public.govdelivery.com/accounts/USNIST/subscriber/new?qsp=USNIST_3', None, 'https://www.nist.gov', 'tel:301-975-2000', 'mailto:nvd@nist.gov', 'https://www.nist.gov/about-nist/contact-us', 'https://www.nist.gov/about-nist/our-organization', 'mailto:soc@us-cert.gov', 'https://www.cisa.gov', None, 'https://www.nist.gov/privacy-policy', 'https://www.nist.gov/privacy-policy#privpolicy', 'https://www.nist.gov/privacy-policy#secnot', 'https://www.nist.gov/privacy-policy#accesstate', 'https://www.nist.gov/privacy', 'https://www.nist.gov/no-fear-act-policy', 'https://www.nist.gov/disclaimer', 'https://www.nist.gov/foia', 'https://www.nist.gov/environmental-policy-statement', 'https://www.nist.gov/privacy-policy#cookie', 'https://www.nist.gov/summary-report-scientific-integrity', 'https://www.nist.gov/nist-information-quality-standards', 'https://www.commerce.gov/', 'https://www.healthcare.gov/', 'https://www.science.gov/', 'https://www.usa.gov/', 'https://nvd.nist.gov', 'https://www.nist.gov', '#', '/general', '/general/nvd-dashboard', '/general/news', '/general/email-list', '/general/faq', '/general/visualizations', '/vuln', '/vuln/search', '/vuln/full-listing', '/vuln/categories', '/vuln/data-feeds', '/vuln/vendor-comments', '/vuln/cvmap', '/vuln-metrics/cvss#', '/vuln-metrics/cvss/v3-calculator', '/vuln-metrics/cvss/v2-calculator', '/products', '/products/cpe', '/products/cpe/search', '/products/cpe/statistics', '/products/swid', '/info', '/other', 'https://ncp.nist.gov', 'https://ncp.nist.gov/cce', 'https://csrc.nist.gov/Projects/risk-management/sp800-53-controls/release-search#!/800-53', 'https://csrc.nist.gov/projects/scap-validation-program', 'https://csrc.nist.gov/projects/security-content-automation-protocol', 'https://csrc.nist.gov/projects/united-states-government-configuration-baseline', '/search', '/vuln/search', '/products/cpe/search', 'https://www.nist.gov/itl', '/', None, '/vuln', '/vuln/search', '/vuln/search?results_type=overview&query=Injection&search_type=all&form_type=Basic&isCpeNameSearch=false', '/vuln/search/results?isCpeNameSearch=false&query=Injection&results_type=overview&form_type=Basic&search_type=all&startIndex=0', '/vuln/search/results?isCpeNameSearch=false&query=Injection&results_type=overview&form_type=Basic&search_type=all&startIndex=20', '/vuln/search/results?isCpeNameSearch=false&query=Injection&results_type=overview&form_type=Basic&search_type=all&startIndex=40', '/vuln/search/results?isCpeNameSearch=false&query=Injection&results_type=overview&form_type=Basic&search_type=all&startIndex=60', '/vuln/search/results?isCpeNameSearch=false&query=Injection&results_type=overview&form_type=Basic&search_type=all&startIndex=80', '/vuln/search/results?isCpeNameSearch=false&query=Injection&results_type=overview&form_type=Basic&search_type=all&startIndex=100', '/vuln/search/results?isCpeNameSearch=false&query=Injection&results_type=overview&form_type=Basic&search_type=all&startIndex=120', '/vuln/search/results?isCpeNameSearch=false&query=Injection&results_type=overview&form_type=Basic&search_type=all&startIndex=140', '/vuln/search/results?isCpeNameSearch=false&query=Injection&results_type=overview&form_type=Basic&search_type=all&startIndex=160', '/vuln/search/results?isCpeNameSearch=false&query=Injection&results_type=overview&form_type=Basic&search_type=all&startIndex=180', '/vuln/search/results?isCpeNameSearch=false&query=Injection&results_type=overview&form_type=Basic&search_type=all&startIndex=20', '/vuln/search/results?isCpeNameSearch=false&query=Injection&results_type=overview&form_type=Basic&search_type=all&startIndex=12640', '/vuln/detail/CVE-2021-24557', '/vuln/detail/CVE-2021-24555', '/vuln/detail/CVE-2021-24554', '/vuln/detail/CVE-2021-24553', '/vuln/detail/CVE-2021-24552', '/vuln/detail/CVE-2021-24551', '/vuln/detail/CVE-2021-24550', '/vuln/detail/CVE-2021-24506', '/vuln/detail/CVE-2021-24497', '/vuln/detail/CVE-2021-39244', '/vuln/detail/CVE-2021-39371', '/vuln/detail/CVE-2021-39367', '/vuln/detail/CVE-2021-36011', '/vuln-metrics/cvss/v3-calculator?name=CVE-2021-36011&vector=AV:N/AC:H/PR:N/UI:R/S:C/C:H/I:H/A:H&version=3.1&source=Adobe%20Systems%20Incorporated', '/vuln/detail/CVE-2021-36748', '/vuln/detail/CVE-2020-18885', '/vuln/detail/CVE-2020-18877', '/vuln/detail/CVE-2021-39302', '/vuln/detail/CVE-2021-27999', '/vuln/detail/CVE-2020-22122', '/vuln/detail/CVE-2021-37702', '/vuln/search/results?isCpeNameSearch=false&query=Injection&results_type=overview&form_type=Basic&search_type=all&startIndex=0', '/vuln/search/results?isCpeNameSearch=false&query=Injection&results_type=overview&form_type=Basic&search_type=all&startIndex=20', '/vuln/search/results?isCpeNameSearch=false&query=Injection&results_type=overview&form_type=Basic&search_type=all&startIndex=40', '/vuln/search/results?isCpeNameSearch=false&query=Injection&results_type=overview&form_type=Basic&search_type=all&startIndex=60', '/vuln/search/results?isCpeNameSearch=false&query=Injection&results_type=overview&form_type=Basic&search_type=all&startIndex=80', '/vuln/search/results?isCpeNameSearch=false&query=Injection&results_type=overview&form_type=Basic&search_type=all&startIndex=100', '/vuln/search/results?isCpeNameSearch=false&query=Injection&results_type=overview&form_type=Basic&search_type=all&startIndex=120', '/vuln/search/results?isCpeNameSearch=false&query=Injection&results_type=overview&form_type=Basic&search_type=all&startIndex=140', '/vuln/search/results?isCpeNameSearch=false&query=Injection&results_type=overview&form_type=Basic&search_type=all&startIndex=160', '/vuln/search/results?isCpeNameSearch=false&query=Injection&results_type=overview&form_type=Basic&search_type=all&startIndex=180', '/vuln/search/results?isCpeNameSearch=false&query=Injection&results_type=overview&form_type=Basic&search_type=all&startIndex=20', '/vuln/search/results?isCpeNameSearch=false&query=Injection&results_type=overview&form_type=Basic&search_type=all&startIndex=12640', 'https://twitter.com/NISTCyber', 'https://www.facebook.com/NIST', 'https://www.linkedin.com/company/nist', 'https://www.youtube.com/user/USNISTGOV', 'https://www.nist.gov/news-events/nist-rss-feeds', 'https://public.govdelivery.com/accounts/USNIST/subscriber/new?qsp=USNIST_3', None, 'https://www.nist.gov', 'tel:301-975-2000', 'mailto:nvd@nist.gov', 'https://www.nist.gov/about-nist/contact-us', 'https://www.nist.gov/about-nist/our-organization', 'mailto:soc@us-cert.gov', 'https://www.cisa.gov', None, 'https://www.nist.gov/privacy-policy', 'https://www.nist.gov/privacy-policy#privpolicy', 'https://www.nist.gov/privacy-policy#secnot', 'https://www.nist.gov/privacy-policy#accesstate', 'https://www.nist.gov/privacy', 'https://www.nist.gov/no-fear-act-policy', 'https://www.nist.gov/disclaimer', 'https://www.nist.gov/foia', 'https://www.nist.gov/environmental-policy-statement', 'https://www.nist.gov/privacy-policy#cookie', 'https://www.nist.gov/summary-report-scientific-integrity', 'https://www.nist.gov/nist-information-quality-standards', 'https://www.commerce.gov/', 'https://www.healthcare.gov/', 'https://www.science.gov/', 'https://www.usa.gov/', 'https://nvd.nist.gov', 'https://www.nist.gov', '#', '/general', '/general/nvd-dashboard', '/general/news', '/general/email-list', '/general/faq', '/general/visualizations', '/vuln', '/vuln/search', '/vuln/full-listing', '/vuln/categories', '/vuln/data-feeds', '/vuln/vendor-comments', '/vuln/cvmap', '/vuln-metrics/cvss#', '/vuln-metrics/cvss/v3-calculator', '/vuln-metrics/cvss/v2-calculator', '/products', '/products/cpe', '/products/cpe/search', '/products/cpe/statistics', '/products/swid', '/info', '/other', 'https://ncp.nist.gov', 'https://ncp.nist.gov/cce', 'https://csrc.nist.gov/Projects/risk-management/sp800-53-controls/release-search#!/800-53', 'https://csrc.nist.gov/projects/scap-validation-program', 'https://csrc.nist.gov/projects/security-content-automation-protocol', 'https://csrc.nist.gov/projects/united-states-government-configuration-baseline', '/search', '/vuln/search', '/products/cpe/search', 'https://www.nist.gov/itl', '/', None, '/vuln', '/vuln/search', '/vuln/search?results_type=overview&query=Injection&search_type=all&form_type=Basic&isCpeNameSearch=false', '/vuln/search/results?isCpeNameSearch=false&query=Injection&results_type=overview&form_type=Basic&search_type=all&startIndex=0', '/vuln/search/results?isCpeNameSearch=false&query=Injection&results_type=overview&form_type=Basic&search_type=all&startIndex=20', '/vuln/search/results?isCpeNameSearch=false&query=Injection&results_type=overview&form_type=Basic&search_type=all&startIndex=40', '/vuln/search/results?isCpeNameSearch=false&query=Injection&results_type=overview&form_type=Basic&search_type=all&startIndex=60', '/vuln/search/results?isCpeNameSearch=false&query=Injection&results_type=overview&form_type=Basic&search_type=all&startIndex=80', '/vuln/search/results?isCpeNameSearch=false&query=Injection&results_type=overview&form_type=Basic&search_type=all&startIndex=100', '/vuln/search/results?isCpeNameSearch=false&query=Injection&results_type=overview&form_type=Basic&search_type=all&startIndex=120', '/vuln/search/results?isCpeNameSearch=false&query=Injection&results_type=overview&form_type=Basic&search_type=all&startIndex=140', '/vuln/search/results?isCpeNameSearch=false&query=Injection&results_type=overview&form_type=Basic&search_type=all&startIndex=160', '/vuln/search/results?isCpeNameSearch=false&query=Injection&results_type=overview&form_type=Basic&search_type=all&startIndex=180', '/vuln/search/results?isCpeNameSearch=false&query=Injection&results_type=overview&form_type=Basic&search_type=all&startIndex=20', '/vuln/search/results?isCpeNameSearch=false&query=Injection&results_type=overview&form_type=Basic&search_type=all&startIndex=12640', '/vuln/detail/CVE-2021-24557', '/vuln/detail/CVE-2021-24555', '/vuln/detail/CVE-2021-24554', '/vuln/detail/CVE-2021-24553', '/vuln/detail/CVE-2021-24552', '/vuln/detail/CVE-2021-24551', '/vuln/detail/CVE-2021-24550', '/vuln/detail/CVE-2021-24506', '/vuln/detail/CVE-2021-24497', '/vuln/detail/CVE-2021-39244', '/vuln/detail/CVE-2021-39371', '/vuln/detail/CVE-2021-39367', '/vuln/detail/CVE-2021-36011', '/vuln-metrics/cvss/v3-calculator?name=CVE-2021-36011&vector=AV:N/AC:H/PR:N/UI:R/S:C/C:H/I:H/A:H&version=3.1&source=Adobe%20Systems%20Incorporated', '/vuln/detail/CVE-2021-36748', '/vuln/detail/CVE-2020-18885', '/vuln/detail/CVE-2020-18877', '/vuln/detail/CVE-2021-39302', '/vuln/detail/CVE-2021-27999', '/vuln/detail/CVE-2020-22122', '/vuln/detail/CVE-2021-37702', '/vuln/search/results?isCpeNameSearch=false&query=Injection&results_type=overview&form_type=Basic&search_type=all&startIndex=0', '/vuln/search/results?isCpeNameSearch=false&query=Injection&results_type=overview&form_type=Basic&search_type=all&startIndex=20', '/vuln/search/results?isCpeNameSearch=false&query=Injection&results_type=overview&form_type=Basic&search_type=all&startIndex=40', '/vuln/search/results?isCpeNameSearch=false&query=Injection&results_type=overview&form_type=Basic&search_type=all&startIndex=60', '/vuln/search/results?isCpeNameSearch=false&query=Injection&results_type=overview&form_type=Basic&search_type=all&startIndex=80', '/vuln/search/results?isCpeNameSearch=false&query=Injection&results_type=overview&form_type=Basic&search_type=all&startIndex=100', '/vuln/search/results?isCpeNameSearch=false&query=Injection&results_type=overview&form_type=Basic&search_type=all&startIndex=120', '/vuln/search/results?isCpeNameSearch=false&query=Injection&results_type=overview&form_type=Basic&search_type=all&startIndex=140', '/vuln/search/results?isCpeNameSearch=false&query=Injection&results_type=overview&form_type=Basic&search_type=all&startIndex=160', '/vuln/search/results?isCpeNameSearch=false&query=Injection&results_type=overview&form_type=Basic&search_type=all&startIndex=180', '/vuln/search/results?isCpeNameSearch=false&query=Injection&results_type=overview&form_type=Basic&search_type=all&startIndex=20', '/vuln/search/results?isCpeNameSearch=false&query=Injection&results_type=overview&form_type=Basic&search_type=all&startIndex=12640', 'https://twitter.com/NISTCyber', 'https://www.facebook.com/NIST', 'https://www.linkedin.com/company/nist', 'https://www.youtube.com/user/USNISTGOV', 'https://www.nist.gov/news-events/nist-rss-feeds', 'https://public.govdelivery.com/accounts/USNIST/subscriber/new?qsp=USNIST_3', None, 'https://www.nist.gov', 'tel:301-975-2000', 'mailto:nvd@nist.gov', 'https://www.nist.gov/about-nist/contact-us', 'https://www.nist.gov/about-nist/our-organization', 'mailto:soc@us-cert.gov', 'https://www.cisa.gov', None, 'https://www.nist.gov/privacy-policy', 'https://www.nist.gov/privacy-policy#privpolicy', 'https://www.nist.gov/privacy-policy#secnot', 'https://www.nist.gov/privacy-policy#accesstate', 'https://www.nist.gov/privacy', 'https://www.nist.gov/no-fear-act-policy', 'https://www.nist.gov/disclaimer', 'https://www.nist.gov/foia', 'https://www.nist.gov/environmental-policy-statement', 'https://www.nist.gov/privacy-policy#cookie', 'https://www.nist.gov/summary-report-scientific-integrity', 'https://www.nist.gov/nist-information-quality-standards', 'https://www.commerce.gov/', 'https://www.healthcare.gov/', 'https://www.science.gov/', 'https://www.usa.gov/', 'https://nvd.nist.gov', 'https://www.nist.gov', '#', '/general', '/general/nvd-dashboard', '/general/news', '/general/email-list', '/general/faq', '/general/visualizations', '/vuln', '/vuln/search', '/vuln/full-listing', '/vuln/categories', '/vuln/data-feeds', '/vuln/vendor-comments', '/vuln/cvmap', '/vuln-metrics/cvss#', '/vuln-metrics/cvss/v3-calculator', '/vuln-metrics/cvss/v2-calculator', '/products', '/products/cpe', '/products/cpe/search', '/products/cpe/statistics', '/products/swid', '/info', '/other', 'https://ncp.nist.gov', 'https://ncp.nist.gov/cce', 'https://csrc.nist.gov/Projects/risk-management/sp800-53-controls/release-search#!/800-53', 'https://csrc.nist.gov/projects/scap-validation-program', 'https://csrc.nist.gov/projects/security-content-automation-protocol', 'https://csrc.nist.gov/projects/united-states-government-configuration-baseline', '/search', '/vuln/search', '/products/cpe/search', 'https://www.nist.gov/itl', '/', None, '/vuln', '/vuln/search', '/vuln/search?results_type=overview&query=Injection&search_type=all&form_type=Basic&isCpeNameSearch=false', '/vuln/search/results?isCpeNameSearch=false&query=Injection&results_type=overview&form_type=Basic&search_type=all&startIndex=0', '/vuln/search/results?isCpeNameSearch=false&query=Injection&results_type=overview&form_type=Basic&search_type=all&startIndex=20', '/vuln/search/results?isCpeNameSearch=false&query=Injection&results_type=overview&form_type=Basic&search_type=all&startIndex=40', '/vuln/search/results?isCpeNameSearch=false&query=Injection&results_type=overview&form_type=Basic&search_type=all&startIndex=60', '/vuln/search/results?isCpeNameSearch=false&query=Injection&results_type=overview&form_type=Basic&search_type=all&startIndex=80', '/vuln/search/results?isCpeNameSearch=false&query=Injection&results_type=overview&form_type=Basic&search_type=all&startIndex=100', '/vuln/search/results?isCpeNameSearch=false&query=Injection&results_type=overview&form_type=Basic&search_type=all&startIndex=120', '/vuln/search/results?isCpeNameSearch=false&query=Injection&results_type=overview&form_type=Basic&search_type=all&startIndex=140', '/vuln/search/results?isCpeNameSearch=false&query=Injection&results_type=overview&form_type=Basic&search_type=all&startIndex=160', '/vuln/search/results?isCpeNameSearch=false&query=Injection&results_type=overview&form_type=Basic&search_type=all&startIndex=180', '/vuln/search/results?isCpeNameSearch=false&query=Injection&results_type=overview&form_type=Basic&search_type=all&startIndex=20', '/vuln/search/results?isCpeNameSearch=false&query=Injection&results_type=overview&form_type=Basic&search_type=all&startIndex=12640', '/vuln/detail/CVE-2021-24557', '/vuln/detail/CVE-2021-24555', '/vuln/detail/CVE-2021-24554', '/vuln/detail/CVE-2021-24553', '/vuln/detail/CVE-2021-24552', '/vuln/detail/CVE-2021-24551', '/vuln/detail/CVE-2021-24550', '/vuln/detail/CVE-2021-24506', '/vuln/detail/CVE-2021-24497', '/vuln/detail/CVE-2021-39244', '/vuln/detail/CVE-2021-39371', '/vuln/detail/CVE-2021-39367', '/vuln/detail/CVE-2021-36011', '/vuln-metrics/cvss/v3-calculator?name=CVE-2021-36011&vector=AV:N/AC:H/PR:N/UI:R/S:C/C:H/I:H/A:H&version=3.1&source=Adobe%20Systems%20Incorporated', '/vuln/detail/CVE-2021-36748', '/vuln/detail/CVE-2020-18885', '/vuln/detail/CVE-2020-18877', '/vuln/detail/CVE-2021-39302', '/vuln/detail/CVE-2021-27999', '/vuln/detail/CVE-2020-22122', '/vuln/detail/CVE-2021-37702', '/vuln/search/results?isCpeNameSearch=false&query=Injection&results_type=overview&form_type=Basic&search_type=all&startIndex=0', '/vuln/search/results?isCpeNameSearch=false&query=Injection&results_type=overview&form_type=Basic&search_type=all&startIndex=20', '/vuln/search/results?isCpeNameSearch=false&query=Injection&results_type=overview&form_type=Basic&search_type=all&startIndex=40', '/vuln/search/results?isCpeNameSearch=false&query=Injection&results_type=overview&form_type=Basic&search_type=all&startIndex=60', '/vuln/search/results?isCpeNameSearch=false&query=Injection&results_type=overview&form_type=Basic&search_type=all&startIndex=80', '/vuln/search/results?isCpeNameSearch=false&query=Injection&results_type=overview&form_type=Basic&search_type=all&startIndex=100', '/vuln/search/results?isCpeNameSearch=false&query=Injection&results_type=overview&form_type=Basic&search_type=all&startIndex=120', '/vuln/search/results?isCpeNameSearch=false&query=Injection&results_type=overview&form_type=Basic&search_type=all&startIndex=140', '/vuln/search/results?isCpeNameSearch=false&query=Injection&results_type=overview&form_type=Basic&search_type=all&startIndex=160', '/vuln/search/results?isCpeNameSearch=false&query=Injection&results_type=overview&form_type=Basic&search_type=all&startIndex=180', '/vuln/search/results?isCpeNameSearch=false&query=Injection&results_type=overview&form_type=Basic&search_type=all&startIndex=20', '/vuln/search/results?isCpeNameSearch=false&query=Injection&results_type=overview&form_type=Basic&search_type=all&startIndex=12640', 'https://twitter.com/NISTCyber', 'https://www.facebook.com/NIST', 'https://www.linkedin.com/company/nist', 'https://www.youtube.com/user/USNISTGOV', 'https://www.nist.gov/news-events/nist-rss-feeds', 'https://public.govdelivery.com/accounts/USNIST/subscriber/new?qsp=USNIST_3', None, 'https://www.nist.gov', 'tel:301-975-2000', 'mailto:nvd@nist.gov', 'https://www.nist.gov/about-nist/contact-us', 'https://www.nist.gov/about-nist/our-organization', 'mailto:soc@us-cert.gov', 'https://www.cisa.gov', None, 'https://www.nist.gov/privacy-policy', 'https://www.nist.gov/privacy-policy#privpolicy', 'https://www.nist.gov/privacy-policy#secnot', 'https://www.nist.gov/privacy-policy#accesstate', 'https://www.nist.gov/privacy', 'https://www.nist.gov/no-fear-act-policy', 'https://www.nist.gov/disclaimer', 'https://www.nist.gov/foia', 'https://www.nist.gov/environmental-policy-statement', 'https://www.nist.gov/privacy-policy#cookie', 'https://www.nist.gov/summary-report-scientific-integrity', 'https://www.nist.gov/nist-information-quality-standards', 'https://www.commerce.gov/', 'https://www.healthcare.gov/', 'https://www.science.gov/', 'https://www.usa.gov/', 'https://nvd.nist.gov', 'https://www.nist.gov', '#', '/general', '/general/nvd-dashboard', '/general/news', '/general/email-list', '/general/faq', '/general/visualizations', '/vuln', '/vuln/search', '/vuln/full-listing', '/vuln/categories', '/vuln/data-feeds', '/vuln/vendor-comments', '/vuln/cvmap', '/vuln-metrics/cvss#', '/vuln-metrics/cvss/v3-calculator', '/vuln-metrics/cvss/v2-calculator', '/products', '/products/cpe', '/products/cpe/search', '/products/cpe/statistics', '/products/swid', '/info', '/other', 'https://ncp.nist.gov', 'https://ncp.nist.gov/cce', 'https://csrc.nist.gov/Projects/risk-management/sp800-53-controls/release-search#!/800-53', 'https://csrc.nist.gov/projects/scap-validation-program', 'https://csrc.nist.gov/projects/security-content-automation-protocol', 'https://csrc.nist.gov/projects/united-states-government-configuration-baseline', '/search', '/vuln/search', '/products/cpe/search', 'https://www.nist.gov/itl', '/', None, '/vuln', '/vuln/search', '/vuln/search?results_type=overview&query=Injection&search_type=all&form_type=Basic&isCpeNameSearch=false', '/vuln/search/results?isCpeNameSearch=false&query=Injection&results_type=overview&form_type=Basic&search_type=all&startIndex=0', '/vuln/search/results?isCpeNameSearch=false&query=Injection&results_type=overview&form_type=Basic&search_type=all&startIndex=20', '/vuln/search/results?isCpeNameSearch=false&query=Injection&results_type=overview&form_type=Basic&search_type=all&startIndex=40', '/vuln/search/results?isCpeNameSearch=false&query=Injection&results_type=overview&form_type=Basic&search_type=all&startIndex=60', '/vuln/search/results?isCpeNameSearch=false&query=Injection&results_type=overview&form_type=Basic&search_type=all&startIndex=80', '/vuln/search/results?isCpeNameSearch=false&query=Injection&results_type=overview&form_type=Basic&search_type=all&startIndex=100', '/vuln/search/results?isCpeNameSearch=false&query=Injection&results_type=overview&form_type=Basic&search_type=all&startIndex=120', '/vuln/search/results?isCpeNameSearch=false&query=Injection&results_type=overview&form_type=Basic&search_type=all&startIndex=140', '/vuln/search/results?isCpeNameSearch=false&query=Injection&results_type=overview&form_type=Basic&search_type=all&startIndex=160', '/vuln/search/results?isCpeNameSearch=false&query=Injection&results_type=overview&form_type=Basic&search_type=all&startIndex=180', '/vuln/search/results?isCpeNameSearch=false&query=Injection&results_type=overview&form_type=Basic&search_type=all&startIndex=20', '/vuln/search/results?isCpeNameSearch=false&query=Injection&results_type=overview&form_type=Basic&search_type=all&startIndex=12640', '/vuln/detail/CVE-2021-24557', '/vuln/detail/CVE-2021-24555', '/vuln/detail/CVE-2021-24554', '/vuln/detail/CVE-2021-24553', '/vuln/detail/CVE-2021-24552', '/vuln/detail/CVE-2021-24551', '/vuln/detail/CVE-2021-24550', '/vuln/detail/CVE-2021-24506', '/vuln/detail/CVE-2021-24497', '/vuln/detail/CVE-2021-39244', '/vuln/detail/CVE-2021-39371', '/vuln/detail/CVE-2021-39367', '/vuln/detail/CVE-2021-36011', '/vuln-metrics/cvss/v3-calculator?name=CVE-2021-36011&vector=AV:N/AC:H/PR:N/UI:R/S:C/C:H/I:H/A:H&version=3.1&source=Adobe%20Systems%20Incorporated', '/vuln/detail/CVE-2021-36748', '/vuln/detail/CVE-2020-18885', '/vuln/detail/CVE-2020-18877', '/vuln/detail/CVE-2021-39302', '/vuln/detail/CVE-2021-27999', '/vuln/detail/CVE-2020-22122', '/vuln/detail/CVE-2021-37702', '/vuln/search/results?isCpeNameSearch=false&query=Injection&results_type=overview&form_type=Basic&search_type=all&startIndex=0', '/vuln/search/results?isCpeNameSearch=false&query=Injection&results_type=overview&form_type=Basic&search_type=all&startIndex=20', '/vuln/search/results?isCpeNameSearch=false&query=Injection&results_type=overview&form_type=Basic&search_type=all&startIndex=40', '/vuln/search/results?isCpeNameSearch=false&query=Injection&results_type=overview&form_type=Basic&search_type=all&startIndex=60', '/vuln/search/results?isCpeNameSearch=false&query=Injection&results_type=overview&form_type=Basic&search_type=all&startIndex=80', '/vuln/search/results?isCpeNameSearch=false&query=Injection&results_type=overview&form_type=Basic&search_type=all&startIndex=100', '/vuln/search/results?isCpeNameSearch=false&query=Injection&results_type=overview&form_type=Basic&search_type=all&startIndex=120', '/vuln/search/results?isCpeNameSearch=false&query=Injection&results_type=overview&form_type=Basic&search_type=all&startIndex=140', '/vuln/search/results?isCpeNameSearch=false&query=Injection&results_type=overview&form_type=Basic&search_type=all&startIndex=160', '/vuln/search/results?isCpeNameSearch=false&query=Injection&results_type=overview&form_type=Basic&search_type=all&startIndex=180', '/vuln/search/results?isCpeNameSearch=false&query=Injection&results_type=overview&form_type=Basic&search_type=all&startIndex=20', '/vuln/search/results?isCpeNameSearch=false&query=Injection&results_type=overview&form_type=Basic&search_type=all&startIndex=12640', 'https://twitter.com/NISTCyber', 'https://www.facebook.com/NIST', 'https://www.linkedin.com/company/nist', 'https://www.youtube.com/user/USNISTGOV', 'https://www.nist.gov/news-events/nist-rss-feeds', 'https://public.govdelivery.com/accounts/USNIST/subscriber/new?qsp=USNIST_3', None, 'https://www.nist.gov', 'tel:301-975-2000', 'mailto:nvd@nist.gov', 'https://www.nist.gov/about-nist/contact-us', 'https://www.nist.gov/about-nist/our-organization', 'mailto:soc@us-cert.gov', 'https://www.cisa.gov', None, 'https://www.nist.gov/privacy-policy', 'https://www.nist.gov/privacy-policy#privpolicy', 'https://www.nist.gov/privacy-policy#secnot', 'https://www.nist.gov/privacy-policy#accesstate', 'https://www.nist.gov/privacy', 'https://www.nist.gov/no-fear-act-policy', 'https://www.nist.gov/disclaimer', 'https://www.nist.gov/foia', 'https://www.nist.gov/environmental-policy-statement', 'https://www.nist.gov/privacy-policy#cookie', 'https://www.nist.gov/summary-report-scientific-integrity', 'https://www.nist.gov/nist-information-quality-standards', 'https://www.commerce.gov/', 'https://www.healthcare.gov/', 'https://www.science.gov/', 'https://www.usa.gov/', 'https://nvd.nist.gov', 'https://www.nist.gov', '#', '/general', '/general/nvd-dashboard', '/general/news', '/general/email-list', '/general/faq', '/general/visualizations', '/vuln', '/vuln/search', '/vuln/full-listing', '/vuln/categories', '/vuln/data-feeds', '/vuln/vendor-comments', '/vuln/cvmap', '/vuln-metrics/cvss#', '/vuln-metrics/cvss/v3-calculator', '/vuln-metrics/cvss/v2-calculator', '/products', '/products/cpe', '/products/cpe/search', '/products/cpe/statistics', '/products/swid', '/info', '/other', 'https://ncp.nist.gov', 'https://ncp.nist.gov/cce', 'https://csrc.nist.gov/Projects/risk-management/sp800-53-controls/release-search#!/800-53', 'https://csrc.nist.gov/projects/scap-validation-program', 'https://csrc.nist.gov/projects/security-content-automation-protocol', 'https://csrc.nist.gov/projects/united-states-government-configuration-baseline', '/search', '/vuln/search', '/products/cpe/search', 'https://www.nist.gov/itl', '/', None, '/vuln', '/vuln/search', '/vuln/search?results_type=overview&query=Injection&search_type=all&form_type=Basic&isCpeNameSearch=false', '/vuln/search/results?isCpeNameSearch=false&query=Injection&results_type=overview&form_type=Basic&search_type=all&startIndex=0', '/vuln/search/results?isCpeNameSearch=false&query=Injection&results_type=overview&form_type=Basic&search_type=all&startIndex=20', '/vuln/search/results?isCpeNameSearch=false&query=Injection&results_type=overview&form_type=Basic&search_type=all&startIndex=40', '/vuln/search/results?isCpeNameSearch=false&query=Injection&results_type=overview&form_type=Basic&search_type=all&startIndex=60', '/vuln/search/results?isCpeNameSearch=false&query=Injection&results_type=overview&form_type=Basic&search_type=all&startIndex=80', '/vuln/search/results?isCpeNameSearch=false&query=Injection&results_type=overview&form_type=Basic&search_type=all&startIndex=100', '/vuln/search/results?isCpeNameSearch=false&query=Injection&results_type=overview&form_type=Basic&search_type=all&startIndex=120', '/vuln/search/results?isCpeNameSearch=false&query=Injection&results_type=overview&form_type=Basic&search_type=all&startIndex=140', '/vuln/search/results?isCpeNameSearch=false&query=Injection&results_type=overview&form_type=Basic&search_type=all&startIndex=160', '/vuln/search/results?isCpeNameSearch=false&query=Injection&results_type=overview&form_type=Basic&search_type=all&startIndex=180', '/vuln/search/results?isCpeNameSearch=false&query=Injection&results_type=overview&form_type=Basic&search_type=all&startIndex=20', '/vuln/search/results?isCpeNameSearch=false&query=Injection&results_type=overview&form_type=Basic&search_type=all&startIndex=12640', '/vuln/detail/CVE-2021-24557', '/vuln/detail/CVE-2021-24555', '/vuln/detail/CVE-2021-24554', '/vuln/detail/CVE-2021-24553', '/vuln/detail/CVE-2021-24552', '/vuln/detail/CVE-2021-24551', '/vuln/detail/CVE-2021-24550', '/vuln/detail/CVE-2021-24506', '/vuln/detail/CVE-2021-24497', '/vuln/detail/CVE-2021-39244', '/vuln/detail/CVE-2021-39371', '/vuln/detail/CVE-2021-39367', '/vuln/detail/CVE-2021-36011', '/vuln-metrics/cvss/v3-calculator?name=CVE-2021-36011&vector=AV:N/AC:H/PR:N/UI:R/S:C/C:H/I:H/A:H&version=3.1&source=Adobe%20Systems%20Incorporated', '/vuln/detail/CVE-2021-36748', '/vuln/detail/CVE-2020-18885', '/vuln/detail/CVE-2020-18877', '/vuln/detail/CVE-2021-39302', '/vuln/detail/CVE-2021-27999', '/vuln/detail/CVE-2020-22122', '/vuln/detail/CVE-2021-37702', '/vuln/search/results?isCpeNameSearch=false&query=Injection&results_type=overview&form_type=Basic&search_type=all&startIndex=0', '/vuln/search/results?isCpeNameSearch=false&query=Injection&results_type=overview&form_type=Basic&search_type=all&startIndex=20', '/vuln/search/results?isCpeNameSearch=false&query=Injection&results_type=overview&form_type=Basic&search_type=all&startIndex=40', '/vuln/search/results?isCpeNameSearch=false&query=Injection&results_type=overview&form_type=Basic&search_type=all&startIndex=60', '/vuln/search/results?isCpeNameSearch=false&query=Injection&results_type=overview&form_type=Basic&search_type=all&startIndex=80', '/vuln/search/results?isCpeNameSearch=false&query=Injection&results_type=overview&form_type=Basic&search_type=all&startIndex=100', '/vuln/search/results?isCpeNameSearch=false&query=Injection&results_type=overview&form_type=Basic&search_type=all&startIndex=120', '/vuln/search/results?isCpeNameSearch=false&query=Injection&results_type=overview&form_type=Basic&search_type=all&startIndex=140', '/vuln/search/results?isCpeNameSearch=false&query=Injection&results_type=overview&form_type=Basic&search_type=all&startIndex=160', '/vuln/search/results?isCpeNameSearch=false&query=Injection&results_type=overview&form_type=Basic&search_type=all&startIndex=180', '/vuln/search/results?isCpeNameSearch=false&query=Injection&results_type=overview&form_type=Basic&search_type=all&startIndex=20', '/vuln/search/results?isCpeNameSearch=false&query=Injection&results_type=overview&form_type=Basic&search_type=all&startIndex=12640', 'https://twitter.com/NISTCyber', 'https://www.facebook.com/NIST', 'https://www.linkedin.com/company/nist', 'https://www.youtube.com/user/USNISTGOV', 'https://www.nist.gov/news-events/nist-rss-feeds', 'https://public.govdelivery.com/accounts/USNIST/subscriber/new?qsp=USNIST_3', None, 'https://www.nist.gov', 'tel:301-975-2000', 'mailto:nvd@nist.gov', 'https://www.nist.gov/about-nist/contact-us', 'https://www.nist.gov/about-nist/our-organization', 'mailto:soc@us-cert.gov', 'https://www.cisa.gov', None, 'https://www.nist.gov/privacy-policy', 'https://www.nist.gov/privacy-policy#privpolicy', 'https://www.nist.gov/privacy-policy#secnot', 'https://www.nist.gov/privacy-policy#accesstate', 'https://www.nist.gov/privacy', 'https://www.nist.gov/no-fear-act-policy', 'https://www.nist.gov/disclaimer', 'https://www.nist.gov/foia', 'https://www.nist.gov/environmental-policy-statement', 'https://www.nist.gov/privacy-policy#cookie', 'https://www.nist.gov/summary-report-scientific-integrity', 'https://www.nist.gov/nist-information-quality-standards', 'https://www.commerce.gov/', 'https://www.healthcare.gov/', 'https://www.science.gov/', 'https://www.usa.gov/', 'https://nvd.nist.gov', 'https://www.nist.gov', '#', '/general', '/general/nvd-dashboard', '/general/news', '/general/email-list', '/general/faq', '/general/visualizations', '/vuln', '/vuln/search', '/vuln/full-listing', '/vuln/categories', '/vuln/data-feeds', '/vuln/vendor-comments', '/vuln/cvmap', '/vuln-metrics/cvss#', '/vuln-metrics/cvss/v3-calculator', '/vuln-metrics/cvss/v2-calculator', '/products', '/products/cpe', '/products/cpe/search', '/products/cpe/statistics', '/products/swid', '/info', '/other', 'https://ncp.nist.gov', 'https://ncp.nist.gov/cce', 'https://csrc.nist.gov/Projects/risk-management/sp800-53-controls/release-search#!/800-53', 'https://csrc.nist.gov/projects/scap-validation-program', 'https://csrc.nist.gov/projects/security-content-automation-protocol', 'https://csrc.nist.gov/projects/united-states-government-configuration-baseline', '/search', '/vuln/search', '/products/cpe/search', 'https://www.nist.gov/itl', '/', None, '/vuln', '/vuln/search', '/vuln/search?results_type=overview&query=Injection&search_type=all&form_type=Basic&isCpeNameSearch=false', '/vuln/search/results?isCpeNameSearch=false&query=Injection&results_type=overview&form_type=Basic&search_type=all&startIndex=0', '/vuln/search/results?isCpeNameSearch=false&query=Injection&results_type=overview&form_type=Basic&search_type=all&startIndex=20', '/vuln/search/results?isCpeNameSearch=false&query=Injection&results_type=overview&form_type=Basic&search_type=all&startIndex=40', '/vuln/search/results?isCpeNameSearch=false&query=Injection&results_type=overview&form_type=Basic&search_type=all&startIndex=60', '/vuln/search/results?isCpeNameSearch=false&query=Injection&results_type=overview&form_type=Basic&search_type=all&startIndex=80', '/vuln/search/results?isCpeNameSearch=false&query=Injection&results_type=overview&form_type=Basic&search_type=all&startIndex=100', '/vuln/search/results?isCpeNameSearch=false&query=Injection&results_type=overview&form_type=Basic&search_type=all&startIndex=120', '/vuln/search/results?isCpeNameSearch=false&query=Injection&results_type=overview&form_type=Basic&search_type=all&startIndex=140', '/vuln/search/results?isCpeNameSearch=false&query=Injection&results_type=overview&form_type=Basic&search_type=all&startIndex=160', '/vuln/search/results?isCpeNameSearch=false&query=Injection&results_type=overview&form_type=Basic&search_type=all&startIndex=180', '/vuln/search/results?isCpeNameSearch=false&query=Injection&results_type=overview&form_type=Basic&search_type=all&startIndex=20', '/vuln/search/results?isCpeNameSearch=false&query=Injection&results_type=overview&form_type=Basic&search_type=all&startIndex=12640', '/vuln/detail/CVE-2021-24557', '/vuln/detail/CVE-2021-24555', '/vuln/detail/CVE-2021-24554', '/vuln/detail/CVE-2021-24553', '/vuln/detail/CVE-2021-24552', '/vuln/detail/CVE-2021-24551', '/vuln/detail/CVE-2021-24550', '/vuln/detail/CVE-2021-24506', '/vuln/detail/CVE-2021-24497', '/vuln/detail/CVE-2021-39244', '/vuln/detail/CVE-2021-39371', '/vuln/detail/CVE-2021-39367', '/vuln/detail/CVE-2021-36011', '/vuln-metrics/cvss/v3-calculator?name=CVE-2021-36011&vector=AV:N/AC:H/PR:N/UI:R/S:C/C:H/I:H/A:H&version=3.1&source=Adobe%20Systems%20Incorporated', '/vuln/detail/CVE-2021-36748', '/vuln/detail/CVE-2020-18885', '/vuln/detail/CVE-2020-18877', '/vuln/detail/CVE-2021-39302', '/vuln/detail/CVE-2021-27999', '/vuln/detail/CVE-2020-22122', '/vuln/detail/CVE-2021-37702', '/vuln/search/results?isCpeNameSearch=false&query=Injection&results_type=overview&form_type=Basic&search_type=all&startIndex=0', '/vuln/search/results?isCpeNameSearch=false&query=Injection&results_type=overview&form_type=Basic&search_type=all&startIndex=20', '/vuln/search/results?isCpeNameSearch=false&query=Injection&results_type=overview&form_type=Basic&search_type=all&startIndex=40', '/vuln/search/results?isCpeNameSearch=false&query=Injection&results_type=overview&form_type=Basic&search_type=all&startIndex=60', '/vuln/search/results?isCpeNameSearch=false&query=Injection&results_type=overview&form_type=Basic&search_type=all&startIndex=80', '/vuln/search/results?isCpeNameSearch=false&query=Injection&results_type=overview&form_type=Basic&search_type=all&startIndex=100', '/vuln/search/results?isCpeNameSearch=false&query=Injection&results_type=overview&form_type=Basic&search_type=all&startIndex=120', '/vuln/search/results?isCpeNameSearch=false&query=Injection&results_type=overview&form_type=Basic&search_type=all&startIndex=140', '/vuln/search/results?isCpeNameSearch=false&query=Injection&results_type=overview&form_type=Basic&search_type=all&startIndex=160', '/vuln/search/results?isCpeNameSearch=false&query=Injection&results_type=overview&form_type=Basic&search_type=all&startIndex=180', '/vuln/search/results?isCpeNameSearch=false&query=Injection&results_type=overview&form_type=Basic&search_type=all&startIndex=20', '/vuln/search/results?isCpeNameSearch=false&query=Injection&results_type=overview&form_type=Basic&search_type=all&startIndex=12640', 'https://twitter.com/NISTCyber', 'https://www.facebook.com/NIST', 'https://www.linkedin.com/company/nist', 'https://www.youtube.com/user/USNISTGOV', 'https://www.nist.gov/news-events/nist-rss-feeds', 'https://public.govdelivery.com/accounts/USNIST/subscriber/new?qsp=USNIST_3', None, 'https://www.nist.gov', 'tel:301-975-2000', 'mailto:nvd@nist.gov', 'https://www.nist.gov/about-nist/contact-us', 'https://www.nist.gov/about-nist/our-organization', 'mailto:soc@us-cert.gov', 'https://www.cisa.gov', None, 'https://www.nist.gov/privacy-policy', 'https://www.nist.gov/privacy-policy#privpolicy', 'https://www.nist.gov/privacy-policy#secnot', 'https://www.nist.gov/privacy-policy#accesstate', 'https://www.nist.gov/privacy', 'https://www.nist.gov/no-fear-act-policy', 'https://www.nist.gov/disclaimer', 'https://www.nist.gov/foia', 'https://www.nist.gov/environmental-policy-statement', 'https://www.nist.gov/privacy-policy#cookie', 'https://www.nist.gov/summary-report-scientific-integrity', 'https://www.nist.gov/nist-information-quality-standards', 'https://www.commerce.gov/', 'https://www.healthcare.gov/', 'https://www.science.gov/', 'https://www.usa.gov/', 'https://nvd.nist.gov', 'https://www.nist.gov', '#', '/general', '/general/nvd-dashboard', '/general/news', '/general/email-list', '/general/faq', '/general/visualizations', '/vuln', '/vuln/search', '/vuln/full-listing', '/vuln/categories', '/vuln/data-feeds', '/vuln/vendor-comments', '/vuln/cvmap', '/vuln-metrics/cvss#', '/vuln-metrics/cvss/v3-calculator', '/vuln-metrics/cvss/v2-calculator', '/products', '/products/cpe', '/products/cpe/search', '/products/cpe/statistics', '/products/swid', '/info', '/other', 'https://ncp.nist.gov', 'https://ncp.nist.gov/cce', 'https://csrc.nist.gov/Projects/risk-management/sp800-53-controls/release-search#!/800-53', 'https://csrc.nist.gov/projects/scap-validation-program', 'https://csrc.nist.gov/projects/security-content-automation-protocol', 'https://csrc.nist.gov/projects/united-states-government-configuration-baseline', '/search', '/vuln/search', '/products/cpe/search', 'https://www.nist.gov/itl', '/', None, '/vuln', '/vuln/search', '/vuln/search?results_type=overview&query=Injection&search_type=all&form_type=Basic&isCpeNameSearch=false', '/vuln/search/results?isCpeNameSearch=false&query=Injection&results_type=overview&form_type=Basic&search_type=all&startIndex=0', '/vuln/search/results?isCpeNameSearch=false&query=Injection&results_type=overview&form_type=Basic&search_type=all&startIndex=20', '/vuln/search/results?isCpeNameSearch=false&query=Injection&results_type=overview&form_type=Basic&search_type=all&startIndex=40', '/vuln/search/results?isCpeNameSearch=false&query=Injection&results_type=overview&form_type=Basic&search_type=all&startIndex=60', '/vuln/search/results?isCpeNameSearch=false&query=Injection&results_type=overview&form_type=Basic&search_type=all&startIndex=80', '/vuln/search/results?isCpeNameSearch=false&query=Injection&results_type=overview&form_type=Basic&search_type=all&startIndex=100', '/vuln/search/results?isCpeNameSearch=false&query=Injection&results_type=overview&form_type=Basic&search_type=all&startIndex=120', '/vuln/search/results?isCpeNameSearch=false&query=Injection&results_type=overview&form_type=Basic&search_type=all&startIndex=140', '/vuln/search/results?isCpeNameSearch=false&query=Injection&results_type=overview&form_type=Basic&search_type=all&startIndex=160', '/vuln/search/results?isCpeNameSearch=false&query=Injection&results_type=overview&form_type=Basic&search_type=all&startIndex=180', '/vuln/search/results?isCpeNameSearch=false&query=Injection&results_type=overview&form_type=Basic&search_type=all&startIndex=20', '/vuln/search/results?isCpeNameSearch=false&query=Injection&results_type=overview&form_type=Basic&search_type=all&startIndex=12640', '/vuln/detail/CVE-2021-24557', '/vuln/detail/CVE-2021-24555', '/vuln/detail/CVE-2021-24554', '/vuln/detail/CVE-2021-24553', '/vuln/detail/CVE-2021-24552', '/vuln/detail/CVE-2021-24551', '/vuln/detail/CVE-2021-24550', '/vuln/detail/CVE-2021-24506', '/vuln/detail/CVE-2021-24497', '/vuln/detail/CVE-2021-39244', '/vuln/detail/CVE-2021-39371', '/vuln/detail/CVE-2021-39367', '/vuln/detail/CVE-2021-36011', '/vuln-metrics/cvss/v3-calculator?name=CVE-2021-36011&vector=AV:N/AC:H/PR:N/UI:R/S:C/C:H/I:H/A:H&version=3.1&source=Adobe%20Systems%20Incorporated', '/vuln/detail/CVE-2021-36748', '/vuln/detail/CVE-2020-18885', '/vuln/detail/CVE-2020-18877', '/vuln/detail/CVE-2021-39302', '/vuln/detail/CVE-2021-27999', '/vuln/detail/CVE-2020-22122', '/vuln/detail/CVE-2021-37702', '/vuln/search/results?isCpeNameSearch=false&query=Injection&results_type=overview&form_type=Basic&search_type=all&startIndex=0', '/vuln/search/results?isCpeNameSearch=false&query=Injection&results_type=overview&form_type=Basic&search_type=all&startIndex=20', '/vuln/search/results?isCpeNameSearch=false&query=Injection&results_type=overview&form_type=Basic&search_type=all&startIndex=40', '/vuln/search/results?isCpeNameSearch=false&query=Injection&results_type=overview&form_type=Basic&search_type=all&startIndex=60', '/vuln/search/results?isCpeNameSearch=false&query=Injection&results_type=overview&form_type=Basic&search_type=all&startIndex=80', '/vuln/search/results?isCpeNameSearch=false&query=Injection&results_type=overview&form_type=Basic&search_type=all&startIndex=100', '/vuln/search/results?isCpeNameSearch=false&query=Injection&results_type=overview&form_type=Basic&search_type=all&startIndex=120', '/vuln/search/results?isCpeNameSearch=false&query=Injection&results_type=overview&form_type=Basic&search_type=all&startIndex=140', '/vuln/search/results?isCpeNameSearch=false&query=Injection&results_type=overview&form_type=Basic&search_type=all&startIndex=160', '/vuln/search/results?isCpeNameSearch=false&query=Injection&results_type=overview&form_type=Basic&search_type=all&startIndex=180', '/vuln/search/results?isCpeNameSearch=false&query=Injection&results_type=overview&form_type=Basic&search_type=all&startIndex=20', '/vuln/search/results?isCpeNameSearch=false&query=Injection&results_type=overview&form_type=Basic&search_type=all&startIndex=12640', 'https://twitter.com/NISTCyber', 'https://www.facebook.com/NIST', 'https://www.linkedin.com/company/nist', 'https://www.youtube.com/user/USNISTGOV', 'https://www.nist.gov/news-events/nist-rss-feeds', 'https://public.govdelivery.com/accounts/USNIST/subscriber/new?qsp=USNIST_3', None, 'https://www.nist.gov', 'tel:301-975-2000', 'mailto:nvd@nist.gov', 'https://www.nist.gov/about-nist/contact-us', 'https://www.nist.gov/about-nist/our-organization', 'mailto:soc@us-cert.gov', 'https://www.cisa.gov', None, 'https://www.nist.gov/privacy-policy', 'https://www.nist.gov/privacy-policy#privpolicy', 'https://www.nist.gov/privacy-policy#secnot', 'https://www.nist.gov/privacy-policy#accesstate', 'https://www.nist.gov/privacy', 'https://www.nist.gov/no-fear-act-policy', 'https://www.nist.gov/disclaimer', 'https://www.nist.gov/foia', 'https://www.nist.gov/environmental-policy-statement', 'https://www.nist.gov/privacy-policy#cookie', 'https://www.nist.gov/summary-report-scientific-integrity', 'https://www.nist.gov/nist-information-quality-standards', 'https://www.commerce.gov/', 'https://www.healthcare.gov/', 'https://www.science.gov/', 'https://www.usa.gov/', 'https://nvd.nist.gov', 'https://www.nist.gov', '#', '/general', '/general/nvd-dashboard', '/general/news', '/general/email-list', '/general/faq', '/general/visualizations', '/vuln', '/vuln/search', '/vuln/full-listing', '/vuln/categories', '/vuln/data-feeds', '/vuln/vendor-comments', '/vuln/cvmap', '/vuln-metrics/cvss#', '/vuln-metrics/cvss/v3-calculator', '/vuln-metrics/cvss/v2-calculator', '/products', '/products/cpe', '/products/cpe/search', '/products/cpe/statistics', '/products/swid', '/info', '/other', 'https://ncp.nist.gov', 'https://ncp.nist.gov/cce', 'https://csrc.nist.gov/Projects/risk-management/sp800-53-controls/release-search#!/800-53', 'https://csrc.nist.gov/projects/scap-validation-program', 'https://csrc.nist.gov/projects/security-content-automation-protocol', 'https://csrc.nist.gov/projects/united-states-government-configuration-baseline', '/search', '/vuln/search', '/products/cpe/search', 'https://www.nist.gov/itl', '/', None, '/vuln', '/vuln/search', '/vuln/search?results_type=overview&query=Injection&search_type=all&form_type=Basic&isCpeNameSearch=false', '/vuln/search/results?isCpeNameSearch=false&query=Injection&results_type=overview&form_type=Basic&search_type=all&startIndex=0', '/vuln/search/results?isCpeNameSearch=false&query=Injection&results_type=overview&form_type=Basic&search_type=all&startIndex=20', '/vuln/search/results?isCpeNameSearch=false&query=Injection&results_type=overview&form_type=Basic&search_type=all&startIndex=40', '/vuln/search/results?isCpeNameSearch=false&query=Injection&results_type=overview&form_type=Basic&search_type=all&startIndex=60', '/vuln/search/results?isCpeNameSearch=false&query=Injection&results_type=overview&form_type=Basic&search_type=all&startIndex=80', '/vuln/search/results?isCpeNameSearch=false&query=Injection&results_type=overview&form_type=Basic&search_type=all&startIndex=100', '/vuln/search/results?isCpeNameSearch=false&query=Injection&results_type=overview&form_type=Basic&search_type=all&startIndex=120', '/vuln/search/results?isCpeNameSearch=false&query=Injection&results_type=overview&form_type=Basic&search_type=all&startIndex=140', '/vuln/search/results?isCpeNameSearch=false&query=Injection&results_type=overview&form_type=Basic&search_type=all&startIndex=160', '/vuln/search/results?isCpeNameSearch=false&query=Injection&results_type=overview&form_type=Basic&search_type=all&startIndex=180', '/vuln/search/results?isCpeNameSearch=false&query=Injection&results_type=overview&form_type=Basic&search_type=all&startIndex=20', '/vuln/search/results?isCpeNameSearch=false&query=Injection&results_type=overview&form_type=Basic&search_type=all&startIndex=12640', '/vuln/detail/CVE-2021-24557', '/vuln/detail/CVE-2021-24555', '/vuln/detail/CVE-2021-24554', '/vuln/detail/CVE-2021-24553', '/vuln/detail/CVE-2021-24552', '/vuln/detail/CVE-2021-24551', '/vuln/detail/CVE-2021-24550', '/vuln/detail/CVE-2021-24506', '/vuln/detail/CVE-2021-24497', '/vuln/detail/CVE-2021-39244', '/vuln/detail/CVE-2021-39371', '/vuln/detail/CVE-2021-39367', '/vuln/detail/CVE-2021-36011', '/vuln-metrics/cvss/v3-calculator?name=CVE-2021-36011&vector=AV:N/AC:H/PR:N/UI:R/S:C/C:H/I:H/A:H&version=3.1&source=Adobe%20Systems%20Incorporated', '/vuln/detail/CVE-2021-36748', '/vuln/detail/CVE-2020-18885', '/vuln/detail/CVE-2020-18877', '/vuln/detail/CVE-2021-39302', '/vuln/detail/CVE-2021-27999', '/vuln/detail/CVE-2020-22122', '/vuln/detail/CVE-2021-37702', '/vuln/search/results?isCpeNameSearch=false&query=Injection&results_type=overview&form_type=Basic&search_type=all&startIndex=0', '/vuln/search/results?isCpeNameSearch=false&query=Injection&results_type=overview&form_type=Basic&search_type=all&startIndex=20', '/vuln/search/results?isCpeNameSearch=false&query=Injection&results_type=overview&form_type=Basic&search_type=all&startIndex=40', '/vuln/search/results?isCpeNameSearch=false&query=Injection&results_type=overview&form_type=Basic&search_type=all&startIndex=60', '/vuln/search/results?isCpeNameSearch=false&query=Injection&results_type=overview&form_type=Basic&search_type=all&startIndex=80', '/vuln/search/results?isCpeNameSearch=false&query=Injection&results_type=overview&form_type=Basic&search_type=all&startIndex=100', '/vuln/search/results?isCpeNameSearch=false&query=Injection&results_type=overview&form_type=Basic&search_type=all&startIndex=120', '/vuln/search/results?isCpeNameSearch=false&query=Injection&results_type=overview&form_type=Basic&search_type=all&startIndex=140', '/vuln/search/results?isCpeNameSearch=false&query=Injection&results_type=overview&form_type=Basic&search_type=all&startIndex=160', '/vuln/search/results?isCpeNameSearch=false&query=Injection&results_type=overview&form_type=Basic&search_type=all&startIndex=180', '/vuln/search/results?isCpeNameSearch=false&query=Injection&results_type=overview&form_type=Basic&search_type=all&startIndex=20', '/vuln/search/results?isCpeNameSearch=false&query=Injection&results_type=overview&form_type=Basic&search_type=all&startIndex=12640', 'https://twitter.com/NISTCyber', 'https://www.facebook.com/NIST', 'https://www.linkedin.com/company/nist', 'https://www.youtube.com/user/USNISTGOV', 'https://www.nist.gov/news-events/nist-rss-feeds', 'https://public.govdelivery.com/accounts/USNIST/subscriber/new?qsp=USNIST_3', None, 'https://www.nist.gov', 'tel:301-975-2000', 'mailto:nvd@nist.gov', 'https://www.nist.gov/about-nist/contact-us', 'https://www.nist.gov/about-nist/our-organization', 'mailto:soc@us-cert.gov', 'https://www.cisa.gov', None, 'https://www.nist.gov/privacy-policy', 'https://www.nist.gov/privacy-policy#privpolicy', 'https://www.nist.gov/privacy-policy#secnot', 'https://www.nist.gov/privacy-policy#accesstate', 'https://www.nist.gov/privacy', 'https://www.nist.gov/no-fear-act-policy', 'https://www.nist.gov/disclaimer', 'https://www.nist.gov/foia', 'https://www.nist.gov/environmental-policy-statement', 'https://www.nist.gov/privacy-policy#cookie', 'https://www.nist.gov/summary-report-scientific-integrity', 'https://www.nist.gov/nist-information-quality-standards', 'https://www.commerce.gov/', 'https://www.healthcare.gov/', 'https://www.science.gov/', 'https://www.usa.gov/', 'https://nvd.nist.gov', 'https://www.nist.gov', '#', '/general', '/general/nvd-dashboard', '/general/news', '/general/email-list', '/general/faq', '/general/visualizations', '/vuln', '/vuln/search', '/vuln/full-listing', '/vuln/categories', '/vuln/data-feeds', '/vuln/vendor-comments', '/vuln/cvmap', '/vuln-metrics/cvss#', '/vuln-metrics/cvss/v3-calculator', '/vuln-metrics/cvss/v2-calculator', '/products', '/products/cpe', '/products/cpe/search', '/products/cpe/statistics', '/products/swid', '/info', '/other', 'https://ncp.nist.gov', 'https://ncp.nist.gov/cce', 'https://csrc.nist.gov/Projects/risk-management/sp800-53-controls/release-search#!/800-53', 'https://csrc.nist.gov/projects/scap-validation-program', 'https://csrc.nist.gov/projects/security-content-automation-protocol', 'https://csrc.nist.gov/projects/united-states-government-configuration-baseline', '/search', '/vuln/search', '/products/cpe/search', 'https://www.nist.gov/itl', '/', None, '/vuln', '/vuln/search', '/vuln/search?results_type=overview&query=Injection&search_type=all&form_type=Basic&isCpeNameSearch=false', '/vuln/search/results?isCpeNameSearch=false&query=Injection&results_type=overview&form_type=Basic&search_type=all&startIndex=0', '/vuln/search/results?isCpeNameSearch=false&query=Injection&results_type=overview&form_type=Basic&search_type=all&startIndex=20', '/vuln/search/results?isCpeNameSearch=false&query=Injection&results_type=overview&form_type=Basic&search_type=all&startIndex=40', '/vuln/search/results?isCpeNameSearch=false&query=Injection&results_type=overview&form_type=Basic&search_type=all&startIndex=60', '/vuln/search/results?isCpeNameSearch=false&query=Injection&results_type=overview&form_type=Basic&search_type=all&startIndex=80', '/vuln/search/results?isCpeNameSearch=false&query=Injection&results_type=overview&form_type=Basic&search_type=all&startIndex=100', '/vuln/search/results?isCpeNameSearch=false&query=Injection&results_type=overview&form_type=Basic&search_type=all&startIndex=120', '/vuln/search/results?isCpeNameSearch=false&query=Injection&results_type=overview&form_type=Basic&search_type=all&startIndex=140', '/vuln/search/results?isCpeNameSearch=false&query=Injection&results_type=overview&form_type=Basic&search_type=all&startIndex=160', '/vuln/search/results?isCpeNameSearch=false&query=Injection&results_type=overview&form_type=Basic&search_type=all&startIndex=180', '/vuln/search/results?isCpeNameSearch=false&query=Injection&results_type=overview&form_type=Basic&search_type=all&startIndex=20', '/vuln/search/results?isCpeNameSearch=false&query=Injection&results_type=overview&form_type=Basic&search_type=all&startIndex=12640', '/vuln/detail/CVE-2021-24557', '/vuln/detail/CVE-2021-24555', '/vuln/detail/CVE-2021-24554', '/vuln/detail/CVE-2021-24553', '/vuln/detail/CVE-2021-24552', '/vuln/detail/CVE-2021-24551', '/vuln/detail/CVE-2021-24550', '/vuln/detail/CVE-2021-24506', '/vuln/detail/CVE-2021-24497', '/vuln/detail/CVE-2021-39244', '/vuln/detail/CVE-2021-39371', '/vuln/detail/CVE-2021-39367', '/vuln/detail/CVE-2021-36011', '/vuln-metrics/cvss/v3-calculator?name=CVE-2021-36011&vector=AV:N/AC:H/PR:N/UI:R/S:C/C:H/I:H/A:H&version=3.1&source=Adobe%20Systems%20Incorporated', '/vuln/detail/CVE-2021-36748', '/vuln/detail/CVE-2020-18885', '/vuln/detail/CVE-2020-18877', '/vuln/detail/CVE-2021-39302', '/vuln/detail/CVE-2021-27999', '/vuln/detail/CVE-2020-22122', '/vuln/detail/CVE-2021-37702', '/vuln/search/results?isCpeNameSearch=false&query=Injection&results_type=overview&form_type=Basic&search_type=all&startIndex=0', '/vuln/search/results?isCpeNameSearch=false&query=Injection&results_type=overview&form_type=Basic&search_type=all&startIndex=20', '/vuln/search/results?isCpeNameSearch=false&query=Injection&results_type=overview&form_type=Basic&search_type=all&startIndex=40', '/vuln/search/results?isCpeNameSearch=false&query=Injection&results_type=overview&form_type=Basic&search_type=all&startIndex=60', '/vuln/search/results?isCpeNameSearch=false&query=Injection&results_type=overview&form_type=Basic&search_type=all&startIndex=80', '/vuln/search/results?isCpeNameSearch=false&query=Injection&results_type=overview&form_type=Basic&search_type=all&startIndex=100', '/vuln/search/results?isCpeNameSearch=false&query=Injection&results_type=overview&form_type=Basic&search_type=all&startIndex=120', '/vuln/search/results?isCpeNameSearch=false&query=Injection&results_type=overview&form_type=Basic&search_type=all&startIndex=140', '/vuln/search/results?isCpeNameSearch=false&query=Injection&results_type=overview&form_type=Basic&search_type=all&startIndex=160', '/vuln/search/results?isCpeNameSearch=false&query=Injection&results_type=overview&form_type=Basic&search_type=all&startIndex=180', '/vuln/search/results?isCpeNameSearch=false&query=Injection&results_type=overview&form_type=Basic&search_type=all&startIndex=20', '/vuln/search/results?isCpeNameSearch=false&query=Injection&results_type=overview&form_type=Basic&search_type=all&startIndex=12640', 'https://twitter.com/NISTCyber', 'https://www.facebook.com/NIST', 'https://www.linkedin.com/company/nist', 'https://www.youtube.com/user/USNISTGOV', 'https://www.nist.gov/news-events/nist-rss-feeds', 'https://public.govdelivery.com/accounts/USNIST/subscriber/new?qsp=USNIST_3', None, 'https://www.nist.gov', 'tel:301-975-2000', 'mailto:nvd@nist.gov', 'https://www.nist.gov/about-nist/contact-us', 'https://www.nist.gov/about-nist/our-organization', 'mailto:soc@us-cert.gov', 'https://www.cisa.gov', None, 'https://www.nist.gov/privacy-policy', 'https://www.nist.gov/privacy-policy#privpolicy', 'https://www.nist.gov/privacy-policy#secnot', 'https://www.nist.gov/privacy-policy#accesstate', 'https://www.nist.gov/privacy', 'https://www.nist.gov/no-fear-act-policy', 'https://www.nist.gov/disclaimer', 'https://www.nist.gov/foia', 'https://www.nist.gov/environmental-policy-statement', 'https://www.nist.gov/privacy-policy#cookie', 'https://www.nist.gov/summary-report-scientific-integrity', 'https://www.nist.gov/nist-information-quality-standards', 'https://www.commerce.gov/', 'https://www.healthcare.gov/', 'https://www.science.gov/', 'https://www.usa.gov/', 'https://nvd.nist.gov', 'https://www.nist.gov', '#', '/general', '/general/nvd-dashboard', '/general/news', '/general/email-list', '/general/faq', '/general/visualizations', '/vuln', '/vuln/search', '/vuln/full-listing', '/vuln/categories', '/vuln/data-feeds', '/vuln/vendor-comments', '/vuln/cvmap', '/vuln-metrics/cvss#', '/vuln-metrics/cvss/v3-calculator', '/vuln-metrics/cvss/v2-calculator', '/products', '/products/cpe', '/products/cpe/search', '/products/cpe/statistics', '/products/swid', '/info', '/other', 'https://ncp.nist.gov', 'https://ncp.nist.gov/cce', 'https://csrc.nist.gov/Projects/risk-management/sp800-53-controls/release-search#!/800-53', 'https://csrc.nist.gov/projects/scap-validation-program', 'https://csrc.nist.gov/projects/security-content-automation-protocol', 'https://csrc.nist.gov/projects/united-states-government-configuration-baseline', '/search', '/vuln/search', '/products/cpe/search', 'https://www.nist.gov/itl', '/', None, '/vuln', '/vuln/search', '/vuln/search?results_type=overview&query=Injection&search_type=all&form_type=Basic&isCpeNameSearch=false', '/vuln/search/results?isCpeNameSearch=false&query=Injection&results_type=overview&form_type=Basic&search_type=all&startIndex=0', '/vuln/search/results?isCpeNameSearch=false&query=Injection&results_type=overview&form_type=Basic&search_type=all&startIndex=20', '/vuln/search/results?isCpeNameSearch=false&query=Injection&results_type=overview&form_type=Basic&search_type=all&startIndex=40', '/vuln/search/results?isCpeNameSearch=false&query=Injection&results_type=overview&form_type=Basic&search_type=all&startIndex=60', '/vuln/search/results?isCpeNameSearch=false&query=Injection&results_type=overview&form_type=Basic&search_type=all&startIndex=80', '/vuln/search/results?isCpeNameSearch=false&query=Injection&results_type=overview&form_type=Basic&search_type=all&startIndex=100', '/vuln/search/results?isCpeNameSearch=false&query=Injection&results_type=overview&form_type=Basic&search_type=all&startIndex=120', '/vuln/search/results?isCpeNameSearch=false&query=Injection&results_type=overview&form_type=Basic&search_type=all&startIndex=140', '/vuln/search/results?isCpeNameSearch=false&query=Injection&results_type=overview&form_type=Basic&search_type=all&startIndex=160', '/vuln/search/results?isCpeNameSearch=false&query=Injection&results_type=overview&form_type=Basic&search_type=all&startIndex=180', '/vuln/search/results?isCpeNameSearch=false&query=Injection&results_type=overview&form_type=Basic&search_type=all&startIndex=20', '/vuln/search/results?isCpeNameSearch=false&query=Injection&results_type=overview&form_type=Basic&search_type=all&startIndex=12640', '/vuln/detail/CVE-2021-24557', '/vuln/detail/CVE-2021-24555', '/vuln/detail/CVE-2021-24554', '/vuln/detail/CVE-2021-24553', '/vuln/detail/CVE-2021-24552', '/vuln/detail/CVE-2021-24551', '/vuln/detail/CVE-2021-24550', '/vuln/detail/CVE-2021-24506', '/vuln/detail/CVE-2021-24497', '/vuln/detail/CVE-2021-39244', '/vuln/detail/CVE-2021-39371', '/vuln/detail/CVE-2021-39367', '/vuln/detail/CVE-2021-36011', '/vuln-metrics/cvss/v3-calculator?name=CVE-2021-36011&vector=AV:N/AC:H/PR:N/UI:R/S:C/C:H/I:H/A:H&version=3.1&source=Adobe%20Systems%20Incorporated', '/vuln/detail/CVE-2021-36748', '/vuln/detail/CVE-2020-18885', '/vuln/detail/CVE-2020-18877', '/vuln/detail/CVE-2021-39302', '/vuln/detail/CVE-2021-27999', '/vuln/detail/CVE-2020-22122', '/vuln/detail/CVE-2021-37702', '/vuln/search/results?isCpeNameSearch=false&query=Injection&results_type=overview&form_type=Basic&search_type=all&startIndex=0', '/vuln/search/results?isCpeNameSearch=false&query=Injection&results_type=overview&form_type=Basic&search_type=all&startIndex=20', '/vuln/search/results?isCpeNameSearch=false&query=Injection&results_type=overview&form_type=Basic&search_type=all&startIndex=40', '/vuln/search/results?isCpeNameSearch=false&query=Injection&results_type=overview&form_type=Basic&search_type=all&startIndex=60', '/vuln/search/results?isCpeNameSearch=false&query=Injection&results_type=overview&form_type=Basic&search_type=all&startIndex=80', '/vuln/search/results?isCpeNameSearch=false&query=Injection&results_type=overview&form_type=Basic&search_type=all&startIndex=100', '/vuln/search/results?isCpeNameSearch=false&query=Injection&results_type=overview&form_type=Basic&search_type=all&startIndex=120', '/vuln/search/results?isCpeNameSearch=false&query=Injection&results_type=overview&form_type=Basic&search_type=all&startIndex=140', '/vuln/search/results?isCpeNameSearch=false&query=Injection&results_type=overview&form_type=Basic&search_type=all&startIndex=160', '/vuln/search/results?isCpeNameSearch=false&query=Injection&results_type=overview&form_type=Basic&search_type=all&startIndex=180', '/vuln/search/results?isCpeNameSearch=false&query=Injection&results_type=overview&form_type=Basic&search_type=all&startIndex=20', '/vuln/search/results?isCpeNameSearch=false&query=Injection&results_type=overview&form_type=Basic&search_type=all&startIndex=12640', 'https://twitter.com/NISTCyber', 'https://www.facebook.com/NIST', 'https://www.linkedin.com/company/nist', 'https://www.youtube.com/user/USNISTGOV', 'https://www.nist.gov/news-events/nist-rss-feeds', 'https://public.govdelivery.com/accounts/USNIST/subscriber/new?qsp=USNIST_3', None, 'https://www.nist.gov', 'tel:301-975-2000', 'mailto:nvd@nist.gov', 'https://www.nist.gov/about-nist/contact-us', 'https://www.nist.gov/about-nist/our-organization', 'mailto:soc@us-cert.gov', 'https://www.cisa.gov', None, 'https://www.nist.gov/privacy-policy', 'https://www.nist.gov/privacy-policy#privpolicy', 'https://www.nist.gov/privacy-policy#secnot', 'https://www.nist.gov/privacy-policy#accesstate', 'https://www.nist.gov/privacy', 'https://www.nist.gov/no-fear-act-policy', 'https://www.nist.gov/disclaimer', 'https://www.nist.gov/foia', 'https://www.nist.gov/environmental-policy-statement', 'https://www.nist.gov/privacy-policy#cookie', 'https://www.nist.gov/summary-report-scientific-integrity', 'https://www.nist.gov/nist-information-quality-standards', 'https://www.commerce.gov/', 'https://www.healthcare.gov/', 'https://www.science.gov/', 'https://www.usa.gov/', 'https://nvd.nist.gov', 'https://www.nist.gov', '#', '/general', '/general/nvd-dashboard', '/general/news', '/general/email-list', '/general/faq', '/general/visualizations', '/vuln', '/vuln/search', '/vuln/full-listing', '/vuln/categories', '/vuln/data-feeds', '/vuln/vendor-comments', '/vuln/cvmap', '/vuln-metrics/cvss#', '/vuln-metrics/cvss/v3-calculator', '/vuln-metrics/cvss/v2-calculator', '/products', '/products/cpe', '/products/cpe/search', '/products/cpe/statistics', '/products/swid', '/info', '/other', 'https://ncp.nist.gov', 'https://ncp.nist.gov/cce', 'https://csrc.nist.gov/Projects/risk-management/sp800-53-controls/release-search#!/800-53', 'https://csrc.nist.gov/projects/scap-validation-program', 'https://csrc.nist.gov/projects/security-content-automation-protocol', 'https://csrc.nist.gov/projects/united-states-government-configuration-baseline', '/search', '/vuln/search', '/products/cpe/search', 'https://www.nist.gov/itl', '/', None, '/vuln', '/vuln/search', '/vuln/search?results_type=overview&query=Injection&search_type=all&form_type=Basic&isCpeNameSearch=false', '/vuln/search/results?isCpeNameSearch=false&query=Injection&results_type=overview&form_type=Basic&search_type=all&startIndex=0', '/vuln/search/results?isCpeNameSearch=false&query=Injection&results_type=overview&form_type=Basic&search_type=all&startIndex=20', '/vuln/search/results?isCpeNameSearch=false&query=Injection&results_type=overview&form_type=Basic&search_type=all&startIndex=40', '/vuln/search/results?isCpeNameSearch=false&query=Injection&results_type=overview&form_type=Basic&search_type=all&startIndex=60', '/vuln/search/results?isCpeNameSearch=false&query=Injection&results_type=overview&form_type=Basic&search_type=all&startIndex=80', '/vuln/search/results?isCpeNameSearch=false&query=Injection&results_type=overview&form_type=Basic&search_type=all&startIndex=100', '/vuln/search/results?isCpeNameSearch=false&query=Injection&results_type=overview&form_type=Basic&search_type=all&startIndex=120', '/vuln/search/results?isCpeNameSearch=false&query=Injection&results_type=overview&form_type=Basic&search_type=all&startIndex=140', '/vuln/search/results?isCpeNameSearch=false&query=Injection&results_type=overview&form_type=Basic&search_type=all&startIndex=160', '/vuln/search/results?isCpeNameSearch=false&query=Injection&results_type=overview&form_type=Basic&search_type=all&startIndex=180', '/vuln/search/results?isCpeNameSearch=false&query=Injection&results_type=overview&form_type=Basic&search_type=all&startIndex=20', '/vuln/search/results?isCpeNameSearch=false&query=Injection&results_type=overview&form_type=Basic&search_type=all&startIndex=12640', '/vuln/detail/CVE-2021-24557', '/vuln/detail/CVE-2021-24555', '/vuln/detail/CVE-2021-24554', '/vuln/detail/CVE-2021-24553', '/vuln/detail/CVE-2021-24552', '/vuln/detail/CVE-2021-24551', '/vuln/detail/CVE-2021-24550', '/vuln/detail/CVE-2021-24506', '/vuln/detail/CVE-2021-24497', '/vuln/detail/CVE-2021-39244', '/vuln/detail/CVE-2021-39371', '/vuln/detail/CVE-2021-39367', '/vuln/detail/CVE-2021-36011', '/vuln-metrics/cvss/v3-calculator?name=CVE-2021-36011&vector=AV:N/AC:H/PR:N/UI:R/S:C/C:H/I:H/A:H&version=3.1&source=Adobe%20Systems%20Incorporated', '/vuln/detail/CVE-2021-36748', '/vuln/detail/CVE-2020-18885', '/vuln/detail/CVE-2020-18877', '/vuln/detail/CVE-2021-39302', '/vuln/detail/CVE-2021-27999', '/vuln/detail/CVE-2020-22122', '/vuln/detail/CVE-2021-37702', '/vuln/search/results?isCpeNameSearch=false&query=Injection&results_type=overview&form_type=Basic&search_type=all&startIndex=0', '/vuln/search/results?isCpeNameSearch=false&query=Injection&results_type=overview&form_type=Basic&search_type=all&startIndex=20', '/vuln/search/results?isCpeNameSearch=false&query=Injection&results_type=overview&form_type=Basic&search_type=all&startIndex=40', '/vuln/search/results?isCpeNameSearch=false&query=Injection&results_type=overview&form_type=Basic&search_type=all&startIndex=60', '/vuln/search/results?isCpeNameSearch=false&query=Injection&results_type=overview&form_type=Basic&search_type=all&startIndex=80', '/vuln/search/results?isCpeNameSearch=false&query=Injection&results_type=overview&form_type=Basic&search_type=all&startIndex=100', '/vuln/search/results?isCpeNameSearch=false&query=Injection&results_type=overview&form_type=Basic&search_type=all&startIndex=120', '/vuln/search/results?isCpeNameSearch=false&query=Injection&results_type=overview&form_type=Basic&search_type=all&startIndex=140', '/vuln/search/results?isCpeNameSearch=false&query=Injection&results_type=overview&form_type=Basic&search_type=all&startIndex=160', '/vuln/search/results?isCpeNameSearch=false&query=Injection&results_type=overview&form_type=Basic&search_type=all&startIndex=180', '/vuln/search/results?isCpeNameSearch=false&query=Injection&results_type=overview&form_type=Basic&search_type=all&startIndex=20', '/vuln/search/results?isCpeNameSearch=false&query=Injection&results_type=overview&form_type=Basic&search_type=all&startIndex=12640', 'https://twitter.com/NISTCyber', 'https://www.facebook.com/NIST', 'https://www.linkedin.com/company/nist', 'https://www.youtube.com/user/USNISTGOV', 'https://www.nist.gov/news-events/nist-rss-feeds', 'https://public.govdelivery.com/accounts/USNIST/subscriber/new?qsp=USNIST_3', None, 'https://www.nist.gov', 'tel:301-975-2000', 'mailto:nvd@nist.gov', 'https://www.nist.gov/about-nist/contact-us', 'https://www.nist.gov/about-nist/our-organization', 'mailto:soc@us-cert.gov', 'https://www.cisa.gov', None, 'https://www.nist.gov/privacy-policy', 'https://www.nist.gov/privacy-policy#privpolicy', 'https://www.nist.gov/privacy-policy#secnot', 'https://www.nist.gov/privacy-policy#accesstate', 'https://www.nist.gov/privacy', 'https://www.nist.gov/no-fear-act-policy', 'https://www.nist.gov/disclaimer', 'https://www.nist.gov/foia', 'https://www.nist.gov/environmental-policy-statement', 'https://www.nist.gov/privacy-policy#cookie', 'https://www.nist.gov/summary-report-scientific-integrity', 'https://www.nist.gov/nist-information-quality-standards', 'https://www.commerce.gov/', 'https://www.healthcare.gov/', 'https://www.science.gov/', 'https://www.usa.gov/', 'https://nvd.nist.gov', 'https://www.nist.gov', '#', '/general', '/general/nvd-dashboard', '/general/news', '/general/email-list', '/general/faq', '/general/visualizations', '/vuln', '/vuln/search', '/vuln/full-listing', '/vuln/categories', '/vuln/data-feeds', '/vuln/vendor-comments', '/vuln/cvmap', '/vuln-metrics/cvss#', '/vuln-metrics/cvss/v3-calculator', '/vuln-metrics/cvss/v2-calculator', '/products', '/products/cpe', '/products/cpe/search', '/products/cpe/statistics', '/products/swid', '/info', '/other', 'https://ncp.nist.gov', 'https://ncp.nist.gov/cce', 'https://csrc.nist.gov/Projects/risk-management/sp800-53-controls/release-search#!/800-53', 'https://csrc.nist.gov/projects/scap-validation-program', 'https://csrc.nist.gov/projects/security-content-automation-protocol', 'https://csrc.nist.gov/projects/united-states-government-configuration-baseline', '/search', '/vuln/search', '/products/cpe/search', 'https://www.nist.gov/itl', '/', None, '/vuln', '/vuln/search', '/vuln/search?results_type=overview&query=Injection&search_type=all&form_type=Basic&isCpeNameSearch=false', '/vuln/search/results?isCpeNameSearch=false&query=Injection&results_type=overview&form_type=Basic&search_type=all&startIndex=0', '/vuln/search/results?isCpeNameSearch=false&query=Injection&results_type=overview&form_type=Basic&search_type=all&startIndex=20', '/vuln/search/results?isCpeNameSearch=false&query=Injection&results_type=overview&form_type=Basic&search_type=all&startIndex=40', '/vuln/search/results?isCpeNameSearch=false&query=Injection&results_type=overview&form_type=Basic&search_type=all&startIndex=60', '/vuln/search/results?isCpeNameSearch=false&query=Injection&results_type=overview&form_type=Basic&search_type=all&startIndex=80', '/vuln/search/results?isCpeNameSearch=false&query=Injection&results_type=overview&form_type=Basic&search_type=all&startIndex=100', '/vuln/search/results?isCpeNameSearch=false&query=Injection&results_type=overview&form_type=Basic&search_type=all&startIndex=120', '/vuln/search/results?isCpeNameSearch=false&query=Injection&results_type=overview&form_type=Basic&search_type=all&startIndex=140', '/vuln/search/results?isCpeNameSearch=false&query=Injection&results_type=overview&form_type=Basic&search_type=all&startIndex=160', '/vuln/search/results?isCpeNameSearch=false&query=Injection&results_type=overview&form_type=Basic&search_type=all&startIndex=180', '/vuln/search/results?isCpeNameSearch=false&query=Injection&results_type=overview&form_type=Basic&search_type=all&startIndex=20', '/vuln/search/results?isCpeNameSearch=false&query=Injection&results_type=overview&form_type=Basic&search_type=all&startIndex=12640', '/vuln/detail/CVE-2021-24557', '/vuln/detail/CVE-2021-24555', '/vuln/detail/CVE-2021-24554', '/vuln/detail/CVE-2021-24553', '/vuln/detail/CVE-2021-24552', '/vuln/detail/CVE-2021-24551', '/vuln/detail/CVE-2021-24550', '/vuln/detail/CVE-2021-24506', '/vuln/detail/CVE-2021-24497', '/vuln/detail/CVE-2021-39244', '/vuln/detail/CVE-2021-39371', '/vuln/detail/CVE-2021-39367', '/vuln/detail/CVE-2021-36011', '/vuln-metrics/cvss/v3-calculator?name=CVE-2021-36011&vector=AV:N/AC:H/PR:N/UI:R/S:C/C:H/I:H/A:H&version=3.1&source=Adobe%20Systems%20Incorporated', '/vuln/detail/CVE-2021-36748', '/vuln/detail/CVE-2020-18885', '/vuln/detail/CVE-2020-18877', '/vuln/detail/CVE-2021-39302', '/vuln/detail/CVE-2021-27999', '/vuln/detail/CVE-2020-22122', '/vuln/detail/CVE-2021-37702', '/vuln/search/results?isCpeNameSearch=false&query=Injection&results_type=overview&form_type=Basic&search_type=all&startIndex=0', '/vuln/search/results?isCpeNameSearch=false&query=Injection&results_type=overview&form_type=Basic&search_type=all&startIndex=20', '/vuln/search/results?isCpeNameSearch=false&query=Injection&results_type=overview&form_type=Basic&search_type=all&startIndex=40', '/vuln/search/results?isCpeNameSearch=false&query=Injection&results_type=overview&form_type=Basic&search_type=all&startIndex=60', '/vuln/search/results?isCpeNameSearch=false&query=Injection&results_type=overview&form_type=Basic&search_type=all&startIndex=80', '/vuln/search/results?isCpeNameSearch=false&query=Injection&results_type=overview&form_type=Basic&search_type=all&startIndex=100', '/vuln/search/results?isCpeNameSearch=false&query=Injection&results_type=overview&form_type=Basic&search_type=all&startIndex=120', '/vuln/search/results?isCpeNameSearch=false&query=Injection&results_type=overview&form_type=Basic&search_type=all&startIndex=140', '/vuln/search/results?isCpeNameSearch=false&query=Injection&results_type=overview&form_type=Basic&search_type=all&startIndex=160', '/vuln/search/results?isCpeNameSearch=false&query=Injection&results_type=overview&form_type=Basic&search_type=all&startIndex=180', '/vuln/search/results?isCpeNameSearch=false&query=Injection&results_type=overview&form_type=Basic&search_type=all&startIndex=20', '/vuln/search/results?isCpeNameSearch=false&query=Injection&results_type=overview&form_type=Basic&search_type=all&startIndex=12640', 'https://twitter.com/NISTCyber', 'https://www.facebook.com/NIST', 'https://www.linkedin.com/company/nist', 'https://www.youtube.com/user/USNISTGOV', 'https://www.nist.gov/news-events/nist-rss-feeds', 'https://public.govdelivery.com/accounts/USNIST/subscriber/new?qsp=USNIST_3', None, 'https://www.nist.gov', 'tel:301-975-2000', 'mailto:nvd@nist.gov', 'https://www.nist.gov/about-nist/contact-us', 'https://www.nist.gov/about-nist/our-organization', 'mailto:soc@us-cert.gov', 'https://www.cisa.gov', None, 'https://www.nist.gov/privacy-policy', 'https://www.nist.gov/privacy-policy#privpolicy', 'https://www.nist.gov/privacy-policy#secnot', 'https://www.nist.gov/privacy-policy#accesstate', 'https://www.nist.gov/privacy', 'https://www.nist.gov/no-fear-act-policy', 'https://www.nist.gov/disclaimer', 'https://www.nist.gov/foia', 'https://www.nist.gov/environmental-policy-statement', 'https://www.nist.gov/privacy-policy#cookie', 'https://www.nist.gov/summary-report-scientific-integrity', 'https://www.nist.gov/nist-information-quality-standards', 'https://www.commerce.gov/', 'https://www.healthcare.gov/', 'https://www.science.gov/', 'https://www.usa.gov/', 'https://nvd.nist.gov', 'https://www.nist.gov', '#', '/general', '/general/nvd-dashboard', '/general/news', '/general/email-list', '/general/faq', '/general/visualizations', '/vuln', '/vuln/search', '/vuln/full-listing', '/vuln/categories', '/vuln/data-feeds', '/vuln/vendor-comments', '/vuln/cvmap', '/vuln-metrics/cvss#', '/vuln-metrics/cvss/v3-calculator', '/vuln-metrics/cvss/v2-calculator', '/products', '/products/cpe', '/products/cpe/search', '/products/cpe/statistics', '/products/swid', '/info', '/other', 'https://ncp.nist.gov', 'https://ncp.nist.gov/cce', 'https://csrc.nist.gov/Projects/risk-management/sp800-53-controls/release-search#!/800-53', 'https://csrc.nist.gov/projects/scap-validation-program', 'https://csrc.nist.gov/projects/security-content-automation-protocol', 'https://csrc.nist.gov/projects/united-states-government-configuration-baseline', '/search', '/vuln/search', '/products/cpe/search', 'https://www.nist.gov/itl', '/', None, '/vuln', '/vuln/search', '/vuln/search?results_type=overview&query=Injection&search_type=all&form_type=Basic&isCpeNameSearch=false', '/vuln/search/results?isCpeNameSearch=false&query=Injection&results_type=overview&form_type=Basic&search_type=all&startIndex=0', '/vuln/search/results?isCpeNameSearch=false&query=Injection&results_type=overview&form_type=Basic&search_type=all&startIndex=20', '/vuln/search/results?isCpeNameSearch=false&query=Injection&results_type=overview&form_type=Basic&search_type=all&startIndex=40', '/vuln/search/results?isCpeNameSearch=false&query=Injection&results_type=overview&form_type=Basic&search_type=all&startIndex=60', '/vuln/search/results?isCpeNameSearch=false&query=Injection&results_type=overview&form_type=Basic&search_type=all&startIndex=80', '/vuln/search/results?isCpeNameSearch=false&query=Injection&results_type=overview&form_type=Basic&search_type=all&startIndex=100', '/vuln/search/results?isCpeNameSearch=false&query=Injection&results_type=overview&form_type=Basic&search_type=all&startIndex=120', '/vuln/search/results?isCpeNameSearch=false&query=Injection&results_type=overview&form_type=Basic&search_type=all&startIndex=140', '/vuln/search/results?isCpeNameSearch=false&query=Injection&results_type=overview&form_type=Basic&search_type=all&startIndex=160', '/vuln/search/results?isCpeNameSearch=false&query=Injection&results_type=overview&form_type=Basic&search_type=all&startIndex=180', '/vuln/search/results?isCpeNameSearch=false&query=Injection&results_type=overview&form_type=Basic&search_type=all&startIndex=20', '/vuln/search/results?isCpeNameSearch=false&query=Injection&results_type=overview&form_type=Basic&search_type=all&startIndex=12640', '/vuln/detail/CVE-2021-24557', '/vuln/detail/CVE-2021-24555', '/vuln/detail/CVE-2021-24554', '/vuln/detail/CVE-2021-24553', '/vuln/detail/CVE-2021-24552', '/vuln/detail/CVE-2021-24551', '/vuln/detail/CVE-2021-24550', '/vuln/detail/CVE-2021-24506', '/vuln/detail/CVE-2021-24497', '/vuln/detail/CVE-2021-39244', '/vuln/detail/CVE-2021-39371', '/vuln/detail/CVE-2021-39367', '/vuln/detail/CVE-2021-36011', '/vuln-metrics/cvss/v3-calculator?name=CVE-2021-36011&vector=AV:N/AC:H/PR:N/UI:R/S:C/C:H/I:H/A:H&version=3.1&source=Adobe%20Systems%20Incorporated', '/vuln/detail/CVE-2021-36748', '/vuln/detail/CVE-2020-18885', '/vuln/detail/CVE-2020-18877', '/vuln/detail/CVE-2021-39302', '/vuln/detail/CVE-2021-27999', '/vuln/detail/CVE-2020-22122', '/vuln/detail/CVE-2021-37702', '/vuln/search/results?isCpeNameSearch=false&query=Injection&results_type=overview&form_type=Basic&search_type=all&startIndex=0', '/vuln/search/results?isCpeNameSearch=false&query=Injection&results_type=overview&form_type=Basic&search_type=all&startIndex=20', '/vuln/search/results?isCpeNameSearch=false&query=Injection&results_type=overview&form_type=Basic&search_type=all&startIndex=40', '/vuln/search/results?isCpeNameSearch=false&query=Injection&results_type=overview&form_type=Basic&search_type=all&startIndex=60', '/vuln/search/results?isCpeNameSearch=false&query=Injection&results_type=overview&form_type=Basic&search_type=all&startIndex=80', '/vuln/search/results?isCpeNameSearch=false&query=Injection&results_type=overview&form_type=Basic&search_type=all&startIndex=100', '/vuln/search/results?isCpeNameSearch=false&query=Injection&results_type=overview&form_type=Basic&search_type=all&startIndex=120', '/vuln/search/results?isCpeNameSearch=false&query=Injection&results_type=overview&form_type=Basic&search_type=all&startIndex=140', '/vuln/search/results?isCpeNameSearch=false&query=Injection&results_type=overview&form_type=Basic&search_type=all&startIndex=160', '/vuln/search/results?isCpeNameSearch=false&query=Injection&results_type=overview&form_type=Basic&search_type=all&startIndex=180', '/vuln/search/results?isCpeNameSearch=false&query=Injection&results_type=overview&form_type=Basic&search_type=all&startIndex=20', '/vuln/search/results?isCpeNameSearch=false&query=Injection&results_type=overview&form_type=Basic&search_type=all&startIndex=12640', 'https://twitter.com/NISTCyber', 'https://www.facebook.com/NIST', 'https://www.linkedin.com/company/nist', 'https://www.youtube.com/user/USNISTGOV', 'https://www.nist.gov/news-events/nist-rss-feeds', 'https://public.govdelivery.com/accounts/USNIST/subscriber/new?qsp=USNIST_3', None, 'https://www.nist.gov', 'tel:301-975-2000', 'mailto:nvd@nist.gov', 'https://www.nist.gov/about-nist/contact-us', 'https://www.nist.gov/about-nist/our-organization', 'mailto:soc@us-cert.gov', 'https://www.cisa.gov', None, 'https://www.nist.gov/privacy-policy', 'https://www.nist.gov/privacy-policy#privpolicy', 'https://www.nist.gov/privacy-policy#secnot', 'https://www.nist.gov/privacy-policy#accesstate', 'https://www.nist.gov/privacy', 'https://www.nist.gov/no-fear-act-policy', 'https://www.nist.gov/disclaimer', 'https://www.nist.gov/foia', 'https://www.nist.gov/environmental-policy-statement', 'https://www.nist.gov/privacy-policy#cookie', 'https://www.nist.gov/summary-report-scientific-integrity', 'https://www.nist.gov/nist-information-quality-standards', 'https://www.commerce.gov/', 'https://www.healthcare.gov/', 'https://www.science.gov/', 'https://www.usa.gov/', 'https://nvd.nist.gov', 'https://www.nist.gov', '#', '/general', '/general/nvd-dashboard', '/general/news', '/general/email-list', '/general/faq', '/general/visualizations', '/vuln', '/vuln/search', '/vuln/full-listing', '/vuln/categories', '/vuln/data-feeds', '/vuln/vendor-comments', '/vuln/cvmap', '/vuln-metrics/cvss#', '/vuln-metrics/cvss/v3-calculator', '/vuln-metrics/cvss/v2-calculator', '/products', '/products/cpe', '/products/cpe/search', '/products/cpe/statistics', '/products/swid', '/info', '/other', 'https://ncp.nist.gov', 'https://ncp.nist.gov/cce', 'https://csrc.nist.gov/Projects/risk-management/sp800-53-controls/release-search#!/800-53', 'https://csrc.nist.gov/projects/scap-validation-program', 'https://csrc.nist.gov/projects/security-content-automation-protocol', 'https://csrc.nist.gov/projects/united-states-government-configuration-baseline', '/search', '/vuln/search', '/products/cpe/search', 'https://www.nist.gov/itl', '/', None, '/vuln', '/vuln/search', '/vuln/search?results_type=overview&query=Injection&search_type=all&form_type=Basic&isCpeNameSearch=false', '/vuln/search/results?isCpeNameSearch=false&query=Injection&results_type=overview&form_type=Basic&search_type=all&startIndex=0', '/vuln/search/results?isCpeNameSearch=false&query=Injection&results_type=overview&form_type=Basic&search_type=all&startIndex=20', '/vuln/search/results?isCpeNameSearch=false&query=Injection&results_type=overview&form_type=Basic&search_type=all&startIndex=40', '/vuln/search/results?isCpeNameSearch=false&query=Injection&results_type=overview&form_type=Basic&search_type=all&startIndex=60', '/vuln/search/results?isCpeNameSearch=false&query=Injection&results_type=overview&form_type=Basic&search_type=all&startIndex=80', '/vuln/search/results?isCpeNameSearch=false&query=Injection&results_type=overview&form_type=Basic&search_type=all&startIndex=100', '/vuln/search/results?isCpeNameSearch=false&query=Injection&results_type=overview&form_type=Basic&search_type=all&startIndex=120', '/vuln/search/results?isCpeNameSearch=false&query=Injection&results_type=overview&form_type=Basic&search_type=all&startIndex=140', '/vuln/search/results?isCpeNameSearch=false&query=Injection&results_type=overview&form_type=Basic&search_type=all&startIndex=160', '/vuln/search/results?isCpeNameSearch=false&query=Injection&results_type=overview&form_type=Basic&search_type=all&startIndex=180', '/vuln/search/results?isCpeNameSearch=false&query=Injection&results_type=overview&form_type=Basic&search_type=all&startIndex=20', '/vuln/search/results?isCpeNameSearch=false&query=Injection&results_type=overview&form_type=Basic&search_type=all&startIndex=12640', '/vuln/detail/CVE-2021-24557', '/vuln/detail/CVE-2021-24555', '/vuln/detail/CVE-2021-24554', '/vuln/detail/CVE-2021-24553', '/vuln/detail/CVE-2021-24552', '/vuln/detail/CVE-2021-24551', '/vuln/detail/CVE-2021-24550', '/vuln/detail/CVE-2021-24506', '/vuln/detail/CVE-2021-24497', '/vuln/detail/CVE-2021-39244', '/vuln/detail/CVE-2021-39371', '/vuln/detail/CVE-2021-39367', '/vuln/detail/CVE-2021-36011', '/vuln-metrics/cvss/v3-calculator?name=CVE-2021-36011&vector=AV:N/AC:H/PR:N/UI:R/S:C/C:H/I:H/A:H&version=3.1&source=Adobe%20Systems%20Incorporated', '/vuln/detail/CVE-2021-36748', '/vuln/detail/CVE-2020-18885', '/vuln/detail/CVE-2020-18877', '/vuln/detail/CVE-2021-39302', '/vuln/detail/CVE-2021-27999', '/vuln/detail/CVE-2020-22122', '/vuln/detail/CVE-2021-37702', '/vuln/search/results?isCpeNameSearch=false&query=Injection&results_type=overview&form_type=Basic&search_type=all&startIndex=0', '/vuln/search/results?isCpeNameSearch=false&query=Injection&results_type=overview&form_type=Basic&search_type=all&startIndex=20', '/vuln/search/results?isCpeNameSearch=false&query=Injection&results_type=overview&form_type=Basic&search_type=all&startIndex=40', '/vuln/search/results?isCpeNameSearch=false&query=Injection&results_type=overview&form_type=Basic&search_type=all&startIndex=60', '/vuln/search/results?isCpeNameSearch=false&query=Injection&results_type=overview&form_type=Basic&search_type=all&startIndex=80', '/vuln/search/results?isCpeNameSearch=false&query=Injection&results_type=overview&form_type=Basic&search_type=all&startIndex=100', '/vuln/search/results?isCpeNameSearch=false&query=Injection&results_type=overview&form_type=Basic&search_type=all&startIndex=120', '/vuln/search/results?isCpeNameSearch=false&query=Injection&results_type=overview&form_type=Basic&search_type=all&startIndex=140', '/vuln/search/results?isCpeNameSearch=false&query=Injection&results_type=overview&form_type=Basic&search_type=all&startIndex=160', '/vuln/search/results?isCpeNameSearch=false&query=Injection&results_type=overview&form_type=Basic&search_type=all&startIndex=180', '/vuln/search/results?isCpeNameSearch=false&query=Injection&results_type=overview&form_type=Basic&search_type=all&startIndex=20', '/vuln/search/results?isCpeNameSearch=false&query=Injection&results_type=overview&form_type=Basic&search_type=all&startIndex=12640', 'https://twitter.com/NISTCyber', 'https://www.facebook.com/NIST', 'https://www.linkedin.com/company/nist', 'https://www.youtube.com/user/USNISTGOV', 'https://www.nist.gov/news-events/nist-rss-feeds', 'https://public.govdelivery.com/accounts/USNIST/subscriber/new?qsp=USNIST_3', None, 'https://www.nist.gov', 'tel:301-975-2000', 'mailto:nvd@nist.gov', 'https://www.nist.gov/about-nist/contact-us', 'https://www.nist.gov/about-nist/our-organization', 'mailto:soc@us-cert.gov', 'https://www.cisa.gov', None, 'https://www.nist.gov/privacy-policy', 'https://www.nist.gov/privacy-policy#privpolicy', 'https://www.nist.gov/privacy-policy#secnot', 'https://www.nist.gov/privacy-policy#accesstate', 'https://www.nist.gov/privacy', 'https://www.nist.gov/no-fear-act-policy', 'https://www.nist.gov/disclaimer', 'https://www.nist.gov/foia', 'https://www.nist.gov/environmental-policy-statement', 'https://www.nist.gov/privacy-policy#cookie', 'https://www.nist.gov/summary-report-scientific-integrity', 'https://www.nist.gov/nist-information-quality-standards', 'https://www.commerce.gov/', 'https://www.healthcare.gov/', 'https://www.science.gov/', 'https://www.usa.gov/', 'https://nvd.nist.gov', 'https://www.nist.gov', '#', '/general', '/general/nvd-dashboard', '/general/news', '/general/email-list', '/general/faq', '/general/visualizations', '/vuln', '/vuln/search', '/vuln/full-listing', '/vuln/categories', '/vuln/data-feeds', '/vuln/vendor-comments', '/vuln/cvmap', '/vuln-metrics/cvss#', '/vuln-metrics/cvss/v3-calculator', '/vuln-metrics/cvss/v2-calculator', '/products', '/products/cpe', '/products/cpe/search', '/products/cpe/statistics', '/products/swid', '/info', '/other', 'https://ncp.nist.gov', 'https://ncp.nist.gov/cce', 'https://csrc.nist.gov/Projects/risk-management/sp800-53-controls/release-search#!/800-53', 'https://csrc.nist.gov/projects/scap-validation-program', 'https://csrc.nist.gov/projects/security-content-automation-protocol', 'https://csrc.nist.gov/projects/united-states-government-configuration-baseline', '/search', '/vuln/search', '/products/cpe/search', 'https://www.nist.gov/itl', '/', None, '/vuln', '/vuln/search', '/vuln/search?results_type=overview&query=Injection&search_type=all&form_type=Basic&isCpeNameSearch=false', '/vuln/search/results?isCpeNameSearch=false&query=Injection&results_type=overview&form_type=Basic&search_type=all&startIndex=0', '/vuln/search/results?isCpeNameSearch=false&query=Injection&results_type=overview&form_type=Basic&search_type=all&startIndex=20', '/vuln/search/results?isCpeNameSearch=false&query=Injection&results_type=overview&form_type=Basic&search_type=all&startIndex=40', '/vuln/search/results?isCpeNameSearch=false&query=Injection&results_type=overview&form_type=Basic&search_type=all&startIndex=60', '/vuln/search/results?isCpeNameSearch=false&query=Injection&results_type=overview&form_type=Basic&search_type=all&startIndex=80', '/vuln/search/results?isCpeNameSearch=false&query=Injection&results_type=overview&form_type=Basic&search_type=all&startIndex=100', '/vuln/search/results?isCpeNameSearch=false&query=Injection&results_type=overview&form_type=Basic&search_type=all&startIndex=120', '/vuln/search/results?isCpeNameSearch=false&query=Injection&results_type=overview&form_type=Basic&search_type=all&startIndex=140', '/vuln/search/results?isCpeNameSearch=false&query=Injection&results_type=overview&form_type=Basic&search_type=all&startIndex=160', '/vuln/search/results?isCpeNameSearch=false&query=Injection&results_type=overview&form_type=Basic&search_type=all&startIndex=180', '/vuln/search/results?isCpeNameSearch=false&query=Injection&results_type=overview&form_type=Basic&search_type=all&startIndex=20', '/vuln/search/results?isCpeNameSearch=false&query=Injection&results_type=overview&form_type=Basic&search_type=all&startIndex=12640', '/vuln/detail/CVE-2021-24557', '/vuln/detail/CVE-2021-24555', '/vuln/detail/CVE-2021-24554', '/vuln/detail/CVE-2021-24553', '/vuln/detail/CVE-2021-24552', '/vuln/detail/CVE-2021-24551', '/vuln/detail/CVE-2021-24550', '/vuln/detail/CVE-2021-24506', '/vuln/detail/CVE-2021-24497', '/vuln/detail/CVE-2021-39244', '/vuln/detail/CVE-2021-39371', '/vuln/detail/CVE-2021-39367', '/vuln/detail/CVE-2021-36011', '/vuln-metrics/cvss/v3-calculator?name=CVE-2021-36011&vector=AV:N/AC:H/PR:N/UI:R/S:C/C:H/I:H/A:H&version=3.1&source=Adobe%20Systems%20Incorporated', '/vuln/detail/CVE-2021-36748', '/vuln/detail/CVE-2020-18885', '/vuln/detail/CVE-2020-18877', '/vuln/detail/CVE-2021-39302', '/vuln/detail/CVE-2021-27999', '/vuln/detail/CVE-2020-22122', '/vuln/detail/CVE-2021-37702', '/vuln/search/results?isCpeNameSearch=false&query=Injection&results_type=overview&form_type=Basic&search_type=all&startIndex=0', '/vuln/search/results?isCpeNameSearch=false&query=Injection&results_type=overview&form_type=Basic&search_type=all&startIndex=20', '/vuln/search/results?isCpeNameSearch=false&query=Injection&results_type=overview&form_type=Basic&search_type=all&startIndex=40', '/vuln/search/results?isCpeNameSearch=false&query=Injection&results_type=overview&form_type=Basic&search_type=all&startIndex=60', '/vuln/search/results?isCpeNameSearch=false&query=Injection&results_type=overview&form_type=Basic&search_type=all&startIndex=80', '/vuln/search/results?isCpeNameSearch=false&query=Injection&results_type=overview&form_type=Basic&search_type=all&startIndex=100', '/vuln/search/results?isCpeNameSearch=false&query=Injection&results_type=overview&form_type=Basic&search_type=all&startIndex=120', '/vuln/search/results?isCpeNameSearch=false&query=Injection&results_type=overview&form_type=Basic&search_type=all&startIndex=140', '/vuln/search/results?isCpeNameSearch=false&query=Injection&results_type=overview&form_type=Basic&search_type=all&startIndex=160', '/vuln/search/results?isCpeNameSearch=false&query=Injection&results_type=overview&form_type=Basic&search_type=all&startIndex=180', '/vuln/search/results?isCpeNameSearch=false&query=Injection&results_type=overview&form_type=Basic&search_type=all&startIndex=20', '/vuln/search/results?isCpeNameSearch=false&query=Injection&results_type=overview&form_type=Basic&search_type=all&startIndex=12640', 'https://twitter.com/NISTCyber', 'https://www.facebook.com/NIST', 'https://www.linkedin.com/company/nist', 'https://www.youtube.com/user/USNISTGOV', 'https://www.nist.gov/news-events/nist-rss-feeds', 'https://public.govdelivery.com/accounts/USNIST/subscriber/new?qsp=USNIST_3', None, 'https://www.nist.gov', 'tel:301-975-2000', 'mailto:nvd@nist.gov', 'https://www.nist.gov/about-nist/contact-us', 'https://www.nist.gov/about-nist/our-organization', 'mailto:soc@us-cert.gov', 'https://www.cisa.gov', None, 'https://www.nist.gov/privacy-policy', 'https://www.nist.gov/privacy-policy#privpolicy', 'https://www.nist.gov/privacy-policy#secnot', 'https://www.nist.gov/privacy-policy#accesstate', 'https://www.nist.gov/privacy', 'https://www.nist.gov/no-fear-act-policy', 'https://www.nist.gov/disclaimer', 'https://www.nist.gov/foia', 'https://www.nist.gov/environmental-policy-statement', 'https://www.nist.gov/privacy-policy#cookie', 'https://www.nist.gov/summary-report-scientific-integrity', 'https://www.nist.gov/nist-information-quality-standards', 'https://www.commerce.gov/', 'https://www.healthcare.gov/', 'https://www.science.gov/', 'https://www.usa.gov/', 'https://nvd.nist.gov', 'https://www.nist.gov', '#', '/general', '/general/nvd-dashboard', '/general/news', '/general/email-list', '/general/faq', '/general/visualizations', '/vuln', '/vuln/search', '/vuln/full-listing', '/vuln/categories', '/vuln/data-feeds', '/vuln/vendor-comments', '/vuln/cvmap', '/vuln-metrics/cvss#', '/vuln-metrics/cvss/v3-calculator', '/vuln-metrics/cvss/v2-calculator', '/products', '/products/cpe', '/products/cpe/search', '/products/cpe/statistics', '/products/swid', '/info', '/other', 'https://ncp.nist.gov', 'https://ncp.nist.gov/cce', 'https://csrc.nist.gov/Projects/risk-management/sp800-53-controls/release-search#!/800-53', 'https://csrc.nist.gov/projects/scap-validation-program', 'https://csrc.nist.gov/projects/security-content-automation-protocol', 'https://csrc.nist.gov/projects/united-states-government-configuration-baseline', '/search', '/vuln/search', '/products/cpe/search', 'https://www.nist.gov/itl', '/', None, '/vuln', '/vuln/search', '/vuln/search?results_type=overview&query=Injection&search_type=all&form_type=Basic&isCpeNameSearch=false', '/vuln/search/results?isCpeNameSearch=false&query=Injection&results_type=overview&form_type=Basic&search_type=all&startIndex=0', '/vuln/search/results?isCpeNameSearch=false&query=Injection&results_type=overview&form_type=Basic&search_type=all&startIndex=20', '/vuln/search/results?isCpeNameSearch=false&query=Injection&results_type=overview&form_type=Basic&search_type=all&startIndex=40', '/vuln/search/results?isCpeNameSearch=false&query=Injection&results_type=overview&form_type=Basic&search_type=all&startIndex=60', '/vuln/search/results?isCpeNameSearch=false&query=Injection&results_type=overview&form_type=Basic&search_type=all&startIndex=80', '/vuln/search/results?isCpeNameSearch=false&query=Injection&results_type=overview&form_type=Basic&search_type=all&startIndex=100', '/vuln/search/results?isCpeNameSearch=false&query=Injection&results_type=overview&form_type=Basic&search_type=all&startIndex=120', '/vuln/search/results?isCpeNameSearch=false&query=Injection&results_type=overview&form_type=Basic&search_type=all&startIndex=140', '/vuln/search/results?isCpeNameSearch=false&query=Injection&results_type=overview&form_type=Basic&search_type=all&startIndex=160', '/vuln/search/results?isCpeNameSearch=false&query=Injection&results_type=overview&form_type=Basic&search_type=all&startIndex=180', '/vuln/search/results?isCpeNameSearch=false&query=Injection&results_type=overview&form_type=Basic&search_type=all&startIndex=20', '/vuln/search/results?isCpeNameSearch=false&query=Injection&results_type=overview&form_type=Basic&search_type=all&startIndex=12640', '/vuln/detail/CVE-2021-24557', '/vuln/detail/CVE-2021-24555', '/vuln/detail/CVE-2021-24554', '/vuln/detail/CVE-2021-24553', '/vuln/detail/CVE-2021-24552', '/vuln/detail/CVE-2021-24551', '/vuln/detail/CVE-2021-24550', '/vuln/detail/CVE-2021-24506', '/vuln/detail/CVE-2021-24497', '/vuln/detail/CVE-2021-39244', '/vuln/detail/CVE-2021-39371', '/vuln/detail/CVE-2021-39367', '/vuln/detail/CVE-2021-36011', '/vuln-metrics/cvss/v3-calculator?name=CVE-2021-36011&vector=AV:N/AC:H/PR:N/UI:R/S:C/C:H/I:H/A:H&version=3.1&source=Adobe%20Systems%20Incorporated', '/vuln/detail/CVE-2021-36748', '/vuln/detail/CVE-2020-18885', '/vuln/detail/CVE-2020-18877', '/vuln/detail/CVE-2021-39302', '/vuln/detail/CVE-2021-27999', '/vuln/detail/CVE-2020-22122', '/vuln/detail/CVE-2021-37702', '/vuln/search/results?isCpeNameSearch=false&query=Injection&results_type=overview&form_type=Basic&search_type=all&startIndex=0', '/vuln/search/results?isCpeNameSearch=false&query=Injection&results_type=overview&form_type=Basic&search_type=all&startIndex=20', '/vuln/search/results?isCpeNameSearch=false&query=Injection&results_type=overview&form_type=Basic&search_type=all&startIndex=40', '/vuln/search/results?isCpeNameSearch=false&query=Injection&results_type=overview&form_type=Basic&search_type=all&startIndex=60', '/vuln/search/results?isCpeNameSearch=false&query=Injection&results_type=overview&form_type=Basic&search_type=all&startIndex=80', '/vuln/search/results?isCpeNameSearch=false&query=Injection&results_type=overview&form_type=Basic&search_type=all&startIndex=100', '/vuln/search/results?isCpeNameSearch=false&query=Injection&results_type=overview&form_type=Basic&search_type=all&startIndex=120', '/vuln/search/results?isCpeNameSearch=false&query=Injection&results_type=overview&form_type=Basic&search_type=all&startIndex=140', '/vuln/search/results?isCpeNameSearch=false&query=Injection&results_type=overview&form_type=Basic&search_type=all&startIndex=160', '/vuln/search/results?isCpeNameSearch=false&query=Injection&results_type=overview&form_type=Basic&search_type=all&startIndex=180', '/vuln/search/results?isCpeNameSearch=false&query=Injection&results_type=overview&form_type=Basic&search_type=all&startIndex=20', '/vuln/search/results?isCpeNameSearch=false&query=Injection&results_type=overview&form_type=Basic&search_type=all&startIndex=12640', 'https://twitter.com/NISTCyber', 'https://www.facebook.com/NIST', 'https://www.linkedin.com/company/nist', 'https://www.youtube.com/user/USNISTGOV', 'https://www.nist.gov/news-events/nist-rss-feeds', 'https://public.govdelivery.com/accounts/USNIST/subscriber/new?qsp=USNIST_3', None, 'https://www.nist.gov', 'tel:301-975-2000', 'mailto:nvd@nist.gov', 'https://www.nist.gov/about-nist/contact-us', 'https://www.nist.gov/about-nist/our-organization', 'mailto:soc@us-cert.gov', 'https://www.cisa.gov', None, 'https://www.nist.gov/privacy-policy', 'https://www.nist.gov/privacy-policy#privpolicy', 'https://www.nist.gov/privacy-policy#secnot', 'https://www.nist.gov/privacy-policy#accesstate', 'https://www.nist.gov/privacy', 'https://www.nist.gov/no-fear-act-policy', 'https://www.nist.gov/disclaimer', 'https://www.nist.gov/foia', 'https://www.nist.gov/environmental-policy-statement', 'https://www.nist.gov/privacy-policy#cookie', 'https://www.nist.gov/summary-report-scientific-integrity', 'https://www.nist.gov/nist-information-quality-standards', 'https://www.commerce.gov/', 'https://www.healthcare.gov/', 'https://www.science.gov/', 'https://www.usa.gov/', 'https://nvd.nist.gov', 'https://www.nist.gov', '#', '/general', '/general/nvd-dashboard', '/general/news', '/general/email-list', '/general/faq', '/general/visualizations', '/vuln', '/vuln/search', '/vuln/full-listing', '/vuln/categories', '/vuln/data-feeds', '/vuln/vendor-comments', '/vuln/cvmap', '/vuln-metrics/cvss#', '/vuln-metrics/cvss/v3-calculator', '/vuln-metrics/cvss/v2-calculator', '/products', '/products/cpe', '/products/cpe/search', '/products/cpe/statistics', '/products/swid', '/info', '/other', 'https://ncp.nist.gov', 'https://ncp.nist.gov/cce', 'https://csrc.nist.gov/Projects/risk-management/sp800-53-controls/release-search#!/800-53', 'https://csrc.nist.gov/projects/scap-validation-program', 'https://csrc.nist.gov/projects/security-content-automation-protocol', 'https://csrc.nist.gov/projects/united-states-government-configuration-baseline', '/search', '/vuln/search', '/products/cpe/search', 'https://www.nist.gov/itl', '/', None, '/vuln', '/vuln/search', '/vuln/search?results_type=overview&query=Injection&search_type=all&form_type=Basic&isCpeNameSearch=false', '/vuln/search/results?isCpeNameSearch=false&query=Injection&results_type=overview&form_type=Basic&search_type=all&startIndex=0', '/vuln/search/results?isCpeNameSearch=false&query=Injection&results_type=overview&form_type=Basic&search_type=all&startIndex=20', '/vuln/search/results?isCpeNameSearch=false&query=Injection&results_type=overview&form_type=Basic&search_type=all&startIndex=40', '/vuln/search/results?isCpeNameSearch=false&query=Injection&results_type=overview&form_type=Basic&search_type=all&startIndex=60', '/vuln/search/results?isCpeNameSearch=false&query=Injection&results_type=overview&form_type=Basic&search_type=all&startIndex=80', '/vuln/search/results?isCpeNameSearch=false&query=Injection&results_type=overview&form_type=Basic&search_type=all&startIndex=100', '/vuln/search/results?isCpeNameSearch=false&query=Injection&results_type=overview&form_type=Basic&search_type=all&startIndex=120', '/vuln/search/results?isCpeNameSearch=false&query=Injection&results_type=overview&form_type=Basic&search_type=all&startIndex=140', '/vuln/search/results?isCpeNameSearch=false&query=Injection&results_type=overview&form_type=Basic&search_type=all&startIndex=160', '/vuln/search/results?isCpeNameSearch=false&query=Injection&results_type=overview&form_type=Basic&search_type=all&startIndex=180', '/vuln/search/results?isCpeNameSearch=false&query=Injection&results_type=overview&form_type=Basic&search_type=all&startIndex=20', '/vuln/search/results?isCpeNameSearch=false&query=Injection&results_type=overview&form_type=Basic&search_type=all&startIndex=12640', '/vuln/detail/CVE-2021-24557', '/vuln/detail/CVE-2021-24555', '/vuln/detail/CVE-2021-24554', '/vuln/detail/CVE-2021-24553', '/vuln/detail/CVE-2021-24552', '/vuln/detail/CVE-2021-24551', '/vuln/detail/CVE-2021-24550', '/vuln/detail/CVE-2021-24506', '/vuln/detail/CVE-2021-24497', '/vuln/detail/CVE-2021-39244', '/vuln/detail/CVE-2021-39371', '/vuln/detail/CVE-2021-39367', '/vuln/detail/CVE-2021-36011', '/vuln-metrics/cvss/v3-calculator?name=CVE-2021-36011&vector=AV:N/AC:H/PR:N/UI:R/S:C/C:H/I:H/A:H&version=3.1&source=Adobe%20Systems%20Incorporated', '/vuln/detail/CVE-2021-36748', '/vuln/detail/CVE-2020-18885', '/vuln/detail/CVE-2020-18877', '/vuln/detail/CVE-2021-39302', '/vuln/detail/CVE-2021-27999', '/vuln/detail/CVE-2020-22122', '/vuln/detail/CVE-2021-37702', '/vuln/search/results?isCpeNameSearch=false&query=Injection&results_type=overview&form_type=Basic&search_type=all&startIndex=0', '/vuln/search/results?isCpeNameSearch=false&query=Injection&results_type=overview&form_type=Basic&search_type=all&startIndex=20', '/vuln/search/results?isCpeNameSearch=false&query=Injection&results_type=overview&form_type=Basic&search_type=all&startIndex=40', '/vuln/search/results?isCpeNameSearch=false&query=Injection&results_type=overview&form_type=Basic&search_type=all&startIndex=60', '/vuln/search/results?isCpeNameSearch=false&query=Injection&results_type=overview&form_type=Basic&search_type=all&startIndex=80', '/vuln/search/results?isCpeNameSearch=false&query=Injection&results_type=overview&form_type=Basic&search_type=all&startIndex=100', '/vuln/search/results?isCpeNameSearch=false&query=Injection&results_type=overview&form_type=Basic&search_type=all&startIndex=120', '/vuln/search/results?isCpeNameSearch=false&query=Injection&results_type=overview&form_type=Basic&search_type=all&startIndex=140', '/vuln/search/results?isCpeNameSearch=false&query=Injection&results_type=overview&form_type=Basic&search_type=all&startIndex=160', '/vuln/search/results?isCpeNameSearch=false&query=Injection&results_type=overview&form_type=Basic&search_type=all&startIndex=180', '/vuln/search/results?isCpeNameSearch=false&query=Injection&results_type=overview&form_type=Basic&search_type=all&startIndex=20', '/vuln/search/results?isCpeNameSearch=false&query=Injection&results_type=overview&form_type=Basic&search_type=all&startIndex=12640', 'https://twitter.com/NISTCyber', 'https://www.facebook.com/NIST', 'https://www.linkedin.com/company/nist', 'https://www.youtube.com/user/USNISTGOV', 'https://www.nist.gov/news-events/nist-rss-feeds', 'https://public.govdelivery.com/accounts/USNIST/subscriber/new?qsp=USNIST_3', None, 'https://www.nist.gov', 'tel:301-975-2000', 'mailto:nvd@nist.gov', 'https://www.nist.gov/about-nist/contact-us', 'https://www.nist.gov/about-nist/our-organization', 'mailto:soc@us-cert.gov', 'https://www.cisa.gov', None, 'https://www.nist.gov/privacy-policy', 'https://www.nist.gov/privacy-policy#privpolicy', 'https://www.nist.gov/privacy-policy#secnot', 'https://www.nist.gov/privacy-policy#accesstate', 'https://www.nist.gov/privacy', 'https://www.nist.gov/no-fear-act-policy', 'https://www.nist.gov/disclaimer', 'https://www.nist.gov/foia', 'https://www.nist.gov/environmental-policy-statement', 'https://www.nist.gov/privacy-policy#cookie', 'https://www.nist.gov/summary-report-scientific-integrity', 'https://www.nist.gov/nist-information-quality-standards', 'https://www.commerce.gov/', 'https://www.healthcare.gov/', 'https://www.science.gov/', 'https://www.usa.gov/', 'https://nvd.nist.gov', 'https://www.nist.gov', '#', '/general', '/general/nvd-dashboard', '/general/news', '/general/email-list', '/general/faq', '/general/visualizations', '/vuln', '/vuln/search', '/vuln/full-listing', '/vuln/categories', '/vuln/data-feeds', '/vuln/vendor-comments', '/vuln/cvmap', '/vuln-metrics/cvss#', '/vuln-metrics/cvss/v3-calculator', '/vuln-metrics/cvss/v2-calculator', '/products', '/products/cpe', '/products/cpe/search', '/products/cpe/statistics', '/products/swid', '/info', '/other', 'https://ncp.nist.gov', 'https://ncp.nist.gov/cce', 'https://csrc.nist.gov/Projects/risk-management/sp800-53-controls/release-search#!/800-53', 'https://csrc.nist.gov/projects/scap-validation-program', 'https://csrc.nist.gov/projects/security-content-automation-protocol', 'https://csrc.nist.gov/projects/united-states-government-configuration-baseline', '/search', '/vuln/search', '/products/cpe/search', 'https://www.nist.gov/itl', '/', None, '/vuln', '/vuln/search', '/vuln/search?results_type=overview&query=Injection&search_type=all&form_type=Basic&isCpeNameSearch=false', '/vuln/search/results?isCpeNameSearch=false&query=Injection&results_type=overview&form_type=Basic&search_type=all&startIndex=0', '/vuln/search/results?isCpeNameSearch=false&query=Injection&results_type=overview&form_type=Basic&search_type=all&startIndex=20', '/vuln/search/results?isCpeNameSearch=false&query=Injection&results_type=overview&form_type=Basic&search_type=all&startIndex=40', '/vuln/search/results?isCpeNameSearch=false&query=Injection&results_type=overview&form_type=Basic&search_type=all&startIndex=60', '/vuln/search/results?isCpeNameSearch=false&query=Injection&results_type=overview&form_type=Basic&search_type=all&startIndex=80', '/vuln/search/results?isCpeNameSearch=false&query=Injection&results_type=overview&form_type=Basic&search_type=all&startIndex=100', '/vuln/search/results?isCpeNameSearch=false&query=Injection&results_type=overview&form_type=Basic&search_type=all&startIndex=120', '/vuln/search/results?isCpeNameSearch=false&query=Injection&results_type=overview&form_type=Basic&search_type=all&startIndex=140', '/vuln/search/results?isCpeNameSearch=false&query=Injection&results_type=overview&form_type=Basic&search_type=all&startIndex=160', '/vuln/search/results?isCpeNameSearch=false&query=Injection&results_type=overview&form_type=Basic&search_type=all&startIndex=180', '/vuln/search/results?isCpeNameSearch=false&query=Injection&results_type=overview&form_type=Basic&search_type=all&startIndex=20', '/vuln/search/results?isCpeNameSearch=false&query=Injection&results_type=overview&form_type=Basic&search_type=all&startIndex=12640', '/vuln/detail/CVE-2021-24557', '/vuln/detail/CVE-2021-24555', '/vuln/detail/CVE-2021-24554', '/vuln/detail/CVE-2021-24553', '/vuln/detail/CVE-2021-24552', '/vuln/detail/CVE-2021-24551', '/vuln/detail/CVE-2021-24550', '/vuln/detail/CVE-2021-24506', '/vuln/detail/CVE-2021-24497', '/vuln/detail/CVE-2021-39244', '/vuln/detail/CVE-2021-39371', '/vuln/detail/CVE-2021-39367', '/vuln/detail/CVE-2021-36011', '/vuln-metrics/cvss/v3-calculator?name=CVE-2021-36011&vector=AV:N/AC:H/PR:N/UI:R/S:C/C:H/I:H/A:H&version=3.1&source=Adobe%20Systems%20Incorporated', '/vuln/detail/CVE-2021-36748', '/vuln/detail/CVE-2020-18885', '/vuln/detail/CVE-2020-18877', '/vuln/detail/CVE-2021-39302', '/vuln/detail/CVE-2021-27999', '/vuln/detail/CVE-2020-22122', '/vuln/detail/CVE-2021-37702', '/vuln/search/results?isCpeNameSearch=false&query=Injection&results_type=overview&form_type=Basic&search_type=all&startIndex=0', '/vuln/search/results?isCpeNameSearch=false&query=Injection&results_type=overview&form_type=Basic&search_type=all&startIndex=20', '/vuln/search/results?isCpeNameSearch=false&query=Injection&results_type=overview&form_type=Basic&search_type=all&startIndex=40', '/vuln/search/results?isCpeNameSearch=false&query=Injection&results_type=overview&form_type=Basic&search_type=all&startIndex=60', '/vuln/search/results?isCpeNameSearch=false&query=Injection&results_type=overview&form_type=Basic&search_type=all&startIndex=80', '/vuln/search/results?isCpeNameSearch=false&query=Injection&results_type=overview&form_type=Basic&search_type=all&startIndex=100', '/vuln/search/results?isCpeNameSearch=false&query=Injection&results_type=overview&form_type=Basic&search_type=all&startIndex=120', '/vuln/search/results?isCpeNameSearch=false&query=Injection&results_type=overview&form_type=Basic&search_type=all&startIndex=140', '/vuln/search/results?isCpeNameSearch=false&query=Injection&results_type=overview&form_type=Basic&search_type=all&startIndex=160', '/vuln/search/results?isCpeNameSearch=false&query=Injection&results_type=overview&form_type=Basic&search_type=all&startIndex=180', '/vuln/search/results?isCpeNameSearch=false&query=Injection&results_type=overview&form_type=Basic&search_type=all&startIndex=20', '/vuln/search/results?isCpeNameSearch=false&query=Injection&results_type=overview&form_type=Basic&search_type=all&startIndex=12640', 'https://twitter.com/NISTCyber', 'https://www.facebook.com/NIST', 'https://www.linkedin.com/company/nist', 'https://www.youtube.com/user/USNISTGOV', 'https://www.nist.gov/news-events/nist-rss-feeds', 'https://public.govdelivery.com/accounts/USNIST/subscriber/new?qsp=USNIST_3', None, 'https://www.nist.gov', 'tel:301-975-2000', 'mailto:nvd@nist.gov', 'https://www.nist.gov/about-nist/contact-us', 'https://www.nist.gov/about-nist/our-organization', 'mailto:soc@us-cert.gov', 'https://www.cisa.gov', None, 'https://www.nist.gov/privacy-policy', 'https://www.nist.gov/privacy-policy#privpolicy', 'https://www.nist.gov/privacy-policy#secnot', 'https://www.nist.gov/privacy-policy#accesstate', 'https://www.nist.gov/privacy', 'https://www.nist.gov/no-fear-act-policy', 'https://www.nist.gov/disclaimer', 'https://www.nist.gov/foia', 'https://www.nist.gov/environmental-policy-statement', 'https://www.nist.gov/privacy-policy#cookie', 'https://www.nist.gov/summary-report-scientific-integrity', 'https://www.nist.gov/nist-information-quality-standards', 'https://www.commerce.gov/', 'https://www.healthcare.gov/', 'https://www.science.gov/', 'https://www.usa.gov/', 'https://nvd.nist.gov', 'https://www.nist.gov', '#', '/general', '/general/nvd-dashboard', '/general/news', '/general/email-list', '/general/faq', '/general/visualizations', '/vuln', '/vuln/search', '/vuln/full-listing', '/vuln/categories', '/vuln/data-feeds', '/vuln/vendor-comments', '/vuln/cvmap', '/vuln-metrics/cvss#', '/vuln-metrics/cvss/v3-calculator', '/vuln-metrics/cvss/v2-calculator', '/products', '/products/cpe', '/products/cpe/search', '/products/cpe/statistics', '/products/swid', '/info', '/other', 'https://ncp.nist.gov', 'https://ncp.nist.gov/cce', 'https://csrc.nist.gov/Projects/risk-management/sp800-53-controls/release-search#!/800-53', 'https://csrc.nist.gov/projects/scap-validation-program', 'https://csrc.nist.gov/projects/security-content-automation-protocol', 'https://csrc.nist.gov/projects/united-states-government-configuration-baseline', '/search', '/vuln/search', '/products/cpe/search', 'https://www.nist.gov/itl', '/', None, '/vuln', '/vuln/search', '/vuln/search?results_type=overview&query=Injection&search_type=all&form_type=Basic&isCpeNameSearch=false', '/vuln/search/results?isCpeNameSearch=false&query=Injection&results_type=overview&form_type=Basic&search_type=all&startIndex=0', '/vuln/search/results?isCpeNameSearch=false&query=Injection&results_type=overview&form_type=Basic&search_type=all&startIndex=20', '/vuln/search/results?isCpeNameSearch=false&query=Injection&results_type=overview&form_type=Basic&search_type=all&startIndex=40', '/vuln/search/results?isCpeNameSearch=false&query=Injection&results_type=overview&form_type=Basic&search_type=all&startIndex=60', '/vuln/search/results?isCpeNameSearch=false&query=Injection&results_type=overview&form_type=Basic&search_type=all&startIndex=80', '/vuln/search/results?isCpeNameSearch=false&query=Injection&results_type=overview&form_type=Basic&search_type=all&startIndex=100', '/vuln/search/results?isCpeNameSearch=false&query=Injection&results_type=overview&form_type=Basic&search_type=all&startIndex=120', '/vuln/search/results?isCpeNameSearch=false&query=Injection&results_type=overview&form_type=Basic&search_type=all&startIndex=140', '/vuln/search/results?isCpeNameSearch=false&query=Injection&results_type=overview&form_type=Basic&search_type=all&startIndex=160', '/vuln/search/results?isCpeNameSearch=false&query=Injection&results_type=overview&form_type=Basic&search_type=all&startIndex=180', '/vuln/search/results?isCpeNameSearch=false&query=Injection&results_type=overview&form_type=Basic&search_type=all&startIndex=20', '/vuln/search/results?isCpeNameSearch=false&query=Injection&results_type=overview&form_type=Basic&search_type=all&startIndex=12640', '/vuln/detail/CVE-2021-24557', '/vuln/detail/CVE-2021-24555', '/vuln/detail/CVE-2021-24554', '/vuln/detail/CVE-2021-24553', '/vuln/detail/CVE-2021-24552', '/vuln/detail/CVE-2021-24551', '/vuln/detail/CVE-2021-24550', '/vuln/detail/CVE-2021-24506', '/vuln/detail/CVE-2021-24497', '/vuln/detail/CVE-2021-39244', '/vuln/detail/CVE-2021-39371', '/vuln/detail/CVE-2021-39367', '/vuln/detail/CVE-2021-36011', '/vuln-metrics/cvss/v3-calculator?name=CVE-2021-36011&vector=AV:N/AC:H/PR:N/UI:R/S:C/C:H/I:H/A:H&version=3.1&source=Adobe%20Systems%20Incorporated', '/vuln/detail/CVE-2021-36748', '/vuln/detail/CVE-2020-18885', '/vuln/detail/CVE-2020-18877', '/vuln/detail/CVE-2021-39302', '/vuln/detail/CVE-2021-27999', '/vuln/detail/CVE-2020-22122', '/vuln/detail/CVE-2021-37702', '/vuln/search/results?isCpeNameSearch=false&query=Injection&results_type=overview&form_type=Basic&search_type=all&startIndex=0', '/vuln/search/results?isCpeNameSearch=false&query=Injection&results_type=overview&form_type=Basic&search_type=all&startIndex=20', '/vuln/search/results?isCpeNameSearch=false&query=Injection&results_type=overview&form_type=Basic&search_type=all&startIndex=40', '/vuln/search/results?isCpeNameSearch=false&query=Injection&results_type=overview&form_type=Basic&search_type=all&startIndex=60', '/vuln/search/results?isCpeNameSearch=false&query=Injection&results_type=overview&form_type=Basic&search_type=all&startIndex=80', '/vuln/search/results?isCpeNameSearch=false&query=Injection&results_type=overview&form_type=Basic&search_type=all&startIndex=100', '/vuln/search/results?isCpeNameSearch=false&query=Injection&results_type=overview&form_type=Basic&search_type=all&startIndex=120', '/vuln/search/results?isCpeNameSearch=false&query=Injection&results_type=overview&form_type=Basic&search_type=all&startIndex=140', '/vuln/search/results?isCpeNameSearch=false&query=Injection&results_type=overview&form_type=Basic&search_type=all&startIndex=160', '/vuln/search/results?isCpeNameSearch=false&query=Injection&results_type=overview&form_type=Basic&search_type=all&startIndex=180', '/vuln/search/results?isCpeNameSearch=false&query=Injection&results_type=overview&form_type=Basic&search_type=all&startIndex=20', '/vuln/search/results?isCpeNameSearch=false&query=Injection&results_type=overview&form_type=Basic&search_type=all&startIndex=12640', 'https://twitter.com/NISTCyber', 'https://www.facebook.com/NIST', 'https://www.linkedin.com/company/nist', 'https://www.youtube.com/user/USNISTGOV', 'https://www.nist.gov/news-events/nist-rss-feeds', 'https://public.govdelivery.com/accounts/USNIST/subscriber/new?qsp=USNIST_3', None, 'https://www.nist.gov', 'tel:301-975-2000', 'mailto:nvd@nist.gov', 'https://www.nist.gov/about-nist/contact-us', 'https://www.nist.gov/about-nist/our-organization', 'mailto:soc@us-cert.gov', 'https://www.cisa.gov', None, 'https://www.nist.gov/privacy-policy', 'https://www.nist.gov/privacy-policy#privpolicy', 'https://www.nist.gov/privacy-policy#secnot', 'https://www.nist.gov/privacy-policy#accesstate', 'https://www.nist.gov/privacy', 'https://www.nist.gov/no-fear-act-policy', 'https://www.nist.gov/disclaimer', 'https://www.nist.gov/foia', 'https://www.nist.gov/environmental-policy-statement', 'https://www.nist.gov/privacy-policy#cookie', 'https://www.nist.gov/summary-report-scientific-integrity', 'https://www.nist.gov/nist-information-quality-standards', 'https://www.commerce.gov/', 'https://www.healthcare.gov/', 'https://www.science.gov/', 'https://www.usa.gov/', 'https://nvd.nist.gov', 'https://www.nist.gov', '#', '/general', '/general/nvd-dashboard', '/general/news', '/general/email-list', '/general/faq', '/general/visualizations', '/vuln', '/vuln/search', '/vuln/full-listing', '/vuln/categories', '/vuln/data-feeds', '/vuln/vendor-comments', '/vuln/cvmap', '/vuln-metrics/cvss#', '/vuln-metrics/cvss/v3-calculator', '/vuln-metrics/cvss/v2-calculator', '/products', '/products/cpe', '/products/cpe/search', '/products/cpe/statistics', '/products/swid', '/info', '/other', 'https://ncp.nist.gov', 'https://ncp.nist.gov/cce', 'https://csrc.nist.gov/Projects/risk-management/sp800-53-controls/release-search#!/800-53', 'https://csrc.nist.gov/projects/scap-validation-program', 'https://csrc.nist.gov/projects/security-content-automation-protocol', 'https://csrc.nist.gov/projects/united-states-government-configuration-baseline', '/search', '/vuln/search', '/products/cpe/search', 'https://www.nist.gov/itl', '/', None, '/vuln', '/vuln/search', '/vuln/search?results_type=overview&query=Injection&search_type=all&form_type=Basic&isCpeNameSearch=false', '/vuln/search/results?isCpeNameSearch=false&query=Injection&results_type=overview&form_type=Basic&search_type=all&startIndex=0', '/vuln/search/results?isCpeNameSearch=false&query=Injection&results_type=overview&form_type=Basic&search_type=all&startIndex=20', '/vuln/search/results?isCpeNameSearch=false&query=Injection&results_type=overview&form_type=Basic&search_type=all&startIndex=40', '/vuln/search/results?isCpeNameSearch=false&query=Injection&results_type=overview&form_type=Basic&search_type=all&startIndex=60', '/vuln/search/results?isCpeNameSearch=false&query=Injection&results_type=overview&form_type=Basic&search_type=all&startIndex=80', '/vuln/search/results?isCpeNameSearch=false&query=Injection&results_type=overview&form_type=Basic&search_type=all&startIndex=100', '/vuln/search/results?isCpeNameSearch=false&query=Injection&results_type=overview&form_type=Basic&search_type=all&startIndex=120', '/vuln/search/results?isCpeNameSearch=false&query=Injection&results_type=overview&form_type=Basic&search_type=all&startIndex=140', '/vuln/search/results?isCpeNameSearch=false&query=Injection&results_type=overview&form_type=Basic&search_type=all&startIndex=160', '/vuln/search/results?isCpeNameSearch=false&query=Injection&results_type=overview&form_type=Basic&search_type=all&startIndex=180', '/vuln/search/results?isCpeNameSearch=false&query=Injection&results_type=overview&form_type=Basic&search_type=all&startIndex=20', '/vuln/search/results?isCpeNameSearch=false&query=Injection&results_type=overview&form_type=Basic&search_type=all&startIndex=12640', '/vuln/detail/CVE-2021-24557', '/vuln/detail/CVE-2021-24555', '/vuln/detail/CVE-2021-24554', '/vuln/detail/CVE-2021-24553', '/vuln/detail/CVE-2021-24552', '/vuln/detail/CVE-2021-24551', '/vuln/detail/CVE-2021-24550', '/vuln/detail/CVE-2021-24506', '/vuln/detail/CVE-2021-24497', '/vuln/detail/CVE-2021-39244', '/vuln/detail/CVE-2021-39371', '/vuln/detail/CVE-2021-39367', '/vuln/detail/CVE-2021-36011', '/vuln-metrics/cvss/v3-calculator?name=CVE-2021-36011&vector=AV:N/AC:H/PR:N/UI:R/S:C/C:H/I:H/A:H&version=3.1&source=Adobe%20Systems%20Incorporated', '/vuln/detail/CVE-2021-36748', '/vuln/detail/CVE-2020-18885', '/vuln/detail/CVE-2020-18877', '/vuln/detail/CVE-2021-39302', '/vuln/detail/CVE-2021-27999', '/vuln/detail/CVE-2020-22122', '/vuln/detail/CVE-2021-37702', '/vuln/search/results?isCpeNameSearch=false&query=Injection&results_type=overview&form_type=Basic&search_type=all&startIndex=0', '/vuln/search/results?isCpeNameSearch=false&query=Injection&results_type=overview&form_type=Basic&search_type=all&startIndex=20', '/vuln/search/results?isCpeNameSearch=false&query=Injection&results_type=overview&form_type=Basic&search_type=all&startIndex=40', '/vuln/search/results?isCpeNameSearch=false&query=Injection&results_type=overview&form_type=Basic&search_type=all&startIndex=60', '/vuln/search/results?isCpeNameSearch=false&query=Injection&results_type=overview&form_type=Basic&search_type=all&startIndex=80', '/vuln/search/results?isCpeNameSearch=false&query=Injection&results_type=overview&form_type=Basic&search_type=all&startIndex=100', '/vuln/search/results?isCpeNameSearch=false&query=Injection&results_type=overview&form_type=Basic&search_type=all&startIndex=120', '/vuln/search/results?isCpeNameSearch=false&query=Injection&results_type=overview&form_type=Basic&search_type=all&startIndex=140', '/vuln/search/results?isCpeNameSearch=false&query=Injection&results_type=overview&form_type=Basic&search_type=all&startIndex=160', '/vuln/search/results?isCpeNameSearch=false&query=Injection&results_type=overview&form_type=Basic&search_type=all&startIndex=180', '/vuln/search/results?isCpeNameSearch=false&query=Injection&results_type=overview&form_type=Basic&search_type=all&startIndex=20', '/vuln/search/results?isCpeNameSearch=false&query=Injection&results_type=overview&form_type=Basic&search_type=all&startIndex=12640', 'https://twitter.com/NISTCyber', 'https://www.facebook.com/NIST', 'https://www.linkedin.com/company/nist', 'https://www.youtube.com/user/USNISTGOV', 'https://www.nist.gov/news-events/nist-rss-feeds', 'https://public.govdelivery.com/accounts/USNIST/subscriber/new?qsp=USNIST_3', None, 'https://www.nist.gov', 'tel:301-975-2000', 'mailto:nvd@nist.gov', 'https://www.nist.gov/about-nist/contact-us', 'https://www.nist.gov/about-nist/our-organization', 'mailto:soc@us-cert.gov', 'https://www.cisa.gov', None, 'https://www.nist.gov/privacy-policy', 'https://www.nist.gov/privacy-policy#privpolicy', 'https://www.nist.gov/privacy-policy#secnot', 'https://www.nist.gov/privacy-policy#accesstate', 'https://www.nist.gov/privacy', 'https://www.nist.gov/no-fear-act-policy', 'https://www.nist.gov/disclaimer', 'https://www.nist.gov/foia', 'https://www.nist.gov/environmental-policy-statement', 'https://www.nist.gov/privacy-policy#cookie', 'https://www.nist.gov/summary-report-scientific-integrity', 'https://www.nist.gov/nist-information-quality-standards', 'https://www.commerce.gov/', 'https://www.healthcare.gov/', 'https://www.science.gov/', 'https://www.usa.gov/', 'https://nvd.nist.gov', 'https://www.nist.gov', '#', '/general', '/general/nvd-dashboard', '/general/news', '/general/email-list', '/general/faq', '/general/visualizations', '/vuln', '/vuln/search', '/vuln/full-listing', '/vuln/categories', '/vuln/data-feeds', '/vuln/vendor-comments', '/vuln/cvmap', '/vuln-metrics/cvss#', '/vuln-metrics/cvss/v3-calculator', '/vuln-metrics/cvss/v2-calculator', '/products', '/products/cpe', '/products/cpe/search', '/products/cpe/statistics', '/products/swid', '/info', '/other', 'https://ncp.nist.gov', 'https://ncp.nist.gov/cce', 'https://csrc.nist.gov/Projects/risk-management/sp800-53-controls/release-search#!/800-53', 'https://csrc.nist.gov/projects/scap-validation-program', 'https://csrc.nist.gov/projects/security-content-automation-protocol', 'https://csrc.nist.gov/projects/united-states-government-configuration-baseline', '/search', '/vuln/search', '/products/cpe/search', 'https://www.nist.gov/itl', '/', None, '/vuln', '/vuln/search', '/vuln/search?results_type=overview&query=Injection&search_type=all&form_type=Basic&isCpeNameSearch=false', '/vuln/search/results?isCpeNameSearch=false&query=Injection&results_type=overview&form_type=Basic&search_type=all&startIndex=0', '/vuln/search/results?isCpeNameSearch=false&query=Injection&results_type=overview&form_type=Basic&search_type=all&startIndex=20', '/vuln/search/results?isCpeNameSearch=false&query=Injection&results_type=overview&form_type=Basic&search_type=all&startIndex=40', '/vuln/search/results?isCpeNameSearch=false&query=Injection&results_type=overview&form_type=Basic&search_type=all&startIndex=60', '/vuln/search/results?isCpeNameSearch=false&query=Injection&results_type=overview&form_type=Basic&search_type=all&startIndex=80', '/vuln/search/results?isCpeNameSearch=false&query=Injection&results_type=overview&form_type=Basic&search_type=all&startIndex=100', '/vuln/search/results?isCpeNameSearch=false&query=Injection&results_type=overview&form_type=Basic&search_type=all&startIndex=120', '/vuln/search/results?isCpeNameSearch=false&query=Injection&results_type=overview&form_type=Basic&search_type=all&startIndex=140', '/vuln/search/results?isCpeNameSearch=false&query=Injection&results_type=overview&form_type=Basic&search_type=all&startIndex=160', '/vuln/search/results?isCpeNameSearch=false&query=Injection&results_type=overview&form_type=Basic&search_type=all&startIndex=180', '/vuln/search/results?isCpeNameSearch=false&query=Injection&results_type=overview&form_type=Basic&search_type=all&startIndex=20', '/vuln/search/results?isCpeNameSearch=false&query=Injection&results_type=overview&form_type=Basic&search_type=all&startIndex=12640', '/vuln/detail/CVE-2021-24557', '/vuln/detail/CVE-2021-24555', '/vuln/detail/CVE-2021-24554', '/vuln/detail/CVE-2021-24553', '/vuln/detail/CVE-2021-24552', '/vuln/detail/CVE-2021-24551', '/vuln/detail/CVE-2021-24550', '/vuln/detail/CVE-2021-24506', '/vuln/detail/CVE-2021-24497', '/vuln/detail/CVE-2021-39244', '/vuln/detail/CVE-2021-39371', '/vuln/detail/CVE-2021-39367', '/vuln/detail/CVE-2021-36011', '/vuln-metrics/cvss/v3-calculator?name=CVE-2021-36011&vector=AV:N/AC:H/PR:N/UI:R/S:C/C:H/I:H/A:H&version=3.1&source=Adobe%20Systems%20Incorporated', '/vuln/detail/CVE-2021-36748', '/vuln/detail/CVE-2020-18885', '/vuln/detail/CVE-2020-18877', '/vuln/detail/CVE-2021-39302', '/vuln/detail/CVE-2021-27999', '/vuln/detail/CVE-2020-22122', '/vuln/detail/CVE-2021-37702', '/vuln/search/results?isCpeNameSearch=false&query=Injection&results_type=overview&form_type=Basic&search_type=all&startIndex=0', '/vuln/search/results?isCpeNameSearch=false&query=Injection&results_type=overview&form_type=Basic&search_type=all&startIndex=20', '/vuln/search/results?isCpeNameSearch=false&query=Injection&results_type=overview&form_type=Basic&search_type=all&startIndex=40', '/vuln/search/results?isCpeNameSearch=false&query=Injection&results_type=overview&form_type=Basic&search_type=all&startIndex=60', '/vuln/search/results?isCpeNameSearch=false&query=Injection&results_type=overview&form_type=Basic&search_type=all&startIndex=80', '/vuln/search/results?isCpeNameSearch=false&query=Injection&results_type=overview&form_type=Basic&search_type=all&startIndex=100', '/vuln/search/results?isCpeNameSearch=false&query=Injection&results_type=overview&form_type=Basic&search_type=all&startIndex=120', '/vuln/search/results?isCpeNameSearch=false&query=Injection&results_type=overview&form_type=Basic&search_type=all&startIndex=140', '/vuln/search/results?isCpeNameSearch=false&query=Injection&results_type=overview&form_type=Basic&search_type=all&startIndex=160', '/vuln/search/results?isCpeNameSearch=false&query=Injection&results_type=overview&form_type=Basic&search_type=all&startIndex=180', '/vuln/search/results?isCpeNameSearch=false&query=Injection&results_type=overview&form_type=Basic&search_type=all&startIndex=20', '/vuln/search/results?isCpeNameSearch=false&query=Injection&results_type=overview&form_type=Basic&search_type=all&startIndex=12640', 'https://twitter.com/NISTCyber', 'https://www.facebook.com/NIST', 'https://www.linkedin.com/company/nist', 'https://www.youtube.com/user/USNISTGOV', 'https://www.nist.gov/news-events/nist-rss-feeds', 'https://public.govdelivery.com/accounts/USNIST/subscriber/new?qsp=USNIST_3', None, 'https://www.nist.gov', 'tel:301-975-2000', 'mailto:nvd@nist.gov', 'https://www.nist.gov/about-nist/contact-us', 'https://www.nist.gov/about-nist/our-organization', 'mailto:soc@us-cert.gov', 'https://www.cisa.gov', None, 'https://www.nist.gov/privacy-policy', 'https://www.nist.gov/privacy-policy#privpolicy', 'https://www.nist.gov/privacy-policy#secnot', 'https://www.nist.gov/privacy-policy#accesstate', 'https://www.nist.gov/privacy', 'https://www.nist.gov/no-fear-act-policy', 'https://www.nist.gov/disclaimer', 'https://www.nist.gov/foia', 'https://www.nist.gov/environmental-policy-statement', 'https://www.nist.gov/privacy-policy#cookie', 'https://www.nist.gov/summary-report-scientific-integrity', 'https://www.nist.gov/nist-information-quality-standards', 'https://www.commerce.gov/', 'https://www.healthcare.gov/', 'https://www.science.gov/', 'https://www.usa.gov/', 'https://nvd.nist.gov', 'https://www.nist.gov', '#', '/general', '/general/nvd-dashboard', '/general/news', '/general/email-list', '/general/faq', '/general/visualizations', '/vuln', '/vuln/search', '/vuln/full-listing', '/vuln/categories', '/vuln/data-feeds', '/vuln/vendor-comments', '/vuln/cvmap', '/vuln-metrics/cvss#', '/vuln-metrics/cvss/v3-calculator', '/vuln-metrics/cvss/v2-calculator', '/products', '/products/cpe', '/products/cpe/search', '/products/cpe/statistics', '/products/swid', '/info', '/other', 'https://ncp.nist.gov', 'https://ncp.nist.gov/cce', 'https://csrc.nist.gov/Projects/risk-management/sp800-53-controls/release-search#!/800-53', 'https://csrc.nist.gov/projects/scap-validation-program', 'https://csrc.nist.gov/projects/security-content-automation-protocol', 'https://csrc.nist.gov/projects/united-states-government-configuration-baseline', '/search', '/vuln/search', '/products/cpe/search', 'https://www.nist.gov/itl', '/', None, '/vuln', '/vuln/search', '/vuln/search?results_type=overview&query=Injection&search_type=all&form_type=Basic&isCpeNameSearch=false', '/vuln/search/results?isCpeNameSearch=false&query=Injection&results_type=overview&form_type=Basic&search_type=all&startIndex=0', '/vuln/search/results?isCpeNameSearch=false&query=Injection&results_type=overview&form_type=Basic&search_type=all&startIndex=20', '/vuln/search/results?isCpeNameSearch=false&query=Injection&results_type=overview&form_type=Basic&search_type=all&startIndex=40', '/vuln/search/results?isCpeNameSearch=false&query=Injection&results_type=overview&form_type=Basic&search_type=all&startIndex=60', '/vuln/search/results?isCpeNameSearch=false&query=Injection&results_type=overview&form_type=Basic&search_type=all&startIndex=80', '/vuln/search/results?isCpeNameSearch=false&query=Injection&results_type=overview&form_type=Basic&search_type=all&startIndex=100', '/vuln/search/results?isCpeNameSearch=false&query=Injection&results_type=overview&form_type=Basic&search_type=all&startIndex=120', '/vuln/search/results?isCpeNameSearch=false&query=Injection&results_type=overview&form_type=Basic&search_type=all&startIndex=140', '/vuln/search/results?isCpeNameSearch=false&query=Injection&results_type=overview&form_type=Basic&search_type=all&startIndex=160', '/vuln/search/results?isCpeNameSearch=false&query=Injection&results_type=overview&form_type=Basic&search_type=all&startIndex=180', '/vuln/search/results?isCpeNameSearch=false&query=Injection&results_type=overview&form_type=Basic&search_type=all&startIndex=20', '/vuln/search/results?isCpeNameSearch=false&query=Injection&results_type=overview&form_type=Basic&search_type=all&startIndex=12640', '/vuln/detail/CVE-2021-24557', '/vuln/detail/CVE-2021-24555', '/vuln/detail/CVE-2021-24554', '/vuln/detail/CVE-2021-24553', '/vuln/detail/CVE-2021-24552', '/vuln/detail/CVE-2021-24551', '/vuln/detail/CVE-2021-24550', '/vuln/detail/CVE-2021-24506', '/vuln/detail/CVE-2021-24497', '/vuln/detail/CVE-2021-39244', '/vuln/detail/CVE-2021-39371', '/vuln/detail/CVE-2021-39367', '/vuln/detail/CVE-2021-36011', '/vuln-metrics/cvss/v3-calculator?name=CVE-2021-36011&vector=AV:N/AC:H/PR:N/UI:R/S:C/C:H/I:H/A:H&version=3.1&source=Adobe%20Systems%20Incorporated', '/vuln/detail/CVE-2021-36748', '/vuln/detail/CVE-2020-18885', '/vuln/detail/CVE-2020-18877', '/vuln/detail/CVE-2021-39302', '/vuln/detail/CVE-2021-27999', '/vuln/detail/CVE-2020-22122', '/vuln/detail/CVE-2021-37702', '/vuln/search/results?isCpeNameSearch=false&query=Injection&results_type=overview&form_type=Basic&search_type=all&startIndex=0', '/vuln/search/results?isCpeNameSearch=false&query=Injection&results_type=overview&form_type=Basic&search_type=all&startIndex=20', '/vuln/search/results?isCpeNameSearch=false&query=Injection&results_type=overview&form_type=Basic&search_type=all&startIndex=40', '/vuln/search/results?isCpeNameSearch=false&query=Injection&results_type=overview&form_type=Basic&search_type=all&startIndex=60', '/vuln/search/results?isCpeNameSearch=false&query=Injection&results_type=overview&form_type=Basic&search_type=all&startIndex=80', '/vuln/search/results?isCpeNameSearch=false&query=Injection&results_type=overview&form_type=Basic&search_type=all&startIndex=100', '/vuln/search/results?isCpeNameSearch=false&query=Injection&results_type=overview&form_type=Basic&search_type=all&startIndex=120', '/vuln/search/results?isCpeNameSearch=false&query=Injection&results_type=overview&form_type=Basic&search_type=all&startIndex=140', '/vuln/search/results?isCpeNameSearch=false&query=Injection&results_type=overview&form_type=Basic&search_type=all&startIndex=160', '/vuln/search/results?isCpeNameSearch=false&query=Injection&results_type=overview&form_type=Basic&search_type=all&startIndex=180', '/vuln/search/results?isCpeNameSearch=false&query=Injection&results_type=overview&form_type=Basic&search_type=all&startIndex=20', '/vuln/search/results?isCpeNameSearch=false&query=Injection&results_type=overview&form_type=Basic&search_type=all&startIndex=12640', 'https://twitter.com/NISTCyber', 'https://www.facebook.com/NIST', 'https://www.linkedin.com/company/nist', 'https://www.youtube.com/user/USNISTGOV', 'https://www.nist.gov/news-events/nist-rss-feeds', 'https://public.govdelivery.com/accounts/USNIST/subscriber/new?qsp=USNIST_3', None, 'https://www.nist.gov', 'tel:301-975-2000', 'mailto:nvd@nist.gov', 'https://www.nist.gov/about-nist/contact-us', 'https://www.nist.gov/about-nist/our-organization', 'mailto:soc@us-cert.gov', 'https://www.cisa.gov', None, 'https://www.nist.gov/privacy-policy', 'https://www.nist.gov/privacy-policy#privpolicy', 'https://www.nist.gov/privacy-policy#secnot', 'https://www.nist.gov/privacy-policy#accesstate', 'https://www.nist.gov/privacy', 'https://www.nist.gov/no-fear-act-policy', 'https://www.nist.gov/disclaimer', 'https://www.nist.gov/foia', 'https://www.nist.gov/environmental-policy-statement', 'https://www.nist.gov/privacy-policy#cookie', 'https://www.nist.gov/summary-report-scientific-integrity', 'https://www.nist.gov/nist-information-quality-standards', 'https://www.commerce.gov/', 'https://www.healthcare.gov/', 'https://www.science.gov/', 'https://www.usa.gov/', 'https://nvd.nist.gov', 'https://www.nist.gov', '#', '/general', '/general/nvd-dashboard', '/general/news', '/general/email-list', '/general/faq', '/general/visualizations', '/vuln', '/vuln/search', '/vuln/full-listing', '/vuln/categories', '/vuln/data-feeds', '/vuln/vendor-comments', '/vuln/cvmap', '/vuln-metrics/cvss#', '/vuln-metrics/cvss/v3-calculator', '/vuln-metrics/cvss/v2-calculator', '/products', '/products/cpe', '/products/cpe/search', '/products/cpe/statistics', '/products/swid', '/info', '/other', 'https://ncp.nist.gov', 'https://ncp.nist.gov/cce', 'https://csrc.nist.gov/Projects/risk-management/sp800-53-controls/release-search#!/800-53', 'https://csrc.nist.gov/projects/scap-validation-program', 'https://csrc.nist.gov/projects/security-content-automation-protocol', 'https://csrc.nist.gov/projects/united-states-government-configuration-baseline', '/search', '/vuln/search', '/products/cpe/search', 'https://www.nist.gov/itl', '/', None, '/vuln', '/vuln/search', '/vuln/search?results_type=overview&query=Injection&search_type=all&form_type=Basic&isCpeNameSearch=false', '/vuln/search/results?isCpeNameSearch=false&query=Injection&results_type=overview&form_type=Basic&search_type=all&startIndex=0', '/vuln/search/results?isCpeNameSearch=false&query=Injection&results_type=overview&form_type=Basic&search_type=all&startIndex=20', '/vuln/search/results?isCpeNameSearch=false&query=Injection&results_type=overview&form_type=Basic&search_type=all&startIndex=40', '/vuln/search/results?isCpeNameSearch=false&query=Injection&results_type=overview&form_type=Basic&search_type=all&startIndex=60', '/vuln/search/results?isCpeNameSearch=false&query=Injection&results_type=overview&form_type=Basic&search_type=all&startIndex=80', '/vuln/search/results?isCpeNameSearch=false&query=Injection&results_type=overview&form_type=Basic&search_type=all&startIndex=100', '/vuln/search/results?isCpeNameSearch=false&query=Injection&results_type=overview&form_type=Basic&search_type=all&startIndex=120', '/vuln/search/results?isCpeNameSearch=false&query=Injection&results_type=overview&form_type=Basic&search_type=all&startIndex=140', '/vuln/search/results?isCpeNameSearch=false&query=Injection&results_type=overview&form_type=Basic&search_type=all&startIndex=160', '/vuln/search/results?isCpeNameSearch=false&query=Injection&results_type=overview&form_type=Basic&search_type=all&startIndex=180', '/vuln/search/results?isCpeNameSearch=false&query=Injection&results_type=overview&form_type=Basic&search_type=all&startIndex=20', '/vuln/search/results?isCpeNameSearch=false&query=Injection&results_type=overview&form_type=Basic&search_type=all&startIndex=12640', '/vuln/detail/CVE-2021-24557', '/vuln/detail/CVE-2021-24555', '/vuln/detail/CVE-2021-24554', '/vuln/detail/CVE-2021-24553', '/vuln/detail/CVE-2021-24552', '/vuln/detail/CVE-2021-24551', '/vuln/detail/CVE-2021-24550', '/vuln/detail/CVE-2021-24506', '/vuln/detail/CVE-2021-24497', '/vuln/detail/CVE-2021-39244', '/vuln/detail/CVE-2021-39371', '/vuln/detail/CVE-2021-39367', '/vuln/detail/CVE-2021-36011', '/vuln-metrics/cvss/v3-calculator?name=CVE-2021-36011&vector=AV:N/AC:H/PR:N/UI:R/S:C/C:H/I:H/A:H&version=3.1&source=Adobe%20Systems%20Incorporated', '/vuln/detail/CVE-2021-36748', '/vuln/detail/CVE-2020-18885', '/vuln/detail/CVE-2020-18877', '/vuln/detail/CVE-2021-39302', '/vuln/detail/CVE-2021-27999', '/vuln/detail/CVE-2020-22122', '/vuln/detail/CVE-2021-37702', '/vuln/search/results?isCpeNameSearch=false&query=Injection&results_type=overview&form_type=Basic&search_type=all&startIndex=0', '/vuln/search/results?isCpeNameSearch=false&query=Injection&results_type=overview&form_type=Basic&search_type=all&startIndex=20', '/vuln/search/results?isCpeNameSearch=false&query=Injection&results_type=overview&form_type=Basic&search_type=all&startIndex=40', '/vuln/search/results?isCpeNameSearch=false&query=Injection&results_type=overview&form_type=Basic&search_type=all&startIndex=60', '/vuln/search/results?isCpeNameSearch=false&query=Injection&results_type=overview&form_type=Basic&search_type=all&startIndex=80', '/vuln/search/results?isCpeNameSearch=false&query=Injection&results_type=overview&form_type=Basic&search_type=all&startIndex=100', '/vuln/search/results?isCpeNameSearch=false&query=Injection&results_type=overview&form_type=Basic&search_type=all&startIndex=120', '/vuln/search/results?isCpeNameSearch=false&query=Injection&results_type=overview&form_type=Basic&search_type=all&startIndex=140', '/vuln/search/results?isCpeNameSearch=false&query=Injection&results_type=overview&form_type=Basic&search_type=all&startIndex=160', '/vuln/search/results?isCpeNameSearch=false&query=Injection&results_type=overview&form_type=Basic&search_type=all&startIndex=180', '/vuln/search/results?isCpeNameSearch=false&query=Injection&results_type=overview&form_type=Basic&search_type=all&startIndex=20', '/vuln/search/results?isCpeNameSearch=false&query=Injection&results_type=overview&form_type=Basic&search_type=all&startIndex=12640', 'https://twitter.com/NISTCyber', 'https://www.facebook.com/NIST', 'https://www.linkedin.com/company/nist', 'https://www.youtube.com/user/USNISTGOV', 'https://www.nist.gov/news-events/nist-rss-feeds', 'https://public.govdelivery.com/accounts/USNIST/subscriber/new?qsp=USNIST_3', None, 'https://www.nist.gov', 'tel:301-975-2000', 'mailto:nvd@nist.gov', 'https://www.nist.gov/about-nist/contact-us', 'https://www.nist.gov/about-nist/our-organization', 'mailto:soc@us-cert.gov', 'https://www.cisa.gov', None, 'https://www.nist.gov/privacy-policy', 'https://www.nist.gov/privacy-policy#privpolicy', 'https://www.nist.gov/privacy-policy#secnot', 'https://www.nist.gov/privacy-policy#accesstate', 'https://www.nist.gov/privacy', 'https://www.nist.gov/no-fear-act-policy', 'https://www.nist.gov/disclaimer', 'https://www.nist.gov/foia', 'https://www.nist.gov/environmental-policy-statement', 'https://www.nist.gov/privacy-policy#cookie', 'https://www.nist.gov/summary-report-scientific-integrity', 'https://www.nist.gov/nist-information-quality-standards', 'https://www.commerce.gov/', 'https://www.healthcare.gov/', 'https://www.science.gov/', 'https://www.usa.gov/', 'https://nvd.nist.gov', 'https://www.nist.gov', '#', '/general', '/general/nvd-dashboard', '/general/news', '/general/email-list', '/general/faq', '/general/visualizations', '/vuln', '/vuln/search', '/vuln/full-listing', '/vuln/categories', '/vuln/data-feeds', '/vuln/vendor-comments', '/vuln/cvmap', '/vuln-metrics/cvss#', '/vuln-metrics/cvss/v3-calculator', '/vuln-metrics/cvss/v2-calculator', '/products', '/products/cpe', '/products/cpe/search', '/products/cpe/statistics', '/products/swid', '/info', '/other', 'https://ncp.nist.gov', 'https://ncp.nist.gov/cce', 'https://csrc.nist.gov/Projects/risk-management/sp800-53-controls/release-search#!/800-53', 'https://csrc.nist.gov/projects/scap-validation-program', 'https://csrc.nist.gov/projects/security-content-automation-protocol', 'https://csrc.nist.gov/projects/united-states-government-configuration-baseline', '/search', '/vuln/search', '/products/cpe/search', 'https://www.nist.gov/itl', '/', None, '/vuln', '/vuln/search', '/vuln/search?results_type=overview&query=Injection&search_type=all&form_type=Basic&isCpeNameSearch=false', '/vuln/search/results?isCpeNameSearch=false&query=Injection&results_type=overview&form_type=Basic&search_type=all&startIndex=0', '/vuln/search/results?isCpeNameSearch=false&query=Injection&results_type=overview&form_type=Basic&search_type=all&startIndex=20', '/vuln/search/results?isCpeNameSearch=false&query=Injection&results_type=overview&form_type=Basic&search_type=all&startIndex=40', '/vuln/search/results?isCpeNameSearch=false&query=Injection&results_type=overview&form_type=Basic&search_type=all&startIndex=60', '/vuln/search/results?isCpeNameSearch=false&query=Injection&results_type=overview&form_type=Basic&search_type=all&startIndex=80', '/vuln/search/results?isCpeNameSearch=false&query=Injection&results_type=overview&form_type=Basic&search_type=all&startIndex=100', '/vuln/search/results?isCpeNameSearch=false&query=Injection&results_type=overview&form_type=Basic&search_type=all&startIndex=120', '/vuln/search/results?isCpeNameSearch=false&query=Injection&results_type=overview&form_type=Basic&search_type=all&startIndex=140', '/vuln/search/results?isCpeNameSearch=false&query=Injection&results_type=overview&form_type=Basic&search_type=all&startIndex=160', '/vuln/search/results?isCpeNameSearch=false&query=Injection&results_type=overview&form_type=Basic&search_type=all&startIndex=180', '/vuln/search/results?isCpeNameSearch=false&query=Injection&results_type=overview&form_type=Basic&search_type=all&startIndex=20', '/vuln/search/results?isCpeNameSearch=false&query=Injection&results_type=overview&form_type=Basic&search_type=all&startIndex=12640', '/vuln/detail/CVE-2021-24557', '/vuln/detail/CVE-2021-24555', '/vuln/detail/CVE-2021-24554', '/vuln/detail/CVE-2021-24553', '/vuln/detail/CVE-2021-24552', '/vuln/detail/CVE-2021-24551', '/vuln/detail/CVE-2021-24550', '/vuln/detail/CVE-2021-24506', '/vuln/detail/CVE-2021-24497', '/vuln/detail/CVE-2021-39244', '/vuln/detail/CVE-2021-39371', '/vuln/detail/CVE-2021-39367', '/vuln/detail/CVE-2021-36011', '/vuln-metrics/cvss/v3-calculator?name=CVE-2021-36011&vector=AV:N/AC:H/PR:N/UI:R/S:C/C:H/I:H/A:H&version=3.1&source=Adobe%20Systems%20Incorporated', '/vuln/detail/CVE-2021-36748', '/vuln/detail/CVE-2020-18885', '/vuln/detail/CVE-2020-18877', '/vuln/detail/CVE-2021-39302', '/vuln/detail/CVE-2021-27999', '/vuln/detail/CVE-2020-22122', '/vuln/detail/CVE-2021-37702', '/vuln/search/results?isCpeNameSearch=false&query=Injection&results_type=overview&form_type=Basic&search_type=all&startIndex=0', '/vuln/search/results?isCpeNameSearch=false&query=Injection&results_type=overview&form_type=Basic&search_type=all&startIndex=20', '/vuln/search/results?isCpeNameSearch=false&query=Injection&results_type=overview&form_type=Basic&search_type=all&startIndex=40', '/vuln/search/results?isCpeNameSearch=false&query=Injection&results_type=overview&form_type=Basic&search_type=all&startIndex=60', '/vuln/search/results?isCpeNameSearch=false&query=Injection&results_type=overview&form_type=Basic&search_type=all&startIndex=80', '/vuln/search/results?isCpeNameSearch=false&query=Injection&results_type=overview&form_type=Basic&search_type=all&startIndex=100', '/vuln/search/results?isCpeNameSearch=false&query=Injection&results_type=overview&form_type=Basic&search_type=all&startIndex=120', '/vuln/search/results?isCpeNameSearch=false&query=Injection&results_type=overview&form_type=Basic&search_type=all&startIndex=140', '/vuln/search/results?isCpeNameSearch=false&query=Injection&results_type=overview&form_type=Basic&search_type=all&startIndex=160', '/vuln/search/results?isCpeNameSearch=false&query=Injection&results_type=overview&form_type=Basic&search_type=all&startIndex=180', '/vuln/search/results?isCpeNameSearch=false&query=Injection&results_type=overview&form_type=Basic&search_type=all&startIndex=20', '/vuln/search/results?isCpeNameSearch=false&query=Injection&results_type=overview&form_type=Basic&search_type=all&startIndex=12640', 'https://twitter.com/NISTCyber', 'https://www.facebook.com/NIST', 'https://www.linkedin.com/company/nist', 'https://www.youtube.com/user/USNISTGOV', 'https://www.nist.gov/news-events/nist-rss-feeds', 'https://public.govdelivery.com/accounts/USNIST/subscriber/new?qsp=USNIST_3', None, 'https://www.nist.gov', 'tel:301-975-2000', 'mailto:nvd@nist.gov', 'https://www.nist.gov/about-nist/contact-us', 'https://www.nist.gov/about-nist/our-organization', 'mailto:soc@us-cert.gov', 'https://www.cisa.gov', None, 'https://www.nist.gov/privacy-policy', 'https://www.nist.gov/privacy-policy#privpolicy', 'https://www.nist.gov/privacy-policy#secnot', 'https://www.nist.gov/privacy-policy#accesstate', 'https://www.nist.gov/privacy', 'https://www.nist.gov/no-fear-act-policy', 'https://www.nist.gov/disclaimer', 'https://www.nist.gov/foia', 'https://www.nist.gov/environmental-policy-statement', 'https://www.nist.gov/privacy-policy#cookie', 'https://www.nist.gov/summary-report-scientific-integrity', 'https://www.nist.gov/nist-information-quality-standards', 'https://www.commerce.gov/', 'https://www.healthcare.gov/', 'https://www.science.gov/', 'https://www.usa.gov/', 'https://nvd.nist.gov', 'https://www.nist.gov', '#', '/general', '/general/nvd-dashboard', '/general/news', '/general/email-list', '/general/faq', '/general/visualizations', '/vuln', '/vuln/search', '/vuln/full-listing', '/vuln/categories', '/vuln/data-feeds', '/vuln/vendor-comments', '/vuln/cvmap', '/vuln-metrics/cvss#', '/vuln-metrics/cvss/v3-calculator', '/vuln-metrics/cvss/v2-calculator', '/products', '/products/cpe', '/products/cpe/search', '/products/cpe/statistics', '/products/swid', '/info', '/other', 'https://ncp.nist.gov', 'https://ncp.nist.gov/cce', 'https://csrc.nist.gov/Projects/risk-management/sp800-53-controls/release-search#!/800-53', 'https://csrc.nist.gov/projects/scap-validation-program', 'https://csrc.nist.gov/projects/security-content-automation-protocol', 'https://csrc.nist.gov/projects/united-states-government-configuration-baseline', '/search', '/vuln/search', '/products/cpe/search', 'https://www.nist.gov/itl', '/', None, '/vuln', '/vuln/search', '/vuln/search?results_type=overview&query=Injection&search_type=all&form_type=Basic&isCpeNameSearch=false', '/vuln/search/results?isCpeNameSearch=false&query=Injection&results_type=overview&form_type=Basic&search_type=all&startIndex=0', '/vuln/search/results?isCpeNameSearch=false&query=Injection&results_type=overview&form_type=Basic&search_type=all&startIndex=20', '/vuln/search/results?isCpeNameSearch=false&query=Injection&results_type=overview&form_type=Basic&search_type=all&startIndex=40', '/vuln/search/results?isCpeNameSearch=false&query=Injection&results_type=overview&form_type=Basic&search_type=all&startIndex=60', '/vuln/search/results?isCpeNameSearch=false&query=Injection&results_type=overview&form_type=Basic&search_type=all&startIndex=80', '/vuln/search/results?isCpeNameSearch=false&query=Injection&results_type=overview&form_type=Basic&search_type=all&startIndex=100', '/vuln/search/results?isCpeNameSearch=false&query=Injection&results_type=overview&form_type=Basic&search_type=all&startIndex=120', '/vuln/search/results?isCpeNameSearch=false&query=Injection&results_type=overview&form_type=Basic&search_type=all&startIndex=140', '/vuln/search/results?isCpeNameSearch=false&query=Injection&results_type=overview&form_type=Basic&search_type=all&startIndex=160', '/vuln/search/results?isCpeNameSearch=false&query=Injection&results_type=overview&form_type=Basic&search_type=all&startIndex=180', '/vuln/search/results?isCpeNameSearch=false&query=Injection&results_type=overview&form_type=Basic&search_type=all&startIndex=20', '/vuln/search/results?isCpeNameSearch=false&query=Injection&results_type=overview&form_type=Basic&search_type=all&startIndex=12640', '/vuln/detail/CVE-2021-24557', '/vuln/detail/CVE-2021-24555', '/vuln/detail/CVE-2021-24554', '/vuln/detail/CVE-2021-24553', '/vuln/detail/CVE-2021-24552', '/vuln/detail/CVE-2021-24551', '/vuln/detail/CVE-2021-24550', '/vuln/detail/CVE-2021-24506', '/vuln/detail/CVE-2021-24497', '/vuln/detail/CVE-2021-39244', '/vuln/detail/CVE-2021-39371', '/vuln/detail/CVE-2021-39367', '/vuln/detail/CVE-2021-36011', '/vuln-metrics/cvss/v3-calculator?name=CVE-2021-36011&vector=AV:N/AC:H/PR:N/UI:R/S:C/C:H/I:H/A:H&version=3.1&source=Adobe%20Systems%20Incorporated', '/vuln/detail/CVE-2021-36748', '/vuln/detail/CVE-2020-18885', '/vuln/detail/CVE-2020-18877', '/vuln/detail/CVE-2021-39302', '/vuln/detail/CVE-2021-27999', '/vuln/detail/CVE-2020-22122', '/vuln/detail/CVE-2021-37702', '/vuln/search/results?isCpeNameSearch=false&query=Injection&results_type=overview&form_type=Basic&search_type=all&startIndex=0', '/vuln/search/results?isCpeNameSearch=false&query=Injection&results_type=overview&form_type=Basic&search_type=all&startIndex=20', '/vuln/search/results?isCpeNameSearch=false&query=Injection&results_type=overview&form_type=Basic&search_type=all&startIndex=40', '/vuln/search/results?isCpeNameSearch=false&query=Injection&results_type=overview&form_type=Basic&search_type=all&startIndex=60', '/vuln/search/results?isCpeNameSearch=false&query=Injection&results_type=overview&form_type=Basic&search_type=all&startIndex=80', '/vuln/search/results?isCpeNameSearch=false&query=Injection&results_type=overview&form_type=Basic&search_type=all&startIndex=100', '/vuln/search/results?isCpeNameSearch=false&query=Injection&results_type=overview&form_type=Basic&search_type=all&startIndex=120', '/vuln/search/results?isCpeNameSearch=false&query=Injection&results_type=overview&form_type=Basic&search_type=all&startIndex=140', '/vuln/search/results?isCpeNameSearch=false&query=Injection&results_type=overview&form_type=Basic&search_type=all&startIndex=160', '/vuln/search/results?isCpeNameSearch=false&query=Injection&results_type=overview&form_type=Basic&search_type=all&startIndex=180', '/vuln/search/results?isCpeNameSearch=false&query=Injection&results_type=overview&form_type=Basic&search_type=all&startIndex=20', '/vuln/search/results?isCpeNameSearch=false&query=Injection&results_type=overview&form_type=Basic&search_type=all&startIndex=12640', 'https://twitter.com/NISTCyber', 'https://www.facebook.com/NIST', 'https://www.linkedin.com/company/nist', 'https://www.youtube.com/user/USNISTGOV', 'https://www.nist.gov/news-events/nist-rss-feeds', 'https://public.govdelivery.com/accounts/USNIST/subscriber/new?qsp=USNIST_3', None, 'https://www.nist.gov', 'tel:301-975-2000', 'mailto:nvd@nist.gov', 'https://www.nist.gov/about-nist/contact-us', 'https://www.nist.gov/about-nist/our-organization', 'mailto:soc@us-cert.gov', 'https://www.cisa.gov', None, 'https://www.nist.gov/privacy-policy', 'https://www.nist.gov/privacy-policy#privpolicy', 'https://www.nist.gov/privacy-policy#secnot', 'https://www.nist.gov/privacy-policy#accesstate', 'https://www.nist.gov/privacy', 'https://www.nist.gov/no-fear-act-policy', 'https://www.nist.gov/disclaimer', 'https://www.nist.gov/foia', 'https://www.nist.gov/environmental-policy-statement', 'https://www.nist.gov/privacy-policy#cookie', 'https://www.nist.gov/summary-report-scientific-integrity', 'https://www.nist.gov/nist-information-quality-standards', 'https://www.commerce.gov/', 'https://www.healthcare.gov/', 'https://www.science.gov/', 'https://www.usa.gov/', 'https://nvd.nist.gov', 'https://www.nist.gov', '#', '/general', '/general/nvd-dashboard', '/general/news', '/general/email-list', '/general/faq', '/general/visualizations', '/vuln', '/vuln/search', '/vuln/full-listing', '/vuln/categories', '/vuln/data-feeds', '/vuln/vendor-comments', '/vuln/cvmap', '/vuln-metrics/cvss#', '/vuln-metrics/cvss/v3-calculator', '/vuln-metrics/cvss/v2-calculator', '/products', '/products/cpe', '/products/cpe/search', '/products/cpe/statistics', '/products/swid', '/info', '/other', 'https://ncp.nist.gov', 'https://ncp.nist.gov/cce', 'https://csrc.nist.gov/Projects/risk-management/sp800-53-controls/release-search#!/800-53', 'https://csrc.nist.gov/projects/scap-validation-program', 'https://csrc.nist.gov/projects/security-content-automation-protocol', 'https://csrc.nist.gov/projects/united-states-government-configuration-baseline', '/search', '/vuln/search', '/products/cpe/search', 'https://www.nist.gov/itl', '/', None, '/vuln', '/vuln/search', '/vuln/search?results_type=overview&query=Injection&search_type=all&form_type=Basic&isCpeNameSearch=false', '/vuln/search/results?isCpeNameSearch=false&query=Injection&results_type=overview&form_type=Basic&search_type=all&startIndex=0', '/vuln/search/results?isCpeNameSearch=false&query=Injection&results_type=overview&form_type=Basic&search_type=all&startIndex=20', '/vuln/search/results?isCpeNameSearch=false&query=Injection&results_type=overview&form_type=Basic&search_type=all&startIndex=40', '/vuln/search/results?isCpeNameSearch=false&query=Injection&results_type=overview&form_type=Basic&search_type=all&startIndex=60', '/vuln/search/results?isCpeNameSearch=false&query=Injection&results_type=overview&form_type=Basic&search_type=all&startIndex=80', '/vuln/search/results?isCpeNameSearch=false&query=Injection&results_type=overview&form_type=Basic&search_type=all&startIndex=100', '/vuln/search/results?isCpeNameSearch=false&query=Injection&results_type=overview&form_type=Basic&search_type=all&startIndex=120', '/vuln/search/results?isCpeNameSearch=false&query=Injection&results_type=overview&form_type=Basic&search_type=all&startIndex=140', '/vuln/search/results?isCpeNameSearch=false&query=Injection&results_type=overview&form_type=Basic&search_type=all&startIndex=160', '/vuln/search/results?isCpeNameSearch=false&query=Injection&results_type=overview&form_type=Basic&search_type=all&startIndex=180', '/vuln/search/results?isCpeNameSearch=false&query=Injection&results_type=overview&form_type=Basic&search_type=all&startIndex=20', '/vuln/search/results?isCpeNameSearch=false&query=Injection&results_type=overview&form_type=Basic&search_type=all&startIndex=12640', '/vuln/detail/CVE-2021-24557', '/vuln/detail/CVE-2021-24555', '/vuln/detail/CVE-2021-24554', '/vuln/detail/CVE-2021-24553', '/vuln/detail/CVE-2021-24552', '/vuln/detail/CVE-2021-24551', '/vuln/detail/CVE-2021-24550', '/vuln/detail/CVE-2021-24506', '/vuln/detail/CVE-2021-24497', '/vuln/detail/CVE-2021-39244', '/vuln/detail/CVE-2021-39371', '/vuln/detail/CVE-2021-39367', '/vuln/detail/CVE-2021-36011', '/vuln-metrics/cvss/v3-calculator?name=CVE-2021-36011&vector=AV:N/AC:H/PR:N/UI:R/S:C/C:H/I:H/A:H&version=3.1&source=Adobe%20Systems%20Incorporated', '/vuln/detail/CVE-2021-36748', '/vuln/detail/CVE-2020-18885', '/vuln/detail/CVE-2020-18877', '/vuln/detail/CVE-2021-39302', '/vuln/detail/CVE-2021-27999', '/vuln/detail/CVE-2020-22122', '/vuln/detail/CVE-2021-37702', '/vuln/search/results?isCpeNameSearch=false&query=Injection&results_type=overview&form_type=Basic&search_type=all&startIndex=0', '/vuln/search/results?isCpeNameSearch=false&query=Injection&results_type=overview&form_type=Basic&search_type=all&startIndex=20', '/vuln/search/results?isCpeNameSearch=false&query=Injection&results_type=overview&form_type=Basic&search_type=all&startIndex=40', '/vuln/search/results?isCpeNameSearch=false&query=Injection&results_type=overview&form_type=Basic&search_type=all&startIndex=60', '/vuln/search/results?isCpeNameSearch=false&query=Injection&results_type=overview&form_type=Basic&search_type=all&startIndex=80', '/vuln/search/results?isCpeNameSearch=false&query=Injection&results_type=overview&form_type=Basic&search_type=all&startIndex=100', '/vuln/search/results?isCpeNameSearch=false&query=Injection&results_type=overview&form_type=Basic&search_type=all&startIndex=120', '/vuln/search/results?isCpeNameSearch=false&query=Injection&results_type=overview&form_type=Basic&search_type=all&startIndex=140', '/vuln/search/results?isCpeNameSearch=false&query=Injection&results_type=overview&form_type=Basic&search_type=all&startIndex=160', '/vuln/search/results?isCpeNameSearch=false&query=Injection&results_type=overview&form_type=Basic&search_type=all&startIndex=180', '/vuln/search/results?isCpeNameSearch=false&query=Injection&results_type=overview&form_type=Basic&search_type=all&startIndex=20', '/vuln/search/results?isCpeNameSearch=false&query=Injection&results_type=overview&form_type=Basic&search_type=all&startIndex=12640', 'https://twitter.com/NISTCyber', 'https://www.facebook.com/NIST', 'https://www.linkedin.com/company/nist', 'https://www.youtube.com/user/USNISTGOV', 'https://www.nist.gov/news-events/nist-rss-feeds', 'https://public.govdelivery.com/accounts/USNIST/subscriber/new?qsp=USNIST_3', None, 'https://www.nist.gov', 'tel:301-975-2000', 'mailto:nvd@nist.gov', 'https://www.nist.gov/about-nist/contact-us', 'https://www.nist.gov/about-nist/our-organization', 'mailto:soc@us-cert.gov', 'https://www.cisa.gov', None, 'https://www.nist.gov/privacy-policy', 'https://www.nist.gov/privacy-policy#privpolicy', 'https://www.nist.gov/privacy-policy#secnot', 'https://www.nist.gov/privacy-policy#accesstate', 'https://www.nist.gov/privacy', 'https://www.nist.gov/no-fear-act-policy', 'https://www.nist.gov/disclaimer', 'https://www.nist.gov/foia', 'https://www.nist.gov/environmental-policy-statement', 'https://www.nist.gov/privacy-policy#cookie', 'https://www.nist.gov/summary-report-scientific-integrity', 'https://www.nist.gov/nist-information-quality-standards', 'https://www.commerce.gov/', 'https://www.healthcare.gov/', 'https://www.science.gov/', 'https://www.usa.gov/', 'https://nvd.nist.gov', 'https://www.nist.gov', '#', '/general', '/general/nvd-dashboard', '/general/news', '/general/email-list', '/general/faq', '/general/visualizations', '/vuln', '/vuln/search', '/vuln/full-listing', '/vuln/categories', '/vuln/data-feeds', '/vuln/vendor-comments', '/vuln/cvmap', '/vuln-metrics/cvss#', '/vuln-metrics/cvss/v3-calculator', '/vuln-metrics/cvss/v2-calculator', '/products', '/products/cpe', '/products/cpe/search', '/products/cpe/statistics', '/products/swid', '/info', '/other', 'https://ncp.nist.gov', 'https://ncp.nist.gov/cce', 'https://csrc.nist.gov/Projects/risk-management/sp800-53-controls/release-search#!/800-53', 'https://csrc.nist.gov/projects/scap-validation-program', 'https://csrc.nist.gov/projects/security-content-automation-protocol', 'https://csrc.nist.gov/projects/united-states-government-configuration-baseline', '/search', '/vuln/search', '/products/cpe/search', 'https://www.nist.gov/itl', '/', None, '/vuln', '/vuln/search', '/vuln/search?results_type=overview&query=Injection&search_type=all&form_type=Basic&isCpeNameSearch=false', '/vuln/search/results?isCpeNameSearch=false&query=Injection&results_type=overview&form_type=Basic&search_type=all&startIndex=0', '/vuln/search/results?isCpeNameSearch=false&query=Injection&results_type=overview&form_type=Basic&search_type=all&startIndex=20', '/vuln/search/results?isCpeNameSearch=false&query=Injection&results_type=overview&form_type=Basic&search_type=all&startIndex=40', '/vuln/search/results?isCpeNameSearch=false&query=Injection&results_type=overview&form_type=Basic&search_type=all&startIndex=60', '/vuln/search/results?isCpeNameSearch=false&query=Injection&results_type=overview&form_type=Basic&search_type=all&startIndex=80', '/vuln/search/results?isCpeNameSearch=false&query=Injection&results_type=overview&form_type=Basic&search_type=all&startIndex=100', '/vuln/search/results?isCpeNameSearch=false&query=Injection&results_type=overview&form_type=Basic&search_type=all&startIndex=120', '/vuln/search/results?isCpeNameSearch=false&query=Injection&results_type=overview&form_type=Basic&search_type=all&startIndex=140', '/vuln/search/results?isCpeNameSearch=false&query=Injection&results_type=overview&form_type=Basic&search_type=all&startIndex=160', '/vuln/search/results?isCpeNameSearch=false&query=Injection&results_type=overview&form_type=Basic&search_type=all&startIndex=180', '/vuln/search/results?isCpeNameSearch=false&query=Injection&results_type=overview&form_type=Basic&search_type=all&startIndex=20', '/vuln/search/results?isCpeNameSearch=false&query=Injection&results_type=overview&form_type=Basic&search_type=all&startIndex=12640', '/vuln/detail/CVE-2021-24557', '/vuln/detail/CVE-2021-24555', '/vuln/detail/CVE-2021-24554', '/vuln/detail/CVE-2021-24553', '/vuln/detail/CVE-2021-24552', '/vuln/detail/CVE-2021-24551', '/vuln/detail/CVE-2021-24550', '/vuln/detail/CVE-2021-24506', '/vuln/detail/CVE-2021-24497', '/vuln/detail/CVE-2021-39244', '/vuln/detail/CVE-2021-39371', '/vuln/detail/CVE-2021-39367', '/vuln/detail/CVE-2021-36011', '/vuln-metrics/cvss/v3-calculator?name=CVE-2021-36011&vector=AV:N/AC:H/PR:N/UI:R/S:C/C:H/I:H/A:H&version=3.1&source=Adobe%20Systems%20Incorporated', '/vuln/detail/CVE-2021-36748', '/vuln/detail/CVE-2020-18885', '/vuln/detail/CVE-2020-18877', '/vuln/detail/CVE-2021-39302', '/vuln/detail/CVE-2021-27999', '/vuln/detail/CVE-2020-22122', '/vuln/detail/CVE-2021-37702', '/vuln/search/results?isCpeNameSearch=false&query=Injection&results_type=overview&form_type=Basic&search_type=all&startIndex=0', '/vuln/search/results?isCpeNameSearch=false&query=Injection&results_type=overview&form_type=Basic&search_type=all&startIndex=20', '/vuln/search/results?isCpeNameSearch=false&query=Injection&results_type=overview&form_type=Basic&search_type=all&startIndex=40', '/vuln/search/results?isCpeNameSearch=false&query=Injection&results_type=overview&form_type=Basic&search_type=all&startIndex=60', '/vuln/search/results?isCpeNameSearch=false&query=Injection&results_type=overview&form_type=Basic&search_type=all&startIndex=80', '/vuln/search/results?isCpeNameSearch=false&query=Injection&results_type=overview&form_type=Basic&search_type=all&startIndex=100', '/vuln/search/results?isCpeNameSearch=false&query=Injection&results_type=overview&form_type=Basic&search_type=all&startIndex=120', '/vuln/search/results?isCpeNameSearch=false&query=Injection&results_type=overview&form_type=Basic&search_type=all&startIndex=140', '/vuln/search/results?isCpeNameSearch=false&query=Injection&results_type=overview&form_type=Basic&search_type=all&startIndex=160', '/vuln/search/results?isCpeNameSearch=false&query=Injection&results_type=overview&form_type=Basic&search_type=all&startIndex=180', '/vuln/search/results?isCpeNameSearch=false&query=Injection&results_type=overview&form_type=Basic&search_type=all&startIndex=20', '/vuln/search/results?isCpeNameSearch=false&query=Injection&results_type=overview&form_type=Basic&search_type=all&startIndex=12640', 'https://twitter.com/NISTCyber', 'https://www.facebook.com/NIST', 'https://www.linkedin.com/company/nist', 'https://www.youtube.com/user/USNISTGOV', 'https://www.nist.gov/news-events/nist-rss-feeds', 'https://public.govdelivery.com/accounts/USNIST/subscriber/new?qsp=USNIST_3', None, 'https://www.nist.gov', 'tel:301-975-2000', 'mailto:nvd@nist.gov', 'https://www.nist.gov/about-nist/contact-us', 'https://www.nist.gov/about-nist/our-organization', 'mailto:soc@us-cert.gov', 'https://www.cisa.gov', None, 'https://www.nist.gov/privacy-policy', 'https://www.nist.gov/privacy-policy#privpolicy', 'https://www.nist.gov/privacy-policy#secnot', 'https://www.nist.gov/privacy-policy#accesstate', 'https://www.nist.gov/privacy', 'https://www.nist.gov/no-fear-act-policy', 'https://www.nist.gov/disclaimer', 'https://www.nist.gov/foia', 'https://www.nist.gov/environmental-policy-statement', 'https://www.nist.gov/privacy-policy#cookie', 'https://www.nist.gov/summary-report-scientific-integrity', 'https://www.nist.gov/nist-information-quality-standards', 'https://www.commerce.gov/', 'https://www.healthcare.gov/', 'https://www.science.gov/', 'https://www.usa.gov/', 'https://nvd.nist.gov', 'https://www.nist.gov', '#', '/general', '/general/nvd-dashboard', '/general/news', '/general/email-list', '/general/faq', '/general/visualizations', '/vuln', '/vuln/search', '/vuln/full-listing', '/vuln/categories', '/vuln/data-feeds', '/vuln/vendor-comments', '/vuln/cvmap', '/vuln-metrics/cvss#', '/vuln-metrics/cvss/v3-calculator', '/vuln-metrics/cvss/v2-calculator', '/products', '/products/cpe', '/products/cpe/search', '/products/cpe/statistics', '/products/swid', '/info', '/other', 'https://ncp.nist.gov', 'https://ncp.nist.gov/cce', 'https://csrc.nist.gov/Projects/risk-management/sp800-53-controls/release-search#!/800-53', 'https://csrc.nist.gov/projects/scap-validation-program', 'https://csrc.nist.gov/projects/security-content-automation-protocol', 'https://csrc.nist.gov/projects/united-states-government-configuration-baseline', '/search', '/vuln/search', '/products/cpe/search', 'https://www.nist.gov/itl', '/', None, '/vuln', '/vuln/search', '/vuln/search?results_type=overview&query=Injection&search_type=all&form_type=Basic&isCpeNameSearch=false', '/vuln/search/results?isCpeNameSearch=false&query=Injection&results_type=overview&form_type=Basic&search_type=all&startIndex=0', '/vuln/search/results?isCpeNameSearch=false&query=Injection&results_type=overview&form_type=Basic&search_type=all&startIndex=20', '/vuln/search/results?isCpeNameSearch=false&query=Injection&results_type=overview&form_type=Basic&search_type=all&startIndex=40', '/vuln/search/results?isCpeNameSearch=false&query=Injection&results_type=overview&form_type=Basic&search_type=all&startIndex=60', '/vuln/search/results?isCpeNameSearch=false&query=Injection&results_type=overview&form_type=Basic&search_type=all&startIndex=80', '/vuln/search/results?isCpeNameSearch=false&query=Injection&results_type=overview&form_type=Basic&search_type=all&startIndex=100', '/vuln/search/results?isCpeNameSearch=false&query=Injection&results_type=overview&form_type=Basic&search_type=all&startIndex=120', '/vuln/search/results?isCpeNameSearch=false&query=Injection&results_type=overview&form_type=Basic&search_type=all&startIndex=140', '/vuln/search/results?isCpeNameSearch=false&query=Injection&results_type=overview&form_type=Basic&search_type=all&startIndex=160', '/vuln/search/results?isCpeNameSearch=false&query=Injection&results_type=overview&form_type=Basic&search_type=all&startIndex=180', '/vuln/search/results?isCpeNameSearch=false&query=Injection&results_type=overview&form_type=Basic&search_type=all&startIndex=20', '/vuln/search/results?isCpeNameSearch=false&query=Injection&results_type=overview&form_type=Basic&search_type=all&startIndex=12640', '/vuln/detail/CVE-2021-24557', '/vuln/detail/CVE-2021-24555', '/vuln/detail/CVE-2021-24554', '/vuln/detail/CVE-2021-24553', '/vuln/detail/CVE-2021-24552', '/vuln/detail/CVE-2021-24551', '/vuln/detail/CVE-2021-24550', '/vuln/detail/CVE-2021-24506', '/vuln/detail/CVE-2021-24497', '/vuln/detail/CVE-2021-39244', '/vuln/detail/CVE-2021-39371', '/vuln/detail/CVE-2021-39367', '/vuln/detail/CVE-2021-36011', '/vuln-metrics/cvss/v3-calculator?name=CVE-2021-36011&vector=AV:N/AC:H/PR:N/UI:R/S:C/C:H/I:H/A:H&version=3.1&source=Adobe%20Systems%20Incorporated', '/vuln/detail/CVE-2021-36748', '/vuln/detail/CVE-2020-18885', '/vuln/detail/CVE-2020-18877', '/vuln/detail/CVE-2021-39302', '/vuln/detail/CVE-2021-27999', '/vuln/detail/CVE-2020-22122', '/vuln/detail/CVE-2021-37702', '/vuln/search/results?isCpeNameSearch=false&query=Injection&results_type=overview&form_type=Basic&search_type=all&startIndex=0', '/vuln/search/results?isCpeNameSearch=false&query=Injection&results_type=overview&form_type=Basic&search_type=all&startIndex=20', '/vuln/search/results?isCpeNameSearch=false&query=Injection&results_type=overview&form_type=Basic&search_type=all&startIndex=40', '/vuln/search/results?isCpeNameSearch=false&query=Injection&results_type=overview&form_type=Basic&search_type=all&startIndex=60', '/vuln/search/results?isCpeNameSearch=false&query=Injection&results_type=overview&form_type=Basic&search_type=all&startIndex=80', '/vuln/search/results?isCpeNameSearch=false&query=Injection&results_type=overview&form_type=Basic&search_type=all&startIndex=100', '/vuln/search/results?isCpeNameSearch=false&query=Injection&results_type=overview&form_type=Basic&search_type=all&startIndex=120', '/vuln/search/results?isCpeNameSearch=false&query=Injection&results_type=overview&form_type=Basic&search_type=all&startIndex=140', '/vuln/search/results?isCpeNameSearch=false&query=Injection&results_type=overview&form_type=Basic&search_type=all&startIndex=160', '/vuln/search/results?isCpeNameSearch=false&query=Injection&results_type=overview&form_type=Basic&search_type=all&startIndex=180', '/vuln/search/results?isCpeNameSearch=false&query=Injection&results_type=overview&form_type=Basic&search_type=all&startIndex=20', '/vuln/search/results?isCpeNameSearch=false&query=Injection&results_type=overview&form_type=Basic&search_type=all&startIndex=12640', 'https://twitter.com/NISTCyber', 'https://www.facebook.com/NIST', 'https://www.linkedin.com/company/nist', 'https://www.youtube.com/user/USNISTGOV', 'https://www.nist.gov/news-events/nist-rss-feeds', 'https://public.govdelivery.com/accounts/USNIST/subscriber/new?qsp=USNIST_3', None, 'https://www.nist.gov', 'tel:301-975-2000', 'mailto:nvd@nist.gov', 'https://www.nist.gov/about-nist/contact-us', 'https://www.nist.gov/about-nist/our-organization', 'mailto:soc@us-cert.gov', 'https://www.cisa.gov', None, 'https://www.nist.gov/privacy-policy', 'https://www.nist.gov/privacy-policy#privpolicy', 'https://www.nist.gov/privacy-policy#secnot', 'https://www.nist.gov/privacy-policy#accesstate', 'https://www.nist.gov/privacy', 'https://www.nist.gov/no-fear-act-policy', 'https://www.nist.gov/disclaimer', 'https://www.nist.gov/foia', 'https://www.nist.gov/environmental-policy-statement', 'https://www.nist.gov/privacy-policy#cookie', 'https://www.nist.gov/summary-report-scientific-integrity', 'https://www.nist.gov/nist-information-quality-standards', 'https://www.commerce.gov/', 'https://www.healthcare.gov/', 'https://www.science.gov/', 'https://www.usa.gov/', 'https://nvd.nist.gov', 'https://www.nist.gov', '#', '/general', '/general/nvd-dashboard', '/general/news', '/general/email-list', '/general/faq', '/general/visualizations', '/vuln', '/vuln/search', '/vuln/full-listing', '/vuln/categories', '/vuln/data-feeds', '/vuln/vendor-comments', '/vuln/cvmap', '/vuln-metrics/cvss#', '/vuln-metrics/cvss/v3-calculator', '/vuln-metrics/cvss/v2-calculator', '/products', '/products/cpe', '/products/cpe/search', '/products/cpe/statistics', '/products/swid', '/info', '/other', 'https://ncp.nist.gov', 'https://ncp.nist.gov/cce', 'https://csrc.nist.gov/Projects/risk-management/sp800-53-controls/release-search#!/800-53', 'https://csrc.nist.gov/projects/scap-validation-program', 'https://csrc.nist.gov/projects/security-content-automation-protocol', 'https://csrc.nist.gov/projects/united-states-government-configuration-baseline', '/search', '/vuln/search', '/products/cpe/search', 'https://www.nist.gov/itl', '/', None, '/vuln', '/vuln/search', '/vuln/search?results_type=overview&query=Injection&search_type=all&form_type=Basic&isCpeNameSearch=false', '/vuln/search/results?isCpeNameSearch=false&query=Injection&results_type=overview&form_type=Basic&search_type=all&startIndex=0', '/vuln/search/results?isCpeNameSearch=false&query=Injection&results_type=overview&form_type=Basic&search_type=all&startIndex=20', '/vuln/search/results?isCpeNameSearch=false&query=Injection&results_type=overview&form_type=Basic&search_type=all&startIndex=40', '/vuln/search/results?isCpeNameSearch=false&query=Injection&results_type=overview&form_type=Basic&search_type=all&startIndex=60', '/vuln/search/results?isCpeNameSearch=false&query=Injection&results_type=overview&form_type=Basic&search_type=all&startIndex=80', '/vuln/search/results?isCpeNameSearch=false&query=Injection&results_type=overview&form_type=Basic&search_type=all&startIndex=100', '/vuln/search/results?isCpeNameSearch=false&query=Injection&results_type=overview&form_type=Basic&search_type=all&startIndex=120', '/vuln/search/results?isCpeNameSearch=false&query=Injection&results_type=overview&form_type=Basic&search_type=all&startIndex=140', '/vuln/search/results?isCpeNameSearch=false&query=Injection&results_type=overview&form_type=Basic&search_type=all&startIndex=160', '/vuln/search/results?isCpeNameSearch=false&query=Injection&results_type=overview&form_type=Basic&search_type=all&startIndex=180', '/vuln/search/results?isCpeNameSearch=false&query=Injection&results_type=overview&form_type=Basic&search_type=all&startIndex=20', '/vuln/search/results?isCpeNameSearch=false&query=Injection&results_type=overview&form_type=Basic&search_type=all&startIndex=12640', '/vuln/detail/CVE-2021-24557', '/vuln/detail/CVE-2021-24555', '/vuln/detail/CVE-2021-24554', '/vuln/detail/CVE-2021-24553', '/vuln/detail/CVE-2021-24552', '/vuln/detail/CVE-2021-24551', '/vuln/detail/CVE-2021-24550', '/vuln/detail/CVE-2021-24506', '/vuln/detail/CVE-2021-24497', '/vuln/detail/CVE-2021-39244', '/vuln/detail/CVE-2021-39371', '/vuln/detail/CVE-2021-39367', '/vuln/detail/CVE-2021-36011', '/vuln-metrics/cvss/v3-calculator?name=CVE-2021-36011&vector=AV:N/AC:H/PR:N/UI:R/S:C/C:H/I:H/A:H&version=3.1&source=Adobe%20Systems%20Incorporated', '/vuln/detail/CVE-2021-36748', '/vuln/detail/CVE-2020-18885', '/vuln/detail/CVE-2020-18877', '/vuln/detail/CVE-2021-39302', '/vuln/detail/CVE-2021-27999', '/vuln/detail/CVE-2020-22122', '/vuln/detail/CVE-2021-37702', '/vuln/search/results?isCpeNameSearch=false&query=Injection&results_type=overview&form_type=Basic&search_type=all&startIndex=0', '/vuln/search/results?isCpeNameSearch=false&query=Injection&results_type=overview&form_type=Basic&search_type=all&startIndex=20', '/vuln/search/results?isCpeNameSearch=false&query=Injection&results_type=overview&form_type=Basic&search_type=all&startIndex=40', '/vuln/search/results?isCpeNameSearch=false&query=Injection&results_type=overview&form_type=Basic&search_type=all&startIndex=60', '/vuln/search/results?isCpeNameSearch=false&query=Injection&results_type=overview&form_type=Basic&search_type=all&startIndex=80', '/vuln/search/results?isCpeNameSearch=false&query=Injection&results_type=overview&form_type=Basic&search_type=all&startIndex=100', '/vuln/search/results?isCpeNameSearch=false&query=Injection&results_type=overview&form_type=Basic&search_type=all&startIndex=120', '/vuln/search/results?isCpeNameSearch=false&query=Injection&results_type=overview&form_type=Basic&search_type=all&startIndex=140', '/vuln/search/results?isCpeNameSearch=false&query=Injection&results_type=overview&form_type=Basic&search_type=all&startIndex=160', '/vuln/search/results?isCpeNameSearch=false&query=Injection&results_type=overview&form_type=Basic&search_type=all&startIndex=180', '/vuln/search/results?isCpeNameSearch=false&query=Injection&results_type=overview&form_type=Basic&search_type=all&startIndex=20', '/vuln/search/results?isCpeNameSearch=false&query=Injection&results_type=overview&form_type=Basic&search_type=all&startIndex=12640', 'https://twitter.com/NISTCyber', 'https://www.facebook.com/NIST', 'https://www.linkedin.com/company/nist', 'https://www.youtube.com/user/USNISTGOV', 'https://www.nist.gov/news-events/nist-rss-feeds', 'https://public.govdelivery.com/accounts/USNIST/subscriber/new?qsp=USNIST_3', None, 'https://www.nist.gov', 'tel:301-975-2000', 'mailto:nvd@nist.gov', 'https://www.nist.gov/about-nist/contact-us', 'https://www.nist.gov/about-nist/our-organization', 'mailto:soc@us-cert.gov', 'https://www.cisa.gov', None, 'https://www.nist.gov/privacy-policy', 'https://www.nist.gov/privacy-policy#privpolicy', 'https://www.nist.gov/privacy-policy#secnot', 'https://www.nist.gov/privacy-policy#accesstate', 'https://www.nist.gov/privacy', 'https://www.nist.gov/no-fear-act-policy', 'https://www.nist.gov/disclaimer', 'https://www.nist.gov/foia', 'https://www.nist.gov/environmental-policy-statement', 'https://www.nist.gov/privacy-policy#cookie', 'https://www.nist.gov/summary-report-scientific-integrity', 'https://www.nist.gov/nist-information-quality-standards', 'https://www.commerce.gov/', 'https://www.healthcare.gov/', 'https://www.science.gov/', 'https://www.usa.gov/', 'https://nvd.nist.gov', 'https://www.nist.gov', '#', '/general', '/general/nvd-dashboard', '/general/news', '/general/email-list', '/general/faq', '/general/visualizations', '/vuln', '/vuln/search', '/vuln/full-listing', '/vuln/categories', '/vuln/data-feeds', '/vuln/vendor-comments', '/vuln/cvmap', '/vuln-metrics/cvss#', '/vuln-metrics/cvss/v3-calculator', '/vuln-metrics/cvss/v2-calculator', '/products', '/products/cpe', '/products/cpe/search', '/products/cpe/statistics', '/products/swid', '/info', '/other', 'https://ncp.nist.gov', 'https://ncp.nist.gov/cce', 'https://csrc.nist.gov/Projects/risk-management/sp800-53-controls/release-search#!/800-53', 'https://csrc.nist.gov/projects/scap-validation-program', 'https://csrc.nist.gov/projects/security-content-automation-protocol', 'https://csrc.nist.gov/projects/united-states-government-configuration-baseline', '/search', '/vuln/search', '/products/cpe/search', 'https://www.nist.gov/itl', '/', None, '/vuln', '/vuln/search', '/vuln/search?results_type=overview&query=Injection&search_type=all&form_type=Basic&isCpeNameSearch=false', '/vuln/search/results?isCpeNameSearch=false&query=Injection&results_type=overview&form_type=Basic&search_type=all&startIndex=0', '/vuln/search/results?isCpeNameSearch=false&query=Injection&results_type=overview&form_type=Basic&search_type=all&startIndex=20', '/vuln/search/results?isCpeNameSearch=false&query=Injection&results_type=overview&form_type=Basic&search_type=all&startIndex=40', '/vuln/search/results?isCpeNameSearch=false&query=Injection&results_type=overview&form_type=Basic&search_type=all&startIndex=60', '/vuln/search/results?isCpeNameSearch=false&query=Injection&results_type=overview&form_type=Basic&search_type=all&startIndex=80', '/vuln/search/results?isCpeNameSearch=false&query=Injection&results_type=overview&form_type=Basic&search_type=all&startIndex=100', '/vuln/search/results?isCpeNameSearch=false&query=Injection&results_type=overview&form_type=Basic&search_type=all&startIndex=120', '/vuln/search/results?isCpeNameSearch=false&query=Injection&results_type=overview&form_type=Basic&search_type=all&startIndex=140', '/vuln/search/results?isCpeNameSearch=false&query=Injection&results_type=overview&form_type=Basic&search_type=all&startIndex=160', '/vuln/search/results?isCpeNameSearch=false&query=Injection&results_type=overview&form_type=Basic&search_type=all&startIndex=180', '/vuln/search/results?isCpeNameSearch=false&query=Injection&results_type=overview&form_type=Basic&search_type=all&startIndex=20', '/vuln/search/results?isCpeNameSearch=false&query=Injection&results_type=overview&form_type=Basic&search_type=all&startIndex=12640', '/vuln/detail/CVE-2021-24557', '/vuln/detail/CVE-2021-24555', '/vuln/detail/CVE-2021-24554', '/vuln/detail/CVE-2021-24553', '/vuln/detail/CVE-2021-24552', '/vuln/detail/CVE-2021-24551', '/vuln/detail/CVE-2021-24550', '/vuln/detail/CVE-2021-24506', '/vuln/detail/CVE-2021-24497', '/vuln/detail/CVE-2021-39244', '/vuln/detail/CVE-2021-39371', '/vuln/detail/CVE-2021-39367', '/vuln/detail/CVE-2021-36011', '/vuln-metrics/cvss/v3-calculator?name=CVE-2021-36011&vector=AV:N/AC:H/PR:N/UI:R/S:C/C:H/I:H/A:H&version=3.1&source=Adobe%20Systems%20Incorporated', '/vuln/detail/CVE-2021-36748', '/vuln/detail/CVE-2020-18885', '/vuln/detail/CVE-2020-18877', '/vuln/detail/CVE-2021-39302', '/vuln/detail/CVE-2021-27999', '/vuln/detail/CVE-2020-22122', '/vuln/detail/CVE-2021-37702', '/vuln/search/results?isCpeNameSearch=false&query=Injection&results_type=overview&form_type=Basic&search_type=all&startIndex=0', '/vuln/search/results?isCpeNameSearch=false&query=Injection&results_type=overview&form_type=Basic&search_type=all&startIndex=20', '/vuln/search/results?isCpeNameSearch=false&query=Injection&results_type=overview&form_type=Basic&search_type=all&startIndex=40', '/vuln/search/results?isCpeNameSearch=false&query=Injection&results_type=overview&form_type=Basic&search_type=all&startIndex=60', '/vuln/search/results?isCpeNameSearch=false&query=Injection&results_type=overview&form_type=Basic&search_type=all&startIndex=80', '/vuln/search/results?isCpeNameSearch=false&query=Injection&results_type=overview&form_type=Basic&search_type=all&startIndex=100', '/vuln/search/results?isCpeNameSearch=false&query=Injection&results_type=overview&form_type=Basic&search_type=all&startIndex=120', '/vuln/search/results?isCpeNameSearch=false&query=Injection&results_type=overview&form_type=Basic&search_type=all&startIndex=140', '/vuln/search/results?isCpeNameSearch=false&query=Injection&results_type=overview&form_type=Basic&search_type=all&startIndex=160', '/vuln/search/results?isCpeNameSearch=false&query=Injection&results_type=overview&form_type=Basic&search_type=all&startIndex=180', '/vuln/search/results?isCpeNameSearch=false&query=Injection&results_type=overview&form_type=Basic&search_type=all&startIndex=20', '/vuln/search/results?isCpeNameSearch=false&query=Injection&results_type=overview&form_type=Basic&search_type=all&startIndex=12640', 'https://twitter.com/NISTCyber', 'https://www.facebook.com/NIST', 'https://www.linkedin.com/company/nist', 'https://www.youtube.com/user/USNISTGOV', 'https://www.nist.gov/news-events/nist-rss-feeds', 'https://public.govdelivery.com/accounts/USNIST/subscriber/new?qsp=USNIST_3', None, 'https://www.nist.gov', 'tel:301-975-2000', 'mailto:nvd@nist.gov', 'https://www.nist.gov/about-nist/contact-us', 'https://www.nist.gov/about-nist/our-organization', 'mailto:soc@us-cert.gov', 'https://www.cisa.gov', None, 'https://www.nist.gov/privacy-policy', 'https://www.nist.gov/privacy-policy#privpolicy', 'https://www.nist.gov/privacy-policy#secnot', 'https://www.nist.gov/privacy-policy#accesstate', 'https://www.nist.gov/privacy', 'https://www.nist.gov/no-fear-act-policy', 'https://www.nist.gov/disclaimer', 'https://www.nist.gov/foia', 'https://www.nist.gov/environmental-policy-statement', 'https://www.nist.gov/privacy-policy#cookie', 'https://www.nist.gov/summary-report-scientific-integrity', 'https://www.nist.gov/nist-information-quality-standards', 'https://www.commerce.gov/', 'https://www.healthcare.gov/', 'https://www.science.gov/', 'https://www.usa.gov/', 'https://nvd.nist.gov', 'https://www.nist.gov', '#', '/general', '/general/nvd-dashboard', '/general/news', '/general/email-list', '/general/faq', '/general/visualizations', '/vuln', '/vuln/search', '/vuln/full-listing', '/vuln/categories', '/vuln/data-feeds', '/vuln/vendor-comments', '/vuln/cvmap', '/vuln-metrics/cvss#', '/vuln-metrics/cvss/v3-calculator', '/vuln-metrics/cvss/v2-calculator', '/products', '/products/cpe', '/products/cpe/search', '/products/cpe/statistics', '/products/swid', '/info', '/other', 'https://ncp.nist.gov', 'https://ncp.nist.gov/cce', 'https://csrc.nist.gov/Projects/risk-management/sp800-53-controls/release-search#!/800-53', 'https://csrc.nist.gov/projects/scap-validation-program', 'https://csrc.nist.gov/projects/security-content-automation-protocol', 'https://csrc.nist.gov/projects/united-states-government-configuration-baseline', '/search', '/vuln/search', '/products/cpe/search', 'https://www.nist.gov/itl', '/', None, '/vuln', '/vuln/search', '/vuln/search?results_type=overview&query=Injection&search_type=all&form_type=Basic&isCpeNameSearch=false', '/vuln/search/results?isCpeNameSearch=false&query=Injection&results_type=overview&form_type=Basic&search_type=all&startIndex=0', '/vuln/search/results?isCpeNameSearch=false&query=Injection&results_type=overview&form_type=Basic&search_type=all&startIndex=20', '/vuln/search/results?isCpeNameSearch=false&query=Injection&results_type=overview&form_type=Basic&search_type=all&startIndex=40', '/vuln/search/results?isCpeNameSearch=false&query=Injection&results_type=overview&form_type=Basic&search_type=all&startIndex=60', '/vuln/search/results?isCpeNameSearch=false&query=Injection&results_type=overview&form_type=Basic&search_type=all&startIndex=80', '/vuln/search/results?isCpeNameSearch=false&query=Injection&results_type=overview&form_type=Basic&search_type=all&startIndex=100', '/vuln/search/results?isCpeNameSearch=false&query=Injection&results_type=overview&form_type=Basic&search_type=all&startIndex=120', '/vuln/search/results?isCpeNameSearch=false&query=Injection&results_type=overview&form_type=Basic&search_type=all&startIndex=140', '/vuln/search/results?isCpeNameSearch=false&query=Injection&results_type=overview&form_type=Basic&search_type=all&startIndex=160', '/vuln/search/results?isCpeNameSearch=false&query=Injection&results_type=overview&form_type=Basic&search_type=all&startIndex=180', '/vuln/search/results?isCpeNameSearch=false&query=Injection&results_type=overview&form_type=Basic&search_type=all&startIndex=20', '/vuln/search/results?isCpeNameSearch=false&query=Injection&results_type=overview&form_type=Basic&search_type=all&startIndex=12640', '/vuln/detail/CVE-2021-24557', '/vuln/detail/CVE-2021-24555', '/vuln/detail/CVE-2021-24554', '/vuln/detail/CVE-2021-24553', '/vuln/detail/CVE-2021-24552', '/vuln/detail/CVE-2021-24551', '/vuln/detail/CVE-2021-24550', '/vuln/detail/CVE-2021-24506', '/vuln/detail/CVE-2021-24497', '/vuln/detail/CVE-2021-39244', '/vuln/detail/CVE-2021-39371', '/vuln/detail/CVE-2021-39367', '/vuln/detail/CVE-2021-36011', '/vuln-metrics/cvss/v3-calculator?name=CVE-2021-36011&vector=AV:N/AC:H/PR:N/UI:R/S:C/C:H/I:H/A:H&version=3.1&source=Adobe%20Systems%20Incorporated', '/vuln/detail/CVE-2021-36748', '/vuln/detail/CVE-2020-18885', '/vuln/detail/CVE-2020-18877', '/vuln/detail/CVE-2021-39302', '/vuln/detail/CVE-2021-27999', '/vuln/detail/CVE-2020-22122', '/vuln/detail/CVE-2021-37702', '/vuln/search/results?isCpeNameSearch=false&query=Injection&results_type=overview&form_type=Basic&search_type=all&startIndex=0', '/vuln/search/results?isCpeNameSearch=false&query=Injection&results_type=overview&form_type=Basic&search_type=all&startIndex=20', '/vuln/search/results?isCpeNameSearch=false&query=Injection&results_type=overview&form_type=Basic&search_type=all&startIndex=40', '/vuln/search/results?isCpeNameSearch=false&query=Injection&results_type=overview&form_type=Basic&search_type=all&startIndex=60', '/vuln/search/results?isCpeNameSearch=false&query=Injection&results_type=overview&form_type=Basic&search_type=all&startIndex=80', '/vuln/search/results?isCpeNameSearch=false&query=Injection&results_type=overview&form_type=Basic&search_type=all&startIndex=100', '/vuln/search/results?isCpeNameSearch=false&query=Injection&results_type=overview&form_type=Basic&search_type=all&startIndex=120', '/vuln/search/results?isCpeNameSearch=false&query=Injection&results_type=overview&form_type=Basic&search_type=all&startIndex=140', '/vuln/search/results?isCpeNameSearch=false&query=Injection&results_type=overview&form_type=Basic&search_type=all&startIndex=160', '/vuln/search/results?isCpeNameSearch=false&query=Injection&results_type=overview&form_type=Basic&search_type=all&startIndex=180', '/vuln/search/results?isCpeNameSearch=false&query=Injection&results_type=overview&form_type=Basic&search_type=all&startIndex=20', '/vuln/search/results?isCpeNameSearch=false&query=Injection&results_type=overview&form_type=Basic&search_type=all&startIndex=12640', 'https://twitter.com/NISTCyber', 'https://www.facebook.com/NIST', 'https://www.linkedin.com/company/nist', 'https://www.youtube.com/user/USNISTGOV', 'https://www.nist.gov/news-events/nist-rss-feeds', 'https://public.govdelivery.com/accounts/USNIST/subscriber/new?qsp=USNIST_3', None, 'https://www.nist.gov', 'tel:301-975-2000', 'mailto:nvd@nist.gov', 'https://www.nist.gov/about-nist/contact-us', 'https://www.nist.gov/about-nist/our-organization', 'mailto:soc@us-cert.gov', 'https://www.cisa.gov', None, 'https://www.nist.gov/privacy-policy', 'https://www.nist.gov/privacy-policy#privpolicy', 'https://www.nist.gov/privacy-policy#secnot', 'https://www.nist.gov/privacy-policy#accesstate', 'https://www.nist.gov/privacy', 'https://www.nist.gov/no-fear-act-policy', 'https://www.nist.gov/disclaimer', 'https://www.nist.gov/foia', 'https://www.nist.gov/environmental-policy-statement', 'https://www.nist.gov/privacy-policy#cookie', 'https://www.nist.gov/summary-report-scientific-integrity', 'https://www.nist.gov/nist-information-quality-standards', 'https://www.commerce.gov/', 'https://www.healthcare.gov/', 'https://www.science.gov/', 'https://www.usa.gov/', 'https://nvd.nist.gov', 'https://www.nist.gov', '#', '/general', '/general/nvd-dashboard', '/general/news', '/general/email-list', '/general/faq', '/general/visualizations', '/vuln', '/vuln/search', '/vuln/full-listing', '/vuln/categories', '/vuln/data-feeds', '/vuln/vendor-comments', '/vuln/cvmap', '/vuln-metrics/cvss#', '/vuln-metrics/cvss/v3-calculator', '/vuln-metrics/cvss/v2-calculator', '/products', '/products/cpe', '/products/cpe/search', '/products/cpe/statistics', '/products/swid', '/info', '/other', 'https://ncp.nist.gov', 'https://ncp.nist.gov/cce', 'https://csrc.nist.gov/Projects/risk-management/sp800-53-controls/release-search#!/800-53', 'https://csrc.nist.gov/projects/scap-validation-program', 'https://csrc.nist.gov/projects/security-content-automation-protocol', 'https://csrc.nist.gov/projects/united-states-government-configuration-baseline', '/search', '/vuln/search', '/products/cpe/search', 'https://www.nist.gov/itl', '/', None, '/vuln', '/vuln/search', '/vuln/search?results_type=overview&query=Injection&search_type=all&form_type=Basic&isCpeNameSearch=false', '/vuln/search/results?isCpeNameSearch=false&query=Injection&results_type=overview&form_type=Basic&search_type=all&startIndex=0', '/vuln/search/results?isCpeNameSearch=false&query=Injection&results_type=overview&form_type=Basic&search_type=all&startIndex=20', '/vuln/search/results?isCpeNameSearch=false&query=Injection&results_type=overview&form_type=Basic&search_type=all&startIndex=40', '/vuln/search/results?isCpeNameSearch=false&query=Injection&results_type=overview&form_type=Basic&search_type=all&startIndex=60', '/vuln/search/results?isCpeNameSearch=false&query=Injection&results_type=overview&form_type=Basic&search_type=all&startIndex=80', '/vuln/search/results?isCpeNameSearch=false&query=Injection&results_type=overview&form_type=Basic&search_type=all&startIndex=100', '/vuln/search/results?isCpeNameSearch=false&query=Injection&results_type=overview&form_type=Basic&search_type=all&startIndex=120', '/vuln/search/results?isCpeNameSearch=false&query=Injection&results_type=overview&form_type=Basic&search_type=all&startIndex=140', '/vuln/search/results?isCpeNameSearch=false&query=Injection&results_type=overview&form_type=Basic&search_type=all&startIndex=160', '/vuln/search/results?isCpeNameSearch=false&query=Injection&results_type=overview&form_type=Basic&search_type=all&startIndex=180', '/vuln/search/results?isCpeNameSearch=false&query=Injection&results_type=overview&form_type=Basic&search_type=all&startIndex=20', '/vuln/search/results?isCpeNameSearch=false&query=Injection&results_type=overview&form_type=Basic&search_type=all&startIndex=12640', '/vuln/detail/CVE-2021-24557', '/vuln/detail/CVE-2021-24555', '/vuln/detail/CVE-2021-24554', '/vuln/detail/CVE-2021-24553', '/vuln/detail/CVE-2021-24552', '/vuln/detail/CVE-2021-24551', '/vuln/detail/CVE-2021-24550', '/vuln/detail/CVE-2021-24506', '/vuln/detail/CVE-2021-24497', '/vuln/detail/CVE-2021-39244', '/vuln/detail/CVE-2021-39371', '/vuln/detail/CVE-2021-39367', '/vuln/detail/CVE-2021-36011', '/vuln-metrics/cvss/v3-calculator?name=CVE-2021-36011&vector=AV:N/AC:H/PR:N/UI:R/S:C/C:H/I:H/A:H&version=3.1&source=Adobe%20Systems%20Incorporated', '/vuln/detail/CVE-2021-36748', '/vuln/detail/CVE-2020-18885', '/vuln/detail/CVE-2020-18877', '/vuln/detail/CVE-2021-39302', '/vuln/detail/CVE-2021-27999', '/vuln/detail/CVE-2020-22122', '/vuln/detail/CVE-2021-37702', '/vuln/search/results?isCpeNameSearch=false&query=Injection&results_type=overview&form_type=Basic&search_type=all&startIndex=0', '/vuln/search/results?isCpeNameSearch=false&query=Injection&results_type=overview&form_type=Basic&search_type=all&startIndex=20', '/vuln/search/results?isCpeNameSearch=false&query=Injection&results_type=overview&form_type=Basic&search_type=all&startIndex=40', '/vuln/search/results?isCpeNameSearch=false&query=Injection&results_type=overview&form_type=Basic&search_type=all&startIndex=60', '/vuln/search/results?isCpeNameSearch=false&query=Injection&results_type=overview&form_type=Basic&search_type=all&startIndex=80', '/vuln/search/results?isCpeNameSearch=false&query=Injection&results_type=overview&form_type=Basic&search_type=all&startIndex=100', '/vuln/search/results?isCpeNameSearch=false&query=Injection&results_type=overview&form_type=Basic&search_type=all&startIndex=120', '/vuln/search/results?isCpeNameSearch=false&query=Injection&results_type=overview&form_type=Basic&search_type=all&startIndex=140', '/vuln/search/results?isCpeNameSearch=false&query=Injection&results_type=overview&form_type=Basic&search_type=all&startIndex=160', '/vuln/search/results?isCpeNameSearch=false&query=Injection&results_type=overview&form_type=Basic&search_type=all&startIndex=180', '/vuln/search/results?isCpeNameSearch=false&query=Injection&results_type=overview&form_type=Basic&search_type=all&startIndex=20', '/vuln/search/results?isCpeNameSearch=false&query=Injection&results_type=overview&form_type=Basic&search_type=all&startIndex=12640', 'https://twitter.com/NISTCyber', 'https://www.facebook.com/NIST', 'https://www.linkedin.com/company/nist', 'https://www.youtube.com/user/USNISTGOV', 'https://www.nist.gov/news-events/nist-rss-feeds', 'https://public.govdelivery.com/accounts/USNIST/subscriber/new?qsp=USNIST_3', None, 'https://www.nist.gov', 'tel:301-975-2000', 'mailto:nvd@nist.gov', 'https://www.nist.gov/about-nist/contact-us', 'https://www.nist.gov/about-nist/our-organization', 'mailto:soc@us-cert.gov', 'https://www.cisa.gov', None, 'https://www.nist.gov/privacy-policy', 'https://www.nist.gov/privacy-policy#privpolicy', 'https://www.nist.gov/privacy-policy#secnot', 'https://www.nist.gov/privacy-policy#accesstate', 'https://www.nist.gov/privacy', 'https://www.nist.gov/no-fear-act-policy', 'https://www.nist.gov/disclaimer', 'https://www.nist.gov/foia', 'https://www.nist.gov/environmental-policy-statement', 'https://www.nist.gov/privacy-policy#cookie', 'https://www.nist.gov/summary-report-scientific-integrity', 'https://www.nist.gov/nist-information-quality-standards', 'https://www.commerce.gov/', 'https://www.healthcare.gov/', 'https://www.science.gov/', 'https://www.usa.gov/', 'https://nvd.nist.gov', 'https://www.nist.gov', '#', '/general', '/general/nvd-dashboard', '/general/news', '/general/email-list', '/general/faq', '/general/visualizations', '/vuln', '/vuln/search', '/vuln/full-listing', '/vuln/categories', '/vuln/data-feeds', '/vuln/vendor-comments', '/vuln/cvmap', '/vuln-metrics/cvss#', '/vuln-metrics/cvss/v3-calculator', '/vuln-metrics/cvss/v2-calculator', '/products', '/products/cpe', '/products/cpe/search', '/products/cpe/statistics', '/products/swid', '/info', '/other', 'https://ncp.nist.gov', 'https://ncp.nist.gov/cce', 'https://csrc.nist.gov/Projects/risk-management/sp800-53-controls/release-search#!/800-53', 'https://csrc.nist.gov/projects/scap-validation-program', 'https://csrc.nist.gov/projects/security-content-automation-protocol', 'https://csrc.nist.gov/projects/united-states-government-configuration-baseline', '/search', '/vuln/search', '/products/cpe/search', 'https://www.nist.gov/itl', '/', None, '/vuln', '/vuln/search', '/vuln/search?results_type=overview&query=Injection&search_type=all&form_type=Basic&isCpeNameSearch=false', '/vuln/search/results?isCpeNameSearch=false&query=Injection&results_type=overview&form_type=Basic&search_type=all&startIndex=0', '/vuln/search/results?isCpeNameSearch=false&query=Injection&results_type=overview&form_type=Basic&search_type=all&startIndex=20', '/vuln/search/results?isCpeNameSearch=false&query=Injection&results_type=overview&form_type=Basic&search_type=all&startIndex=40', '/vuln/search/results?isCpeNameSearch=false&query=Injection&results_type=overview&form_type=Basic&search_type=all&startIndex=60', '/vuln/search/results?isCpeNameSearch=false&query=Injection&results_type=overview&form_type=Basic&search_type=all&startIndex=80', '/vuln/search/results?isCpeNameSearch=false&query=Injection&results_type=overview&form_type=Basic&search_type=all&startIndex=100', '/vuln/search/results?isCpeNameSearch=false&query=Injection&results_type=overview&form_type=Basic&search_type=all&startIndex=120', '/vuln/search/results?isCpeNameSearch=false&query=Injection&results_type=overview&form_type=Basic&search_type=all&startIndex=140', '/vuln/search/results?isCpeNameSearch=false&query=Injection&results_type=overview&form_type=Basic&search_type=all&startIndex=160', '/vuln/search/results?isCpeNameSearch=false&query=Injection&results_type=overview&form_type=Basic&search_type=all&startIndex=180', '/vuln/search/results?isCpeNameSearch=false&query=Injection&results_type=overview&form_type=Basic&search_type=all&startIndex=20', '/vuln/search/results?isCpeNameSearch=false&query=Injection&results_type=overview&form_type=Basic&search_type=all&startIndex=12640', '/vuln/detail/CVE-2021-24557', '/vuln/detail/CVE-2021-24555', '/vuln/detail/CVE-2021-24554', '/vuln/detail/CVE-2021-24553', '/vuln/detail/CVE-2021-24552', '/vuln/detail/CVE-2021-24551', '/vuln/detail/CVE-2021-24550', '/vuln/detail/CVE-2021-24506', '/vuln/detail/CVE-2021-24497', '/vuln/detail/CVE-2021-39244', '/vuln/detail/CVE-2021-39371', '/vuln/detail/CVE-2021-39367', '/vuln/detail/CVE-2021-36011', '/vuln-metrics/cvss/v3-calculator?name=CVE-2021-36011&vector=AV:N/AC:H/PR:N/UI:R/S:C/C:H/I:H/A:H&version=3.1&source=Adobe%20Systems%20Incorporated', '/vuln/detail/CVE-2021-36748', '/vuln/detail/CVE-2020-18885', '/vuln/detail/CVE-2020-18877', '/vuln/detail/CVE-2021-39302', '/vuln/detail/CVE-2021-27999', '/vuln/detail/CVE-2020-22122', '/vuln/detail/CVE-2021-37702', '/vuln/search/results?isCpeNameSearch=false&query=Injection&results_type=overview&form_type=Basic&search_type=all&startIndex=0', '/vuln/search/results?isCpeNameSearch=false&query=Injection&results_type=overview&form_type=Basic&search_type=all&startIndex=20', '/vuln/search/results?isCpeNameSearch=false&query=Injection&results_type=overview&form_type=Basic&search_type=all&startIndex=40', '/vuln/search/results?isCpeNameSearch=false&query=Injection&results_type=overview&form_type=Basic&search_type=all&startIndex=60', '/vuln/search/results?isCpeNameSearch=false&query=Injection&results_type=overview&form_type=Basic&search_type=all&startIndex=80', '/vuln/search/results?isCpeNameSearch=false&query=Injection&results_type=overview&form_type=Basic&search_type=all&startIndex=100', '/vuln/search/results?isCpeNameSearch=false&query=Injection&results_type=overview&form_type=Basic&search_type=all&startIndex=120', '/vuln/search/results?isCpeNameSearch=false&query=Injection&results_type=overview&form_type=Basic&search_type=all&startIndex=140', '/vuln/search/results?isCpeNameSearch=false&query=Injection&results_type=overview&form_type=Basic&search_type=all&startIndex=160', '/vuln/search/results?isCpeNameSearch=false&query=Injection&results_type=overview&form_type=Basic&search_type=all&startIndex=180', '/vuln/search/results?isCpeNameSearch=false&query=Injection&results_type=overview&form_type=Basic&search_type=all&startIndex=20', '/vuln/search/results?isCpeNameSearch=false&query=Injection&results_type=overview&form_type=Basic&search_type=all&startIndex=12640', 'https://twitter.com/NISTCyber', 'https://www.facebook.com/NIST', 'https://www.linkedin.com/company/nist', 'https://www.youtube.com/user/USNISTGOV', 'https://www.nist.gov/news-events/nist-rss-feeds', 'https://public.govdelivery.com/accounts/USNIST/subscriber/new?qsp=USNIST_3', None, 'https://www.nist.gov', 'tel:301-975-2000', 'mailto:nvd@nist.gov', 'https://www.nist.gov/about-nist/contact-us', 'https://www.nist.gov/about-nist/our-organization', 'mailto:soc@us-cert.gov', 'https://www.cisa.gov', None, 'https://www.nist.gov/privacy-policy', 'https://www.nist.gov/privacy-policy#privpolicy', 'https://www.nist.gov/privacy-policy#secnot', 'https://www.nist.gov/privacy-policy#accesstate', 'https://www.nist.gov/privacy', 'https://www.nist.gov/no-fear-act-policy', 'https://www.nist.gov/disclaimer', 'https://www.nist.gov/foia', 'https://www.nist.gov/environmental-policy-statement', 'https://www.nist.gov/privacy-policy#cookie', 'https://www.nist.gov/summary-report-scientific-integrity', 'https://www.nist.gov/nist-information-quality-standards', 'https://www.commerce.gov/', 'https://www.healthcare.gov/', 'https://www.science.gov/', 'https://www.usa.gov/', 'https://nvd.nist.gov', 'https://www.nist.gov', '#', '/general', '/general/nvd-dashboard', '/general/news', '/general/email-list', '/general/faq', '/general/visualizations', '/vuln', '/vuln/search', '/vuln/full-listing', '/vuln/categories', '/vuln/data-feeds', '/vuln/vendor-comments', '/vuln/cvmap', '/vuln-metrics/cvss#', '/vuln-metrics/cvss/v3-calculator', '/vuln-metrics/cvss/v2-calculator', '/products', '/products/cpe', '/products/cpe/search', '/products/cpe/statistics', '/products/swid', '/info', '/other', 'https://ncp.nist.gov', 'https://ncp.nist.gov/cce', 'https://csrc.nist.gov/Projects/risk-management/sp800-53-controls/release-search#!/800-53', 'https://csrc.nist.gov/projects/scap-validation-program', 'https://csrc.nist.gov/projects/security-content-automation-protocol', 'https://csrc.nist.gov/projects/united-states-government-configuration-baseline', '/search', '/vuln/search', '/products/cpe/search', 'https://www.nist.gov/itl', '/', None, '/vuln', '/vuln/search', '/vuln/search?results_type=overview&query=Injection&search_type=all&form_type=Basic&isCpeNameSearch=false', '/vuln/search/results?isCpeNameSearch=false&query=Injection&results_type=overview&form_type=Basic&search_type=all&startIndex=0', '/vuln/search/results?isCpeNameSearch=false&query=Injection&results_type=overview&form_type=Basic&search_type=all&startIndex=20', '/vuln/search/results?isCpeNameSearch=false&query=Injection&results_type=overview&form_type=Basic&search_type=all&startIndex=40', '/vuln/search/results?isCpeNameSearch=false&query=Injection&results_type=overview&form_type=Basic&search_type=all&startIndex=60', '/vuln/search/results?isCpeNameSearch=false&query=Injection&results_type=overview&form_type=Basic&search_type=all&startIndex=80', '/vuln/search/results?isCpeNameSearch=false&query=Injection&results_type=overview&form_type=Basic&search_type=all&startIndex=100', '/vuln/search/results?isCpeNameSearch=false&query=Injection&results_type=overview&form_type=Basic&search_type=all&startIndex=120', '/vuln/search/results?isCpeNameSearch=false&query=Injection&results_type=overview&form_type=Basic&search_type=all&startIndex=140', '/vuln/search/results?isCpeNameSearch=false&query=Injection&results_type=overview&form_type=Basic&search_type=all&startIndex=160', '/vuln/search/results?isCpeNameSearch=false&query=Injection&results_type=overview&form_type=Basic&search_type=all&startIndex=180', '/vuln/search/results?isCpeNameSearch=false&query=Injection&results_type=overview&form_type=Basic&search_type=all&startIndex=20', '/vuln/search/results?isCpeNameSearch=false&query=Injection&results_type=overview&form_type=Basic&search_type=all&startIndex=12640', '/vuln/detail/CVE-2021-24557', '/vuln/detail/CVE-2021-24555', '/vuln/detail/CVE-2021-24554', '/vuln/detail/CVE-2021-24553', '/vuln/detail/CVE-2021-24552', '/vuln/detail/CVE-2021-24551', '/vuln/detail/CVE-2021-24550', '/vuln/detail/CVE-2021-24506', '/vuln/detail/CVE-2021-24497', '/vuln/detail/CVE-2021-39244', '/vuln/detail/CVE-2021-39371', '/vuln/detail/CVE-2021-39367', '/vuln/detail/CVE-2021-36011', '/vuln-metrics/cvss/v3-calculator?name=CVE-2021-36011&vector=AV:N/AC:H/PR:N/UI:R/S:C/C:H/I:H/A:H&version=3.1&source=Adobe%20Systems%20Incorporated', '/vuln/detail/CVE-2021-36748', '/vuln/detail/CVE-2020-18885', '/vuln/detail/CVE-2020-18877', '/vuln/detail/CVE-2021-39302', '/vuln/detail/CVE-2021-27999', '/vuln/detail/CVE-2020-22122', '/vuln/detail/CVE-2021-37702', '/vuln/search/results?isCpeNameSearch=false&query=Injection&results_type=overview&form_type=Basic&search_type=all&startIndex=0', '/vuln/search/results?isCpeNameSearch=false&query=Injection&results_type=overview&form_type=Basic&search_type=all&startIndex=20', '/vuln/search/results?isCpeNameSearch=false&query=Injection&results_type=overview&form_type=Basic&search_type=all&startIndex=40', '/vuln/search/results?isCpeNameSearch=false&query=Injection&results_type=overview&form_type=Basic&search_type=all&startIndex=60', '/vuln/search/results?isCpeNameSearch=false&query=Injection&results_type=overview&form_type=Basic&search_type=all&startIndex=80', '/vuln/search/results?isCpeNameSearch=false&query=Injection&results_type=overview&form_type=Basic&search_type=all&startIndex=100', '/vuln/search/results?isCpeNameSearch=false&query=Injection&results_type=overview&form_type=Basic&search_type=all&startIndex=120', '/vuln/search/results?isCpeNameSearch=false&query=Injection&results_type=overview&form_type=Basic&search_type=all&startIndex=140', '/vuln/search/results?isCpeNameSearch=false&query=Injection&results_type=overview&form_type=Basic&search_type=all&startIndex=160', '/vuln/search/results?isCpeNameSearch=false&query=Injection&results_type=overview&form_type=Basic&search_type=all&startIndex=180', '/vuln/search/results?isCpeNameSearch=false&query=Injection&results_type=overview&form_type=Basic&search_type=all&startIndex=20', '/vuln/search/results?isCpeNameSearch=false&query=Injection&results_type=overview&form_type=Basic&search_type=all&startIndex=12640', 'https://twitter.com/NISTCyber', 'https://www.facebook.com/NIST', 'https://www.linkedin.com/company/nist', 'https://www.youtube.com/user/USNISTGOV', 'https://www.nist.gov/news-events/nist-rss-feeds', 'https://public.govdelivery.com/accounts/USNIST/subscriber/new?qsp=USNIST_3', None, 'https://www.nist.gov', 'tel:301-975-2000', 'mailto:nvd@nist.gov', 'https://www.nist.gov/about-nist/contact-us', 'https://www.nist.gov/about-nist/our-organization', 'mailto:soc@us-cert.gov', 'https://www.cisa.gov', None, 'https://www.nist.gov/privacy-policy', 'https://www.nist.gov/privacy-policy#privpolicy', 'https://www.nist.gov/privacy-policy#secnot', 'https://www.nist.gov/privacy-policy#accesstate', 'https://www.nist.gov/privacy', 'https://www.nist.gov/no-fear-act-policy', 'https://www.nist.gov/disclaimer', 'https://www.nist.gov/foia', 'https://www.nist.gov/environmental-policy-statement', 'https://www.nist.gov/privacy-policy#cookie', 'https://www.nist.gov/summary-report-scientific-integrity', 'https://www.nist.gov/nist-information-quality-standards', 'https://www.commerce.gov/', 'https://www.healthcare.gov/', 'https://www.science.gov/', 'https://www.usa.gov/', 'https://nvd.nist.gov', 'https://www.nist.gov', '#', '/general', '/general/nvd-dashboard', '/general/news', '/general/email-list', '/general/faq', '/general/visualizations', '/vuln', '/vuln/search', '/vuln/full-listing', '/vuln/categories', '/vuln/data-feeds', '/vuln/vendor-comments', '/vuln/cvmap', '/vuln-metrics/cvss#', '/vuln-metrics/cvss/v3-calculator', '/vuln-metrics/cvss/v2-calculator', '/products', '/products/cpe', '/products/cpe/search', '/products/cpe/statistics', '/products/swid', '/info', '/other', 'https://ncp.nist.gov', 'https://ncp.nist.gov/cce', 'https://csrc.nist.gov/Projects/risk-management/sp800-53-controls/release-search#!/800-53', 'https://csrc.nist.gov/projects/scap-validation-program', 'https://csrc.nist.gov/projects/security-content-automation-protocol', 'https://csrc.nist.gov/projects/united-states-government-configuration-baseline', '/search', '/vuln/search', '/products/cpe/search', 'https://www.nist.gov/itl', '/', None, '/vuln', '/vuln/search', '/vuln/search?results_type=overview&query=Injection&search_type=all&form_type=Basic&isCpeNameSearch=false', '/vuln/search/results?isCpeNameSearch=false&query=Injection&results_type=overview&form_type=Basic&search_type=all&startIndex=0', '/vuln/search/results?isCpeNameSearch=false&query=Injection&results_type=overview&form_type=Basic&search_type=all&startIndex=20', '/vuln/search/results?isCpeNameSearch=false&query=Injection&results_type=overview&form_type=Basic&search_type=all&startIndex=40', '/vuln/search/results?isCpeNameSearch=false&query=Injection&results_type=overview&form_type=Basic&search_type=all&startIndex=60', '/vuln/search/results?isCpeNameSearch=false&query=Injection&results_type=overview&form_type=Basic&search_type=all&startIndex=80', '/vuln/search/results?isCpeNameSearch=false&query=Injection&results_type=overview&form_type=Basic&search_type=all&startIndex=100', '/vuln/search/results?isCpeNameSearch=false&query=Injection&results_type=overview&form_type=Basic&search_type=all&startIndex=120', '/vuln/search/results?isCpeNameSearch=false&query=Injection&results_type=overview&form_type=Basic&search_type=all&startIndex=140', '/vuln/search/results?isCpeNameSearch=false&query=Injection&results_type=overview&form_type=Basic&search_type=all&startIndex=160', '/vuln/search/results?isCpeNameSearch=false&query=Injection&results_type=overview&form_type=Basic&search_type=all&startIndex=180', '/vuln/search/results?isCpeNameSearch=false&query=Injection&results_type=overview&form_type=Basic&search_type=all&startIndex=20', '/vuln/search/results?isCpeNameSearch=false&query=Injection&results_type=overview&form_type=Basic&search_type=all&startIndex=12640', '/vuln/detail/CVE-2021-24557', '/vuln/detail/CVE-2021-24555', '/vuln/detail/CVE-2021-24554', '/vuln/detail/CVE-2021-24553', '/vuln/detail/CVE-2021-24552', '/vuln/detail/CVE-2021-24551', '/vuln/detail/CVE-2021-24550', '/vuln/detail/CVE-2021-24506', '/vuln/detail/CVE-2021-24497', '/vuln/detail/CVE-2021-39244', '/vuln/detail/CVE-2021-39371', '/vuln/detail/CVE-2021-39367', '/vuln/detail/CVE-2021-36011', '/vuln-metrics/cvss/v3-calculator?name=CVE-2021-36011&vector=AV:N/AC:H/PR:N/UI:R/S:C/C:H/I:H/A:H&version=3.1&source=Adobe%20Systems%20Incorporated', '/vuln/detail/CVE-2021-36748', '/vuln/detail/CVE-2020-18885', '/vuln/detail/CVE-2020-18877', '/vuln/detail/CVE-2021-39302', '/vuln/detail/CVE-2021-27999', '/vuln/detail/CVE-2020-22122', '/vuln/detail/CVE-2021-37702', '/vuln/search/results?isCpeNameSearch=false&query=Injection&results_type=overview&form_type=Basic&search_type=all&startIndex=0', '/vuln/search/results?isCpeNameSearch=false&query=Injection&results_type=overview&form_type=Basic&search_type=all&startIndex=20', '/vuln/search/results?isCpeNameSearch=false&query=Injection&results_type=overview&form_type=Basic&search_type=all&startIndex=40', '/vuln/search/results?isCpeNameSearch=false&query=Injection&results_type=overview&form_type=Basic&search_type=all&startIndex=60', '/vuln/search/results?isCpeNameSearch=false&query=Injection&results_type=overview&form_type=Basic&search_type=all&startIndex=80', '/vuln/search/results?isCpeNameSearch=false&query=Injection&results_type=overview&form_type=Basic&search_type=all&startIndex=100', '/vuln/search/results?isCpeNameSearch=false&query=Injection&results_type=overview&form_type=Basic&search_type=all&startIndex=120', '/vuln/search/results?isCpeNameSearch=false&query=Injection&results_type=overview&form_type=Basic&search_type=all&startIndex=140', '/vuln/search/results?isCpeNameSearch=false&query=Injection&results_type=overview&form_type=Basic&search_type=all&startIndex=160', '/vuln/search/results?isCpeNameSearch=false&query=Injection&results_type=overview&form_type=Basic&search_type=all&startIndex=180', '/vuln/search/results?isCpeNameSearch=false&query=Injection&results_type=overview&form_type=Basic&search_type=all&startIndex=20', '/vuln/search/results?isCpeNameSearch=false&query=Injection&results_type=overview&form_type=Basic&search_type=all&startIndex=12640', 'https://twitter.com/NISTCyber', 'https://www.facebook.com/NIST', 'https://www.linkedin.com/company/nist', 'https://www.youtube.com/user/USNISTGOV', 'https://www.nist.gov/news-events/nist-rss-feeds', 'https://public.govdelivery.com/accounts/USNIST/subscriber/new?qsp=USNIST_3', None, 'https://www.nist.gov', 'tel:301-975-2000', 'mailto:nvd@nist.gov', 'https://www.nist.gov/about-nist/contact-us', 'https://www.nist.gov/about-nist/our-organization', 'mailto:soc@us-cert.gov', 'https://www.cisa.gov', None, 'https://www.nist.gov/privacy-policy', 'https://www.nist.gov/privacy-policy#privpolicy', 'https://www.nist.gov/privacy-policy#secnot', 'https://www.nist.gov/privacy-policy#accesstate', 'https://www.nist.gov/privacy', 'https://www.nist.gov/no-fear-act-policy', 'https://www.nist.gov/disclaimer', 'https://www.nist.gov/foia', 'https://www.nist.gov/environmental-policy-statement', 'https://www.nist.gov/privacy-policy#cookie', 'https://www.nist.gov/summary-report-scientific-integrity', 'https://www.nist.gov/nist-information-quality-standards', 'https://www.commerce.gov/', 'https://www.healthcare.gov/', 'https://www.science.gov/', 'https://www.usa.gov/', 'https://nvd.nist.gov', 'https://www.nist.gov', '#', '/general', '/general/nvd-dashboard', '/general/news', '/general/email-list', '/general/faq', '/general/visualizations', '/vuln', '/vuln/search', '/vuln/full-listing', '/vuln/categories', '/vuln/data-feeds', '/vuln/vendor-comments', '/vuln/cvmap', '/vuln-metrics/cvss#', '/vuln-metrics/cvss/v3-calculator', '/vuln-metrics/cvss/v2-calculator', '/products', '/products/cpe', '/products/cpe/search', '/products/cpe/statistics', '/products/swid', '/info', '/other', 'https://ncp.nist.gov', 'https://ncp.nist.gov/cce', 'https://csrc.nist.gov/Projects/risk-management/sp800-53-controls/release-search#!/800-53', 'https://csrc.nist.gov/projects/scap-validation-program', 'https://csrc.nist.gov/projects/security-content-automation-protocol', 'https://csrc.nist.gov/projects/united-states-government-configuration-baseline', '/search', '/vuln/search', '/products/cpe/search', 'https://www.nist.gov/itl', '/', None, '/vuln', '/vuln/search', '/vuln/search?results_type=overview&query=Injection&search_type=all&form_type=Basic&isCpeNameSearch=false', '/vuln/search/results?isCpeNameSearch=false&query=Injection&results_type=overview&form_type=Basic&search_type=all&startIndex=0', '/vuln/search/results?isCpeNameSearch=false&query=Injection&results_type=overview&form_type=Basic&search_type=all&startIndex=20', '/vuln/search/results?isCpeNameSearch=false&query=Injection&results_type=overview&form_type=Basic&search_type=all&startIndex=40', '/vuln/search/results?isCpeNameSearch=false&query=Injection&results_type=overview&form_type=Basic&search_type=all&startIndex=60', '/vuln/search/results?isCpeNameSearch=false&query=Injection&results_type=overview&form_type=Basic&search_type=all&startIndex=80', '/vuln/search/results?isCpeNameSearch=false&query=Injection&results_type=overview&form_type=Basic&search_type=all&startIndex=100', '/vuln/search/results?isCpeNameSearch=false&query=Injection&results_type=overview&form_type=Basic&search_type=all&startIndex=120', '/vuln/search/results?isCpeNameSearch=false&query=Injection&results_type=overview&form_type=Basic&search_type=all&startIndex=140', '/vuln/search/results?isCpeNameSearch=false&query=Injection&results_type=overview&form_type=Basic&search_type=all&startIndex=160', '/vuln/search/results?isCpeNameSearch=false&query=Injection&results_type=overview&form_type=Basic&search_type=all&startIndex=180', '/vuln/search/results?isCpeNameSearch=false&query=Injection&results_type=overview&form_type=Basic&search_type=all&startIndex=20', '/vuln/search/results?isCpeNameSearch=false&query=Injection&results_type=overview&form_type=Basic&search_type=all&startIndex=12640', '/vuln/detail/CVE-2021-24557', '/vuln/detail/CVE-2021-24555', '/vuln/detail/CVE-2021-24554', '/vuln/detail/CVE-2021-24553', '/vuln/detail/CVE-2021-24552', '/vuln/detail/CVE-2021-24551', '/vuln/detail/CVE-2021-24550', '/vuln/detail/CVE-2021-24506', '/vuln/detail/CVE-2021-24497', '/vuln/detail/CVE-2021-39244', '/vuln/detail/CVE-2021-39371', '/vuln/detail/CVE-2021-39367', '/vuln/detail/CVE-2021-36011', '/vuln-metrics/cvss/v3-calculator?name=CVE-2021-36011&vector=AV:N/AC:H/PR:N/UI:R/S:C/C:H/I:H/A:H&version=3.1&source=Adobe%20Systems%20Incorporated', '/vuln/detail/CVE-2021-36748', '/vuln/detail/CVE-2020-18885', '/vuln/detail/CVE-2020-18877', '/vuln/detail/CVE-2021-39302', '/vuln/detail/CVE-2021-27999', '/vuln/detail/CVE-2020-22122', '/vuln/detail/CVE-2021-37702', '/vuln/search/results?isCpeNameSearch=false&query=Injection&results_type=overview&form_type=Basic&search_type=all&startIndex=0', '/vuln/search/results?isCpeNameSearch=false&query=Injection&results_type=overview&form_type=Basic&search_type=all&startIndex=20', '/vuln/search/results?isCpeNameSearch=false&query=Injection&results_type=overview&form_type=Basic&search_type=all&startIndex=40', '/vuln/search/results?isCpeNameSearch=false&query=Injection&results_type=overview&form_type=Basic&search_type=all&startIndex=60', '/vuln/search/results?isCpeNameSearch=false&query=Injection&results_type=overview&form_type=Basic&search_type=all&startIndex=80', '/vuln/search/results?isCpeNameSearch=false&query=Injection&results_type=overview&form_type=Basic&search_type=all&startIndex=100', '/vuln/search/results?isCpeNameSearch=false&query=Injection&results_type=overview&form_type=Basic&search_type=all&startIndex=120', '/vuln/search/results?isCpeNameSearch=false&query=Injection&results_type=overview&form_type=Basic&search_type=all&startIndex=140', '/vuln/search/results?isCpeNameSearch=false&query=Injection&results_type=overview&form_type=Basic&search_type=all&startIndex=160', '/vuln/search/results?isCpeNameSearch=false&query=Injection&results_type=overview&form_type=Basic&search_type=all&startIndex=180', '/vuln/search/results?isCpeNameSearch=false&query=Injection&results_type=overview&form_type=Basic&search_type=all&startIndex=20', '/vuln/search/results?isCpeNameSearch=false&query=Injection&results_type=overview&form_type=Basic&search_type=all&startIndex=12640', 'https://twitter.com/NISTCyber', 'https://www.facebook.com/NIST', 'https://www.linkedin.com/company/nist', 'https://www.youtube.com/user/USNISTGOV', 'https://www.nist.gov/news-events/nist-rss-feeds', 'https://public.govdelivery.com/accounts/USNIST/subscriber/new?qsp=USNIST_3', None, 'https://www.nist.gov', 'tel:301-975-2000', 'mailto:nvd@nist.gov', 'https://www.nist.gov/about-nist/contact-us', 'https://www.nist.gov/about-nist/our-organization', 'mailto:soc@us-cert.gov', 'https://www.cisa.gov', None, 'https://www.nist.gov/privacy-policy', 'https://www.nist.gov/privacy-policy#privpolicy', 'https://www.nist.gov/privacy-policy#secnot', 'https://www.nist.gov/privacy-policy#accesstate', 'https://www.nist.gov/privacy', 'https://www.nist.gov/no-fear-act-policy', 'https://www.nist.gov/disclaimer', 'https://www.nist.gov/foia', 'https://www.nist.gov/environmental-policy-statement', 'https://www.nist.gov/privacy-policy#cookie', 'https://www.nist.gov/summary-report-scientific-integrity', 'https://www.nist.gov/nist-information-quality-standards', 'https://www.commerce.gov/', 'https://www.healthcare.gov/', 'https://www.science.gov/', 'https://www.usa.gov/']\n"
          ],
          "name": "stdout"
        }
      ]
    },
    {
      "cell_type": "code",
      "metadata": {
        "id": "YhvZd_-FbMxu",
        "colab": {
          "base_uri": "https://localhost:8080/"
        },
        "outputId": "22621d6a-4712-4769-c489-0e7a49de7e7d"
      },
      "source": [
        "# Finding the indexed links for Web crawling\n",
        "final = []\n",
        "for item in links:\n",
        "  if item != None :\n",
        "    if len(item) >= 120:\n",
        "      # stri = item[0:11]\n",
        "      # if stri == \"/vuln/search/\":\n",
        "      final.append(item)\n",
        "final       # final list of liks    \n",
        "print(final)\n",
        "len(final)\n",
        "print(final[1])"
      ],
      "execution_count": null,
      "outputs": [
        {
          "output_type": "stream",
          "text": [
            "['/vuln/search/results?isCpeNameSearch=false&query=Injection&results_type=overview&form_type=Basic&search_type=all&startIndex=0', '/vuln/search/results?isCpeNameSearch=false&query=Injection&results_type=overview&form_type=Basic&search_type=all&startIndex=20', '/vuln/search/results?isCpeNameSearch=false&query=Injection&results_type=overview&form_type=Basic&search_type=all&startIndex=40', '/vuln/search/results?isCpeNameSearch=false&query=Injection&results_type=overview&form_type=Basic&search_type=all&startIndex=60', '/vuln/search/results?isCpeNameSearch=false&query=Injection&results_type=overview&form_type=Basic&search_type=all&startIndex=80', '/vuln/search/results?isCpeNameSearch=false&query=Injection&results_type=overview&form_type=Basic&search_type=all&startIndex=100', '/vuln/search/results?isCpeNameSearch=false&query=Injection&results_type=overview&form_type=Basic&search_type=all&startIndex=120', '/vuln/search/results?isCpeNameSearch=false&query=Injection&results_type=overview&form_type=Basic&search_type=all&startIndex=140', '/vuln/search/results?isCpeNameSearch=false&query=Injection&results_type=overview&form_type=Basic&search_type=all&startIndex=160', '/vuln/search/results?isCpeNameSearch=false&query=Injection&results_type=overview&form_type=Basic&search_type=all&startIndex=180', '/vuln/search/results?isCpeNameSearch=false&query=Injection&results_type=overview&form_type=Basic&search_type=all&startIndex=20', '/vuln/search/results?isCpeNameSearch=false&query=Injection&results_type=overview&form_type=Basic&search_type=all&startIndex=12640', '/vuln-metrics/cvss/v3-calculator?name=CVE-2021-36011&vector=AV:N/AC:H/PR:N/UI:R/S:C/C:H/I:H/A:H&version=3.1&source=Adobe%20Systems%20Incorporated', '/vuln/search/results?isCpeNameSearch=false&query=Injection&results_type=overview&form_type=Basic&search_type=all&startIndex=0', '/vuln/search/results?isCpeNameSearch=false&query=Injection&results_type=overview&form_type=Basic&search_type=all&startIndex=20', '/vuln/search/results?isCpeNameSearch=false&query=Injection&results_type=overview&form_type=Basic&search_type=all&startIndex=40', '/vuln/search/results?isCpeNameSearch=false&query=Injection&results_type=overview&form_type=Basic&search_type=all&startIndex=60', '/vuln/search/results?isCpeNameSearch=false&query=Injection&results_type=overview&form_type=Basic&search_type=all&startIndex=80', '/vuln/search/results?isCpeNameSearch=false&query=Injection&results_type=overview&form_type=Basic&search_type=all&startIndex=100', '/vuln/search/results?isCpeNameSearch=false&query=Injection&results_type=overview&form_type=Basic&search_type=all&startIndex=120', '/vuln/search/results?isCpeNameSearch=false&query=Injection&results_type=overview&form_type=Basic&search_type=all&startIndex=140', '/vuln/search/results?isCpeNameSearch=false&query=Injection&results_type=overview&form_type=Basic&search_type=all&startIndex=160', '/vuln/search/results?isCpeNameSearch=false&query=Injection&results_type=overview&form_type=Basic&search_type=all&startIndex=180', '/vuln/search/results?isCpeNameSearch=false&query=Injection&results_type=overview&form_type=Basic&search_type=all&startIndex=20', '/vuln/search/results?isCpeNameSearch=false&query=Injection&results_type=overview&form_type=Basic&search_type=all&startIndex=12640', '/vuln/search/results?isCpeNameSearch=false&query=Injection&results_type=overview&form_type=Basic&search_type=all&startIndex=0', '/vuln/search/results?isCpeNameSearch=false&query=Injection&results_type=overview&form_type=Basic&search_type=all&startIndex=20', '/vuln/search/results?isCpeNameSearch=false&query=Injection&results_type=overview&form_type=Basic&search_type=all&startIndex=40', '/vuln/search/results?isCpeNameSearch=false&query=Injection&results_type=overview&form_type=Basic&search_type=all&startIndex=60', '/vuln/search/results?isCpeNameSearch=false&query=Injection&results_type=overview&form_type=Basic&search_type=all&startIndex=80', '/vuln/search/results?isCpeNameSearch=false&query=Injection&results_type=overview&form_type=Basic&search_type=all&startIndex=100', '/vuln/search/results?isCpeNameSearch=false&query=Injection&results_type=overview&form_type=Basic&search_type=all&startIndex=120', '/vuln/search/results?isCpeNameSearch=false&query=Injection&results_type=overview&form_type=Basic&search_type=all&startIndex=140', '/vuln/search/results?isCpeNameSearch=false&query=Injection&results_type=overview&form_type=Basic&search_type=all&startIndex=160', '/vuln/search/results?isCpeNameSearch=false&query=Injection&results_type=overview&form_type=Basic&search_type=all&startIndex=180', '/vuln/search/results?isCpeNameSearch=false&query=Injection&results_type=overview&form_type=Basic&search_type=all&startIndex=20', '/vuln/search/results?isCpeNameSearch=false&query=Injection&results_type=overview&form_type=Basic&search_type=all&startIndex=12640', '/vuln-metrics/cvss/v3-calculator?name=CVE-2021-36011&vector=AV:N/AC:H/PR:N/UI:R/S:C/C:H/I:H/A:H&version=3.1&source=Adobe%20Systems%20Incorporated', '/vuln/search/results?isCpeNameSearch=false&query=Injection&results_type=overview&form_type=Basic&search_type=all&startIndex=0', '/vuln/search/results?isCpeNameSearch=false&query=Injection&results_type=overview&form_type=Basic&search_type=all&startIndex=20', '/vuln/search/results?isCpeNameSearch=false&query=Injection&results_type=overview&form_type=Basic&search_type=all&startIndex=40', '/vuln/search/results?isCpeNameSearch=false&query=Injection&results_type=overview&form_type=Basic&search_type=all&startIndex=60', '/vuln/search/results?isCpeNameSearch=false&query=Injection&results_type=overview&form_type=Basic&search_type=all&startIndex=80', '/vuln/search/results?isCpeNameSearch=false&query=Injection&results_type=overview&form_type=Basic&search_type=all&startIndex=100', '/vuln/search/results?isCpeNameSearch=false&query=Injection&results_type=overview&form_type=Basic&search_type=all&startIndex=120', '/vuln/search/results?isCpeNameSearch=false&query=Injection&results_type=overview&form_type=Basic&search_type=all&startIndex=140', '/vuln/search/results?isCpeNameSearch=false&query=Injection&results_type=overview&form_type=Basic&search_type=all&startIndex=160', '/vuln/search/results?isCpeNameSearch=false&query=Injection&results_type=overview&form_type=Basic&search_type=all&startIndex=180', '/vuln/search/results?isCpeNameSearch=false&query=Injection&results_type=overview&form_type=Basic&search_type=all&startIndex=20', '/vuln/search/results?isCpeNameSearch=false&query=Injection&results_type=overview&form_type=Basic&search_type=all&startIndex=12640', '/vuln/search/results?isCpeNameSearch=false&query=Injection&results_type=overview&form_type=Basic&search_type=all&startIndex=0', '/vuln/search/results?isCpeNameSearch=false&query=Injection&results_type=overview&form_type=Basic&search_type=all&startIndex=20', '/vuln/search/results?isCpeNameSearch=false&query=Injection&results_type=overview&form_type=Basic&search_type=all&startIndex=40', '/vuln/search/results?isCpeNameSearch=false&query=Injection&results_type=overview&form_type=Basic&search_type=all&startIndex=60', '/vuln/search/results?isCpeNameSearch=false&query=Injection&results_type=overview&form_type=Basic&search_type=all&startIndex=80', '/vuln/search/results?isCpeNameSearch=false&query=Injection&results_type=overview&form_type=Basic&search_type=all&startIndex=100', '/vuln/search/results?isCpeNameSearch=false&query=Injection&results_type=overview&form_type=Basic&search_type=all&startIndex=120', '/vuln/search/results?isCpeNameSearch=false&query=Injection&results_type=overview&form_type=Basic&search_type=all&startIndex=140', '/vuln/search/results?isCpeNameSearch=false&query=Injection&results_type=overview&form_type=Basic&search_type=all&startIndex=160', '/vuln/search/results?isCpeNameSearch=false&query=Injection&results_type=overview&form_type=Basic&search_type=all&startIndex=180', '/vuln/search/results?isCpeNameSearch=false&query=Injection&results_type=overview&form_type=Basic&search_type=all&startIndex=20', '/vuln/search/results?isCpeNameSearch=false&query=Injection&results_type=overview&form_type=Basic&search_type=all&startIndex=12640', '/vuln-metrics/cvss/v3-calculator?name=CVE-2021-36011&vector=AV:N/AC:H/PR:N/UI:R/S:C/C:H/I:H/A:H&version=3.1&source=Adobe%20Systems%20Incorporated', '/vuln/search/results?isCpeNameSearch=false&query=Injection&results_type=overview&form_type=Basic&search_type=all&startIndex=0', '/vuln/search/results?isCpeNameSearch=false&query=Injection&results_type=overview&form_type=Basic&search_type=all&startIndex=20', '/vuln/search/results?isCpeNameSearch=false&query=Injection&results_type=overview&form_type=Basic&search_type=all&startIndex=40', '/vuln/search/results?isCpeNameSearch=false&query=Injection&results_type=overview&form_type=Basic&search_type=all&startIndex=60', '/vuln/search/results?isCpeNameSearch=false&query=Injection&results_type=overview&form_type=Basic&search_type=all&startIndex=80', '/vuln/search/results?isCpeNameSearch=false&query=Injection&results_type=overview&form_type=Basic&search_type=all&startIndex=100', '/vuln/search/results?isCpeNameSearch=false&query=Injection&results_type=overview&form_type=Basic&search_type=all&startIndex=120', '/vuln/search/results?isCpeNameSearch=false&query=Injection&results_type=overview&form_type=Basic&search_type=all&startIndex=140', '/vuln/search/results?isCpeNameSearch=false&query=Injection&results_type=overview&form_type=Basic&search_type=all&startIndex=160', '/vuln/search/results?isCpeNameSearch=false&query=Injection&results_type=overview&form_type=Basic&search_type=all&startIndex=180', '/vuln/search/results?isCpeNameSearch=false&query=Injection&results_type=overview&form_type=Basic&search_type=all&startIndex=20', '/vuln/search/results?isCpeNameSearch=false&query=Injection&results_type=overview&form_type=Basic&search_type=all&startIndex=12640', '/vuln/search/results?isCpeNameSearch=false&query=Injection&results_type=overview&form_type=Basic&search_type=all&startIndex=0', '/vuln/search/results?isCpeNameSearch=false&query=Injection&results_type=overview&form_type=Basic&search_type=all&startIndex=20', '/vuln/search/results?isCpeNameSearch=false&query=Injection&results_type=overview&form_type=Basic&search_type=all&startIndex=40', '/vuln/search/results?isCpeNameSearch=false&query=Injection&results_type=overview&form_type=Basic&search_type=all&startIndex=60', '/vuln/search/results?isCpeNameSearch=false&query=Injection&results_type=overview&form_type=Basic&search_type=all&startIndex=80', '/vuln/search/results?isCpeNameSearch=false&query=Injection&results_type=overview&form_type=Basic&search_type=all&startIndex=100', '/vuln/search/results?isCpeNameSearch=false&query=Injection&results_type=overview&form_type=Basic&search_type=all&startIndex=120', '/vuln/search/results?isCpeNameSearch=false&query=Injection&results_type=overview&form_type=Basic&search_type=all&startIndex=140', '/vuln/search/results?isCpeNameSearch=false&query=Injection&results_type=overview&form_type=Basic&search_type=all&startIndex=160', '/vuln/search/results?isCpeNameSearch=false&query=Injection&results_type=overview&form_type=Basic&search_type=all&startIndex=180', '/vuln/search/results?isCpeNameSearch=false&query=Injection&results_type=overview&form_type=Basic&search_type=all&startIndex=20', '/vuln/search/results?isCpeNameSearch=false&query=Injection&results_type=overview&form_type=Basic&search_type=all&startIndex=12640', '/vuln-metrics/cvss/v3-calculator?name=CVE-2021-36011&vector=AV:N/AC:H/PR:N/UI:R/S:C/C:H/I:H/A:H&version=3.1&source=Adobe%20Systems%20Incorporated', '/vuln/search/results?isCpeNameSearch=false&query=Injection&results_type=overview&form_type=Basic&search_type=all&startIndex=0', '/vuln/search/results?isCpeNameSearch=false&query=Injection&results_type=overview&form_type=Basic&search_type=all&startIndex=20', '/vuln/search/results?isCpeNameSearch=false&query=Injection&results_type=overview&form_type=Basic&search_type=all&startIndex=40', '/vuln/search/results?isCpeNameSearch=false&query=Injection&results_type=overview&form_type=Basic&search_type=all&startIndex=60', '/vuln/search/results?isCpeNameSearch=false&query=Injection&results_type=overview&form_type=Basic&search_type=all&startIndex=80', '/vuln/search/results?isCpeNameSearch=false&query=Injection&results_type=overview&form_type=Basic&search_type=all&startIndex=100', '/vuln/search/results?isCpeNameSearch=false&query=Injection&results_type=overview&form_type=Basic&search_type=all&startIndex=120', '/vuln/search/results?isCpeNameSearch=false&query=Injection&results_type=overview&form_type=Basic&search_type=all&startIndex=140', '/vuln/search/results?isCpeNameSearch=false&query=Injection&results_type=overview&form_type=Basic&search_type=all&startIndex=160', '/vuln/search/results?isCpeNameSearch=false&query=Injection&results_type=overview&form_type=Basic&search_type=all&startIndex=180', '/vuln/search/results?isCpeNameSearch=false&query=Injection&results_type=overview&form_type=Basic&search_type=all&startIndex=20', '/vuln/search/results?isCpeNameSearch=false&query=Injection&results_type=overview&form_type=Basic&search_type=all&startIndex=12640', '/vuln/search/results?isCpeNameSearch=false&query=Injection&results_type=overview&form_type=Basic&search_type=all&startIndex=0', '/vuln/search/results?isCpeNameSearch=false&query=Injection&results_type=overview&form_type=Basic&search_type=all&startIndex=20', '/vuln/search/results?isCpeNameSearch=false&query=Injection&results_type=overview&form_type=Basic&search_type=all&startIndex=40', '/vuln/search/results?isCpeNameSearch=false&query=Injection&results_type=overview&form_type=Basic&search_type=all&startIndex=60', '/vuln/search/results?isCpeNameSearch=false&query=Injection&results_type=overview&form_type=Basic&search_type=all&startIndex=80', '/vuln/search/results?isCpeNameSearch=false&query=Injection&results_type=overview&form_type=Basic&search_type=all&startIndex=100', '/vuln/search/results?isCpeNameSearch=false&query=Injection&results_type=overview&form_type=Basic&search_type=all&startIndex=120', '/vuln/search/results?isCpeNameSearch=false&query=Injection&results_type=overview&form_type=Basic&search_type=all&startIndex=140', '/vuln/search/results?isCpeNameSearch=false&query=Injection&results_type=overview&form_type=Basic&search_type=all&startIndex=160', '/vuln/search/results?isCpeNameSearch=false&query=Injection&results_type=overview&form_type=Basic&search_type=all&startIndex=180', '/vuln/search/results?isCpeNameSearch=false&query=Injection&results_type=overview&form_type=Basic&search_type=all&startIndex=20', '/vuln/search/results?isCpeNameSearch=false&query=Injection&results_type=overview&form_type=Basic&search_type=all&startIndex=12640', '/vuln-metrics/cvss/v3-calculator?name=CVE-2021-36011&vector=AV:N/AC:H/PR:N/UI:R/S:C/C:H/I:H/A:H&version=3.1&source=Adobe%20Systems%20Incorporated', '/vuln/search/results?isCpeNameSearch=false&query=Injection&results_type=overview&form_type=Basic&search_type=all&startIndex=0', '/vuln/search/results?isCpeNameSearch=false&query=Injection&results_type=overview&form_type=Basic&search_type=all&startIndex=20', '/vuln/search/results?isCpeNameSearch=false&query=Injection&results_type=overview&form_type=Basic&search_type=all&startIndex=40', '/vuln/search/results?isCpeNameSearch=false&query=Injection&results_type=overview&form_type=Basic&search_type=all&startIndex=60', '/vuln/search/results?isCpeNameSearch=false&query=Injection&results_type=overview&form_type=Basic&search_type=all&startIndex=80', '/vuln/search/results?isCpeNameSearch=false&query=Injection&results_type=overview&form_type=Basic&search_type=all&startIndex=100', '/vuln/search/results?isCpeNameSearch=false&query=Injection&results_type=overview&form_type=Basic&search_type=all&startIndex=120', '/vuln/search/results?isCpeNameSearch=false&query=Injection&results_type=overview&form_type=Basic&search_type=all&startIndex=140', '/vuln/search/results?isCpeNameSearch=false&query=Injection&results_type=overview&form_type=Basic&search_type=all&startIndex=160', '/vuln/search/results?isCpeNameSearch=false&query=Injection&results_type=overview&form_type=Basic&search_type=all&startIndex=180', '/vuln/search/results?isCpeNameSearch=false&query=Injection&results_type=overview&form_type=Basic&search_type=all&startIndex=20', '/vuln/search/results?isCpeNameSearch=false&query=Injection&results_type=overview&form_type=Basic&search_type=all&startIndex=12640', '/vuln/search/results?isCpeNameSearch=false&query=Injection&results_type=overview&form_type=Basic&search_type=all&startIndex=0', '/vuln/search/results?isCpeNameSearch=false&query=Injection&results_type=overview&form_type=Basic&search_type=all&startIndex=20', '/vuln/search/results?isCpeNameSearch=false&query=Injection&results_type=overview&form_type=Basic&search_type=all&startIndex=40', '/vuln/search/results?isCpeNameSearch=false&query=Injection&results_type=overview&form_type=Basic&search_type=all&startIndex=60', '/vuln/search/results?isCpeNameSearch=false&query=Injection&results_type=overview&form_type=Basic&search_type=all&startIndex=80', '/vuln/search/results?isCpeNameSearch=false&query=Injection&results_type=overview&form_type=Basic&search_type=all&startIndex=100', '/vuln/search/results?isCpeNameSearch=false&query=Injection&results_type=overview&form_type=Basic&search_type=all&startIndex=120', '/vuln/search/results?isCpeNameSearch=false&query=Injection&results_type=overview&form_type=Basic&search_type=all&startIndex=140', '/vuln/search/results?isCpeNameSearch=false&query=Injection&results_type=overview&form_type=Basic&search_type=all&startIndex=160', '/vuln/search/results?isCpeNameSearch=false&query=Injection&results_type=overview&form_type=Basic&search_type=all&startIndex=180', '/vuln/search/results?isCpeNameSearch=false&query=Injection&results_type=overview&form_type=Basic&search_type=all&startIndex=20', '/vuln/search/results?isCpeNameSearch=false&query=Injection&results_type=overview&form_type=Basic&search_type=all&startIndex=12640', '/vuln-metrics/cvss/v3-calculator?name=CVE-2021-36011&vector=AV:N/AC:H/PR:N/UI:R/S:C/C:H/I:H/A:H&version=3.1&source=Adobe%20Systems%20Incorporated', '/vuln/search/results?isCpeNameSearch=false&query=Injection&results_type=overview&form_type=Basic&search_type=all&startIndex=0', '/vuln/search/results?isCpeNameSearch=false&query=Injection&results_type=overview&form_type=Basic&search_type=all&startIndex=20', '/vuln/search/results?isCpeNameSearch=false&query=Injection&results_type=overview&form_type=Basic&search_type=all&startIndex=40', '/vuln/search/results?isCpeNameSearch=false&query=Injection&results_type=overview&form_type=Basic&search_type=all&startIndex=60', '/vuln/search/results?isCpeNameSearch=false&query=Injection&results_type=overview&form_type=Basic&search_type=all&startIndex=80', '/vuln/search/results?isCpeNameSearch=false&query=Injection&results_type=overview&form_type=Basic&search_type=all&startIndex=100', '/vuln/search/results?isCpeNameSearch=false&query=Injection&results_type=overview&form_type=Basic&search_type=all&startIndex=120', '/vuln/search/results?isCpeNameSearch=false&query=Injection&results_type=overview&form_type=Basic&search_type=all&startIndex=140', '/vuln/search/results?isCpeNameSearch=false&query=Injection&results_type=overview&form_type=Basic&search_type=all&startIndex=160', '/vuln/search/results?isCpeNameSearch=false&query=Injection&results_type=overview&form_type=Basic&search_type=all&startIndex=180', '/vuln/search/results?isCpeNameSearch=false&query=Injection&results_type=overview&form_type=Basic&search_type=all&startIndex=20', '/vuln/search/results?isCpeNameSearch=false&query=Injection&results_type=overview&form_type=Basic&search_type=all&startIndex=12640', '/vuln/search/results?isCpeNameSearch=false&query=Injection&results_type=overview&form_type=Basic&search_type=all&startIndex=0', '/vuln/search/results?isCpeNameSearch=false&query=Injection&results_type=overview&form_type=Basic&search_type=all&startIndex=20', '/vuln/search/results?isCpeNameSearch=false&query=Injection&results_type=overview&form_type=Basic&search_type=all&startIndex=40', '/vuln/search/results?isCpeNameSearch=false&query=Injection&results_type=overview&form_type=Basic&search_type=all&startIndex=60', '/vuln/search/results?isCpeNameSearch=false&query=Injection&results_type=overview&form_type=Basic&search_type=all&startIndex=80', '/vuln/search/results?isCpeNameSearch=false&query=Injection&results_type=overview&form_type=Basic&search_type=all&startIndex=100', '/vuln/search/results?isCpeNameSearch=false&query=Injection&results_type=overview&form_type=Basic&search_type=all&startIndex=120', '/vuln/search/results?isCpeNameSearch=false&query=Injection&results_type=overview&form_type=Basic&search_type=all&startIndex=140', '/vuln/search/results?isCpeNameSearch=false&query=Injection&results_type=overview&form_type=Basic&search_type=all&startIndex=160', '/vuln/search/results?isCpeNameSearch=false&query=Injection&results_type=overview&form_type=Basic&search_type=all&startIndex=180', '/vuln/search/results?isCpeNameSearch=false&query=Injection&results_type=overview&form_type=Basic&search_type=all&startIndex=20', '/vuln/search/results?isCpeNameSearch=false&query=Injection&results_type=overview&form_type=Basic&search_type=all&startIndex=12640', '/vuln-metrics/cvss/v3-calculator?name=CVE-2021-36011&vector=AV:N/AC:H/PR:N/UI:R/S:C/C:H/I:H/A:H&version=3.1&source=Adobe%20Systems%20Incorporated', '/vuln/search/results?isCpeNameSearch=false&query=Injection&results_type=overview&form_type=Basic&search_type=all&startIndex=0', '/vuln/search/results?isCpeNameSearch=false&query=Injection&results_type=overview&form_type=Basic&search_type=all&startIndex=20', '/vuln/search/results?isCpeNameSearch=false&query=Injection&results_type=overview&form_type=Basic&search_type=all&startIndex=40', '/vuln/search/results?isCpeNameSearch=false&query=Injection&results_type=overview&form_type=Basic&search_type=all&startIndex=60', '/vuln/search/results?isCpeNameSearch=false&query=Injection&results_type=overview&form_type=Basic&search_type=all&startIndex=80', '/vuln/search/results?isCpeNameSearch=false&query=Injection&results_type=overview&form_type=Basic&search_type=all&startIndex=100', '/vuln/search/results?isCpeNameSearch=false&query=Injection&results_type=overview&form_type=Basic&search_type=all&startIndex=120', '/vuln/search/results?isCpeNameSearch=false&query=Injection&results_type=overview&form_type=Basic&search_type=all&startIndex=140', '/vuln/search/results?isCpeNameSearch=false&query=Injection&results_type=overview&form_type=Basic&search_type=all&startIndex=160', '/vuln/search/results?isCpeNameSearch=false&query=Injection&results_type=overview&form_type=Basic&search_type=all&startIndex=180', '/vuln/search/results?isCpeNameSearch=false&query=Injection&results_type=overview&form_type=Basic&search_type=all&startIndex=20', '/vuln/search/results?isCpeNameSearch=false&query=Injection&results_type=overview&form_type=Basic&search_type=all&startIndex=12640', '/vuln/search/results?isCpeNameSearch=false&query=Injection&results_type=overview&form_type=Basic&search_type=all&startIndex=0', '/vuln/search/results?isCpeNameSearch=false&query=Injection&results_type=overview&form_type=Basic&search_type=all&startIndex=20', '/vuln/search/results?isCpeNameSearch=false&query=Injection&results_type=overview&form_type=Basic&search_type=all&startIndex=40', '/vuln/search/results?isCpeNameSearch=false&query=Injection&results_type=overview&form_type=Basic&search_type=all&startIndex=60', '/vuln/search/results?isCpeNameSearch=false&query=Injection&results_type=overview&form_type=Basic&search_type=all&startIndex=80', '/vuln/search/results?isCpeNameSearch=false&query=Injection&results_type=overview&form_type=Basic&search_type=all&startIndex=100', '/vuln/search/results?isCpeNameSearch=false&query=Injection&results_type=overview&form_type=Basic&search_type=all&startIndex=120', '/vuln/search/results?isCpeNameSearch=false&query=Injection&results_type=overview&form_type=Basic&search_type=all&startIndex=140', '/vuln/search/results?isCpeNameSearch=false&query=Injection&results_type=overview&form_type=Basic&search_type=all&startIndex=160', '/vuln/search/results?isCpeNameSearch=false&query=Injection&results_type=overview&form_type=Basic&search_type=all&startIndex=180', '/vuln/search/results?isCpeNameSearch=false&query=Injection&results_type=overview&form_type=Basic&search_type=all&startIndex=20', '/vuln/search/results?isCpeNameSearch=false&query=Injection&results_type=overview&form_type=Basic&search_type=all&startIndex=12640', '/vuln-metrics/cvss/v3-calculator?name=CVE-2021-36011&vector=AV:N/AC:H/PR:N/UI:R/S:C/C:H/I:H/A:H&version=3.1&source=Adobe%20Systems%20Incorporated', '/vuln/search/results?isCpeNameSearch=false&query=Injection&results_type=overview&form_type=Basic&search_type=all&startIndex=0', '/vuln/search/results?isCpeNameSearch=false&query=Injection&results_type=overview&form_type=Basic&search_type=all&startIndex=20', '/vuln/search/results?isCpeNameSearch=false&query=Injection&results_type=overview&form_type=Basic&search_type=all&startIndex=40', '/vuln/search/results?isCpeNameSearch=false&query=Injection&results_type=overview&form_type=Basic&search_type=all&startIndex=60', '/vuln/search/results?isCpeNameSearch=false&query=Injection&results_type=overview&form_type=Basic&search_type=all&startIndex=80', '/vuln/search/results?isCpeNameSearch=false&query=Injection&results_type=overview&form_type=Basic&search_type=all&startIndex=100', '/vuln/search/results?isCpeNameSearch=false&query=Injection&results_type=overview&form_type=Basic&search_type=all&startIndex=120', '/vuln/search/results?isCpeNameSearch=false&query=Injection&results_type=overview&form_type=Basic&search_type=all&startIndex=140', '/vuln/search/results?isCpeNameSearch=false&query=Injection&results_type=overview&form_type=Basic&search_type=all&startIndex=160', '/vuln/search/results?isCpeNameSearch=false&query=Injection&results_type=overview&form_type=Basic&search_type=all&startIndex=180', '/vuln/search/results?isCpeNameSearch=false&query=Injection&results_type=overview&form_type=Basic&search_type=all&startIndex=20', '/vuln/search/results?isCpeNameSearch=false&query=Injection&results_type=overview&form_type=Basic&search_type=all&startIndex=12640', '/vuln/search/results?isCpeNameSearch=false&query=Injection&results_type=overview&form_type=Basic&search_type=all&startIndex=0', '/vuln/search/results?isCpeNameSearch=false&query=Injection&results_type=overview&form_type=Basic&search_type=all&startIndex=20', '/vuln/search/results?isCpeNameSearch=false&query=Injection&results_type=overview&form_type=Basic&search_type=all&startIndex=40', '/vuln/search/results?isCpeNameSearch=false&query=Injection&results_type=overview&form_type=Basic&search_type=all&startIndex=60', '/vuln/search/results?isCpeNameSearch=false&query=Injection&results_type=overview&form_type=Basic&search_type=all&startIndex=80', '/vuln/search/results?isCpeNameSearch=false&query=Injection&results_type=overview&form_type=Basic&search_type=all&startIndex=100', '/vuln/search/results?isCpeNameSearch=false&query=Injection&results_type=overview&form_type=Basic&search_type=all&startIndex=120', '/vuln/search/results?isCpeNameSearch=false&query=Injection&results_type=overview&form_type=Basic&search_type=all&startIndex=140', '/vuln/search/results?isCpeNameSearch=false&query=Injection&results_type=overview&form_type=Basic&search_type=all&startIndex=160', '/vuln/search/results?isCpeNameSearch=false&query=Injection&results_type=overview&form_type=Basic&search_type=all&startIndex=180', '/vuln/search/results?isCpeNameSearch=false&query=Injection&results_type=overview&form_type=Basic&search_type=all&startIndex=20', '/vuln/search/results?isCpeNameSearch=false&query=Injection&results_type=overview&form_type=Basic&search_type=all&startIndex=12640', '/vuln-metrics/cvss/v3-calculator?name=CVE-2021-36011&vector=AV:N/AC:H/PR:N/UI:R/S:C/C:H/I:H/A:H&version=3.1&source=Adobe%20Systems%20Incorporated', '/vuln/search/results?isCpeNameSearch=false&query=Injection&results_type=overview&form_type=Basic&search_type=all&startIndex=0', '/vuln/search/results?isCpeNameSearch=false&query=Injection&results_type=overview&form_type=Basic&search_type=all&startIndex=20', '/vuln/search/results?isCpeNameSearch=false&query=Injection&results_type=overview&form_type=Basic&search_type=all&startIndex=40', '/vuln/search/results?isCpeNameSearch=false&query=Injection&results_type=overview&form_type=Basic&search_type=all&startIndex=60', '/vuln/search/results?isCpeNameSearch=false&query=Injection&results_type=overview&form_type=Basic&search_type=all&startIndex=80', '/vuln/search/results?isCpeNameSearch=false&query=Injection&results_type=overview&form_type=Basic&search_type=all&startIndex=100', '/vuln/search/results?isCpeNameSearch=false&query=Injection&results_type=overview&form_type=Basic&search_type=all&startIndex=120', '/vuln/search/results?isCpeNameSearch=false&query=Injection&results_type=overview&form_type=Basic&search_type=all&startIndex=140', '/vuln/search/results?isCpeNameSearch=false&query=Injection&results_type=overview&form_type=Basic&search_type=all&startIndex=160', '/vuln/search/results?isCpeNameSearch=false&query=Injection&results_type=overview&form_type=Basic&search_type=all&startIndex=180', '/vuln/search/results?isCpeNameSearch=false&query=Injection&results_type=overview&form_type=Basic&search_type=all&startIndex=20', '/vuln/search/results?isCpeNameSearch=false&query=Injection&results_type=overview&form_type=Basic&search_type=all&startIndex=12640', '/vuln/search/results?isCpeNameSearch=false&query=Injection&results_type=overview&form_type=Basic&search_type=all&startIndex=0', '/vuln/search/results?isCpeNameSearch=false&query=Injection&results_type=overview&form_type=Basic&search_type=all&startIndex=20', '/vuln/search/results?isCpeNameSearch=false&query=Injection&results_type=overview&form_type=Basic&search_type=all&startIndex=40', '/vuln/search/results?isCpeNameSearch=false&query=Injection&results_type=overview&form_type=Basic&search_type=all&startIndex=60', '/vuln/search/results?isCpeNameSearch=false&query=Injection&results_type=overview&form_type=Basic&search_type=all&startIndex=80', '/vuln/search/results?isCpeNameSearch=false&query=Injection&results_type=overview&form_type=Basic&search_type=all&startIndex=100', '/vuln/search/results?isCpeNameSearch=false&query=Injection&results_type=overview&form_type=Basic&search_type=all&startIndex=120', '/vuln/search/results?isCpeNameSearch=false&query=Injection&results_type=overview&form_type=Basic&search_type=all&startIndex=140', '/vuln/search/results?isCpeNameSearch=false&query=Injection&results_type=overview&form_type=Basic&search_type=all&startIndex=160', '/vuln/search/results?isCpeNameSearch=false&query=Injection&results_type=overview&form_type=Basic&search_type=all&startIndex=180', '/vuln/search/results?isCpeNameSearch=false&query=Injection&results_type=overview&form_type=Basic&search_type=all&startIndex=20', '/vuln/search/results?isCpeNameSearch=false&query=Injection&results_type=overview&form_type=Basic&search_type=all&startIndex=12640', '/vuln-metrics/cvss/v3-calculator?name=CVE-2021-36011&vector=AV:N/AC:H/PR:N/UI:R/S:C/C:H/I:H/A:H&version=3.1&source=Adobe%20Systems%20Incorporated', '/vuln/search/results?isCpeNameSearch=false&query=Injection&results_type=overview&form_type=Basic&search_type=all&startIndex=0', '/vuln/search/results?isCpeNameSearch=false&query=Injection&results_type=overview&form_type=Basic&search_type=all&startIndex=20', '/vuln/search/results?isCpeNameSearch=false&query=Injection&results_type=overview&form_type=Basic&search_type=all&startIndex=40', '/vuln/search/results?isCpeNameSearch=false&query=Injection&results_type=overview&form_type=Basic&search_type=all&startIndex=60', '/vuln/search/results?isCpeNameSearch=false&query=Injection&results_type=overview&form_type=Basic&search_type=all&startIndex=80', '/vuln/search/results?isCpeNameSearch=false&query=Injection&results_type=overview&form_type=Basic&search_type=all&startIndex=100', '/vuln/search/results?isCpeNameSearch=false&query=Injection&results_type=overview&form_type=Basic&search_type=all&startIndex=120', '/vuln/search/results?isCpeNameSearch=false&query=Injection&results_type=overview&form_type=Basic&search_type=all&startIndex=140', '/vuln/search/results?isCpeNameSearch=false&query=Injection&results_type=overview&form_type=Basic&search_type=all&startIndex=160', '/vuln/search/results?isCpeNameSearch=false&query=Injection&results_type=overview&form_type=Basic&search_type=all&startIndex=180', '/vuln/search/results?isCpeNameSearch=false&query=Injection&results_type=overview&form_type=Basic&search_type=all&startIndex=20', '/vuln/search/results?isCpeNameSearch=false&query=Injection&results_type=overview&form_type=Basic&search_type=all&startIndex=12640', '/vuln/search/results?isCpeNameSearch=false&query=Injection&results_type=overview&form_type=Basic&search_type=all&startIndex=0', '/vuln/search/results?isCpeNameSearch=false&query=Injection&results_type=overview&form_type=Basic&search_type=all&startIndex=20', '/vuln/search/results?isCpeNameSearch=false&query=Injection&results_type=overview&form_type=Basic&search_type=all&startIndex=40', '/vuln/search/results?isCpeNameSearch=false&query=Injection&results_type=overview&form_type=Basic&search_type=all&startIndex=60', '/vuln/search/results?isCpeNameSearch=false&query=Injection&results_type=overview&form_type=Basic&search_type=all&startIndex=80', '/vuln/search/results?isCpeNameSearch=false&query=Injection&results_type=overview&form_type=Basic&search_type=all&startIndex=100', '/vuln/search/results?isCpeNameSearch=false&query=Injection&results_type=overview&form_type=Basic&search_type=all&startIndex=120', '/vuln/search/results?isCpeNameSearch=false&query=Injection&results_type=overview&form_type=Basic&search_type=all&startIndex=140', '/vuln/search/results?isCpeNameSearch=false&query=Injection&results_type=overview&form_type=Basic&search_type=all&startIndex=160', '/vuln/search/results?isCpeNameSearch=false&query=Injection&results_type=overview&form_type=Basic&search_type=all&startIndex=180', '/vuln/search/results?isCpeNameSearch=false&query=Injection&results_type=overview&form_type=Basic&search_type=all&startIndex=20', '/vuln/search/results?isCpeNameSearch=false&query=Injection&results_type=overview&form_type=Basic&search_type=all&startIndex=12640', '/vuln-metrics/cvss/v3-calculator?name=CVE-2021-36011&vector=AV:N/AC:H/PR:N/UI:R/S:C/C:H/I:H/A:H&version=3.1&source=Adobe%20Systems%20Incorporated', '/vuln/search/results?isCpeNameSearch=false&query=Injection&results_type=overview&form_type=Basic&search_type=all&startIndex=0', '/vuln/search/results?isCpeNameSearch=false&query=Injection&results_type=overview&form_type=Basic&search_type=all&startIndex=20', '/vuln/search/results?isCpeNameSearch=false&query=Injection&results_type=overview&form_type=Basic&search_type=all&startIndex=40', '/vuln/search/results?isCpeNameSearch=false&query=Injection&results_type=overview&form_type=Basic&search_type=all&startIndex=60', '/vuln/search/results?isCpeNameSearch=false&query=Injection&results_type=overview&form_type=Basic&search_type=all&startIndex=80', '/vuln/search/results?isCpeNameSearch=false&query=Injection&results_type=overview&form_type=Basic&search_type=all&startIndex=100', '/vuln/search/results?isCpeNameSearch=false&query=Injection&results_type=overview&form_type=Basic&search_type=all&startIndex=120', '/vuln/search/results?isCpeNameSearch=false&query=Injection&results_type=overview&form_type=Basic&search_type=all&startIndex=140', '/vuln/search/results?isCpeNameSearch=false&query=Injection&results_type=overview&form_type=Basic&search_type=all&startIndex=160', '/vuln/search/results?isCpeNameSearch=false&query=Injection&results_type=overview&form_type=Basic&search_type=all&startIndex=180', '/vuln/search/results?isCpeNameSearch=false&query=Injection&results_type=overview&form_type=Basic&search_type=all&startIndex=20', '/vuln/search/results?isCpeNameSearch=false&query=Injection&results_type=overview&form_type=Basic&search_type=all&startIndex=12640', '/vuln/search/results?isCpeNameSearch=false&query=Injection&results_type=overview&form_type=Basic&search_type=all&startIndex=0', '/vuln/search/results?isCpeNameSearch=false&query=Injection&results_type=overview&form_type=Basic&search_type=all&startIndex=20', '/vuln/search/results?isCpeNameSearch=false&query=Injection&results_type=overview&form_type=Basic&search_type=all&startIndex=40', '/vuln/search/results?isCpeNameSearch=false&query=Injection&results_type=overview&form_type=Basic&search_type=all&startIndex=60', '/vuln/search/results?isCpeNameSearch=false&query=Injection&results_type=overview&form_type=Basic&search_type=all&startIndex=80', '/vuln/search/results?isCpeNameSearch=false&query=Injection&results_type=overview&form_type=Basic&search_type=all&startIndex=100', '/vuln/search/results?isCpeNameSearch=false&query=Injection&results_type=overview&form_type=Basic&search_type=all&startIndex=120', '/vuln/search/results?isCpeNameSearch=false&query=Injection&results_type=overview&form_type=Basic&search_type=all&startIndex=140', '/vuln/search/results?isCpeNameSearch=false&query=Injection&results_type=overview&form_type=Basic&search_type=all&startIndex=160', '/vuln/search/results?isCpeNameSearch=false&query=Injection&results_type=overview&form_type=Basic&search_type=all&startIndex=180', '/vuln/search/results?isCpeNameSearch=false&query=Injection&results_type=overview&form_type=Basic&search_type=all&startIndex=20', '/vuln/search/results?isCpeNameSearch=false&query=Injection&results_type=overview&form_type=Basic&search_type=all&startIndex=12640', '/vuln-metrics/cvss/v3-calculator?name=CVE-2021-36011&vector=AV:N/AC:H/PR:N/UI:R/S:C/C:H/I:H/A:H&version=3.1&source=Adobe%20Systems%20Incorporated', '/vuln/search/results?isCpeNameSearch=false&query=Injection&results_type=overview&form_type=Basic&search_type=all&startIndex=0', '/vuln/search/results?isCpeNameSearch=false&query=Injection&results_type=overview&form_type=Basic&search_type=all&startIndex=20', '/vuln/search/results?isCpeNameSearch=false&query=Injection&results_type=overview&form_type=Basic&search_type=all&startIndex=40', '/vuln/search/results?isCpeNameSearch=false&query=Injection&results_type=overview&form_type=Basic&search_type=all&startIndex=60', '/vuln/search/results?isCpeNameSearch=false&query=Injection&results_type=overview&form_type=Basic&search_type=all&startIndex=80', '/vuln/search/results?isCpeNameSearch=false&query=Injection&results_type=overview&form_type=Basic&search_type=all&startIndex=100', '/vuln/search/results?isCpeNameSearch=false&query=Injection&results_type=overview&form_type=Basic&search_type=all&startIndex=120', '/vuln/search/results?isCpeNameSearch=false&query=Injection&results_type=overview&form_type=Basic&search_type=all&startIndex=140', '/vuln/search/results?isCpeNameSearch=false&query=Injection&results_type=overview&form_type=Basic&search_type=all&startIndex=160', '/vuln/search/results?isCpeNameSearch=false&query=Injection&results_type=overview&form_type=Basic&search_type=all&startIndex=180', '/vuln/search/results?isCpeNameSearch=false&query=Injection&results_type=overview&form_type=Basic&search_type=all&startIndex=20', '/vuln/search/results?isCpeNameSearch=false&query=Injection&results_type=overview&form_type=Basic&search_type=all&startIndex=12640', '/vuln/search/results?isCpeNameSearch=false&query=Injection&results_type=overview&form_type=Basic&search_type=all&startIndex=0', '/vuln/search/results?isCpeNameSearch=false&query=Injection&results_type=overview&form_type=Basic&search_type=all&startIndex=20', '/vuln/search/results?isCpeNameSearch=false&query=Injection&results_type=overview&form_type=Basic&search_type=all&startIndex=40', '/vuln/search/results?isCpeNameSearch=false&query=Injection&results_type=overview&form_type=Basic&search_type=all&startIndex=60', '/vuln/search/results?isCpeNameSearch=false&query=Injection&results_type=overview&form_type=Basic&search_type=all&startIndex=80', '/vuln/search/results?isCpeNameSearch=false&query=Injection&results_type=overview&form_type=Basic&search_type=all&startIndex=100', '/vuln/search/results?isCpeNameSearch=false&query=Injection&results_type=overview&form_type=Basic&search_type=all&startIndex=120', '/vuln/search/results?isCpeNameSearch=false&query=Injection&results_type=overview&form_type=Basic&search_type=all&startIndex=140', '/vuln/search/results?isCpeNameSearch=false&query=Injection&results_type=overview&form_type=Basic&search_type=all&startIndex=160', '/vuln/search/results?isCpeNameSearch=false&query=Injection&results_type=overview&form_type=Basic&search_type=all&startIndex=180', '/vuln/search/results?isCpeNameSearch=false&query=Injection&results_type=overview&form_type=Basic&search_type=all&startIndex=20', '/vuln/search/results?isCpeNameSearch=false&query=Injection&results_type=overview&form_type=Basic&search_type=all&startIndex=12640', '/vuln-metrics/cvss/v3-calculator?name=CVE-2021-36011&vector=AV:N/AC:H/PR:N/UI:R/S:C/C:H/I:H/A:H&version=3.1&source=Adobe%20Systems%20Incorporated', '/vuln/search/results?isCpeNameSearch=false&query=Injection&results_type=overview&form_type=Basic&search_type=all&startIndex=0', '/vuln/search/results?isCpeNameSearch=false&query=Injection&results_type=overview&form_type=Basic&search_type=all&startIndex=20', '/vuln/search/results?isCpeNameSearch=false&query=Injection&results_type=overview&form_type=Basic&search_type=all&startIndex=40', '/vuln/search/results?isCpeNameSearch=false&query=Injection&results_type=overview&form_type=Basic&search_type=all&startIndex=60', '/vuln/search/results?isCpeNameSearch=false&query=Injection&results_type=overview&form_type=Basic&search_type=all&startIndex=80', '/vuln/search/results?isCpeNameSearch=false&query=Injection&results_type=overview&form_type=Basic&search_type=all&startIndex=100', '/vuln/search/results?isCpeNameSearch=false&query=Injection&results_type=overview&form_type=Basic&search_type=all&startIndex=120', '/vuln/search/results?isCpeNameSearch=false&query=Injection&results_type=overview&form_type=Basic&search_type=all&startIndex=140', '/vuln/search/results?isCpeNameSearch=false&query=Injection&results_type=overview&form_type=Basic&search_type=all&startIndex=160', '/vuln/search/results?isCpeNameSearch=false&query=Injection&results_type=overview&form_type=Basic&search_type=all&startIndex=180', '/vuln/search/results?isCpeNameSearch=false&query=Injection&results_type=overview&form_type=Basic&search_type=all&startIndex=20', '/vuln/search/results?isCpeNameSearch=false&query=Injection&results_type=overview&form_type=Basic&search_type=all&startIndex=12640', '/vuln/search/results?isCpeNameSearch=false&query=Injection&results_type=overview&form_type=Basic&search_type=all&startIndex=0', '/vuln/search/results?isCpeNameSearch=false&query=Injection&results_type=overview&form_type=Basic&search_type=all&startIndex=20', '/vuln/search/results?isCpeNameSearch=false&query=Injection&results_type=overview&form_type=Basic&search_type=all&startIndex=40', '/vuln/search/results?isCpeNameSearch=false&query=Injection&results_type=overview&form_type=Basic&search_type=all&startIndex=60', '/vuln/search/results?isCpeNameSearch=false&query=Injection&results_type=overview&form_type=Basic&search_type=all&startIndex=80', '/vuln/search/results?isCpeNameSearch=false&query=Injection&results_type=overview&form_type=Basic&search_type=all&startIndex=100', '/vuln/search/results?isCpeNameSearch=false&query=Injection&results_type=overview&form_type=Basic&search_type=all&startIndex=120', '/vuln/search/results?isCpeNameSearch=false&query=Injection&results_type=overview&form_type=Basic&search_type=all&startIndex=140', '/vuln/search/results?isCpeNameSearch=false&query=Injection&results_type=overview&form_type=Basic&search_type=all&startIndex=160', '/vuln/search/results?isCpeNameSearch=false&query=Injection&results_type=overview&form_type=Basic&search_type=all&startIndex=180', '/vuln/search/results?isCpeNameSearch=false&query=Injection&results_type=overview&form_type=Basic&search_type=all&startIndex=20', '/vuln/search/results?isCpeNameSearch=false&query=Injection&results_type=overview&form_type=Basic&search_type=all&startIndex=12640', '/vuln-metrics/cvss/v3-calculator?name=CVE-2021-36011&vector=AV:N/AC:H/PR:N/UI:R/S:C/C:H/I:H/A:H&version=3.1&source=Adobe%20Systems%20Incorporated', '/vuln/search/results?isCpeNameSearch=false&query=Injection&results_type=overview&form_type=Basic&search_type=all&startIndex=0', '/vuln/search/results?isCpeNameSearch=false&query=Injection&results_type=overview&form_type=Basic&search_type=all&startIndex=20', '/vuln/search/results?isCpeNameSearch=false&query=Injection&results_type=overview&form_type=Basic&search_type=all&startIndex=40', '/vuln/search/results?isCpeNameSearch=false&query=Injection&results_type=overview&form_type=Basic&search_type=all&startIndex=60', '/vuln/search/results?isCpeNameSearch=false&query=Injection&results_type=overview&form_type=Basic&search_type=all&startIndex=80', '/vuln/search/results?isCpeNameSearch=false&query=Injection&results_type=overview&form_type=Basic&search_type=all&startIndex=100', '/vuln/search/results?isCpeNameSearch=false&query=Injection&results_type=overview&form_type=Basic&search_type=all&startIndex=120', '/vuln/search/results?isCpeNameSearch=false&query=Injection&results_type=overview&form_type=Basic&search_type=all&startIndex=140', '/vuln/search/results?isCpeNameSearch=false&query=Injection&results_type=overview&form_type=Basic&search_type=all&startIndex=160', '/vuln/search/results?isCpeNameSearch=false&query=Injection&results_type=overview&form_type=Basic&search_type=all&startIndex=180', '/vuln/search/results?isCpeNameSearch=false&query=Injection&results_type=overview&form_type=Basic&search_type=all&startIndex=20', '/vuln/search/results?isCpeNameSearch=false&query=Injection&results_type=overview&form_type=Basic&search_type=all&startIndex=12640', '/vuln/search/results?isCpeNameSearch=false&query=Injection&results_type=overview&form_type=Basic&search_type=all&startIndex=0', '/vuln/search/results?isCpeNameSearch=false&query=Injection&results_type=overview&form_type=Basic&search_type=all&startIndex=20', '/vuln/search/results?isCpeNameSearch=false&query=Injection&results_type=overview&form_type=Basic&search_type=all&startIndex=40', '/vuln/search/results?isCpeNameSearch=false&query=Injection&results_type=overview&form_type=Basic&search_type=all&startIndex=60', '/vuln/search/results?isCpeNameSearch=false&query=Injection&results_type=overview&form_type=Basic&search_type=all&startIndex=80', '/vuln/search/results?isCpeNameSearch=false&query=Injection&results_type=overview&form_type=Basic&search_type=all&startIndex=100', '/vuln/search/results?isCpeNameSearch=false&query=Injection&results_type=overview&form_type=Basic&search_type=all&startIndex=120', '/vuln/search/results?isCpeNameSearch=false&query=Injection&results_type=overview&form_type=Basic&search_type=all&startIndex=140', '/vuln/search/results?isCpeNameSearch=false&query=Injection&results_type=overview&form_type=Basic&search_type=all&startIndex=160', '/vuln/search/results?isCpeNameSearch=false&query=Injection&results_type=overview&form_type=Basic&search_type=all&startIndex=180', '/vuln/search/results?isCpeNameSearch=false&query=Injection&results_type=overview&form_type=Basic&search_type=all&startIndex=20', '/vuln/search/results?isCpeNameSearch=false&query=Injection&results_type=overview&form_type=Basic&search_type=all&startIndex=12640', '/vuln-metrics/cvss/v3-calculator?name=CVE-2021-36011&vector=AV:N/AC:H/PR:N/UI:R/S:C/C:H/I:H/A:H&version=3.1&source=Adobe%20Systems%20Incorporated', '/vuln/search/results?isCpeNameSearch=false&query=Injection&results_type=overview&form_type=Basic&search_type=all&startIndex=0', '/vuln/search/results?isCpeNameSearch=false&query=Injection&results_type=overview&form_type=Basic&search_type=all&startIndex=20', '/vuln/search/results?isCpeNameSearch=false&query=Injection&results_type=overview&form_type=Basic&search_type=all&startIndex=40', '/vuln/search/results?isCpeNameSearch=false&query=Injection&results_type=overview&form_type=Basic&search_type=all&startIndex=60', '/vuln/search/results?isCpeNameSearch=false&query=Injection&results_type=overview&form_type=Basic&search_type=all&startIndex=80', '/vuln/search/results?isCpeNameSearch=false&query=Injection&results_type=overview&form_type=Basic&search_type=all&startIndex=100', '/vuln/search/results?isCpeNameSearch=false&query=Injection&results_type=overview&form_type=Basic&search_type=all&startIndex=120', '/vuln/search/results?isCpeNameSearch=false&query=Injection&results_type=overview&form_type=Basic&search_type=all&startIndex=140', '/vuln/search/results?isCpeNameSearch=false&query=Injection&results_type=overview&form_type=Basic&search_type=all&startIndex=160', '/vuln/search/results?isCpeNameSearch=false&query=Injection&results_type=overview&form_type=Basic&search_type=all&startIndex=180', '/vuln/search/results?isCpeNameSearch=false&query=Injection&results_type=overview&form_type=Basic&search_type=all&startIndex=20', '/vuln/search/results?isCpeNameSearch=false&query=Injection&results_type=overview&form_type=Basic&search_type=all&startIndex=12640', '/vuln/search/results?isCpeNameSearch=false&query=Injection&results_type=overview&form_type=Basic&search_type=all&startIndex=0', '/vuln/search/results?isCpeNameSearch=false&query=Injection&results_type=overview&form_type=Basic&search_type=all&startIndex=20', '/vuln/search/results?isCpeNameSearch=false&query=Injection&results_type=overview&form_type=Basic&search_type=all&startIndex=40', '/vuln/search/results?isCpeNameSearch=false&query=Injection&results_type=overview&form_type=Basic&search_type=all&startIndex=60', '/vuln/search/results?isCpeNameSearch=false&query=Injection&results_type=overview&form_type=Basic&search_type=all&startIndex=80', '/vuln/search/results?isCpeNameSearch=false&query=Injection&results_type=overview&form_type=Basic&search_type=all&startIndex=100', '/vuln/search/results?isCpeNameSearch=false&query=Injection&results_type=overview&form_type=Basic&search_type=all&startIndex=120', '/vuln/search/results?isCpeNameSearch=false&query=Injection&results_type=overview&form_type=Basic&search_type=all&startIndex=140', '/vuln/search/results?isCpeNameSearch=false&query=Injection&results_type=overview&form_type=Basic&search_type=all&startIndex=160', '/vuln/search/results?isCpeNameSearch=false&query=Injection&results_type=overview&form_type=Basic&search_type=all&startIndex=180', '/vuln/search/results?isCpeNameSearch=false&query=Injection&results_type=overview&form_type=Basic&search_type=all&startIndex=20', '/vuln/search/results?isCpeNameSearch=false&query=Injection&results_type=overview&form_type=Basic&search_type=all&startIndex=12640', '/vuln-metrics/cvss/v3-calculator?name=CVE-2021-36011&vector=AV:N/AC:H/PR:N/UI:R/S:C/C:H/I:H/A:H&version=3.1&source=Adobe%20Systems%20Incorporated', '/vuln/search/results?isCpeNameSearch=false&query=Injection&results_type=overview&form_type=Basic&search_type=all&startIndex=0', '/vuln/search/results?isCpeNameSearch=false&query=Injection&results_type=overview&form_type=Basic&search_type=all&startIndex=20', '/vuln/search/results?isCpeNameSearch=false&query=Injection&results_type=overview&form_type=Basic&search_type=all&startIndex=40', '/vuln/search/results?isCpeNameSearch=false&query=Injection&results_type=overview&form_type=Basic&search_type=all&startIndex=60', '/vuln/search/results?isCpeNameSearch=false&query=Injection&results_type=overview&form_type=Basic&search_type=all&startIndex=80', '/vuln/search/results?isCpeNameSearch=false&query=Injection&results_type=overview&form_type=Basic&search_type=all&startIndex=100', '/vuln/search/results?isCpeNameSearch=false&query=Injection&results_type=overview&form_type=Basic&search_type=all&startIndex=120', '/vuln/search/results?isCpeNameSearch=false&query=Injection&results_type=overview&form_type=Basic&search_type=all&startIndex=140', '/vuln/search/results?isCpeNameSearch=false&query=Injection&results_type=overview&form_type=Basic&search_type=all&startIndex=160', '/vuln/search/results?isCpeNameSearch=false&query=Injection&results_type=overview&form_type=Basic&search_type=all&startIndex=180', '/vuln/search/results?isCpeNameSearch=false&query=Injection&results_type=overview&form_type=Basic&search_type=all&startIndex=20', '/vuln/search/results?isCpeNameSearch=false&query=Injection&results_type=overview&form_type=Basic&search_type=all&startIndex=12640', '/vuln/search/results?isCpeNameSearch=false&query=Injection&results_type=overview&form_type=Basic&search_type=all&startIndex=0', '/vuln/search/results?isCpeNameSearch=false&query=Injection&results_type=overview&form_type=Basic&search_type=all&startIndex=20', '/vuln/search/results?isCpeNameSearch=false&query=Injection&results_type=overview&form_type=Basic&search_type=all&startIndex=40', '/vuln/search/results?isCpeNameSearch=false&query=Injection&results_type=overview&form_type=Basic&search_type=all&startIndex=60', '/vuln/search/results?isCpeNameSearch=false&query=Injection&results_type=overview&form_type=Basic&search_type=all&startIndex=80', '/vuln/search/results?isCpeNameSearch=false&query=Injection&results_type=overview&form_type=Basic&search_type=all&startIndex=100', '/vuln/search/results?isCpeNameSearch=false&query=Injection&results_type=overview&form_type=Basic&search_type=all&startIndex=120', '/vuln/search/results?isCpeNameSearch=false&query=Injection&results_type=overview&form_type=Basic&search_type=all&startIndex=140', '/vuln/search/results?isCpeNameSearch=false&query=Injection&results_type=overview&form_type=Basic&search_type=all&startIndex=160', '/vuln/search/results?isCpeNameSearch=false&query=Injection&results_type=overview&form_type=Basic&search_type=all&startIndex=180', '/vuln/search/results?isCpeNameSearch=false&query=Injection&results_type=overview&form_type=Basic&search_type=all&startIndex=20', '/vuln/search/results?isCpeNameSearch=false&query=Injection&results_type=overview&form_type=Basic&search_type=all&startIndex=12640', '/vuln-metrics/cvss/v3-calculator?name=CVE-2021-36011&vector=AV:N/AC:H/PR:N/UI:R/S:C/C:H/I:H/A:H&version=3.1&source=Adobe%20Systems%20Incorporated', '/vuln/search/results?isCpeNameSearch=false&query=Injection&results_type=overview&form_type=Basic&search_type=all&startIndex=0', '/vuln/search/results?isCpeNameSearch=false&query=Injection&results_type=overview&form_type=Basic&search_type=all&startIndex=20', '/vuln/search/results?isCpeNameSearch=false&query=Injection&results_type=overview&form_type=Basic&search_type=all&startIndex=40', '/vuln/search/results?isCpeNameSearch=false&query=Injection&results_type=overview&form_type=Basic&search_type=all&startIndex=60', '/vuln/search/results?isCpeNameSearch=false&query=Injection&results_type=overview&form_type=Basic&search_type=all&startIndex=80', '/vuln/search/results?isCpeNameSearch=false&query=Injection&results_type=overview&form_type=Basic&search_type=all&startIndex=100', '/vuln/search/results?isCpeNameSearch=false&query=Injection&results_type=overview&form_type=Basic&search_type=all&startIndex=120', '/vuln/search/results?isCpeNameSearch=false&query=Injection&results_type=overview&form_type=Basic&search_type=all&startIndex=140', '/vuln/search/results?isCpeNameSearch=false&query=Injection&results_type=overview&form_type=Basic&search_type=all&startIndex=160', '/vuln/search/results?isCpeNameSearch=false&query=Injection&results_type=overview&form_type=Basic&search_type=all&startIndex=180', '/vuln/search/results?isCpeNameSearch=false&query=Injection&results_type=overview&form_type=Basic&search_type=all&startIndex=20', '/vuln/search/results?isCpeNameSearch=false&query=Injection&results_type=overview&form_type=Basic&search_type=all&startIndex=12640', '/vuln/search/results?isCpeNameSearch=false&query=Injection&results_type=overview&form_type=Basic&search_type=all&startIndex=0', '/vuln/search/results?isCpeNameSearch=false&query=Injection&results_type=overview&form_type=Basic&search_type=all&startIndex=20', '/vuln/search/results?isCpeNameSearch=false&query=Injection&results_type=overview&form_type=Basic&search_type=all&startIndex=40', '/vuln/search/results?isCpeNameSearch=false&query=Injection&results_type=overview&form_type=Basic&search_type=all&startIndex=60', '/vuln/search/results?isCpeNameSearch=false&query=Injection&results_type=overview&form_type=Basic&search_type=all&startIndex=80', '/vuln/search/results?isCpeNameSearch=false&query=Injection&results_type=overview&form_type=Basic&search_type=all&startIndex=100', '/vuln/search/results?isCpeNameSearch=false&query=Injection&results_type=overview&form_type=Basic&search_type=all&startIndex=120', '/vuln/search/results?isCpeNameSearch=false&query=Injection&results_type=overview&form_type=Basic&search_type=all&startIndex=140', '/vuln/search/results?isCpeNameSearch=false&query=Injection&results_type=overview&form_type=Basic&search_type=all&startIndex=160', '/vuln/search/results?isCpeNameSearch=false&query=Injection&results_type=overview&form_type=Basic&search_type=all&startIndex=180', '/vuln/search/results?isCpeNameSearch=false&query=Injection&results_type=overview&form_type=Basic&search_type=all&startIndex=20', '/vuln/search/results?isCpeNameSearch=false&query=Injection&results_type=overview&form_type=Basic&search_type=all&startIndex=12640', '/vuln-metrics/cvss/v3-calculator?name=CVE-2021-36011&vector=AV:N/AC:H/PR:N/UI:R/S:C/C:H/I:H/A:H&version=3.1&source=Adobe%20Systems%20Incorporated', '/vuln/search/results?isCpeNameSearch=false&query=Injection&results_type=overview&form_type=Basic&search_type=all&startIndex=0', '/vuln/search/results?isCpeNameSearch=false&query=Injection&results_type=overview&form_type=Basic&search_type=all&startIndex=20', '/vuln/search/results?isCpeNameSearch=false&query=Injection&results_type=overview&form_type=Basic&search_type=all&startIndex=40', '/vuln/search/results?isCpeNameSearch=false&query=Injection&results_type=overview&form_type=Basic&search_type=all&startIndex=60', '/vuln/search/results?isCpeNameSearch=false&query=Injection&results_type=overview&form_type=Basic&search_type=all&startIndex=80', '/vuln/search/results?isCpeNameSearch=false&query=Injection&results_type=overview&form_type=Basic&search_type=all&startIndex=100', '/vuln/search/results?isCpeNameSearch=false&query=Injection&results_type=overview&form_type=Basic&search_type=all&startIndex=120', '/vuln/search/results?isCpeNameSearch=false&query=Injection&results_type=overview&form_type=Basic&search_type=all&startIndex=140', '/vuln/search/results?isCpeNameSearch=false&query=Injection&results_type=overview&form_type=Basic&search_type=all&startIndex=160', '/vuln/search/results?isCpeNameSearch=false&query=Injection&results_type=overview&form_type=Basic&search_type=all&startIndex=180', '/vuln/search/results?isCpeNameSearch=false&query=Injection&results_type=overview&form_type=Basic&search_type=all&startIndex=20', '/vuln/search/results?isCpeNameSearch=false&query=Injection&results_type=overview&form_type=Basic&search_type=all&startIndex=12640', '/vuln/search/results?isCpeNameSearch=false&query=Injection&results_type=overview&form_type=Basic&search_type=all&startIndex=0', '/vuln/search/results?isCpeNameSearch=false&query=Injection&results_type=overview&form_type=Basic&search_type=all&startIndex=20', '/vuln/search/results?isCpeNameSearch=false&query=Injection&results_type=overview&form_type=Basic&search_type=all&startIndex=40', '/vuln/search/results?isCpeNameSearch=false&query=Injection&results_type=overview&form_type=Basic&search_type=all&startIndex=60', '/vuln/search/results?isCpeNameSearch=false&query=Injection&results_type=overview&form_type=Basic&search_type=all&startIndex=80', '/vuln/search/results?isCpeNameSearch=false&query=Injection&results_type=overview&form_type=Basic&search_type=all&startIndex=100', '/vuln/search/results?isCpeNameSearch=false&query=Injection&results_type=overview&form_type=Basic&search_type=all&startIndex=120', '/vuln/search/results?isCpeNameSearch=false&query=Injection&results_type=overview&form_type=Basic&search_type=all&startIndex=140', '/vuln/search/results?isCpeNameSearch=false&query=Injection&results_type=overview&form_type=Basic&search_type=all&startIndex=160', '/vuln/search/results?isCpeNameSearch=false&query=Injection&results_type=overview&form_type=Basic&search_type=all&startIndex=180', '/vuln/search/results?isCpeNameSearch=false&query=Injection&results_type=overview&form_type=Basic&search_type=all&startIndex=20', '/vuln/search/results?isCpeNameSearch=false&query=Injection&results_type=overview&form_type=Basic&search_type=all&startIndex=12640', '/vuln-metrics/cvss/v3-calculator?name=CVE-2021-36011&vector=AV:N/AC:H/PR:N/UI:R/S:C/C:H/I:H/A:H&version=3.1&source=Adobe%20Systems%20Incorporated', '/vuln/search/results?isCpeNameSearch=false&query=Injection&results_type=overview&form_type=Basic&search_type=all&startIndex=0', '/vuln/search/results?isCpeNameSearch=false&query=Injection&results_type=overview&form_type=Basic&search_type=all&startIndex=20', '/vuln/search/results?isCpeNameSearch=false&query=Injection&results_type=overview&form_type=Basic&search_type=all&startIndex=40', '/vuln/search/results?isCpeNameSearch=false&query=Injection&results_type=overview&form_type=Basic&search_type=all&startIndex=60', '/vuln/search/results?isCpeNameSearch=false&query=Injection&results_type=overview&form_type=Basic&search_type=all&startIndex=80', '/vuln/search/results?isCpeNameSearch=false&query=Injection&results_type=overview&form_type=Basic&search_type=all&startIndex=100', '/vuln/search/results?isCpeNameSearch=false&query=Injection&results_type=overview&form_type=Basic&search_type=all&startIndex=120', '/vuln/search/results?isCpeNameSearch=false&query=Injection&results_type=overview&form_type=Basic&search_type=all&startIndex=140', '/vuln/search/results?isCpeNameSearch=false&query=Injection&results_type=overview&form_type=Basic&search_type=all&startIndex=160', '/vuln/search/results?isCpeNameSearch=false&query=Injection&results_type=overview&form_type=Basic&search_type=all&startIndex=180', '/vuln/search/results?isCpeNameSearch=false&query=Injection&results_type=overview&form_type=Basic&search_type=all&startIndex=20', '/vuln/search/results?isCpeNameSearch=false&query=Injection&results_type=overview&form_type=Basic&search_type=all&startIndex=12640', '/vuln/search/results?isCpeNameSearch=false&query=Injection&results_type=overview&form_type=Basic&search_type=all&startIndex=0', '/vuln/search/results?isCpeNameSearch=false&query=Injection&results_type=overview&form_type=Basic&search_type=all&startIndex=20', '/vuln/search/results?isCpeNameSearch=false&query=Injection&results_type=overview&form_type=Basic&search_type=all&startIndex=40', '/vuln/search/results?isCpeNameSearch=false&query=Injection&results_type=overview&form_type=Basic&search_type=all&startIndex=60', '/vuln/search/results?isCpeNameSearch=false&query=Injection&results_type=overview&form_type=Basic&search_type=all&startIndex=80', '/vuln/search/results?isCpeNameSearch=false&query=Injection&results_type=overview&form_type=Basic&search_type=all&startIndex=100', '/vuln/search/results?isCpeNameSearch=false&query=Injection&results_type=overview&form_type=Basic&search_type=all&startIndex=120', '/vuln/search/results?isCpeNameSearch=false&query=Injection&results_type=overview&form_type=Basic&search_type=all&startIndex=140', '/vuln/search/results?isCpeNameSearch=false&query=Injection&results_type=overview&form_type=Basic&search_type=all&startIndex=160', '/vuln/search/results?isCpeNameSearch=false&query=Injection&results_type=overview&form_type=Basic&search_type=all&startIndex=180', '/vuln/search/results?isCpeNameSearch=false&query=Injection&results_type=overview&form_type=Basic&search_type=all&startIndex=20', '/vuln/search/results?isCpeNameSearch=false&query=Injection&results_type=overview&form_type=Basic&search_type=all&startIndex=12640', '/vuln-metrics/cvss/v3-calculator?name=CVE-2021-36011&vector=AV:N/AC:H/PR:N/UI:R/S:C/C:H/I:H/A:H&version=3.1&source=Adobe%20Systems%20Incorporated', '/vuln/search/results?isCpeNameSearch=false&query=Injection&results_type=overview&form_type=Basic&search_type=all&startIndex=0', '/vuln/search/results?isCpeNameSearch=false&query=Injection&results_type=overview&form_type=Basic&search_type=all&startIndex=20', '/vuln/search/results?isCpeNameSearch=false&query=Injection&results_type=overview&form_type=Basic&search_type=all&startIndex=40', '/vuln/search/results?isCpeNameSearch=false&query=Injection&results_type=overview&form_type=Basic&search_type=all&startIndex=60', '/vuln/search/results?isCpeNameSearch=false&query=Injection&results_type=overview&form_type=Basic&search_type=all&startIndex=80', '/vuln/search/results?isCpeNameSearch=false&query=Injection&results_type=overview&form_type=Basic&search_type=all&startIndex=100', '/vuln/search/results?isCpeNameSearch=false&query=Injection&results_type=overview&form_type=Basic&search_type=all&startIndex=120', '/vuln/search/results?isCpeNameSearch=false&query=Injection&results_type=overview&form_type=Basic&search_type=all&startIndex=140', '/vuln/search/results?isCpeNameSearch=false&query=Injection&results_type=overview&form_type=Basic&search_type=all&startIndex=160', '/vuln/search/results?isCpeNameSearch=false&query=Injection&results_type=overview&form_type=Basic&search_type=all&startIndex=180', '/vuln/search/results?isCpeNameSearch=false&query=Injection&results_type=overview&form_type=Basic&search_type=all&startIndex=20', '/vuln/search/results?isCpeNameSearch=false&query=Injection&results_type=overview&form_type=Basic&search_type=all&startIndex=12640', '/vuln/search/results?isCpeNameSearch=false&query=Injection&results_type=overview&form_type=Basic&search_type=all&startIndex=0', '/vuln/search/results?isCpeNameSearch=false&query=Injection&results_type=overview&form_type=Basic&search_type=all&startIndex=20', '/vuln/search/results?isCpeNameSearch=false&query=Injection&results_type=overview&form_type=Basic&search_type=all&startIndex=40', '/vuln/search/results?isCpeNameSearch=false&query=Injection&results_type=overview&form_type=Basic&search_type=all&startIndex=60', '/vuln/search/results?isCpeNameSearch=false&query=Injection&results_type=overview&form_type=Basic&search_type=all&startIndex=80', '/vuln/search/results?isCpeNameSearch=false&query=Injection&results_type=overview&form_type=Basic&search_type=all&startIndex=100', '/vuln/search/results?isCpeNameSearch=false&query=Injection&results_type=overview&form_type=Basic&search_type=all&startIndex=120', '/vuln/search/results?isCpeNameSearch=false&query=Injection&results_type=overview&form_type=Basic&search_type=all&startIndex=140', '/vuln/search/results?isCpeNameSearch=false&query=Injection&results_type=overview&form_type=Basic&search_type=all&startIndex=160', '/vuln/search/results?isCpeNameSearch=false&query=Injection&results_type=overview&form_type=Basic&search_type=all&startIndex=180', '/vuln/search/results?isCpeNameSearch=false&query=Injection&results_type=overview&form_type=Basic&search_type=all&startIndex=20', '/vuln/search/results?isCpeNameSearch=false&query=Injection&results_type=overview&form_type=Basic&search_type=all&startIndex=12640', '/vuln-metrics/cvss/v3-calculator?name=CVE-2021-36011&vector=AV:N/AC:H/PR:N/UI:R/S:C/C:H/I:H/A:H&version=3.1&source=Adobe%20Systems%20Incorporated', '/vuln/search/results?isCpeNameSearch=false&query=Injection&results_type=overview&form_type=Basic&search_type=all&startIndex=0', '/vuln/search/results?isCpeNameSearch=false&query=Injection&results_type=overview&form_type=Basic&search_type=all&startIndex=20', '/vuln/search/results?isCpeNameSearch=false&query=Injection&results_type=overview&form_type=Basic&search_type=all&startIndex=40', '/vuln/search/results?isCpeNameSearch=false&query=Injection&results_type=overview&form_type=Basic&search_type=all&startIndex=60', '/vuln/search/results?isCpeNameSearch=false&query=Injection&results_type=overview&form_type=Basic&search_type=all&startIndex=80', '/vuln/search/results?isCpeNameSearch=false&query=Injection&results_type=overview&form_type=Basic&search_type=all&startIndex=100', '/vuln/search/results?isCpeNameSearch=false&query=Injection&results_type=overview&form_type=Basic&search_type=all&startIndex=120', '/vuln/search/results?isCpeNameSearch=false&query=Injection&results_type=overview&form_type=Basic&search_type=all&startIndex=140', '/vuln/search/results?isCpeNameSearch=false&query=Injection&results_type=overview&form_type=Basic&search_type=all&startIndex=160', '/vuln/search/results?isCpeNameSearch=false&query=Injection&results_type=overview&form_type=Basic&search_type=all&startIndex=180', '/vuln/search/results?isCpeNameSearch=false&query=Injection&results_type=overview&form_type=Basic&search_type=all&startIndex=20', '/vuln/search/results?isCpeNameSearch=false&query=Injection&results_type=overview&form_type=Basic&search_type=all&startIndex=12640', '/vuln/search/results?isCpeNameSearch=false&query=Injection&results_type=overview&form_type=Basic&search_type=all&startIndex=0', '/vuln/search/results?isCpeNameSearch=false&query=Injection&results_type=overview&form_type=Basic&search_type=all&startIndex=20', '/vuln/search/results?isCpeNameSearch=false&query=Injection&results_type=overview&form_type=Basic&search_type=all&startIndex=40', '/vuln/search/results?isCpeNameSearch=false&query=Injection&results_type=overview&form_type=Basic&search_type=all&startIndex=60', '/vuln/search/results?isCpeNameSearch=false&query=Injection&results_type=overview&form_type=Basic&search_type=all&startIndex=80', '/vuln/search/results?isCpeNameSearch=false&query=Injection&results_type=overview&form_type=Basic&search_type=all&startIndex=100', '/vuln/search/results?isCpeNameSearch=false&query=Injection&results_type=overview&form_type=Basic&search_type=all&startIndex=120', '/vuln/search/results?isCpeNameSearch=false&query=Injection&results_type=overview&form_type=Basic&search_type=all&startIndex=140', '/vuln/search/results?isCpeNameSearch=false&query=Injection&results_type=overview&form_type=Basic&search_type=all&startIndex=160', '/vuln/search/results?isCpeNameSearch=false&query=Injection&results_type=overview&form_type=Basic&search_type=all&startIndex=180', '/vuln/search/results?isCpeNameSearch=false&query=Injection&results_type=overview&form_type=Basic&search_type=all&startIndex=20', '/vuln/search/results?isCpeNameSearch=false&query=Injection&results_type=overview&form_type=Basic&search_type=all&startIndex=12640', '/vuln-metrics/cvss/v3-calculator?name=CVE-2021-36011&vector=AV:N/AC:H/PR:N/UI:R/S:C/C:H/I:H/A:H&version=3.1&source=Adobe%20Systems%20Incorporated', '/vuln/search/results?isCpeNameSearch=false&query=Injection&results_type=overview&form_type=Basic&search_type=all&startIndex=0', '/vuln/search/results?isCpeNameSearch=false&query=Injection&results_type=overview&form_type=Basic&search_type=all&startIndex=20', '/vuln/search/results?isCpeNameSearch=false&query=Injection&results_type=overview&form_type=Basic&search_type=all&startIndex=40', '/vuln/search/results?isCpeNameSearch=false&query=Injection&results_type=overview&form_type=Basic&search_type=all&startIndex=60', '/vuln/search/results?isCpeNameSearch=false&query=Injection&results_type=overview&form_type=Basic&search_type=all&startIndex=80', '/vuln/search/results?isCpeNameSearch=false&query=Injection&results_type=overview&form_type=Basic&search_type=all&startIndex=100', '/vuln/search/results?isCpeNameSearch=false&query=Injection&results_type=overview&form_type=Basic&search_type=all&startIndex=120', '/vuln/search/results?isCpeNameSearch=false&query=Injection&results_type=overview&form_type=Basic&search_type=all&startIndex=140', '/vuln/search/results?isCpeNameSearch=false&query=Injection&results_type=overview&form_type=Basic&search_type=all&startIndex=160', '/vuln/search/results?isCpeNameSearch=false&query=Injection&results_type=overview&form_type=Basic&search_type=all&startIndex=180', '/vuln/search/results?isCpeNameSearch=false&query=Injection&results_type=overview&form_type=Basic&search_type=all&startIndex=20', '/vuln/search/results?isCpeNameSearch=false&query=Injection&results_type=overview&form_type=Basic&search_type=all&startIndex=12640', '/vuln/search/results?isCpeNameSearch=false&query=Injection&results_type=overview&form_type=Basic&search_type=all&startIndex=0', '/vuln/search/results?isCpeNameSearch=false&query=Injection&results_type=overview&form_type=Basic&search_type=all&startIndex=20', '/vuln/search/results?isCpeNameSearch=false&query=Injection&results_type=overview&form_type=Basic&search_type=all&startIndex=40', '/vuln/search/results?isCpeNameSearch=false&query=Injection&results_type=overview&form_type=Basic&search_type=all&startIndex=60', '/vuln/search/results?isCpeNameSearch=false&query=Injection&results_type=overview&form_type=Basic&search_type=all&startIndex=80', '/vuln/search/results?isCpeNameSearch=false&query=Injection&results_type=overview&form_type=Basic&search_type=all&startIndex=100', '/vuln/search/results?isCpeNameSearch=false&query=Injection&results_type=overview&form_type=Basic&search_type=all&startIndex=120', '/vuln/search/results?isCpeNameSearch=false&query=Injection&results_type=overview&form_type=Basic&search_type=all&startIndex=140', '/vuln/search/results?isCpeNameSearch=false&query=Injection&results_type=overview&form_type=Basic&search_type=all&startIndex=160', '/vuln/search/results?isCpeNameSearch=false&query=Injection&results_type=overview&form_type=Basic&search_type=all&startIndex=180', '/vuln/search/results?isCpeNameSearch=false&query=Injection&results_type=overview&form_type=Basic&search_type=all&startIndex=20', '/vuln/search/results?isCpeNameSearch=false&query=Injection&results_type=overview&form_type=Basic&search_type=all&startIndex=12640', '/vuln-metrics/cvss/v3-calculator?name=CVE-2021-36011&vector=AV:N/AC:H/PR:N/UI:R/S:C/C:H/I:H/A:H&version=3.1&source=Adobe%20Systems%20Incorporated', '/vuln/search/results?isCpeNameSearch=false&query=Injection&results_type=overview&form_type=Basic&search_type=all&startIndex=0', '/vuln/search/results?isCpeNameSearch=false&query=Injection&results_type=overview&form_type=Basic&search_type=all&startIndex=20', '/vuln/search/results?isCpeNameSearch=false&query=Injection&results_type=overview&form_type=Basic&search_type=all&startIndex=40', '/vuln/search/results?isCpeNameSearch=false&query=Injection&results_type=overview&form_type=Basic&search_type=all&startIndex=60', '/vuln/search/results?isCpeNameSearch=false&query=Injection&results_type=overview&form_type=Basic&search_type=all&startIndex=80', '/vuln/search/results?isCpeNameSearch=false&query=Injection&results_type=overview&form_type=Basic&search_type=all&startIndex=100', '/vuln/search/results?isCpeNameSearch=false&query=Injection&results_type=overview&form_type=Basic&search_type=all&startIndex=120', '/vuln/search/results?isCpeNameSearch=false&query=Injection&results_type=overview&form_type=Basic&search_type=all&startIndex=140', '/vuln/search/results?isCpeNameSearch=false&query=Injection&results_type=overview&form_type=Basic&search_type=all&startIndex=160', '/vuln/search/results?isCpeNameSearch=false&query=Injection&results_type=overview&form_type=Basic&search_type=all&startIndex=180', '/vuln/search/results?isCpeNameSearch=false&query=Injection&results_type=overview&form_type=Basic&search_type=all&startIndex=20', '/vuln/search/results?isCpeNameSearch=false&query=Injection&results_type=overview&form_type=Basic&search_type=all&startIndex=12640', '/vuln/search/results?isCpeNameSearch=false&query=Injection&results_type=overview&form_type=Basic&search_type=all&startIndex=0', '/vuln/search/results?isCpeNameSearch=false&query=Injection&results_type=overview&form_type=Basic&search_type=all&startIndex=20', '/vuln/search/results?isCpeNameSearch=false&query=Injection&results_type=overview&form_type=Basic&search_type=all&startIndex=40', '/vuln/search/results?isCpeNameSearch=false&query=Injection&results_type=overview&form_type=Basic&search_type=all&startIndex=60', '/vuln/search/results?isCpeNameSearch=false&query=Injection&results_type=overview&form_type=Basic&search_type=all&startIndex=80', '/vuln/search/results?isCpeNameSearch=false&query=Injection&results_type=overview&form_type=Basic&search_type=all&startIndex=100', '/vuln/search/results?isCpeNameSearch=false&query=Injection&results_type=overview&form_type=Basic&search_type=all&startIndex=120', '/vuln/search/results?isCpeNameSearch=false&query=Injection&results_type=overview&form_type=Basic&search_type=all&startIndex=140', '/vuln/search/results?isCpeNameSearch=false&query=Injection&results_type=overview&form_type=Basic&search_type=all&startIndex=160', '/vuln/search/results?isCpeNameSearch=false&query=Injection&results_type=overview&form_type=Basic&search_type=all&startIndex=180', '/vuln/search/results?isCpeNameSearch=false&query=Injection&results_type=overview&form_type=Basic&search_type=all&startIndex=20', '/vuln/search/results?isCpeNameSearch=false&query=Injection&results_type=overview&form_type=Basic&search_type=all&startIndex=12640', '/vuln-metrics/cvss/v3-calculator?name=CVE-2021-36011&vector=AV:N/AC:H/PR:N/UI:R/S:C/C:H/I:H/A:H&version=3.1&source=Adobe%20Systems%20Incorporated', '/vuln/search/results?isCpeNameSearch=false&query=Injection&results_type=overview&form_type=Basic&search_type=all&startIndex=0', '/vuln/search/results?isCpeNameSearch=false&query=Injection&results_type=overview&form_type=Basic&search_type=all&startIndex=20', '/vuln/search/results?isCpeNameSearch=false&query=Injection&results_type=overview&form_type=Basic&search_type=all&startIndex=40', '/vuln/search/results?isCpeNameSearch=false&query=Injection&results_type=overview&form_type=Basic&search_type=all&startIndex=60', '/vuln/search/results?isCpeNameSearch=false&query=Injection&results_type=overview&form_type=Basic&search_type=all&startIndex=80', '/vuln/search/results?isCpeNameSearch=false&query=Injection&results_type=overview&form_type=Basic&search_type=all&startIndex=100', '/vuln/search/results?isCpeNameSearch=false&query=Injection&results_type=overview&form_type=Basic&search_type=all&startIndex=120', '/vuln/search/results?isCpeNameSearch=false&query=Injection&results_type=overview&form_type=Basic&search_type=all&startIndex=140', '/vuln/search/results?isCpeNameSearch=false&query=Injection&results_type=overview&form_type=Basic&search_type=all&startIndex=160', '/vuln/search/results?isCpeNameSearch=false&query=Injection&results_type=overview&form_type=Basic&search_type=all&startIndex=180', '/vuln/search/results?isCpeNameSearch=false&query=Injection&results_type=overview&form_type=Basic&search_type=all&startIndex=20', '/vuln/search/results?isCpeNameSearch=false&query=Injection&results_type=overview&form_type=Basic&search_type=all&startIndex=12640', '/vuln/search/results?isCpeNameSearch=false&query=Injection&results_type=overview&form_type=Basic&search_type=all&startIndex=0', '/vuln/search/results?isCpeNameSearch=false&query=Injection&results_type=overview&form_type=Basic&search_type=all&startIndex=20', '/vuln/search/results?isCpeNameSearch=false&query=Injection&results_type=overview&form_type=Basic&search_type=all&startIndex=40', '/vuln/search/results?isCpeNameSearch=false&query=Injection&results_type=overview&form_type=Basic&search_type=all&startIndex=60', '/vuln/search/results?isCpeNameSearch=false&query=Injection&results_type=overview&form_type=Basic&search_type=all&startIndex=80', '/vuln/search/results?isCpeNameSearch=false&query=Injection&results_type=overview&form_type=Basic&search_type=all&startIndex=100', '/vuln/search/results?isCpeNameSearch=false&query=Injection&results_type=overview&form_type=Basic&search_type=all&startIndex=120', '/vuln/search/results?isCpeNameSearch=false&query=Injection&results_type=overview&form_type=Basic&search_type=all&startIndex=140', '/vuln/search/results?isCpeNameSearch=false&query=Injection&results_type=overview&form_type=Basic&search_type=all&startIndex=160', '/vuln/search/results?isCpeNameSearch=false&query=Injection&results_type=overview&form_type=Basic&search_type=all&startIndex=180', '/vuln/search/results?isCpeNameSearch=false&query=Injection&results_type=overview&form_type=Basic&search_type=all&startIndex=20', '/vuln/search/results?isCpeNameSearch=false&query=Injection&results_type=overview&form_type=Basic&search_type=all&startIndex=12640', '/vuln-metrics/cvss/v3-calculator?name=CVE-2021-36011&vector=AV:N/AC:H/PR:N/UI:R/S:C/C:H/I:H/A:H&version=3.1&source=Adobe%20Systems%20Incorporated', '/vuln/search/results?isCpeNameSearch=false&query=Injection&results_type=overview&form_type=Basic&search_type=all&startIndex=0', '/vuln/search/results?isCpeNameSearch=false&query=Injection&results_type=overview&form_type=Basic&search_type=all&startIndex=20', '/vuln/search/results?isCpeNameSearch=false&query=Injection&results_type=overview&form_type=Basic&search_type=all&startIndex=40', '/vuln/search/results?isCpeNameSearch=false&query=Injection&results_type=overview&form_type=Basic&search_type=all&startIndex=60', '/vuln/search/results?isCpeNameSearch=false&query=Injection&results_type=overview&form_type=Basic&search_type=all&startIndex=80', '/vuln/search/results?isCpeNameSearch=false&query=Injection&results_type=overview&form_type=Basic&search_type=all&startIndex=100', '/vuln/search/results?isCpeNameSearch=false&query=Injection&results_type=overview&form_type=Basic&search_type=all&startIndex=120', '/vuln/search/results?isCpeNameSearch=false&query=Injection&results_type=overview&form_type=Basic&search_type=all&startIndex=140', '/vuln/search/results?isCpeNameSearch=false&query=Injection&results_type=overview&form_type=Basic&search_type=all&startIndex=160', '/vuln/search/results?isCpeNameSearch=false&query=Injection&results_type=overview&form_type=Basic&search_type=all&startIndex=180', '/vuln/search/results?isCpeNameSearch=false&query=Injection&results_type=overview&form_type=Basic&search_type=all&startIndex=20', '/vuln/search/results?isCpeNameSearch=false&query=Injection&results_type=overview&form_type=Basic&search_type=all&startIndex=12640', '/vuln/search/results?isCpeNameSearch=false&query=Injection&results_type=overview&form_type=Basic&search_type=all&startIndex=0', '/vuln/search/results?isCpeNameSearch=false&query=Injection&results_type=overview&form_type=Basic&search_type=all&startIndex=20', '/vuln/search/results?isCpeNameSearch=false&query=Injection&results_type=overview&form_type=Basic&search_type=all&startIndex=40', '/vuln/search/results?isCpeNameSearch=false&query=Injection&results_type=overview&form_type=Basic&search_type=all&startIndex=60', '/vuln/search/results?isCpeNameSearch=false&query=Injection&results_type=overview&form_type=Basic&search_type=all&startIndex=80', '/vuln/search/results?isCpeNameSearch=false&query=Injection&results_type=overview&form_type=Basic&search_type=all&startIndex=100', '/vuln/search/results?isCpeNameSearch=false&query=Injection&results_type=overview&form_type=Basic&search_type=all&startIndex=120', '/vuln/search/results?isCpeNameSearch=false&query=Injection&results_type=overview&form_type=Basic&search_type=all&startIndex=140', '/vuln/search/results?isCpeNameSearch=false&query=Injection&results_type=overview&form_type=Basic&search_type=all&startIndex=160', '/vuln/search/results?isCpeNameSearch=false&query=Injection&results_type=overview&form_type=Basic&search_type=all&startIndex=180', '/vuln/search/results?isCpeNameSearch=false&query=Injection&results_type=overview&form_type=Basic&search_type=all&startIndex=20', '/vuln/search/results?isCpeNameSearch=false&query=Injection&results_type=overview&form_type=Basic&search_type=all&startIndex=12640', '/vuln-metrics/cvss/v3-calculator?name=CVE-2021-36011&vector=AV:N/AC:H/PR:N/UI:R/S:C/C:H/I:H/A:H&version=3.1&source=Adobe%20Systems%20Incorporated', '/vuln/search/results?isCpeNameSearch=false&query=Injection&results_type=overview&form_type=Basic&search_type=all&startIndex=0', '/vuln/search/results?isCpeNameSearch=false&query=Injection&results_type=overview&form_type=Basic&search_type=all&startIndex=20', '/vuln/search/results?isCpeNameSearch=false&query=Injection&results_type=overview&form_type=Basic&search_type=all&startIndex=40', '/vuln/search/results?isCpeNameSearch=false&query=Injection&results_type=overview&form_type=Basic&search_type=all&startIndex=60', '/vuln/search/results?isCpeNameSearch=false&query=Injection&results_type=overview&form_type=Basic&search_type=all&startIndex=80', '/vuln/search/results?isCpeNameSearch=false&query=Injection&results_type=overview&form_type=Basic&search_type=all&startIndex=100', '/vuln/search/results?isCpeNameSearch=false&query=Injection&results_type=overview&form_type=Basic&search_type=all&startIndex=120', '/vuln/search/results?isCpeNameSearch=false&query=Injection&results_type=overview&form_type=Basic&search_type=all&startIndex=140', '/vuln/search/results?isCpeNameSearch=false&query=Injection&results_type=overview&form_type=Basic&search_type=all&startIndex=160', '/vuln/search/results?isCpeNameSearch=false&query=Injection&results_type=overview&form_type=Basic&search_type=all&startIndex=180', '/vuln/search/results?isCpeNameSearch=false&query=Injection&results_type=overview&form_type=Basic&search_type=all&startIndex=20', '/vuln/search/results?isCpeNameSearch=false&query=Injection&results_type=overview&form_type=Basic&search_type=all&startIndex=12640', '/vuln/search/results?isCpeNameSearch=false&query=Injection&results_type=overview&form_type=Basic&search_type=all&startIndex=0', '/vuln/search/results?isCpeNameSearch=false&query=Injection&results_type=overview&form_type=Basic&search_type=all&startIndex=20', '/vuln/search/results?isCpeNameSearch=false&query=Injection&results_type=overview&form_type=Basic&search_type=all&startIndex=40', '/vuln/search/results?isCpeNameSearch=false&query=Injection&results_type=overview&form_type=Basic&search_type=all&startIndex=60', '/vuln/search/results?isCpeNameSearch=false&query=Injection&results_type=overview&form_type=Basic&search_type=all&startIndex=80', '/vuln/search/results?isCpeNameSearch=false&query=Injection&results_type=overview&form_type=Basic&search_type=all&startIndex=100', '/vuln/search/results?isCpeNameSearch=false&query=Injection&results_type=overview&form_type=Basic&search_type=all&startIndex=120', '/vuln/search/results?isCpeNameSearch=false&query=Injection&results_type=overview&form_type=Basic&search_type=all&startIndex=140', '/vuln/search/results?isCpeNameSearch=false&query=Injection&results_type=overview&form_type=Basic&search_type=all&startIndex=160', '/vuln/search/results?isCpeNameSearch=false&query=Injection&results_type=overview&form_type=Basic&search_type=all&startIndex=180', '/vuln/search/results?isCpeNameSearch=false&query=Injection&results_type=overview&form_type=Basic&search_type=all&startIndex=20', '/vuln/search/results?isCpeNameSearch=false&query=Injection&results_type=overview&form_type=Basic&search_type=all&startIndex=12640', '/vuln-metrics/cvss/v3-calculator?name=CVE-2021-36011&vector=AV:N/AC:H/PR:N/UI:R/S:C/C:H/I:H/A:H&version=3.1&source=Adobe%20Systems%20Incorporated', '/vuln/search/results?isCpeNameSearch=false&query=Injection&results_type=overview&form_type=Basic&search_type=all&startIndex=0', '/vuln/search/results?isCpeNameSearch=false&query=Injection&results_type=overview&form_type=Basic&search_type=all&startIndex=20', '/vuln/search/results?isCpeNameSearch=false&query=Injection&results_type=overview&form_type=Basic&search_type=all&startIndex=40', '/vuln/search/results?isCpeNameSearch=false&query=Injection&results_type=overview&form_type=Basic&search_type=all&startIndex=60', '/vuln/search/results?isCpeNameSearch=false&query=Injection&results_type=overview&form_type=Basic&search_type=all&startIndex=80', '/vuln/search/results?isCpeNameSearch=false&query=Injection&results_type=overview&form_type=Basic&search_type=all&startIndex=100', '/vuln/search/results?isCpeNameSearch=false&query=Injection&results_type=overview&form_type=Basic&search_type=all&startIndex=120', '/vuln/search/results?isCpeNameSearch=false&query=Injection&results_type=overview&form_type=Basic&search_type=all&startIndex=140', '/vuln/search/results?isCpeNameSearch=false&query=Injection&results_type=overview&form_type=Basic&search_type=all&startIndex=160', '/vuln/search/results?isCpeNameSearch=false&query=Injection&results_type=overview&form_type=Basic&search_type=all&startIndex=180', '/vuln/search/results?isCpeNameSearch=false&query=Injection&results_type=overview&form_type=Basic&search_type=all&startIndex=20', '/vuln/search/results?isCpeNameSearch=false&query=Injection&results_type=overview&form_type=Basic&search_type=all&startIndex=12640', '/vuln/search/results?isCpeNameSearch=false&query=Injection&results_type=overview&form_type=Basic&search_type=all&startIndex=0', '/vuln/search/results?isCpeNameSearch=false&query=Injection&results_type=overview&form_type=Basic&search_type=all&startIndex=20', '/vuln/search/results?isCpeNameSearch=false&query=Injection&results_type=overview&form_type=Basic&search_type=all&startIndex=40', '/vuln/search/results?isCpeNameSearch=false&query=Injection&results_type=overview&form_type=Basic&search_type=all&startIndex=60', '/vuln/search/results?isCpeNameSearch=false&query=Injection&results_type=overview&form_type=Basic&search_type=all&startIndex=80', '/vuln/search/results?isCpeNameSearch=false&query=Injection&results_type=overview&form_type=Basic&search_type=all&startIndex=100', '/vuln/search/results?isCpeNameSearch=false&query=Injection&results_type=overview&form_type=Basic&search_type=all&startIndex=120', '/vuln/search/results?isCpeNameSearch=false&query=Injection&results_type=overview&form_type=Basic&search_type=all&startIndex=140', '/vuln/search/results?isCpeNameSearch=false&query=Injection&results_type=overview&form_type=Basic&search_type=all&startIndex=160', '/vuln/search/results?isCpeNameSearch=false&query=Injection&results_type=overview&form_type=Basic&search_type=all&startIndex=180', '/vuln/search/results?isCpeNameSearch=false&query=Injection&results_type=overview&form_type=Basic&search_type=all&startIndex=20', '/vuln/search/results?isCpeNameSearch=false&query=Injection&results_type=overview&form_type=Basic&search_type=all&startIndex=12640', '/vuln-metrics/cvss/v3-calculator?name=CVE-2021-36011&vector=AV:N/AC:H/PR:N/UI:R/S:C/C:H/I:H/A:H&version=3.1&source=Adobe%20Systems%20Incorporated', '/vuln/search/results?isCpeNameSearch=false&query=Injection&results_type=overview&form_type=Basic&search_type=all&startIndex=0', '/vuln/search/results?isCpeNameSearch=false&query=Injection&results_type=overview&form_type=Basic&search_type=all&startIndex=20', '/vuln/search/results?isCpeNameSearch=false&query=Injection&results_type=overview&form_type=Basic&search_type=all&startIndex=40', '/vuln/search/results?isCpeNameSearch=false&query=Injection&results_type=overview&form_type=Basic&search_type=all&startIndex=60', '/vuln/search/results?isCpeNameSearch=false&query=Injection&results_type=overview&form_type=Basic&search_type=all&startIndex=80', '/vuln/search/results?isCpeNameSearch=false&query=Injection&results_type=overview&form_type=Basic&search_type=all&startIndex=100', '/vuln/search/results?isCpeNameSearch=false&query=Injection&results_type=overview&form_type=Basic&search_type=all&startIndex=120', '/vuln/search/results?isCpeNameSearch=false&query=Injection&results_type=overview&form_type=Basic&search_type=all&startIndex=140', '/vuln/search/results?isCpeNameSearch=false&query=Injection&results_type=overview&form_type=Basic&search_type=all&startIndex=160', '/vuln/search/results?isCpeNameSearch=false&query=Injection&results_type=overview&form_type=Basic&search_type=all&startIndex=180', '/vuln/search/results?isCpeNameSearch=false&query=Injection&results_type=overview&form_type=Basic&search_type=all&startIndex=20', '/vuln/search/results?isCpeNameSearch=false&query=Injection&results_type=overview&form_type=Basic&search_type=all&startIndex=12640', '/vuln/search/results?isCpeNameSearch=false&query=Injection&results_type=overview&form_type=Basic&search_type=all&startIndex=0', '/vuln/search/results?isCpeNameSearch=false&query=Injection&results_type=overview&form_type=Basic&search_type=all&startIndex=20', '/vuln/search/results?isCpeNameSearch=false&query=Injection&results_type=overview&form_type=Basic&search_type=all&startIndex=40', '/vuln/search/results?isCpeNameSearch=false&query=Injection&results_type=overview&form_type=Basic&search_type=all&startIndex=60', '/vuln/search/results?isCpeNameSearch=false&query=Injection&results_type=overview&form_type=Basic&search_type=all&startIndex=80', '/vuln/search/results?isCpeNameSearch=false&query=Injection&results_type=overview&form_type=Basic&search_type=all&startIndex=100', '/vuln/search/results?isCpeNameSearch=false&query=Injection&results_type=overview&form_type=Basic&search_type=all&startIndex=120', '/vuln/search/results?isCpeNameSearch=false&query=Injection&results_type=overview&form_type=Basic&search_type=all&startIndex=140', '/vuln/search/results?isCpeNameSearch=false&query=Injection&results_type=overview&form_type=Basic&search_type=all&startIndex=160', '/vuln/search/results?isCpeNameSearch=false&query=Injection&results_type=overview&form_type=Basic&search_type=all&startIndex=180', '/vuln/search/results?isCpeNameSearch=false&query=Injection&results_type=overview&form_type=Basic&search_type=all&startIndex=20', '/vuln/search/results?isCpeNameSearch=false&query=Injection&results_type=overview&form_type=Basic&search_type=all&startIndex=12640', '/vuln-metrics/cvss/v3-calculator?name=CVE-2021-36011&vector=AV:N/AC:H/PR:N/UI:R/S:C/C:H/I:H/A:H&version=3.1&source=Adobe%20Systems%20Incorporated', '/vuln/search/results?isCpeNameSearch=false&query=Injection&results_type=overview&form_type=Basic&search_type=all&startIndex=0', '/vuln/search/results?isCpeNameSearch=false&query=Injection&results_type=overview&form_type=Basic&search_type=all&startIndex=20', '/vuln/search/results?isCpeNameSearch=false&query=Injection&results_type=overview&form_type=Basic&search_type=all&startIndex=40', '/vuln/search/results?isCpeNameSearch=false&query=Injection&results_type=overview&form_type=Basic&search_type=all&startIndex=60', '/vuln/search/results?isCpeNameSearch=false&query=Injection&results_type=overview&form_type=Basic&search_type=all&startIndex=80', '/vuln/search/results?isCpeNameSearch=false&query=Injection&results_type=overview&form_type=Basic&search_type=all&startIndex=100', '/vuln/search/results?isCpeNameSearch=false&query=Injection&results_type=overview&form_type=Basic&search_type=all&startIndex=120', '/vuln/search/results?isCpeNameSearch=false&query=Injection&results_type=overview&form_type=Basic&search_type=all&startIndex=140', '/vuln/search/results?isCpeNameSearch=false&query=Injection&results_type=overview&form_type=Basic&search_type=all&startIndex=160', '/vuln/search/results?isCpeNameSearch=false&query=Injection&results_type=overview&form_type=Basic&search_type=all&startIndex=180', '/vuln/search/results?isCpeNameSearch=false&query=Injection&results_type=overview&form_type=Basic&search_type=all&startIndex=20', '/vuln/search/results?isCpeNameSearch=false&query=Injection&results_type=overview&form_type=Basic&search_type=all&startIndex=12640', '/vuln/search/results?isCpeNameSearch=false&query=Injection&results_type=overview&form_type=Basic&search_type=all&startIndex=0', '/vuln/search/results?isCpeNameSearch=false&query=Injection&results_type=overview&form_type=Basic&search_type=all&startIndex=20', '/vuln/search/results?isCpeNameSearch=false&query=Injection&results_type=overview&form_type=Basic&search_type=all&startIndex=40', '/vuln/search/results?isCpeNameSearch=false&query=Injection&results_type=overview&form_type=Basic&search_type=all&startIndex=60', '/vuln/search/results?isCpeNameSearch=false&query=Injection&results_type=overview&form_type=Basic&search_type=all&startIndex=80', '/vuln/search/results?isCpeNameSearch=false&query=Injection&results_type=overview&form_type=Basic&search_type=all&startIndex=100', '/vuln/search/results?isCpeNameSearch=false&query=Injection&results_type=overview&form_type=Basic&search_type=all&startIndex=120', '/vuln/search/results?isCpeNameSearch=false&query=Injection&results_type=overview&form_type=Basic&search_type=all&startIndex=140', '/vuln/search/results?isCpeNameSearch=false&query=Injection&results_type=overview&form_type=Basic&search_type=all&startIndex=160', '/vuln/search/results?isCpeNameSearch=false&query=Injection&results_type=overview&form_type=Basic&search_type=all&startIndex=180', '/vuln/search/results?isCpeNameSearch=false&query=Injection&results_type=overview&form_type=Basic&search_type=all&startIndex=20', '/vuln/search/results?isCpeNameSearch=false&query=Injection&results_type=overview&form_type=Basic&search_type=all&startIndex=12640', '/vuln-metrics/cvss/v3-calculator?name=CVE-2021-36011&vector=AV:N/AC:H/PR:N/UI:R/S:C/C:H/I:H/A:H&version=3.1&source=Adobe%20Systems%20Incorporated', '/vuln/search/results?isCpeNameSearch=false&query=Injection&results_type=overview&form_type=Basic&search_type=all&startIndex=0', '/vuln/search/results?isCpeNameSearch=false&query=Injection&results_type=overview&form_type=Basic&search_type=all&startIndex=20', '/vuln/search/results?isCpeNameSearch=false&query=Injection&results_type=overview&form_type=Basic&search_type=all&startIndex=40', '/vuln/search/results?isCpeNameSearch=false&query=Injection&results_type=overview&form_type=Basic&search_type=all&startIndex=60', '/vuln/search/results?isCpeNameSearch=false&query=Injection&results_type=overview&form_type=Basic&search_type=all&startIndex=80', '/vuln/search/results?isCpeNameSearch=false&query=Injection&results_type=overview&form_type=Basic&search_type=all&startIndex=100', '/vuln/search/results?isCpeNameSearch=false&query=Injection&results_type=overview&form_type=Basic&search_type=all&startIndex=120', '/vuln/search/results?isCpeNameSearch=false&query=Injection&results_type=overview&form_type=Basic&search_type=all&startIndex=140', '/vuln/search/results?isCpeNameSearch=false&query=Injection&results_type=overview&form_type=Basic&search_type=all&startIndex=160', '/vuln/search/results?isCpeNameSearch=false&query=Injection&results_type=overview&form_type=Basic&search_type=all&startIndex=180', '/vuln/search/results?isCpeNameSearch=false&query=Injection&results_type=overview&form_type=Basic&search_type=all&startIndex=20', '/vuln/search/results?isCpeNameSearch=false&query=Injection&results_type=overview&form_type=Basic&search_type=all&startIndex=12640', '/vuln/search/results?isCpeNameSearch=false&query=Injection&results_type=overview&form_type=Basic&search_type=all&startIndex=0', '/vuln/search/results?isCpeNameSearch=false&query=Injection&results_type=overview&form_type=Basic&search_type=all&startIndex=20', '/vuln/search/results?isCpeNameSearch=false&query=Injection&results_type=overview&form_type=Basic&search_type=all&startIndex=40', '/vuln/search/results?isCpeNameSearch=false&query=Injection&results_type=overview&form_type=Basic&search_type=all&startIndex=60', '/vuln/search/results?isCpeNameSearch=false&query=Injection&results_type=overview&form_type=Basic&search_type=all&startIndex=80', '/vuln/search/results?isCpeNameSearch=false&query=Injection&results_type=overview&form_type=Basic&search_type=all&startIndex=100', '/vuln/search/results?isCpeNameSearch=false&query=Injection&results_type=overview&form_type=Basic&search_type=all&startIndex=120', '/vuln/search/results?isCpeNameSearch=false&query=Injection&results_type=overview&form_type=Basic&search_type=all&startIndex=140', '/vuln/search/results?isCpeNameSearch=false&query=Injection&results_type=overview&form_type=Basic&search_type=all&startIndex=160', '/vuln/search/results?isCpeNameSearch=false&query=Injection&results_type=overview&form_type=Basic&search_type=all&startIndex=180', '/vuln/search/results?isCpeNameSearch=false&query=Injection&results_type=overview&form_type=Basic&search_type=all&startIndex=20', '/vuln/search/results?isCpeNameSearch=false&query=Injection&results_type=overview&form_type=Basic&search_type=all&startIndex=12640', '/vuln-metrics/cvss/v3-calculator?name=CVE-2021-36011&vector=AV:N/AC:H/PR:N/UI:R/S:C/C:H/I:H/A:H&version=3.1&source=Adobe%20Systems%20Incorporated', '/vuln/search/results?isCpeNameSearch=false&query=Injection&results_type=overview&form_type=Basic&search_type=all&startIndex=0', '/vuln/search/results?isCpeNameSearch=false&query=Injection&results_type=overview&form_type=Basic&search_type=all&startIndex=20', '/vuln/search/results?isCpeNameSearch=false&query=Injection&results_type=overview&form_type=Basic&search_type=all&startIndex=40', '/vuln/search/results?isCpeNameSearch=false&query=Injection&results_type=overview&form_type=Basic&search_type=all&startIndex=60', '/vuln/search/results?isCpeNameSearch=false&query=Injection&results_type=overview&form_type=Basic&search_type=all&startIndex=80', '/vuln/search/results?isCpeNameSearch=false&query=Injection&results_type=overview&form_type=Basic&search_type=all&startIndex=100', '/vuln/search/results?isCpeNameSearch=false&query=Injection&results_type=overview&form_type=Basic&search_type=all&startIndex=120', '/vuln/search/results?isCpeNameSearch=false&query=Injection&results_type=overview&form_type=Basic&search_type=all&startIndex=140', '/vuln/search/results?isCpeNameSearch=false&query=Injection&results_type=overview&form_type=Basic&search_type=all&startIndex=160', '/vuln/search/results?isCpeNameSearch=false&query=Injection&results_type=overview&form_type=Basic&search_type=all&startIndex=180', '/vuln/search/results?isCpeNameSearch=false&query=Injection&results_type=overview&form_type=Basic&search_type=all&startIndex=20', '/vuln/search/results?isCpeNameSearch=false&query=Injection&results_type=overview&form_type=Basic&search_type=all&startIndex=12640', '/vuln/search/results?isCpeNameSearch=false&query=Injection&results_type=overview&form_type=Basic&search_type=all&startIndex=0', '/vuln/search/results?isCpeNameSearch=false&query=Injection&results_type=overview&form_type=Basic&search_type=all&startIndex=20', '/vuln/search/results?isCpeNameSearch=false&query=Injection&results_type=overview&form_type=Basic&search_type=all&startIndex=40', '/vuln/search/results?isCpeNameSearch=false&query=Injection&results_type=overview&form_type=Basic&search_type=all&startIndex=60', '/vuln/search/results?isCpeNameSearch=false&query=Injection&results_type=overview&form_type=Basic&search_type=all&startIndex=80', '/vuln/search/results?isCpeNameSearch=false&query=Injection&results_type=overview&form_type=Basic&search_type=all&startIndex=100', '/vuln/search/results?isCpeNameSearch=false&query=Injection&results_type=overview&form_type=Basic&search_type=all&startIndex=120', '/vuln/search/results?isCpeNameSearch=false&query=Injection&results_type=overview&form_type=Basic&search_type=all&startIndex=140', '/vuln/search/results?isCpeNameSearch=false&query=Injection&results_type=overview&form_type=Basic&search_type=all&startIndex=160', '/vuln/search/results?isCpeNameSearch=false&query=Injection&results_type=overview&form_type=Basic&search_type=all&startIndex=180', '/vuln/search/results?isCpeNameSearch=false&query=Injection&results_type=overview&form_type=Basic&search_type=all&startIndex=20', '/vuln/search/results?isCpeNameSearch=false&query=Injection&results_type=overview&form_type=Basic&search_type=all&startIndex=12640', '/vuln-metrics/cvss/v3-calculator?name=CVE-2021-36011&vector=AV:N/AC:H/PR:N/UI:R/S:C/C:H/I:H/A:H&version=3.1&source=Adobe%20Systems%20Incorporated', '/vuln/search/results?isCpeNameSearch=false&query=Injection&results_type=overview&form_type=Basic&search_type=all&startIndex=0', '/vuln/search/results?isCpeNameSearch=false&query=Injection&results_type=overview&form_type=Basic&search_type=all&startIndex=20', '/vuln/search/results?isCpeNameSearch=false&query=Injection&results_type=overview&form_type=Basic&search_type=all&startIndex=40', '/vuln/search/results?isCpeNameSearch=false&query=Injection&results_type=overview&form_type=Basic&search_type=all&startIndex=60', '/vuln/search/results?isCpeNameSearch=false&query=Injection&results_type=overview&form_type=Basic&search_type=all&startIndex=80', '/vuln/search/results?isCpeNameSearch=false&query=Injection&results_type=overview&form_type=Basic&search_type=all&startIndex=100', '/vuln/search/results?isCpeNameSearch=false&query=Injection&results_type=overview&form_type=Basic&search_type=all&startIndex=120', '/vuln/search/results?isCpeNameSearch=false&query=Injection&results_type=overview&form_type=Basic&search_type=all&startIndex=140', '/vuln/search/results?isCpeNameSearch=false&query=Injection&results_type=overview&form_type=Basic&search_type=all&startIndex=160', '/vuln/search/results?isCpeNameSearch=false&query=Injection&results_type=overview&form_type=Basic&search_type=all&startIndex=180', '/vuln/search/results?isCpeNameSearch=false&query=Injection&results_type=overview&form_type=Basic&search_type=all&startIndex=20', '/vuln/search/results?isCpeNameSearch=false&query=Injection&results_type=overview&form_type=Basic&search_type=all&startIndex=12640', '/vuln/search/results?isCpeNameSearch=false&query=Injection&results_type=overview&form_type=Basic&search_type=all&startIndex=0', '/vuln/search/results?isCpeNameSearch=false&query=Injection&results_type=overview&form_type=Basic&search_type=all&startIndex=20', '/vuln/search/results?isCpeNameSearch=false&query=Injection&results_type=overview&form_type=Basic&search_type=all&startIndex=40', '/vuln/search/results?isCpeNameSearch=false&query=Injection&results_type=overview&form_type=Basic&search_type=all&startIndex=60', '/vuln/search/results?isCpeNameSearch=false&query=Injection&results_type=overview&form_type=Basic&search_type=all&startIndex=80', '/vuln/search/results?isCpeNameSearch=false&query=Injection&results_type=overview&form_type=Basic&search_type=all&startIndex=100', '/vuln/search/results?isCpeNameSearch=false&query=Injection&results_type=overview&form_type=Basic&search_type=all&startIndex=120', '/vuln/search/results?isCpeNameSearch=false&query=Injection&results_type=overview&form_type=Basic&search_type=all&startIndex=140', '/vuln/search/results?isCpeNameSearch=false&query=Injection&results_type=overview&form_type=Basic&search_type=all&startIndex=160', '/vuln/search/results?isCpeNameSearch=false&query=Injection&results_type=overview&form_type=Basic&search_type=all&startIndex=180', '/vuln/search/results?isCpeNameSearch=false&query=Injection&results_type=overview&form_type=Basic&search_type=all&startIndex=20', '/vuln/search/results?isCpeNameSearch=false&query=Injection&results_type=overview&form_type=Basic&search_type=all&startIndex=12640', '/vuln-metrics/cvss/v3-calculator?name=CVE-2021-36011&vector=AV:N/AC:H/PR:N/UI:R/S:C/C:H/I:H/A:H&version=3.1&source=Adobe%20Systems%20Incorporated', '/vuln/search/results?isCpeNameSearch=false&query=Injection&results_type=overview&form_type=Basic&search_type=all&startIndex=0', '/vuln/search/results?isCpeNameSearch=false&query=Injection&results_type=overview&form_type=Basic&search_type=all&startIndex=20', '/vuln/search/results?isCpeNameSearch=false&query=Injection&results_type=overview&form_type=Basic&search_type=all&startIndex=40', '/vuln/search/results?isCpeNameSearch=false&query=Injection&results_type=overview&form_type=Basic&search_type=all&startIndex=60', '/vuln/search/results?isCpeNameSearch=false&query=Injection&results_type=overview&form_type=Basic&search_type=all&startIndex=80', '/vuln/search/results?isCpeNameSearch=false&query=Injection&results_type=overview&form_type=Basic&search_type=all&startIndex=100', '/vuln/search/results?isCpeNameSearch=false&query=Injection&results_type=overview&form_type=Basic&search_type=all&startIndex=120', '/vuln/search/results?isCpeNameSearch=false&query=Injection&results_type=overview&form_type=Basic&search_type=all&startIndex=140', '/vuln/search/results?isCpeNameSearch=false&query=Injection&results_type=overview&form_type=Basic&search_type=all&startIndex=160', '/vuln/search/results?isCpeNameSearch=false&query=Injection&results_type=overview&form_type=Basic&search_type=all&startIndex=180', '/vuln/search/results?isCpeNameSearch=false&query=Injection&results_type=overview&form_type=Basic&search_type=all&startIndex=20', '/vuln/search/results?isCpeNameSearch=false&query=Injection&results_type=overview&form_type=Basic&search_type=all&startIndex=12640', '/vuln/search/results?isCpeNameSearch=false&query=Injection&results_type=overview&form_type=Basic&search_type=all&startIndex=0', '/vuln/search/results?isCpeNameSearch=false&query=Injection&results_type=overview&form_type=Basic&search_type=all&startIndex=20', '/vuln/search/results?isCpeNameSearch=false&query=Injection&results_type=overview&form_type=Basic&search_type=all&startIndex=40', '/vuln/search/results?isCpeNameSearch=false&query=Injection&results_type=overview&form_type=Basic&search_type=all&startIndex=60', '/vuln/search/results?isCpeNameSearch=false&query=Injection&results_type=overview&form_type=Basic&search_type=all&startIndex=80', '/vuln/search/results?isCpeNameSearch=false&query=Injection&results_type=overview&form_type=Basic&search_type=all&startIndex=100', '/vuln/search/results?isCpeNameSearch=false&query=Injection&results_type=overview&form_type=Basic&search_type=all&startIndex=120', '/vuln/search/results?isCpeNameSearch=false&query=Injection&results_type=overview&form_type=Basic&search_type=all&startIndex=140', '/vuln/search/results?isCpeNameSearch=false&query=Injection&results_type=overview&form_type=Basic&search_type=all&startIndex=160', '/vuln/search/results?isCpeNameSearch=false&query=Injection&results_type=overview&form_type=Basic&search_type=all&startIndex=180', '/vuln/search/results?isCpeNameSearch=false&query=Injection&results_type=overview&form_type=Basic&search_type=all&startIndex=20', '/vuln/search/results?isCpeNameSearch=false&query=Injection&results_type=overview&form_type=Basic&search_type=all&startIndex=12640', '/vuln-metrics/cvss/v3-calculator?name=CVE-2021-36011&vector=AV:N/AC:H/PR:N/UI:R/S:C/C:H/I:H/A:H&version=3.1&source=Adobe%20Systems%20Incorporated', '/vuln/search/results?isCpeNameSearch=false&query=Injection&results_type=overview&form_type=Basic&search_type=all&startIndex=0', '/vuln/search/results?isCpeNameSearch=false&query=Injection&results_type=overview&form_type=Basic&search_type=all&startIndex=20', '/vuln/search/results?isCpeNameSearch=false&query=Injection&results_type=overview&form_type=Basic&search_type=all&startIndex=40', '/vuln/search/results?isCpeNameSearch=false&query=Injection&results_type=overview&form_type=Basic&search_type=all&startIndex=60', '/vuln/search/results?isCpeNameSearch=false&query=Injection&results_type=overview&form_type=Basic&search_type=all&startIndex=80', '/vuln/search/results?isCpeNameSearch=false&query=Injection&results_type=overview&form_type=Basic&search_type=all&startIndex=100', '/vuln/search/results?isCpeNameSearch=false&query=Injection&results_type=overview&form_type=Basic&search_type=all&startIndex=120', '/vuln/search/results?isCpeNameSearch=false&query=Injection&results_type=overview&form_type=Basic&search_type=all&startIndex=140', '/vuln/search/results?isCpeNameSearch=false&query=Injection&results_type=overview&form_type=Basic&search_type=all&startIndex=160', '/vuln/search/results?isCpeNameSearch=false&query=Injection&results_type=overview&form_type=Basic&search_type=all&startIndex=180', '/vuln/search/results?isCpeNameSearch=false&query=Injection&results_type=overview&form_type=Basic&search_type=all&startIndex=20', '/vuln/search/results?isCpeNameSearch=false&query=Injection&results_type=overview&form_type=Basic&search_type=all&startIndex=12640', '/vuln/search/results?isCpeNameSearch=false&query=Injection&results_type=overview&form_type=Basic&search_type=all&startIndex=0', '/vuln/search/results?isCpeNameSearch=false&query=Injection&results_type=overview&form_type=Basic&search_type=all&startIndex=20', '/vuln/search/results?isCpeNameSearch=false&query=Injection&results_type=overview&form_type=Basic&search_type=all&startIndex=40', '/vuln/search/results?isCpeNameSearch=false&query=Injection&results_type=overview&form_type=Basic&search_type=all&startIndex=60', '/vuln/search/results?isCpeNameSearch=false&query=Injection&results_type=overview&form_type=Basic&search_type=all&startIndex=80', '/vuln/search/results?isCpeNameSearch=false&query=Injection&results_type=overview&form_type=Basic&search_type=all&startIndex=100', '/vuln/search/results?isCpeNameSearch=false&query=Injection&results_type=overview&form_type=Basic&search_type=all&startIndex=120', '/vuln/search/results?isCpeNameSearch=false&query=Injection&results_type=overview&form_type=Basic&search_type=all&startIndex=140', '/vuln/search/results?isCpeNameSearch=false&query=Injection&results_type=overview&form_type=Basic&search_type=all&startIndex=160', '/vuln/search/results?isCpeNameSearch=false&query=Injection&results_type=overview&form_type=Basic&search_type=all&startIndex=180', '/vuln/search/results?isCpeNameSearch=false&query=Injection&results_type=overview&form_type=Basic&search_type=all&startIndex=20', '/vuln/search/results?isCpeNameSearch=false&query=Injection&results_type=overview&form_type=Basic&search_type=all&startIndex=12640', '/vuln-metrics/cvss/v3-calculator?name=CVE-2021-36011&vector=AV:N/AC:H/PR:N/UI:R/S:C/C:H/I:H/A:H&version=3.1&source=Adobe%20Systems%20Incorporated', '/vuln/search/results?isCpeNameSearch=false&query=Injection&results_type=overview&form_type=Basic&search_type=all&startIndex=0', '/vuln/search/results?isCpeNameSearch=false&query=Injection&results_type=overview&form_type=Basic&search_type=all&startIndex=20', '/vuln/search/results?isCpeNameSearch=false&query=Injection&results_type=overview&form_type=Basic&search_type=all&startIndex=40', '/vuln/search/results?isCpeNameSearch=false&query=Injection&results_type=overview&form_type=Basic&search_type=all&startIndex=60', '/vuln/search/results?isCpeNameSearch=false&query=Injection&results_type=overview&form_type=Basic&search_type=all&startIndex=80', '/vuln/search/results?isCpeNameSearch=false&query=Injection&results_type=overview&form_type=Basic&search_type=all&startIndex=100', '/vuln/search/results?isCpeNameSearch=false&query=Injection&results_type=overview&form_type=Basic&search_type=all&startIndex=120', '/vuln/search/results?isCpeNameSearch=false&query=Injection&results_type=overview&form_type=Basic&search_type=all&startIndex=140', '/vuln/search/results?isCpeNameSearch=false&query=Injection&results_type=overview&form_type=Basic&search_type=all&startIndex=160', '/vuln/search/results?isCpeNameSearch=false&query=Injection&results_type=overview&form_type=Basic&search_type=all&startIndex=180', '/vuln/search/results?isCpeNameSearch=false&query=Injection&results_type=overview&form_type=Basic&search_type=all&startIndex=20', '/vuln/search/results?isCpeNameSearch=false&query=Injection&results_type=overview&form_type=Basic&search_type=all&startIndex=12640', '/vuln/search/results?isCpeNameSearch=false&query=Injection&results_type=overview&form_type=Basic&search_type=all&startIndex=0', '/vuln/search/results?isCpeNameSearch=false&query=Injection&results_type=overview&form_type=Basic&search_type=all&startIndex=20', '/vuln/search/results?isCpeNameSearch=false&query=Injection&results_type=overview&form_type=Basic&search_type=all&startIndex=40', '/vuln/search/results?isCpeNameSearch=false&query=Injection&results_type=overview&form_type=Basic&search_type=all&startIndex=60', '/vuln/search/results?isCpeNameSearch=false&query=Injection&results_type=overview&form_type=Basic&search_type=all&startIndex=80', '/vuln/search/results?isCpeNameSearch=false&query=Injection&results_type=overview&form_type=Basic&search_type=all&startIndex=100', '/vuln/search/results?isCpeNameSearch=false&query=Injection&results_type=overview&form_type=Basic&search_type=all&startIndex=120', '/vuln/search/results?isCpeNameSearch=false&query=Injection&results_type=overview&form_type=Basic&search_type=all&startIndex=140', '/vuln/search/results?isCpeNameSearch=false&query=Injection&results_type=overview&form_type=Basic&search_type=all&startIndex=160', '/vuln/search/results?isCpeNameSearch=false&query=Injection&results_type=overview&form_type=Basic&search_type=all&startIndex=180', '/vuln/search/results?isCpeNameSearch=false&query=Injection&results_type=overview&form_type=Basic&search_type=all&startIndex=20', '/vuln/search/results?isCpeNameSearch=false&query=Injection&results_type=overview&form_type=Basic&search_type=all&startIndex=12640', '/vuln-metrics/cvss/v3-calculator?name=CVE-2021-36011&vector=AV:N/AC:H/PR:N/UI:R/S:C/C:H/I:H/A:H&version=3.1&source=Adobe%20Systems%20Incorporated', '/vuln/search/results?isCpeNameSearch=false&query=Injection&results_type=overview&form_type=Basic&search_type=all&startIndex=0', '/vuln/search/results?isCpeNameSearch=false&query=Injection&results_type=overview&form_type=Basic&search_type=all&startIndex=20', '/vuln/search/results?isCpeNameSearch=false&query=Injection&results_type=overview&form_type=Basic&search_type=all&startIndex=40', '/vuln/search/results?isCpeNameSearch=false&query=Injection&results_type=overview&form_type=Basic&search_type=all&startIndex=60', '/vuln/search/results?isCpeNameSearch=false&query=Injection&results_type=overview&form_type=Basic&search_type=all&startIndex=80', '/vuln/search/results?isCpeNameSearch=false&query=Injection&results_type=overview&form_type=Basic&search_type=all&startIndex=100', '/vuln/search/results?isCpeNameSearch=false&query=Injection&results_type=overview&form_type=Basic&search_type=all&startIndex=120', '/vuln/search/results?isCpeNameSearch=false&query=Injection&results_type=overview&form_type=Basic&search_type=all&startIndex=140', '/vuln/search/results?isCpeNameSearch=false&query=Injection&results_type=overview&form_type=Basic&search_type=all&startIndex=160', '/vuln/search/results?isCpeNameSearch=false&query=Injection&results_type=overview&form_type=Basic&search_type=all&startIndex=180', '/vuln/search/results?isCpeNameSearch=false&query=Injection&results_type=overview&form_type=Basic&search_type=all&startIndex=20', '/vuln/search/results?isCpeNameSearch=false&query=Injection&results_type=overview&form_type=Basic&search_type=all&startIndex=12640', '/vuln/search/results?isCpeNameSearch=false&query=Injection&results_type=overview&form_type=Basic&search_type=all&startIndex=0', '/vuln/search/results?isCpeNameSearch=false&query=Injection&results_type=overview&form_type=Basic&search_type=all&startIndex=20', '/vuln/search/results?isCpeNameSearch=false&query=Injection&results_type=overview&form_type=Basic&search_type=all&startIndex=40', '/vuln/search/results?isCpeNameSearch=false&query=Injection&results_type=overview&form_type=Basic&search_type=all&startIndex=60', '/vuln/search/results?isCpeNameSearch=false&query=Injection&results_type=overview&form_type=Basic&search_type=all&startIndex=80', '/vuln/search/results?isCpeNameSearch=false&query=Injection&results_type=overview&form_type=Basic&search_type=all&startIndex=100', '/vuln/search/results?isCpeNameSearch=false&query=Injection&results_type=overview&form_type=Basic&search_type=all&startIndex=120', '/vuln/search/results?isCpeNameSearch=false&query=Injection&results_type=overview&form_type=Basic&search_type=all&startIndex=140', '/vuln/search/results?isCpeNameSearch=false&query=Injection&results_type=overview&form_type=Basic&search_type=all&startIndex=160', '/vuln/search/results?isCpeNameSearch=false&query=Injection&results_type=overview&form_type=Basic&search_type=all&startIndex=180', '/vuln/search/results?isCpeNameSearch=false&query=Injection&results_type=overview&form_type=Basic&search_type=all&startIndex=20', '/vuln/search/results?isCpeNameSearch=false&query=Injection&results_type=overview&form_type=Basic&search_type=all&startIndex=12640', '/vuln-metrics/cvss/v3-calculator?name=CVE-2021-36011&vector=AV:N/AC:H/PR:N/UI:R/S:C/C:H/I:H/A:H&version=3.1&source=Adobe%20Systems%20Incorporated', '/vuln/search/results?isCpeNameSearch=false&query=Injection&results_type=overview&form_type=Basic&search_type=all&startIndex=0', '/vuln/search/results?isCpeNameSearch=false&query=Injection&results_type=overview&form_type=Basic&search_type=all&startIndex=20', '/vuln/search/results?isCpeNameSearch=false&query=Injection&results_type=overview&form_type=Basic&search_type=all&startIndex=40', '/vuln/search/results?isCpeNameSearch=false&query=Injection&results_type=overview&form_type=Basic&search_type=all&startIndex=60', '/vuln/search/results?isCpeNameSearch=false&query=Injection&results_type=overview&form_type=Basic&search_type=all&startIndex=80', '/vuln/search/results?isCpeNameSearch=false&query=Injection&results_type=overview&form_type=Basic&search_type=all&startIndex=100', '/vuln/search/results?isCpeNameSearch=false&query=Injection&results_type=overview&form_type=Basic&search_type=all&startIndex=120', '/vuln/search/results?isCpeNameSearch=false&query=Injection&results_type=overview&form_type=Basic&search_type=all&startIndex=140', '/vuln/search/results?isCpeNameSearch=false&query=Injection&results_type=overview&form_type=Basic&search_type=all&startIndex=160', '/vuln/search/results?isCpeNameSearch=false&query=Injection&results_type=overview&form_type=Basic&search_type=all&startIndex=180', '/vuln/search/results?isCpeNameSearch=false&query=Injection&results_type=overview&form_type=Basic&search_type=all&startIndex=20', '/vuln/search/results?isCpeNameSearch=false&query=Injection&results_type=overview&form_type=Basic&search_type=all&startIndex=12640', '/vuln/search/results?isCpeNameSearch=false&query=Injection&results_type=overview&form_type=Basic&search_type=all&startIndex=0', '/vuln/search/results?isCpeNameSearch=false&query=Injection&results_type=overview&form_type=Basic&search_type=all&startIndex=20', '/vuln/search/results?isCpeNameSearch=false&query=Injection&results_type=overview&form_type=Basic&search_type=all&startIndex=40', '/vuln/search/results?isCpeNameSearch=false&query=Injection&results_type=overview&form_type=Basic&search_type=all&startIndex=60', '/vuln/search/results?isCpeNameSearch=false&query=Injection&results_type=overview&form_type=Basic&search_type=all&startIndex=80', '/vuln/search/results?isCpeNameSearch=false&query=Injection&results_type=overview&form_type=Basic&search_type=all&startIndex=100', '/vuln/search/results?isCpeNameSearch=false&query=Injection&results_type=overview&form_type=Basic&search_type=all&startIndex=120', '/vuln/search/results?isCpeNameSearch=false&query=Injection&results_type=overview&form_type=Basic&search_type=all&startIndex=140', '/vuln/search/results?isCpeNameSearch=false&query=Injection&results_type=overview&form_type=Basic&search_type=all&startIndex=160', '/vuln/search/results?isCpeNameSearch=false&query=Injection&results_type=overview&form_type=Basic&search_type=all&startIndex=180', '/vuln/search/results?isCpeNameSearch=false&query=Injection&results_type=overview&form_type=Basic&search_type=all&startIndex=20', '/vuln/search/results?isCpeNameSearch=false&query=Injection&results_type=overview&form_type=Basic&search_type=all&startIndex=12640', '/vuln-metrics/cvss/v3-calculator?name=CVE-2021-36011&vector=AV:N/AC:H/PR:N/UI:R/S:C/C:H/I:H/A:H&version=3.1&source=Adobe%20Systems%20Incorporated', '/vuln/search/results?isCpeNameSearch=false&query=Injection&results_type=overview&form_type=Basic&search_type=all&startIndex=0', '/vuln/search/results?isCpeNameSearch=false&query=Injection&results_type=overview&form_type=Basic&search_type=all&startIndex=20', '/vuln/search/results?isCpeNameSearch=false&query=Injection&results_type=overview&form_type=Basic&search_type=all&startIndex=40', '/vuln/search/results?isCpeNameSearch=false&query=Injection&results_type=overview&form_type=Basic&search_type=all&startIndex=60', '/vuln/search/results?isCpeNameSearch=false&query=Injection&results_type=overview&form_type=Basic&search_type=all&startIndex=80', '/vuln/search/results?isCpeNameSearch=false&query=Injection&results_type=overview&form_type=Basic&search_type=all&startIndex=100', '/vuln/search/results?isCpeNameSearch=false&query=Injection&results_type=overview&form_type=Basic&search_type=all&startIndex=120', '/vuln/search/results?isCpeNameSearch=false&query=Injection&results_type=overview&form_type=Basic&search_type=all&startIndex=140', '/vuln/search/results?isCpeNameSearch=false&query=Injection&results_type=overview&form_type=Basic&search_type=all&startIndex=160', '/vuln/search/results?isCpeNameSearch=false&query=Injection&results_type=overview&form_type=Basic&search_type=all&startIndex=180', '/vuln/search/results?isCpeNameSearch=false&query=Injection&results_type=overview&form_type=Basic&search_type=all&startIndex=20', '/vuln/search/results?isCpeNameSearch=false&query=Injection&results_type=overview&form_type=Basic&search_type=all&startIndex=12640', '/vuln/search/results?isCpeNameSearch=false&query=Injection&results_type=overview&form_type=Basic&search_type=all&startIndex=0', '/vuln/search/results?isCpeNameSearch=false&query=Injection&results_type=overview&form_type=Basic&search_type=all&startIndex=20', '/vuln/search/results?isCpeNameSearch=false&query=Injection&results_type=overview&form_type=Basic&search_type=all&startIndex=40', '/vuln/search/results?isCpeNameSearch=false&query=Injection&results_type=overview&form_type=Basic&search_type=all&startIndex=60', '/vuln/search/results?isCpeNameSearch=false&query=Injection&results_type=overview&form_type=Basic&search_type=all&startIndex=80', '/vuln/search/results?isCpeNameSearch=false&query=Injection&results_type=overview&form_type=Basic&search_type=all&startIndex=100', '/vuln/search/results?isCpeNameSearch=false&query=Injection&results_type=overview&form_type=Basic&search_type=all&startIndex=120', '/vuln/search/results?isCpeNameSearch=false&query=Injection&results_type=overview&form_type=Basic&search_type=all&startIndex=140', '/vuln/search/results?isCpeNameSearch=false&query=Injection&results_type=overview&form_type=Basic&search_type=all&startIndex=160', '/vuln/search/results?isCpeNameSearch=false&query=Injection&results_type=overview&form_type=Basic&search_type=all&startIndex=180', '/vuln/search/results?isCpeNameSearch=false&query=Injection&results_type=overview&form_type=Basic&search_type=all&startIndex=20', '/vuln/search/results?isCpeNameSearch=false&query=Injection&results_type=overview&form_type=Basic&search_type=all&startIndex=12640', '/vuln-metrics/cvss/v3-calculator?name=CVE-2021-36011&vector=AV:N/AC:H/PR:N/UI:R/S:C/C:H/I:H/A:H&version=3.1&source=Adobe%20Systems%20Incorporated', '/vuln/search/results?isCpeNameSearch=false&query=Injection&results_type=overview&form_type=Basic&search_type=all&startIndex=0', '/vuln/search/results?isCpeNameSearch=false&query=Injection&results_type=overview&form_type=Basic&search_type=all&startIndex=20', '/vuln/search/results?isCpeNameSearch=false&query=Injection&results_type=overview&form_type=Basic&search_type=all&startIndex=40', '/vuln/search/results?isCpeNameSearch=false&query=Injection&results_type=overview&form_type=Basic&search_type=all&startIndex=60', '/vuln/search/results?isCpeNameSearch=false&query=Injection&results_type=overview&form_type=Basic&search_type=all&startIndex=80', '/vuln/search/results?isCpeNameSearch=false&query=Injection&results_type=overview&form_type=Basic&search_type=all&startIndex=100', '/vuln/search/results?isCpeNameSearch=false&query=Injection&results_type=overview&form_type=Basic&search_type=all&startIndex=120', '/vuln/search/results?isCpeNameSearch=false&query=Injection&results_type=overview&form_type=Basic&search_type=all&startIndex=140', '/vuln/search/results?isCpeNameSearch=false&query=Injection&results_type=overview&form_type=Basic&search_type=all&startIndex=160', '/vuln/search/results?isCpeNameSearch=false&query=Injection&results_type=overview&form_type=Basic&search_type=all&startIndex=180', '/vuln/search/results?isCpeNameSearch=false&query=Injection&results_type=overview&form_type=Basic&search_type=all&startIndex=20', '/vuln/search/results?isCpeNameSearch=false&query=Injection&results_type=overview&form_type=Basic&search_type=all&startIndex=12640', '/vuln/search/results?isCpeNameSearch=false&query=Injection&results_type=overview&form_type=Basic&search_type=all&startIndex=0', '/vuln/search/results?isCpeNameSearch=false&query=Injection&results_type=overview&form_type=Basic&search_type=all&startIndex=20', '/vuln/search/results?isCpeNameSearch=false&query=Injection&results_type=overview&form_type=Basic&search_type=all&startIndex=40', '/vuln/search/results?isCpeNameSearch=false&query=Injection&results_type=overview&form_type=Basic&search_type=all&startIndex=60', '/vuln/search/results?isCpeNameSearch=false&query=Injection&results_type=overview&form_type=Basic&search_type=all&startIndex=80', '/vuln/search/results?isCpeNameSearch=false&query=Injection&results_type=overview&form_type=Basic&search_type=all&startIndex=100', '/vuln/search/results?isCpeNameSearch=false&query=Injection&results_type=overview&form_type=Basic&search_type=all&startIndex=120', '/vuln/search/results?isCpeNameSearch=false&query=Injection&results_type=overview&form_type=Basic&search_type=all&startIndex=140', '/vuln/search/results?isCpeNameSearch=false&query=Injection&results_type=overview&form_type=Basic&search_type=all&startIndex=160', '/vuln/search/results?isCpeNameSearch=false&query=Injection&results_type=overview&form_type=Basic&search_type=all&startIndex=180', '/vuln/search/results?isCpeNameSearch=false&query=Injection&results_type=overview&form_type=Basic&search_type=all&startIndex=20', '/vuln/search/results?isCpeNameSearch=false&query=Injection&results_type=overview&form_type=Basic&search_type=all&startIndex=12640', '/vuln-metrics/cvss/v3-calculator?name=CVE-2021-36011&vector=AV:N/AC:H/PR:N/UI:R/S:C/C:H/I:H/A:H&version=3.1&source=Adobe%20Systems%20Incorporated', '/vuln/search/results?isCpeNameSearch=false&query=Injection&results_type=overview&form_type=Basic&search_type=all&startIndex=0', '/vuln/search/results?isCpeNameSearch=false&query=Injection&results_type=overview&form_type=Basic&search_type=all&startIndex=20', '/vuln/search/results?isCpeNameSearch=false&query=Injection&results_type=overview&form_type=Basic&search_type=all&startIndex=40', '/vuln/search/results?isCpeNameSearch=false&query=Injection&results_type=overview&form_type=Basic&search_type=all&startIndex=60', '/vuln/search/results?isCpeNameSearch=false&query=Injection&results_type=overview&form_type=Basic&search_type=all&startIndex=80', '/vuln/search/results?isCpeNameSearch=false&query=Injection&results_type=overview&form_type=Basic&search_type=all&startIndex=100', '/vuln/search/results?isCpeNameSearch=false&query=Injection&results_type=overview&form_type=Basic&search_type=all&startIndex=120', '/vuln/search/results?isCpeNameSearch=false&query=Injection&results_type=overview&form_type=Basic&search_type=all&startIndex=140', '/vuln/search/results?isCpeNameSearch=false&query=Injection&results_type=overview&form_type=Basic&search_type=all&startIndex=160', '/vuln/search/results?isCpeNameSearch=false&query=Injection&results_type=overview&form_type=Basic&search_type=all&startIndex=180', '/vuln/search/results?isCpeNameSearch=false&query=Injection&results_type=overview&form_type=Basic&search_type=all&startIndex=20', '/vuln/search/results?isCpeNameSearch=false&query=Injection&results_type=overview&form_type=Basic&search_type=all&startIndex=12640', '/vuln/search/results?isCpeNameSearch=false&query=Injection&results_type=overview&form_type=Basic&search_type=all&startIndex=0', '/vuln/search/results?isCpeNameSearch=false&query=Injection&results_type=overview&form_type=Basic&search_type=all&startIndex=20', '/vuln/search/results?isCpeNameSearch=false&query=Injection&results_type=overview&form_type=Basic&search_type=all&startIndex=40', '/vuln/search/results?isCpeNameSearch=false&query=Injection&results_type=overview&form_type=Basic&search_type=all&startIndex=60', '/vuln/search/results?isCpeNameSearch=false&query=Injection&results_type=overview&form_type=Basic&search_type=all&startIndex=80', '/vuln/search/results?isCpeNameSearch=false&query=Injection&results_type=overview&form_type=Basic&search_type=all&startIndex=100', '/vuln/search/results?isCpeNameSearch=false&query=Injection&results_type=overview&form_type=Basic&search_type=all&startIndex=120', '/vuln/search/results?isCpeNameSearch=false&query=Injection&results_type=overview&form_type=Basic&search_type=all&startIndex=140', '/vuln/search/results?isCpeNameSearch=false&query=Injection&results_type=overview&form_type=Basic&search_type=all&startIndex=160', '/vuln/search/results?isCpeNameSearch=false&query=Injection&results_type=overview&form_type=Basic&search_type=all&startIndex=180', '/vuln/search/results?isCpeNameSearch=false&query=Injection&results_type=overview&form_type=Basic&search_type=all&startIndex=20', '/vuln/search/results?isCpeNameSearch=false&query=Injection&results_type=overview&form_type=Basic&search_type=all&startIndex=12640', '/vuln-metrics/cvss/v3-calculator?name=CVE-2021-36011&vector=AV:N/AC:H/PR:N/UI:R/S:C/C:H/I:H/A:H&version=3.1&source=Adobe%20Systems%20Incorporated', '/vuln/search/results?isCpeNameSearch=false&query=Injection&results_type=overview&form_type=Basic&search_type=all&startIndex=0', '/vuln/search/results?isCpeNameSearch=false&query=Injection&results_type=overview&form_type=Basic&search_type=all&startIndex=20', '/vuln/search/results?isCpeNameSearch=false&query=Injection&results_type=overview&form_type=Basic&search_type=all&startIndex=40', '/vuln/search/results?isCpeNameSearch=false&query=Injection&results_type=overview&form_type=Basic&search_type=all&startIndex=60', '/vuln/search/results?isCpeNameSearch=false&query=Injection&results_type=overview&form_type=Basic&search_type=all&startIndex=80', '/vuln/search/results?isCpeNameSearch=false&query=Injection&results_type=overview&form_type=Basic&search_type=all&startIndex=100', '/vuln/search/results?isCpeNameSearch=false&query=Injection&results_type=overview&form_type=Basic&search_type=all&startIndex=120', '/vuln/search/results?isCpeNameSearch=false&query=Injection&results_type=overview&form_type=Basic&search_type=all&startIndex=140', '/vuln/search/results?isCpeNameSearch=false&query=Injection&results_type=overview&form_type=Basic&search_type=all&startIndex=160', '/vuln/search/results?isCpeNameSearch=false&query=Injection&results_type=overview&form_type=Basic&search_type=all&startIndex=180', '/vuln/search/results?isCpeNameSearch=false&query=Injection&results_type=overview&form_type=Basic&search_type=all&startIndex=20', '/vuln/search/results?isCpeNameSearch=false&query=Injection&results_type=overview&form_type=Basic&search_type=all&startIndex=12640', '/vuln/search/results?isCpeNameSearch=false&query=Injection&results_type=overview&form_type=Basic&search_type=all&startIndex=0', '/vuln/search/results?isCpeNameSearch=false&query=Injection&results_type=overview&form_type=Basic&search_type=all&startIndex=20', '/vuln/search/results?isCpeNameSearch=false&query=Injection&results_type=overview&form_type=Basic&search_type=all&startIndex=40', '/vuln/search/results?isCpeNameSearch=false&query=Injection&results_type=overview&form_type=Basic&search_type=all&startIndex=60', '/vuln/search/results?isCpeNameSearch=false&query=Injection&results_type=overview&form_type=Basic&search_type=all&startIndex=80', '/vuln/search/results?isCpeNameSearch=false&query=Injection&results_type=overview&form_type=Basic&search_type=all&startIndex=100', '/vuln/search/results?isCpeNameSearch=false&query=Injection&results_type=overview&form_type=Basic&search_type=all&startIndex=120', '/vuln/search/results?isCpeNameSearch=false&query=Injection&results_type=overview&form_type=Basic&search_type=all&startIndex=140', '/vuln/search/results?isCpeNameSearch=false&query=Injection&results_type=overview&form_type=Basic&search_type=all&startIndex=160', '/vuln/search/results?isCpeNameSearch=false&query=Injection&results_type=overview&form_type=Basic&search_type=all&startIndex=180', '/vuln/search/results?isCpeNameSearch=false&query=Injection&results_type=overview&form_type=Basic&search_type=all&startIndex=20', '/vuln/search/results?isCpeNameSearch=false&query=Injection&results_type=overview&form_type=Basic&search_type=all&startIndex=12640', '/vuln-metrics/cvss/v3-calculator?name=CVE-2021-36011&vector=AV:N/AC:H/PR:N/UI:R/S:C/C:H/I:H/A:H&version=3.1&source=Adobe%20Systems%20Incorporated', '/vuln/search/results?isCpeNameSearch=false&query=Injection&results_type=overview&form_type=Basic&search_type=all&startIndex=0', '/vuln/search/results?isCpeNameSearch=false&query=Injection&results_type=overview&form_type=Basic&search_type=all&startIndex=20', '/vuln/search/results?isCpeNameSearch=false&query=Injection&results_type=overview&form_type=Basic&search_type=all&startIndex=40', '/vuln/search/results?isCpeNameSearch=false&query=Injection&results_type=overview&form_type=Basic&search_type=all&startIndex=60', '/vuln/search/results?isCpeNameSearch=false&query=Injection&results_type=overview&form_type=Basic&search_type=all&startIndex=80', '/vuln/search/results?isCpeNameSearch=false&query=Injection&results_type=overview&form_type=Basic&search_type=all&startIndex=100', '/vuln/search/results?isCpeNameSearch=false&query=Injection&results_type=overview&form_type=Basic&search_type=all&startIndex=120', '/vuln/search/results?isCpeNameSearch=false&query=Injection&results_type=overview&form_type=Basic&search_type=all&startIndex=140', '/vuln/search/results?isCpeNameSearch=false&query=Injection&results_type=overview&form_type=Basic&search_type=all&startIndex=160', '/vuln/search/results?isCpeNameSearch=false&query=Injection&results_type=overview&form_type=Basic&search_type=all&startIndex=180', '/vuln/search/results?isCpeNameSearch=false&query=Injection&results_type=overview&form_type=Basic&search_type=all&startIndex=20', '/vuln/search/results?isCpeNameSearch=false&query=Injection&results_type=overview&form_type=Basic&search_type=all&startIndex=12640']\n",
            "/vuln/search/results?isCpeNameSearch=false&query=Injection&results_type=overview&form_type=Basic&search_type=all&startIndex=20\n"
          ],
          "name": "stdout"
        }
      ]
    },
    {
      "cell_type": "code",
      "metadata": {
        "colab": {
          "base_uri": "https://localhost:8080/"
        },
        "id": "Hs5Dm3Asqx-f",
        "outputId": "af08090f-bdf9-430a-80d7-0f9b5b04d7bc"
      },
      "source": [
        "url_1 = 'https://nvd.nist.gov' + final[1]\n",
        "print(url_1)"
      ],
      "execution_count": null,
      "outputs": [
        {
          "output_type": "stream",
          "text": [
            "https://nvd.nist.gov/vuln/search/results?isCpeNameSearch=false&query=Injection&results_type=overview&form_type=Basic&search_type=all&startIndex=20\n"
          ],
          "name": "stdout"
        }
      ]
    },
    {
      "cell_type": "code",
      "metadata": {
        "id": "cY1p30_TrKb_",
        "colab": {
          "base_uri": "https://localhost:8080/"
        },
        "outputId": "d5bc0560-8f8e-4b87-dc77-e9173c008f31"
      },
      "source": [
        "#webpage1 = requests.get('https://nvd.nist.gov' + final[0]) #final[0] refers to the first web page link\n",
        "query = \"Injection\"\n",
        "url_nvd = \"https://nvd.nist.gov/vuln/search/results?form_type=Basic&results_type=overview&query=Injection&search_type=all&isCpeNameSearch=false\"\n",
        "url_wiki = 'https://en.wikipedia.org/wiki/SQL_injection'\n",
        "def crawler(url):\n",
        "    webpage = requests.get(url)\n",
        "    webpagetext = BeautifulSoup(webpage.text, \"html.parser\")\n",
        "    all_p = webpagetext.find_all('p')\n",
        "    text = \"\"\n",
        "    for item in all_p:\n",
        "        text = text + item.get_text()\n",
        "    return text\n",
        "text_nvd = crawler(url_nvd)    \n",
        "text_wiki = crawler(url_wiki)    \n",
        "print(text_nvd,text_wiki)"
      ],
      "execution_count": null,
      "outputs": [
        {
          "output_type": "stream",
          "text": [
            "\r\n",
            "\t\t\tThis is a potential security issue, you are being redirected to https://nvd.nist.gov\n",
            "\n",
            "NVD Dashboard\n",
            "\n",
            "News\n",
            "\n",
            "Email List\n",
            "\n",
            "FAQ\n",
            "\n",
            "Visualizations\n",
            "\n",
            "Search & Statistics\n",
            "\n",
            "Full Listing\n",
            "\n",
            "Categories\n",
            "\n",
            "Data Feeds\n",
            "\n",
            "Vendor Comments\n",
            "\n",
            "CVMAP\n",
            "\n",
            "CVSS V3\r\n",
            "\t\t\t\t\t\t\t\t\t\t\tCalculator\n",
            "\n",
            "CVSS V2\r\n",
            "\t\t\t\t\t\t\t\t\t\t\tCalculator\n",
            "\n",
            "CPE Dictionary\n",
            "\n",
            "CPE Search\n",
            "\n",
            "CPE Statistics\n",
            "\n",
            "SWID\n",
            "\n",
            "Checklist (NCP) Repository\n",
            "\n",
            "Configurations (CCE)\n",
            "\n",
            "800-53 Controls\n",
            "\n",
            "SCAP\r\n",
            "\t\t\t\t\t\t\t\t\t\t\tValidated Tools\n",
            "\n",
            "SCAP\n",
            "\n",
            "USGCB\n",
            "\n",
            "Vulnerability Search\n",
            "\n",
            "CPE Search\n",
            "The update functionality in the rslider_page uses an rs_id POST parameter which is not validated, sanitised or escaped before being inserted in sql query, therefore leading to SQL injection for users having Administrator role.The daac_delete_booking_callback function, hooked to the daac_delete_booking AJAX action, takes the id POST parameter which is passed into the SQL statement without proper sanitisation, validation or escaping, leading to a SQL Injection issue. Furthermore, the ajax action is lacking any CSRF and capability check, making it available to any authenticated user.The Paytm â€“ Donation Plugin WordPress plugin through 1.3.2 does not sanitise, validate or escape the id GET parameter before using it in a SQL statement when deleting donations, leading to an authenticated SQL injection issueThe Timeline Calendar WordPress plugin through 1.2 does not sanitise, validate or escape the edit GET parameter before using it in a SQL statement when editing events, leading to an authenticated SQL injection issue. Other SQL Injections are also present in the pluginThe Simple Events Calendar WordPress plugin through 1.4.0 does not sanitise, validate or escape the event_id POST parameter before using it in a SQL statement when deleting events, leading to an authenticated SQL injection issueThe Edit Comments WordPress plugin through 0.3 does not sanitise, validate or escape the jal_edit_comments GET parameter before using it in a SQL statement, leading to a SQL injection issueThe Broken Link Manager WordPress plugin through 0.6.5 does not sanitise, validate or escape the url GET parameter before using it in a SQL statement when retrieving an URL to edit, leading to an authenticated SQL injection issueThe Slider Hero with Animation, Video Background & Intro Maker WordPress plugin before 8.2.7 does not sanitise or escape the id attribute of its hero-button shortcode before using it in a SQL statement, allowing users with a role as low as Contributor to perform SQL injection.The Giveaway WordPress plugin through 1.2.2 is vulnerable to an SQL Injection issue which allows an administrative user to execute arbitrary SQL commands via the $post_id on the options.php page.Authenticated Semi-Blind Command Injection (via Parameter Injection) exists on Altus Nexto, Nexto Xpress, and Hadron Xtorm devices via the getlogs.cgi tcpdump feature. This affects Nexto NX3003 1.8.11.0, Nexto NX3004 1.8.11.0, Nexto NX3005 1.8.11.0, Nexto NX3010 1.8.3.0, Nexto NX3020 1.8.3.0, Nexto NX3030 1.8.3.0, Nexto NX5100 1.8.11.0, Nexto NX5101 1.8.11.0, Nexto NX5110 1.1.2.8, Nexto NX5210 1.1.2.8, Nexto Xpress XP300 1.8.11.0, Nexto Xpress XP315 1.8.11.0, Nexto Xpress XP325 1.8.11.0, Nexto Xpress XP340 1.8.11.0, and Hadron Xtorm HX3040 1.7.58.0.An XML external entity (XXE) injection in PyWPS before 4.5.0 allows an attacker to view files on the application server filesystem by assigning a path to the entity. OWSLib 0.24.1 may also be affected.Canon Oce Print Exec Workgroup 1.3.2 allows Host header injection.Adobe Illustrator version 25.2.3 (and earlier) is affected by a potential Command injection vulnerability when chained with a development and debugging tool for JavaScript scripts. An unauthenticated attacker could leverage this vulnerability to achieve arbitrary code execution in the context of the current user. Exploitation of this issue requires user interaction in that a victim must open a malicious file.A SQL Injection issue in the list controller of the Prestahome Blog (aka ph_simpleblog) module before 1.7.8 for Prestashop allows a remote attacker to extract data from the database via the sb_category parameter.Command Injection in PHPMyWind v5.6 allows remote attackers to execute arbitrary code via the \"text color\" field of the component '/admin/web_config.php'.SQL Injection in Wuzhi CMS v4.1.0 allows remote attackers to obtain sensitive information via the 'flag' parameter in the component '/coreframe/app/order/admin/index.php'.MISP 2.4.148, in certain configurations, allows SQL injection via the app/Model/Log.php $conditions['org'] value.A SQL injection vulnerability was discovered in the editid parameter in Local Services Search Engine Management System Project 1.0. This vulnerability gives admin users the ability to dump all data from the database.A SQL injection vulnerability in /oa.php?c=Staff&a=read of Find a Place LJCMS v 1.3 allows attackers to access sensitive database information via a crafted POST request.Pimcore is an open source data & experience management platform. Prior to version 10.1.1, Data Object CSV import allows formular injection. The problem is patched in 10.1.1. Aside from upgrading, one may apply the patch manually as a workaround.\n",
            "Privacy Statement\r\n",
            "            \t\t\t|\r\n",
            "            \t\t\tPrivacy Policy\r\n",
            "            \t\t\t|\r\n",
            "              \t\t\tSecurity Notice\r\n",
            "            \t\t\t|\r\n",
            "              \t\t\tAccessibility Statement\r\n",
            "            \t\t\t|\r\n",
            "              \t\t\tNIST Privacy Program\r\n",
            "            \t\t\t|\r\n",
            "              \t\t\tNo Fear Act Policy\r\n",
            "            \t\t\t|\r\n",
            "              \t\t\tDisclaimer\r\n",
            "            \t\t\t|\r\n",
            "              \t\t\tFOIA\r\n",
            "            \t\t\t|\r\n",
            "              \t\t\tEnvironmental Policy Statement\r\n",
            "            \t\t\t|\r\n",
            "              \t\t\tCookie Disclaimer\r\n",
            "            \t\t\t|\r\n",
            "              \t\t\tScientific Integrity Summary\r\n",
            "            \t\t\t|\r\n",
            "              \t\t\tNIST Information Quality Standards\r\n",
            "            \t\t\t|\r\n",
            "              \t\t\tCommerce.gov\r\n",
            "            \t\t\t|\r\n",
            "              \t\t\tHealthcare.gov\r\n",
            "            \t\t\t|\r\n",
            "              \t\t\tScience.gov\r\n",
            "            \t\t\t|\r\n",
            "              \t\t\tUSA.gov\r\n",
            "            \t\t\t|\r\n",
            "            \t\t \n",
            "SQL injection is a code injection technique used  to attack data-driven applications, in which malicious SQL statements are inserted into an entry field for execution (e.g. to dump the database contents to the attacker).[1] SQL injection must exploit a security vulnerability in an application's software, for example, when user input is either incorrectly filtered for string literal escape characters embedded in SQL statements or user input is not strongly typed and unexpectedly executed. SQL injection is mostly known as an attack vector for websites but can be used to attack any type of SQL database.\n",
            "SQL injection attacks allow attackers to spoof identity, tamper with existing data, cause repudiation issues such as voiding transactions or changing balances, allow the complete disclosure of all data on the system, destroy the data or make it otherwise unavailable, and become administrators of the database server.\n",
            "In a 2012 study, it was observed that the average web application received four attack campaigns per month, and retailers received twice as many attacks as other industries.[2]\n",
            "The first public discussions of SQL injection started appearing around 1998;[3] for example, a 1998 article in Phrack Magazine.[4]\n",
            "SQL injection (SQLI) was considered one of the top 10 web application vulnerabilities of 2007 and 2010 by the Open Web Application Security Project.[5] In 2013, SQLI was rated the number one attack on the OWASP top ten.[6] There are four main sub-classes of SQL injection:\n",
            "The Storm Worm is one representation of Compounded SQLI.[11]\n",
            "This classification represents the state of SQLI, respecting its evolution until 2010—further refinement is underway.[12]\n",
            "This form of injection relies on the fact that SQL statements consist of both data used by the SQL statement and commands that control how the SQL statement is executed. For example, in the SQL statement select * from person where name = 'susan' and age = 2 the string 'susan' is data and the fragment and age = 2 is an example of a command (the value 2 is also data in this example).\n",
            "SQL injection occurs when specially crafted user input is processed by the receiving program in a way that allows the input to exit a data context and enter a command context. This allows the attacker to alter the structure of the SQL statement which is executed. \n",
            "As a simple example, imagine that the data 'susan' in the above statement was provided by user input. The user entered the string 'susan' (without the apostrophes) in a web form text entry field, and the program used string concatenation statements to form the above SQL statement from the three fragments select * from person where name=', the user input of 'susan', and ' and age = 2.\n",
            "Now imagine that instead of entering 'susan' the attacker entered ' or 1=1; --.\n",
            "The program will use the same string concatenation approach with the 3 fragments of select * from person where name=', the user input of ' or 1=1; --, and ' and age = 2 and construct the statement select * from person where name='' or 1=1; -- and age = 2. Many databases will ignore the text after the '--' string as this denotes a comment. The structure of the SQL command is now select * from person where name='' or 1=1; and this will select all person rows rather than just those named 'susan' whose age is 2. The attacker has managed to craft a data string which exits the data context and entered a command context.\n",
            "A more complex example is now presented. \n",
            "Imagine a program creates a SQL statement using the following string assignment command :\n",
            "var statement = \"SELECT * FROM users WHERE name = '\" + userName + \"'\";\n",
            "This SQL code is designed to pull up the records of the specified username from its table of users. However, if the \"userName\" variable is crafted in a specific way by a malicious user, the SQL statement may do more than the code author intended. For example, setting the \"userName\" variable as:\n",
            "or using comments to even block the rest of the query (there are three types of SQL comments[13]). All three lines have a space at the end:\n",
            "renders one of the following SQL statements by the parent language:\n",
            "If this code were to be used in authentication procedure then this example could be used to force the selection of every data field (*) from all users rather than from one specific user name as the coder intended,  because the evaluation of '1'='1' is always true.\n",
            "The following value of \"userName\" in the statement below would cause the deletion of the \"users\" table as well as the selection of all data from the \"userinfo\" table (in essence revealing the information of every user), using an API that allows multiple statements:\n",
            "This input renders the final SQL statement as follows and specified:\n",
            "While most SQL server implementations allow multiple statements to be executed with one call in this way, some SQL APIs such as PHP's mysql_query() function do not allow this for security reasons. This prevents attackers from injecting entirely separate queries, but doesn't stop them from modifying queries.\n",
            "Blind SQL injection is used when a web application is vulnerable to an SQL injection but the results of the injection are not visible to the attacker. The page with the vulnerability may not be one that displays data but will display differently depending on the results of a logical statement injected into the legitimate SQL statement called for that page.\n",
            "This type of attack has traditionally been considered time-intensive because a new statement needed to be crafted for each bit recovered, and depending on its structure, the attack may consist of many unsuccessful requests. Recent advancements have allowed each request to recover multiple bits, with no unsuccessful requests, allowing for more consistent and efficient extraction.[14] There are several tools that can automate these attacks once the location of the vulnerability and the target information has been established.[15]\n",
            "One type of blind SQL injection forces the database to evaluate a logical statement on an ordinary application screen. As an example, a book review website uses a query string to determine which book review to display. So the URL https://books.example.com/review?id=5 would cause the server to run the query\n",
            "from which it would populate the review page with data from the review with ID 5, stored in the table bookreviews. The query happens completely on the server; the user does not know the names of the database, table, or fields, nor does the user know the query string. The user only sees that the above URL returns a book review. A hacker can load the URLs https://books.example.com/review?id=5 OR 1=1 and https://books.example.com/review?id=5 AND 1=2, which may result in queries\n",
            "respectively. If the original review loads with the \"1=1\" URL and a blank or error page is returned from the \"1=2\" URL, and the returned page has not been created to alert the user the input is invalid, or in other words, has been caught by an input test script, the site is likely vulnerable to an SQL injection attack as the query will likely have passed through successfully in both cases. The hacker may proceed with this query string designed to reveal the version number of MySQL running on the server: https://books.example.com/review?id=5 AND substring(@@version, 1, INSTR(@@version, '.') - 1)=4, which would show the book review on a server running MySQL 4 and a blank or error page otherwise. The hacker can continue to use code within query strings to achieve their goal directly, or to glean more information from the server in hopes of discovering another avenue of attack.[16][17]\n",
            "Second order SQL injection occurs when submitted values contain malicious commands that are stored rather than executed immediately.  In some cases, the application may correctly encode an SQL statement and store it as valid SQL.  Then, another part of that application without controls to protect against SQL injection might execute that stored SQL statement.  This attack requires more knowledge of how submitted values are later used.  Automated web application security scanners would not easily detect this type of SQL injection and may need to be manually instructed where to check for evidence that it is being attempted.\n",
            "An SQL injection is a well known attack and easily prevented by simple measures. After an apparent SQL injection attack on TalkTalk in 2015, the BBC reported that security experts were stunned that such a large company would be vulnerable to it.[18]\n",
            "Developers can use ORM frameworks such as Hibernate[19] to create database queries in a safe and developer-friendly way. Since database queries are no longer constructed as strings, there is no danger of an injection vulnerability.[20]\n",
            "While WAF products such as ModSecurity CRS[21] cannot prevent SQL injection vulnerabilities from creeping into a codebase, they can make discovery and exploitation significantly more challenging to an attacker.\n",
            "SQL injection filtering works in similar way to emails spam filters. Database firewalls detect SQL injections based on the number of invalid queries from host, the presence of OR and UNION blocks inside of the request, or other characteristics.[22]\n",
            "With most development platforms, parameterized statements that work with parameters can be used  (sometimes called placeholders or bind variables) instead of embedding user input in the statement. A placeholder can only store a value of the given type and not an arbitrary SQL fragment. Hence the SQL injection would simply be treated as a strange (and probably invalid) parameter value. In many cases, the SQL statement is fixed, and each parameter is a scalar, not a table. The user input is then assigned (bound) to a parameter.[23]\n",
            "Easily put, using parameterized queries can definitely prevent SQL injection. This mainly means that your variables aren't query strings that would accept arbitrary SQL inputs, however, some parameters of given types are definitely necessary. Parameterized queries require the developer to define all the code. Therefore, without parameterized queries, anyone could put any kind of SQL code into the field, and have the database erased. But if the parameters were to set to '@username' then the person would only be able to put in a username without any kind of code.[24]\n",
            "Using object-relational mapping libraries avoids the need to write SQL code. The ORM library in effect will generate parameterized SQL statements from object-oriented code.\n",
            "A popular, though error-prone and ultimately doomed way to prevent injections is to attempt to escape all characters that have a special meaning in SQL. The manual for an SQL DBMS explains which characters have a special meaning, which allows creating a comprehensive blacklist of characters that need translation. For instance, every occurrence of a single quote (') in a parameter must be replaced by two single quotes ('') to form a valid SQL string literal. For example, in PHP it is usual to escape parameters using the function mysqli_real_escape_string(); before sending the SQL query:\n",
            "This function prepends backslashes to the following characters: \\x00, \\n, \\r, \\, ', \" and \\x1a.\n",
            "This function is normally used to make data safe before sending a query to MySQL.[25] PHP has similar functions for other database systems such as pg_escape_string() for PostgreSQL. The function addslashes(string $str) works for escaping characters, and is used especially for querying on databases that do not have escaping functions in PHP.  It returns a string with backslashes before characters that need to be escaped in database queries, etc. These characters are single quote ('), double quote (\"), backslash (\\) and NUL (the NULL byte).[26]\n",
            "Routinely passing escaped strings to SQL is error prone because it is easy to forget to escape a given string. Creating a transparent layer to secure the input can reduce this error-proneness, if not entirely eliminate it.[27]\n",
            "Integer, float or boolean, string parameters can be checked if their value is valid representation for the given type. Strings that must follow some strict pattern (date, UUID, alphanumeric only, etc.) can be checked if they match this pattern.\n",
            "Limiting the permissions on the database login used by the web application to only what is needed may help reduce the effectiveness of any SQL injection attacks that exploit any bugs in the web application.\n",
            "For example, on Microsoft SQL Server, a database logon could be restricted from selecting on some of the system tables which would limit exploits that try to insert JavaScript into all the text columns in the database.\n",
            "\n"
          ],
          "name": "stdout"
        }
      ]
    },
    {
      "cell_type": "markdown",
      "metadata": {
        "id": "5Rxvcib30vrG"
      },
      "source": [
        "## Text (sentence) from wiki for \"Injection\""
      ]
    },
    {
      "cell_type": "markdown",
      "metadata": {
        "id": "sw8M5qFBbFNJ"
      },
      "source": [
        "## Text extraction from the intractive fields \n"
      ]
    },
    {
      "cell_type": "code",
      "metadata": {
        "id": "RRK7Zq0gbOr8"
      },
      "source": [
        "# import json\n",
        "# import urllib\n",
        "\n",
        "# # url for the request,  url_nvd\n",
        "# response = urllib.request.urlopen(url_nvd)\n",
        "\n",
        "# # load as json\n",
        "# jresponse = json.load(response)\n",
        "\n",
        "# # write to file as pretty print\n",
        "# with open('asdaresp.json', 'w') as outfile:\n",
        "#     json.dump(jresponse, outfile, sort_keys=True, indent=4)"
      ],
      "execution_count": null,
      "outputs": []
    },
    {
      "cell_type": "code",
      "metadata": {
        "colab": {
          "base_uri": "https://localhost:8080/"
        },
        "id": "1fK3d7hmcfug",
        "outputId": "48697e54-152d-44b1-8f67-b3d5a389801c"
      },
      "source": [
        "!pip install selenium"
      ],
      "execution_count": null,
      "outputs": [
        {
          "output_type": "stream",
          "text": [
            "Collecting selenium\n",
            "  Downloading selenium-3.141.0-py2.py3-none-any.whl (904 kB)\n",
            "\u001b[?25l\r\u001b[K     |▍                               | 10 kB 19.2 MB/s eta 0:00:01\r\u001b[K     |▊                               | 20 kB 24.6 MB/s eta 0:00:01\r\u001b[K     |█                               | 30 kB 12.4 MB/s eta 0:00:01\r\u001b[K     |█▌                              | 40 kB 9.1 MB/s eta 0:00:01\r\u001b[K     |█▉                              | 51 kB 5.0 MB/s eta 0:00:01\r\u001b[K     |██▏                             | 61 kB 5.2 MB/s eta 0:00:01\r\u001b[K     |██▌                             | 71 kB 5.7 MB/s eta 0:00:01\r\u001b[K     |███                             | 81 kB 6.5 MB/s eta 0:00:01\r\u001b[K     |███▎                            | 92 kB 4.7 MB/s eta 0:00:01\r\u001b[K     |███▋                            | 102 kB 5.1 MB/s eta 0:00:01\r\u001b[K     |████                            | 112 kB 5.1 MB/s eta 0:00:01\r\u001b[K     |████▍                           | 122 kB 5.1 MB/s eta 0:00:01\r\u001b[K     |████▊                           | 133 kB 5.1 MB/s eta 0:00:01\r\u001b[K     |█████                           | 143 kB 5.1 MB/s eta 0:00:01\r\u001b[K     |█████▍                          | 153 kB 5.1 MB/s eta 0:00:01\r\u001b[K     |█████▉                          | 163 kB 5.1 MB/s eta 0:00:01\r\u001b[K     |██████▏                         | 174 kB 5.1 MB/s eta 0:00:01\r\u001b[K     |██████▌                         | 184 kB 5.1 MB/s eta 0:00:01\r\u001b[K     |██████▉                         | 194 kB 5.1 MB/s eta 0:00:01\r\u001b[K     |███████▎                        | 204 kB 5.1 MB/s eta 0:00:01\r\u001b[K     |███████▋                        | 215 kB 5.1 MB/s eta 0:00:01\r\u001b[K     |████████                        | 225 kB 5.1 MB/s eta 0:00:01\r\u001b[K     |████████▎                       | 235 kB 5.1 MB/s eta 0:00:01\r\u001b[K     |████████▊                       | 245 kB 5.1 MB/s eta 0:00:01\r\u001b[K     |█████████                       | 256 kB 5.1 MB/s eta 0:00:01\r\u001b[K     |█████████▍                      | 266 kB 5.1 MB/s eta 0:00:01\r\u001b[K     |█████████▉                      | 276 kB 5.1 MB/s eta 0:00:01\r\u001b[K     |██████████▏                     | 286 kB 5.1 MB/s eta 0:00:01\r\u001b[K     |██████████▌                     | 296 kB 5.1 MB/s eta 0:00:01\r\u001b[K     |██████████▉                     | 307 kB 5.1 MB/s eta 0:00:01\r\u001b[K     |███████████▎                    | 317 kB 5.1 MB/s eta 0:00:01\r\u001b[K     |███████████▋                    | 327 kB 5.1 MB/s eta 0:00:01\r\u001b[K     |████████████                    | 337 kB 5.1 MB/s eta 0:00:01\r\u001b[K     |████████████▎                   | 348 kB 5.1 MB/s eta 0:00:01\r\u001b[K     |████████████▊                   | 358 kB 5.1 MB/s eta 0:00:01\r\u001b[K     |█████████████                   | 368 kB 5.1 MB/s eta 0:00:01\r\u001b[K     |█████████████▍                  | 378 kB 5.1 MB/s eta 0:00:01\r\u001b[K     |█████████████▊                  | 389 kB 5.1 MB/s eta 0:00:01\r\u001b[K     |██████████████▏                 | 399 kB 5.1 MB/s eta 0:00:01\r\u001b[K     |██████████████▌                 | 409 kB 5.1 MB/s eta 0:00:01\r\u001b[K     |██████████████▉                 | 419 kB 5.1 MB/s eta 0:00:01\r\u001b[K     |███████████████▏                | 430 kB 5.1 MB/s eta 0:00:01\r\u001b[K     |███████████████▋                | 440 kB 5.1 MB/s eta 0:00:01\r\u001b[K     |████████████████                | 450 kB 5.1 MB/s eta 0:00:01\r\u001b[K     |████████████████▎               | 460 kB 5.1 MB/s eta 0:00:01\r\u001b[K     |████████████████▋               | 471 kB 5.1 MB/s eta 0:00:01\r\u001b[K     |█████████████████               | 481 kB 5.1 MB/s eta 0:00:01\r\u001b[K     |█████████████████▍              | 491 kB 5.1 MB/s eta 0:00:01\r\u001b[K     |█████████████████▊              | 501 kB 5.1 MB/s eta 0:00:01\r\u001b[K     |██████████████████▏             | 512 kB 5.1 MB/s eta 0:00:01\r\u001b[K     |██████████████████▌             | 522 kB 5.1 MB/s eta 0:00:01\r\u001b[K     |██████████████████▉             | 532 kB 5.1 MB/s eta 0:00:01\r\u001b[K     |███████████████████▏            | 542 kB 5.1 MB/s eta 0:00:01\r\u001b[K     |███████████████████▋            | 552 kB 5.1 MB/s eta 0:00:01\r\u001b[K     |████████████████████            | 563 kB 5.1 MB/s eta 0:00:01\r\u001b[K     |████████████████████▎           | 573 kB 5.1 MB/s eta 0:00:01\r\u001b[K     |████████████████████▋           | 583 kB 5.1 MB/s eta 0:00:01\r\u001b[K     |█████████████████████           | 593 kB 5.1 MB/s eta 0:00:01\r\u001b[K     |█████████████████████▍          | 604 kB 5.1 MB/s eta 0:00:01\r\u001b[K     |█████████████████████▊          | 614 kB 5.1 MB/s eta 0:00:01\r\u001b[K     |██████████████████████          | 624 kB 5.1 MB/s eta 0:00:01\r\u001b[K     |██████████████████████▌         | 634 kB 5.1 MB/s eta 0:00:01\r\u001b[K     |██████████████████████▉         | 645 kB 5.1 MB/s eta 0:00:01\r\u001b[K     |███████████████████████▏        | 655 kB 5.1 MB/s eta 0:00:01\r\u001b[K     |███████████████████████▌        | 665 kB 5.1 MB/s eta 0:00:01\r\u001b[K     |████████████████████████        | 675 kB 5.1 MB/s eta 0:00:01\r\u001b[K     |████████████████████████▎       | 686 kB 5.1 MB/s eta 0:00:01\r\u001b[K     |████████████████████████▋       | 696 kB 5.1 MB/s eta 0:00:01\r\u001b[K     |█████████████████████████       | 706 kB 5.1 MB/s eta 0:00:01\r\u001b[K     |█████████████████████████▍      | 716 kB 5.1 MB/s eta 0:00:01\r\u001b[K     |█████████████████████████▊      | 727 kB 5.1 MB/s eta 0:00:01\r\u001b[K     |██████████████████████████      | 737 kB 5.1 MB/s eta 0:00:01\r\u001b[K     |██████████████████████████▍     | 747 kB 5.1 MB/s eta 0:00:01\r\u001b[K     |██████████████████████████▉     | 757 kB 5.1 MB/s eta 0:00:01\r\u001b[K     |███████████████████████████▏    | 768 kB 5.1 MB/s eta 0:00:01\r\u001b[K     |███████████████████████████▌    | 778 kB 5.1 MB/s eta 0:00:01\r\u001b[K     |████████████████████████████    | 788 kB 5.1 MB/s eta 0:00:01\r\u001b[K     |████████████████████████████▎   | 798 kB 5.1 MB/s eta 0:00:01\r\u001b[K     |████████████████████████████▋   | 808 kB 5.1 MB/s eta 0:00:01\r\u001b[K     |█████████████████████████████   | 819 kB 5.1 MB/s eta 0:00:01\r\u001b[K     |█████████████████████████████▍  | 829 kB 5.1 MB/s eta 0:00:01\r\u001b[K     |█████████████████████████████▊  | 839 kB 5.1 MB/s eta 0:00:01\r\u001b[K     |██████████████████████████████  | 849 kB 5.1 MB/s eta 0:00:01\r\u001b[K     |██████████████████████████████▍ | 860 kB 5.1 MB/s eta 0:00:01\r\u001b[K     |██████████████████████████████▉ | 870 kB 5.1 MB/s eta 0:00:01\r\u001b[K     |███████████████████████████████▏| 880 kB 5.1 MB/s eta 0:00:01\r\u001b[K     |███████████████████████████████▌| 890 kB 5.1 MB/s eta 0:00:01\r\u001b[K     |███████████████████████████████▉| 901 kB 5.1 MB/s eta 0:00:01\r\u001b[K     |████████████████████████████████| 904 kB 5.1 MB/s \n",
            "\u001b[?25hRequirement already satisfied: urllib3 in /usr/local/lib/python3.7/dist-packages (from selenium) (1.24.3)\n",
            "Installing collected packages: selenium\n",
            "Successfully installed selenium-3.141.0\n"
          ],
          "name": "stdout"
        }
      ]
    },
    {
      "cell_type": "code",
      "metadata": {
        "colab": {
          "base_uri": "https://localhost:8080/"
        },
        "id": "sKyy54TFckjW",
        "outputId": "cf23f8f0-3443-43d6-9eee-38c5a56a7034"
      },
      "source": [
        "!pip install chromedriver"
      ],
      "execution_count": null,
      "outputs": [
        {
          "output_type": "stream",
          "text": [
            "Collecting chromedriver\n",
            "  Downloading chromedriver-2.24.1-py2.py3-none-any.whl (14.3 MB)\n",
            "\u001b[K     |████████████████████████████████| 14.3 MB 104 kB/s \n",
            "\u001b[?25hInstalling collected packages: chromedriver\n",
            "Successfully installed chromedriver-2.24.1\n"
          ],
          "name": "stdout"
        }
      ]
    },
    {
      "cell_type": "code",
      "metadata": {
        "id": "wQkLLXB3cvXk"
      },
      "source": [
        "from selenium import webdriver\n",
        "from selenium.webdriver.chrome.options import Options\n",
        "\n",
        "options = Options()\n",
        "options.headless = True\n",
        "options.add_argument(\"--window-size=1920,1200\")\n",
        "driver = webdriver.Chrome(options=options, executable_path=r'/usr/local/bin/chromedriver')\n",
        "driver.get(url_nvd)\n",
        "driver.save_screenshot('hn_homepage.png')\n",
        "driver.quit()"
      ],
      "execution_count": null,
      "outputs": []
    },
    {
      "cell_type": "code",
      "metadata": {
        "id": "3w9tTIyEsEDf"
      },
      "source": [
        "import gensim\n",
        "# Operating System\n",
        "import os\n",
        "# Regular Expression\n",
        "import re\n",
        "# nltk packages\n",
        "from nltk.tokenize import sent_tokenize, word_tokenize\n",
        "from nltk.stem.porter import *\n",
        "from nltk.stem.snowball import SnowballStemmer\n",
        "# Basic Packages\n",
        "import pandas as pd\n",
        "import numpy as np\n",
        "from matplotlib import pyplot as plt\n",
        "# PCA Package\n",
        "from sklearn.decomposition import PCA\n",
        "stemmer = SnowballStemmer(\"english\")"
      ],
      "execution_count": null,
      "outputs": []
    },
    {
      "cell_type": "code",
      "metadata": {
        "id": "iunZBQpXZFlq"
      },
      "source": [
        "stopWords = pd.read_csv('stopwords.txt').values\n",
        "\n",
        "class MySentences(object):\n",
        "    def __init__(self, fnamelist):\n",
        "        self.fnamelist = fnamelist\n",
        "        # Creating a set of vocabulary\n",
        "        self.vocabulary = set([])\n",
        "\n",
        "    def __iter__(self):\n",
        "        for fname in self.fnamelist:\n",
        "            for line in open(fname, encoding='latin1'):\n",
        "                # Find all the words that has letters from 2 - 15. If the words are longer than that ignore.\n",
        "                words = re.findall(r'(\\b[A-Za-z][a-z]{2,15}\\b)', line)\n",
        "                # Stemming a word.\n",
        "                words = [ stemmer.stem(word.lower()) for word in words if not word.lower() in stopWords]\n",
        "                for word in words:\n",
        "                    self.vocabulary.add(word)\n",
        "                yield words\n",
        "sentences_nvd = MySentences(text_nvd) # a memory-friendly iterator \n",
        "sentences_wiki = MySentences(text_wiki) # a memory-friendly iterator \n"
      ],
      "execution_count": null,
      "outputs": []
    },
    {
      "cell_type": "code",
      "metadata": {
        "id": "201VKlADsobS"
      },
      "source": [
        "from nltk.tokenize import word_tokenize, sent_tokenize\n",
        "tokenized_nvd = sent_tokenize(text_nvd)\n",
        "tokenized_wiki = sent_tokenize(text_wiki)\n"
      ],
      "execution_count": null,
      "outputs": []
    },
    {
      "cell_type": "code",
      "metadata": {
        "id": "uKjarHD9sK_m"
      },
      "source": [
        "text_nvd = crawler(url_nvd)    # input nvd url for the keyword e.g., Injection, return the text from the nvd website\n",
        "text_wiki = crawler(url_wiki)  # input wiki url for the keyword e.g., Injection, return the text from the wiki website\n",
        "sentences_nvd = MySentences(text_nvd) # a memory-friendly iterator\n",
        "tokenized_nvd = sent_tokenize(text_nvd)"
      ],
      "execution_count": null,
      "outputs": []
    },
    {
      "cell_type": "markdown",
      "metadata": {
        "id": "w-5zN3qwQuz_"
      },
      "source": [
        "Finally, we create an inverted index. We maintain a secondary list called is present store the words that are already present in the inverted index. The variable invind stores the inverted index."
      ]
    },
    {
      "cell_type": "code",
      "metadata": {
        "id": "F1GUixcGuCc2"
      },
      "source": [
        ""
      ],
      "execution_count": null,
      "outputs": []
    },
    {
      "cell_type": "markdown",
      "metadata": {
        "id": "mKwXv5aJhfpM"
      },
      "source": [
        "### Let’s create some sentences, initialize our model, and encode the sentences:"
      ]
    },
    {
      "cell_type": "markdown",
      "metadata": {
        "id": "L48zU7d9kn2N"
      },
      "source": [
        "Take a sentence, convert it into a vector.\n",
        "Take many other sentences, and convert them into vectors.\n",
        "Find sentences that have the smallest distance (Euclidean) or smallest angle (cosine similarity) between them — more on that here.\n",
        "We now have a measure of semantic similarity between sentences — easy!"
      ]
    },
    {
      "cell_type": "code",
      "metadata": {
        "id": "sDTCXCvmeqoS"
      },
      "source": [
        "# Write a few sentences to encode (sentences 0 and 2 are both similar):\n",
        "# sentences = [\n",
        "#     \"Three years later, the coffin was still full of Jello.\",\n",
        "#     \"The fish dreamed of escaping the fishbowl and into the toilet where he saw his friend go.\",\n",
        "#     \"The person box was packed with jelly many dozens of months later.\",\n",
        "#     \"He found a leprechaun in his walnut shell.\"\n",
        "# ]\n",
        "\n",
        "# sentences = sentences.append(text_wiki)\n",
        "# print(sentences[0])"
      ],
      "execution_count": null,
      "outputs": []
    },
    {
      "cell_type": "code",
      "metadata": {
        "id": "DSL_rPPgg7Fw"
      },
      "source": [
        "!pip install sentence-transformers\n",
        "!pip install huggingface-hub==0.0.12"
      ],
      "execution_count": null,
      "outputs": []
    },
    {
      "cell_type": "markdown",
      "metadata": {
        "id": "fWnhLvUbhmSm"
      },
      "source": [
        "Encode the sentences:"
      ]
    },
    {
      "cell_type": "markdown",
      "metadata": {
        "id": "x5bpR27ph1Hs"
      },
      "source": [
        "###  Now what we do is take those embeddings and find the cosine similarity between each. So for sentence 0: \n",
        "We can find the most similar sentence using:"
      ]
    },
    {
      "cell_type": "code",
      "metadata": {
        "id": "JjnakpqKhB0u",
        "colab": {
          "base_uri": "https://localhost:8080/",
          "height": 450,
          "referenced_widgets": [
            "deee632d3e5e45da81f42881ec3f9f7e",
            "78a2d667f05845fb8d28ece7a7707772",
            "7d5b976af27d4ae9855d88de7afe8f41",
            "c98100057fab4ed7bf72d1265aa2a9c0",
            "74c0d926764b45e5931dcf65b4afb45e",
            "12965c085608417d89daaaec038c0367",
            "9374925973154332960fe28a01038033",
            "661e7506cfc742d89cfadfda0ad6cd25",
            "413121ce0d1242978b45aea5f6db951d",
            "2d3557287ee1462da13c971479252905",
            "fd13c773342e45cb9265d49e9b9faa8d",
            "3c9f80c7f63b445fb056089eca4abec5",
            "7f4163ce87264e5ead0e4f7843748f2f",
            "0f1cd8fb38da4832bed0cef0b3eef165",
            "b6fb5a26096d4095bf683ce71aae2ea3",
            "13e9c900dd484122a654f3b9d3275f3e",
            "9557b4bc859a4a08a405952f2d42a007",
            "45c94ec1765740c2883c0d7b12fd41ee",
            "bf8ef5d1005e4f348e37edaa37f1fa33",
            "0f15bdf894374393b047ec592bf65efd",
            "8a5ef60ef462462f8b1b3862224f3996",
            "cb43498e7cb947618298d2b064eef7cb",
            "c36bab90c2be487bbe07b1ea57aede21",
            "d985b824e5d24ae092c501c30aded093",
            "054ea23092094e4f885f0901528efe83",
            "f4706d0a2c324976be7ef8ea91f69efb",
            "b6f6a44da26f4dc2934658a78d757d0e",
            "c0ca200e1fb2414d9f2aebf26605f1b2",
            "2f56de5167c04dbd940e21f8754205af",
            "7027c55eab2745e48a4db6f8fbefd379",
            "abbfd00690134d269b2503277c153c5e",
            "06bc056164e14f7ea5a7a75e63b814f1",
            "e5ec8573d9414b4dab53328f306b846a",
            "c3bd1eb77f71484d8ee33ba9d607ba08",
            "93d1eaf68ca14698bb33389dba256de2",
            "8bfb6ecfb4e647c4b0ca69d6c079b8ee",
            "d3aef5dbfaae4944b8b005d73d8e9352",
            "29f240288c3e4ad5954bbcb86f43158a",
            "505e8636979540f88003d0fa04066560",
            "d4ad0babeec14792b0b85562d3cba339",
            "848d8c8970044345b0f1f05e0ef6f8c1",
            "b212b71df471420c9fa0b5327834dc26",
            "15214315fa504b799074b52b1410e272",
            "efa1a2fa22634f91b361561a2eda1fa4",
            "d538f3e4b487400f8858ea36fadffd8c",
            "bddb416832704296ab757bbca2c99043",
            "7b5edb0f949c4c63a8d1365364dedfad",
            "9773e8b47e82492cb4d3a81299d27f58",
            "00f62cb9838c4c31af4872257e7bd81d",
            "3ca7c935170d4f2ba1bed6ea55c24a64",
            "d6658bd51fb84ce288adc5bd034da414",
            "3ed56d807e514b158e48903831b9a483",
            "bab68423ba874d4fa8b79bf0da8be901",
            "52c7c2ccd13c4da19485ca7c7f0ef0b8",
            "55a16ef017ff4d3793d7cefce72206e1",
            "dd884bdca06b44039b81bd1a64099da0",
            "226827d963e34af68f98ec678aabfb6e",
            "1a36c0a512f74567aebde4062e884fda",
            "7336678c6cf54043b85b878d9273d7b4",
            "5f0370be286e4a3187ca6b8afe61e36e",
            "8a583783107b4046917844d3fbdf6833",
            "43d4643d5e7843be995c2701e8424e09",
            "9d706d292e514463b060ba40412e4753",
            "771046f5a1cb413abb4cb75763136800",
            "c07b0e8999fc4dae9980667f7713b244",
            "4ecff2e7d9ff40d78e6924edc389eccd",
            "0c1c288192e94223aeaeba903bd57bb9",
            "199fed673999484c88671c1438c08028",
            "787eec3041044c458fd7c33df04e4b6b",
            "06ae0312c0e046a09bf2550f42dc7610",
            "a11b0f8e84ae4da08642503479dc4361",
            "eb66bc9721f34419a7972e42369cc920",
            "482fae2ed374410386189fb4e379ef46",
            "0b8735477c1d44be94e1e75617d5e6ec",
            "46345acb395a4e88ac4bfad280f0b302",
            "7a3cd3e91c03463d90b31fc1d6852d09",
            "e0c6c20b182f46bb833a9ffb38905715",
            "11196866bc294c6486eafcc898a91ea3",
            "c7ce83cc0b7a4306b232c9e224524a8c",
            "3168aa5cf8f744e280366ad2b600a80a",
            "3e22515aee15489e96f2b858518a7ba1",
            "e89747f0d43a4b66879e15d50f7a18e4",
            "85751e03d729440994f681e28eccb350",
            "21afccf5a4a24eec854db74ab4a7371f",
            "cb39a2e9cc344faca026ae79a479b022",
            "7ff2a9c71c8142c7b0ab509b4d859fb9",
            "656c8905f0fc490d81ab40e4d2f5b75b",
            "a5d43ad2b67b421cb9cc249f0f9e4c14",
            "8d8ef4d78f314c169aad744ab442ca95",
            "3d0a695f5be64e7fa2ff178d8b126c33",
            "31220c97ddc343c393c952d85eb48378",
            "c128b82cbd1c4fe998175c75fc59ebf6",
            "ba0c7134bad64c84a103e19ba7b16bc0",
            "2edbd36d14024956902b841083c2398b",
            "d4e8d442472c4f0c9d4495172f01b9ed",
            "f20755adae254028a7056dd2725217a6",
            "3b1d688508e54ae0af940c2550c41b16",
            "e5e3587778e741bd8aa4d388e3fd7fb1",
            "486cc6c7831d4e578e7d9ac93b988ffc",
            "c45223f7eaf34dc3ac524f7331c3bfc2",
            "739c29a286cb488b9b0edc3d6c28c682",
            "64e2b086ca0d49608f714355d80599e6",
            "a1eb0e43311f49bb9a905c0023839823",
            "5e08364e2fb647489838b4a865a5272c",
            "6afc7d8a67394796adb6abe69c56a851",
            "e49da8cc085c40c194149d42dc63449b",
            "896bbf70e6634761a4f45296b87f3d1e",
            "a4412d994e6e4572b15957f8633b8206",
            "9e9b77b3f7ce4dda9bf233d4796ddeb9",
            "92aaa09cdc1a4799b4db2ce652ed313c",
            "d588174883174aed9fd81df0830c4be0",
            "34deab9e7c1948a7bdc4b42efd1af5e1",
            "df9a0785fe9744a996782b3d99339ca6",
            "22c243153dd44e97a153f8ebdce7149a",
            "c3d4201414314ed3853365bc1506aeb9",
            "a054b43e3bca434794186cbc8d9e578c",
            "926d029fd78a4c52b46612d00160cd4b",
            "785c80827a6f4a7ab1a9e7a9464a815f",
            "a27dd98a1c79451b88d245019babb3fc",
            "f6cb0c362ce54b52a66661dec1fd1ecc",
            "42511fcf1f0c4b858fd839d4725f1764",
            "35fcdb9f8fef48b196e411ea6dc78ef4",
            "4d9122c8779149d5a4ca7a894e421c48",
            "fb73ab05aa5f435995d75745d15dc3c1",
            "823fc668b75d4bcda61968da05247ad9",
            "16e1f4d2c4494f1f8b88467252fe7978",
            "db5547cbfa0241528a2393296b22d2dc",
            "08ad734b8e76406db28015d36e7d2af6",
            "54d4faffa6a44cf5901820153283ab60",
            "ff9793c3aa4440b0b1680d5a423b16f9",
            "d5903fd333824a72a8ddfd539fead06b",
            "4b22613ca33c4beeb8133e56e5ca71f3",
            "d0e44c1f2da94e5c8ff873abcc03f879",
            "3a523d6ac4044bc49cf7b6992379bad3",
            "951d73da799f4a88b0e6f430b087640d",
            "d9795fbf299c416dbc723cd93c53f3fc",
            "b66fec6ae8c94ced8404cbb539229231",
            "ee668df6f60541d0b217318bef82c8f2",
            "61dca32655284518be9c8b8a96a13e5a",
            "ca0a3e32b12d4e0aa27b907fd2e77f5c",
            "baa2401c7fb8402db0b93c0c1290648e",
            "1ebe8369febb4c3dbe235f1d9f8cc761",
            "02e6c27541ed4aca81070c6ad1f952fa"
          ]
        },
        "outputId": "7c2f6f6b-ec0d-4e86-9d83-5e87e8cbdf13"
      },
      "source": [
        "# Initialize our model:\n",
        "from sentence_transformers import SentenceTransformer\n",
        "from sklearn.metrics.pairwise import cosine_similarity\n",
        "\n",
        "sentences = [tokenized_nvd, tokenized_wiki]\n",
        "model = SentenceTransformer('bert-base-nli-mean-tokens')\n",
        "\n",
        "\n",
        "sentence_embeddings = model.encode(sentences)\n",
        "# sentence_embeddings.shape ##\n",
        "\n",
        "\n",
        "similarity = cosine_similarity( \n",
        "    [sentence_embeddings[0]],\n",
        "    sentence_embeddings[1:])\n",
        "similarity"
      ],
      "execution_count": null,
      "outputs": [
        {
          "output_type": "display_data",
          "data": {
            "application/vnd.jupyter.widget-view+json": {
              "model_id": "deee632d3e5e45da81f42881ec3f9f7e",
              "version_minor": 0,
              "version_major": 2
            },
            "text/plain": [
              "Downloading:   0%|          | 0.00/391 [00:00<?, ?B/s]"
            ]
          },
          "metadata": {}
        },
        {
          "output_type": "display_data",
          "data": {
            "application/vnd.jupyter.widget-view+json": {
              "model_id": "3c9f80c7f63b445fb056089eca4abec5",
              "version_minor": 0,
              "version_major": 2
            },
            "text/plain": [
              "Downloading:   0%|          | 0.00/3.95k [00:00<?, ?B/s]"
            ]
          },
          "metadata": {}
        },
        {
          "output_type": "display_data",
          "data": {
            "application/vnd.jupyter.widget-view+json": {
              "model_id": "c36bab90c2be487bbe07b1ea57aede21",
              "version_minor": 0,
              "version_major": 2
            },
            "text/plain": [
              "Downloading:   0%|          | 0.00/2.00 [00:00<?, ?B/s]"
            ]
          },
          "metadata": {}
        },
        {
          "output_type": "display_data",
          "data": {
            "application/vnd.jupyter.widget-view+json": {
              "model_id": "c3bd1eb77f71484d8ee33ba9d607ba08",
              "version_minor": 0,
              "version_major": 2
            },
            "text/plain": [
              "Downloading:   0%|          | 0.00/625 [00:00<?, ?B/s]"
            ]
          },
          "metadata": {}
        },
        {
          "output_type": "display_data",
          "data": {
            "application/vnd.jupyter.widget-view+json": {
              "model_id": "d538f3e4b487400f8858ea36fadffd8c",
              "version_minor": 0,
              "version_major": 2
            },
            "text/plain": [
              "Downloading:   0%|          | 0.00/122 [00:00<?, ?B/s]"
            ]
          },
          "metadata": {}
        },
        {
          "output_type": "display_data",
          "data": {
            "application/vnd.jupyter.widget-view+json": {
              "model_id": "dd884bdca06b44039b81bd1a64099da0",
              "version_minor": 0,
              "version_major": 2
            },
            "text/plain": [
              "Downloading:   0%|          | 0.00/229 [00:00<?, ?B/s]"
            ]
          },
          "metadata": {}
        },
        {
          "output_type": "display_data",
          "data": {
            "application/vnd.jupyter.widget-view+json": {
              "model_id": "0c1c288192e94223aeaeba903bd57bb9",
              "version_minor": 0,
              "version_major": 2
            },
            "text/plain": [
              "Downloading:   0%|          | 0.00/438M [00:00<?, ?B/s]"
            ]
          },
          "metadata": {}
        },
        {
          "output_type": "display_data",
          "data": {
            "application/vnd.jupyter.widget-view+json": {
              "model_id": "11196866bc294c6486eafcc898a91ea3",
              "version_minor": 0,
              "version_major": 2
            },
            "text/plain": [
              "Downloading:   0%|          | 0.00/53.0 [00:00<?, ?B/s]"
            ]
          },
          "metadata": {}
        },
        {
          "output_type": "display_data",
          "data": {
            "application/vnd.jupyter.widget-view+json": {
              "model_id": "8d8ef4d78f314c169aad744ab442ca95",
              "version_minor": 0,
              "version_major": 2
            },
            "text/plain": [
              "Downloading:   0%|          | 0.00/112 [00:00<?, ?B/s]"
            ]
          },
          "metadata": {}
        },
        {
          "output_type": "display_data",
          "data": {
            "application/vnd.jupyter.widget-view+json": {
              "model_id": "c45223f7eaf34dc3ac524f7331c3bfc2",
              "version_minor": 0,
              "version_major": 2
            },
            "text/plain": [
              "Downloading:   0%|          | 0.00/466k [00:00<?, ?B/s]"
            ]
          },
          "metadata": {}
        },
        {
          "output_type": "display_data",
          "data": {
            "application/vnd.jupyter.widget-view+json": {
              "model_id": "d588174883174aed9fd81df0830c4be0",
              "version_minor": 0,
              "version_major": 2
            },
            "text/plain": [
              "Downloading:   0%|          | 0.00/399 [00:00<?, ?B/s]"
            ]
          },
          "metadata": {}
        },
        {
          "output_type": "display_data",
          "data": {
            "application/vnd.jupyter.widget-view+json": {
              "model_id": "35fcdb9f8fef48b196e411ea6dc78ef4",
              "version_minor": 0,
              "version_major": 2
            },
            "text/plain": [
              "Downloading:   0%|          | 0.00/232k [00:00<?, ?B/s]"
            ]
          },
          "metadata": {}
        },
        {
          "output_type": "display_data",
          "data": {
            "application/vnd.jupyter.widget-view+json": {
              "model_id": "d0e44c1f2da94e5c8ff873abcc03f879",
              "version_minor": 0,
              "version_major": 2
            },
            "text/plain": [
              "Downloading:   0%|          | 0.00/190 [00:00<?, ?B/s]"
            ]
          },
          "metadata": {}
        },
        {
          "output_type": "execute_result",
          "data": {
            "text/plain": [
              "array([[0.6090529]], dtype=float32)"
            ]
          },
          "metadata": {},
          "execution_count": 16
        }
      ]
    },
    {
      "cell_type": "markdown",
      "metadata": {
        "id": "AHHr2zrjluUd"
      },
      "source": [
        "Great, we now have four sentence embeddings — each containing 768 values.\n"
      ]
    },
    {
      "cell_type": "code",
      "metadata": {
        "id": "18wnVweihPTJ",
        "colab": {
          "base_uri": "https://localhost:8080/"
        },
        "outputId": "bb7e280b-5c3a-4d5a-e469-41b4ef6edcf0"
      },
      "source": [
        "print(similarity[0][0])"
      ],
      "execution_count": null,
      "outputs": [
        {
          "output_type": "stream",
          "text": [
            "0.7407259\n"
          ],
          "name": "stdout"
        }
      ]
    },
    {
      "cell_type": "markdown",
      "metadata": {
        "id": "t2uqGJs7pKG2"
      },
      "source": [
        "\n",
        "| Index | Sentence | Similarity wiki text |\n",
        "| --- | --- | --- |\n",
        "| 1 | Test from NVD for Injuctions. | 0.7407259 |\n",
        "| 2 |  Text from Wiki page for Injections.     | 0.6837034 | \n",
        "| 3 |   Text from NVD for Sensitive data exposure (sde)   | 0.5548 | \n",
        "\n"
      ]
    },
    {
      "cell_type": "markdown",
      "metadata": {
        "id": "U1ZUuH6390BT"
      },
      "source": [
        "## Simillar vulnerabilities for (Injection)"
      ]
    },
    {
      "cell_type": "code",
      "metadata": {
        "id": "SItbRoba-ckF"
      },
      "source": [
        ""
      ],
      "execution_count": null,
      "outputs": []
    },
    {
      "cell_type": "markdown",
      "metadata": {
        "id": "YWOdzxUzmKEL"
      },
      "source": [
        "### Additionally, before the mean pooling operation, we need to create last_hidden_state, which we do like so:\n"
      ]
    },
    {
      "cell_type": "code",
      "metadata": {
        "colab": {
          "base_uri": "https://localhost:8080/",
          "height": 241,
          "referenced_widgets": [
            "2ba5ed40430b4e0a96784617324803fb",
            "189378cdd52749709ceedc5cb84c28be",
            "9b1d891bd99e488e8ac9ac5a425e0776",
            "0f2e46fdf6fb4a579af6aec2fc0562fc",
            "b11154b6a909494d8832c96756d058b8",
            "4046e21c157242e2b058258cd6f6c61d",
            "3bb35b593eaa43eeafe9c971d374a9ab",
            "9a53c6e68b6d48a09abaca873bda6b83",
            "fe5a240b33384414b48e4e7132da5014",
            "0f0567bced9b4f7b834f567bd5373af9",
            "3ce2684f504442c7945b43bbc523c4a7",
            "1633884f31d74e16bf01f0bfd583fb72",
            "9f44867250dd471f953ab8865ed442c2",
            "2ae8784834ef4d0193df2eb39bfafd33",
            "36defc6143cf40a39043948f77cb630b",
            "b69bee9820b2418ba74d6d681a291e0d",
            "1b0c6e69774c4dfd82c2a645886d6d60",
            "cc32e5bbdd6348e1b798ef6787095f6e",
            "c9e13153a970428e87dba8d54b13011b",
            "04b3def799704cce8e372e8b8a80cb94",
            "f74b45b24869494c866bc4a07ef45e50",
            "28f74d0337e34ed6ab7264077e206614",
            "8746df9cf9eb40cdaeb350dfe56aecd3",
            "8bd8f8bcbf1544428eda707d1f0a7518",
            "2a45ce74ea2445f19a865710577c3f42",
            "a324ca736d044560960b851058a863e9",
            "fdc676b8386d4c55acbc7c34acacdacf",
            "387a0651932f418e8c07cb2cc168d583",
            "edf763ee44cc458ab35e08e8e202653e",
            "4dbd3cfb9fdc44ea9c7b87f9cd66e788",
            "68c7504aa5a54e4cb565c06a3abb3208",
            "2481a1e69f554331a2f3b7c6d2fdb85c",
            "347cacaf5b144ddcb5a2cf73a3826ce9",
            "78d3ee420a0e40f2aec44a68a57c4feb",
            "10f075c121c84ba19bf4c5fccb9ad3e6",
            "04e76445e65d40b98807bd97cbdae4cf",
            "d2b9c41936a447a3869755e06acdb583",
            "d4bb54b086d9408faa8e5a3d659d34ab",
            "7ce4df29e83b4840abc1c3a0fd717325",
            "458b4f39ba42493db737f5e33559d529",
            "21b3240baf964dbf8bad50b75557b311",
            "2a4730972644452ea7e7bf5aa6838624",
            "0c3c5c0c733a4808b772cbf9bb243ede",
            "e600b825b9f64dd4a8ad09d56334ceb7",
            "70a7d28994d048e09895e55450f5f992",
            "b8839aacd36b41f1bfaccf90e9023041",
            "76d1d8b6ef174edbac8ec4f36002139c",
            "dfab9b92a80d4fdab55a8ed31640d2ae",
            "4341a1d4517f423eb126a2209bda5ee5",
            "b42fa6b8138f44febaeb5cc2ef3588ca",
            "c5b71ca9d05f4822a28353524c14e0ad",
            "56d378b448454614b14cdb88845f0970",
            "22198a551fe0411e9385666cba236f04",
            "e0f9902313734c62b337ec10ac6d7ae7",
            "efd2a51ce76640b5b76c8ad4b7a3d3a5",
            "0e0dd0f8cb894cd2b59d698cc283ab77",
            "27b5f44f85b44ddca2d27fafef35ff3b",
            "6e6f8c6c381b4ce1aa8e49f14684c473",
            "cc5dc15914aa4143a14168f1321183bb",
            "4b8ef189a96d4e4cb8b9434830868761",
            "df057131e9c04e489a7b368c1357764e",
            "1359d862a55d4db683eb46b466ed16ca",
            "01b58c6203a84b119647e9cbec2fb42c",
            "d2c7b5823c654f198f322c251128568c",
            "cad9c9c8ac6246ad8a4d09a813932ae5",
            "9c9e9d18b935462d8e0cfb0c8ee8832b",
            "f2a9839c1ebf4d8fa150ee46542f786f",
            "fc1478bc134e476a881f6b1d61446468",
            "d30eb23c2a454d759f0ae8d40dca99c4",
            "7e1ace8b08e343de9a65203560303ae0",
            "c65cf954d9974dad9877cbda9f77c59d",
            "d0e2436cfcef4021909f2f43c72692d3",
            "b527f191852b433a86395bbb269d7898",
            "34ed605a2d1f4b2c946c0933d49dfc20",
            "03e7a60a627648b29f8ccd5bf37952e4",
            "4d6f3faf2f7b4744b7f30591b24cc89e",
            "01a016ec2721404c8138a22fd161564b"
          ]
        },
        "id": "DNetojoHhWFs",
        "outputId": "c0db5e5f-f0bf-44a0-9a74-1d650ba48c42"
      },
      "source": [
        "from transformers import AutoTokenizer, AutoModel\n",
        "import torch\n",
        "\n",
        "tokenizer = AutoTokenizer.from_pretrained('sentence-transformers/bert-base-nli-mean-tokens')\n",
        "model = AutoModel.from_pretrained('sentence-transformers/bert-base-nli-mean-tokens')"
      ],
      "execution_count": null,
      "outputs": [
        {
          "output_type": "display_data",
          "data": {
            "application/vnd.jupyter.widget-view+json": {
              "model_id": "2ba5ed40430b4e0a96784617324803fb",
              "version_minor": 0,
              "version_major": 2
            },
            "text/plain": [
              "Downloading:   0%|          | 0.00/399 [00:00<?, ?B/s]"
            ]
          },
          "metadata": {}
        },
        {
          "output_type": "display_data",
          "data": {
            "application/vnd.jupyter.widget-view+json": {
              "model_id": "1633884f31d74e16bf01f0bfd583fb72",
              "version_minor": 0,
              "version_major": 2
            },
            "text/plain": [
              "Downloading:   0%|          | 0.00/625 [00:00<?, ?B/s]"
            ]
          },
          "metadata": {}
        },
        {
          "output_type": "display_data",
          "data": {
            "application/vnd.jupyter.widget-view+json": {
              "model_id": "8746df9cf9eb40cdaeb350dfe56aecd3",
              "version_minor": 0,
              "version_major": 2
            },
            "text/plain": [
              "Downloading:   0%|          | 0.00/232k [00:00<?, ?B/s]"
            ]
          },
          "metadata": {}
        },
        {
          "output_type": "display_data",
          "data": {
            "application/vnd.jupyter.widget-view+json": {
              "model_id": "78d3ee420a0e40f2aec44a68a57c4feb",
              "version_minor": 0,
              "version_major": 2
            },
            "text/plain": [
              "Downloading:   0%|          | 0.00/466k [00:00<?, ?B/s]"
            ]
          },
          "metadata": {}
        },
        {
          "output_type": "display_data",
          "data": {
            "application/vnd.jupyter.widget-view+json": {
              "model_id": "70a7d28994d048e09895e55450f5f992",
              "version_minor": 0,
              "version_major": 2
            },
            "text/plain": [
              "Downloading:   0%|          | 0.00/2.00 [00:00<?, ?B/s]"
            ]
          },
          "metadata": {}
        },
        {
          "output_type": "display_data",
          "data": {
            "application/vnd.jupyter.widget-view+json": {
              "model_id": "0e0dd0f8cb894cd2b59d698cc283ab77",
              "version_minor": 0,
              "version_major": 2
            },
            "text/plain": [
              "Downloading:   0%|          | 0.00/112 [00:00<?, ?B/s]"
            ]
          },
          "metadata": {}
        },
        {
          "output_type": "display_data",
          "data": {
            "application/vnd.jupyter.widget-view+json": {
              "model_id": "f2a9839c1ebf4d8fa150ee46542f786f",
              "version_minor": 0,
              "version_major": 2
            },
            "text/plain": [
              "Downloading:   0%|          | 0.00/438M [00:00<?, ?B/s]"
            ]
          },
          "metadata": {}
        }
      ]
    },
    {
      "cell_type": "code",
      "metadata": {
        "id": "ZAz7fozhhYSd"
      },
      "source": [
        "sentences = [\n",
        "    \"Three years later, the coffin was still full of Jello.\",\n",
        "    \"The fish dreamed of escaping the fishbowl and into the toilet where he saw his friend go.\",\n",
        "    \"The person box was packed with jelly many dozens of months later.\",\n",
        "    \"He found a leprechaun in his walnut shell.\"\n",
        "]\n",
        "\n",
        "# initialize dictionary to store tokenized sentences\n",
        "tokens = {'input_ids': [], 'attention_mask': []}\n",
        "\n",
        "for sentence in sentences:\n",
        "    # encode each sentence and append to dictionary\n",
        "    new_tokens = tokenizer.encode_plus(sentence, max_length=128,\n",
        "                                       truncation=True, padding='max_length',\n",
        "                                       return_tensors='pt')\n",
        "    tokens['input_ids'].append(new_tokens['input_ids'][0])\n",
        "    tokens['attention_mask'].append(new_tokens['attention_mask'][0])\n",
        "\n",
        "# reformat list of tensors into single tensor\n",
        "tokens['input_ids'] = torch.stack(tokens['input_ids'])\n",
        "tokens['attention_mask'] = torch.stack(tokens['attention_mask'])"
      ],
      "execution_count": null,
      "outputs": []
    },
    {
      "cell_type": "code",
      "metadata": {
        "colab": {
          "base_uri": "https://localhost:8080/"
        },
        "id": "riazkIqOmaw7",
        "outputId": "237c1e23-386a-4c43-f9ae-667bd71aa852"
      },
      "source": [
        "# We process these tokens through our model:\n",
        "\n",
        "outputs = model(**tokens)\n",
        "outputs.keys()"
      ],
      "execution_count": null,
      "outputs": [
        {
          "output_type": "execute_result",
          "data": {
            "text/plain": [
              "odict_keys(['last_hidden_state', 'pooler_output'])"
            ]
          },
          "metadata": {},
          "execution_count": 36
        }
      ]
    },
    {
      "cell_type": "code",
      "metadata": {
        "id": "k0sj4xKemj-n"
      },
      "source": [
        "# The dense vector representations of our text are contained within the outputs \n",
        "# 'last_hidden_state' tensor, which we access like so:\n",
        "embeddings = outputs.last_hidden_state\n",
        "embeddings"
      ],
      "execution_count": null,
      "outputs": []
    },
    {
      "cell_type": "code",
      "metadata": {
        "colab": {
          "base_uri": "https://localhost:8080/"
        },
        "id": "KfOy-RfQms6e",
        "outputId": "1b2fc15d-192a-42cf-f8c7-376b6be1d50a"
      },
      "source": [
        "# \n",
        "embeddings.shape"
      ],
      "execution_count": null,
      "outputs": [
        {
          "output_type": "execute_result",
          "data": {
            "text/plain": [
              "torch.Size([4, 128, 768])"
            ]
          },
          "metadata": {},
          "execution_count": 38
        }
      ]
    },
    {
      "cell_type": "markdown",
      "metadata": {
        "id": "iHs8d8fcm1ML"
      },
      "source": [
        "After we have produced our dense vectors embeddings, we need to perform a mean pooling operation to create a single vector encoding (the sentence embedding).\n",
        "\n",
        "\n",
        "*  To do this mean pooling operation, we will need to multiply each value in our embeddings tensor by its respective attention_mask value — so that we ignore non-real tokens.\n"
      ]
    },
    {
      "cell_type": "code",
      "metadata": {
        "colab": {
          "base_uri": "https://localhost:8080/"
        },
        "id": "nBQdWxe4nCbi",
        "outputId": "ef20a8e2-d5cd-4020-c55d-7e0f9a292589"
      },
      "source": [
        "# To perform this operation, we first resize our attention_mask tensor:\n",
        "attention_mask = tokens['attention_mask']\n",
        "attention_mask.shape"
      ],
      "execution_count": null,
      "outputs": [
        {
          "output_type": "execute_result",
          "data": {
            "text/plain": [
              "torch.Size([4, 128])"
            ]
          },
          "metadata": {},
          "execution_count": 39
        }
      ]
    },
    {
      "cell_type": "code",
      "metadata": {
        "colab": {
          "base_uri": "https://localhost:8080/"
        },
        "id": "vT_yLjWqnHKM",
        "outputId": "e86eb5e5-5fee-4b05-c7ed-a8fa2e501aa7"
      },
      "source": [
        "mask = attention_mask.unsqueeze(-1).expand(embeddings.size()).float()\n",
        "mask.shape"
      ],
      "execution_count": null,
      "outputs": [
        {
          "output_type": "execute_result",
          "data": {
            "text/plain": [
              "torch.Size([4, 128, 768])"
            ]
          },
          "metadata": {},
          "execution_count": 40
        }
      ]
    },
    {
      "cell_type": "code",
      "metadata": {
        "id": "t0hRlRSKnKpy"
      },
      "source": [
        "mask"
      ],
      "execution_count": null,
      "outputs": []
    },
    {
      "cell_type": "code",
      "metadata": {
        "colab": {
          "base_uri": "https://localhost:8080/"
        },
        "id": "poewbVi9nO5w",
        "outputId": "046e34c7-8eb7-4801-d69c-a3b80f3a30ac"
      },
      "source": [
        "# Each vector above represents a single token attention mask  \n",
        "#  -each token now has a vector of size 768 representing it's attention_mask status.\n",
        "# Then we multiply the two tensors to apply the attention mask:\n",
        "\n",
        "\n",
        "masked_embeddings = embeddings * mask\n",
        "masked_embeddings.shape"
      ],
      "execution_count": null,
      "outputs": [
        {
          "output_type": "execute_result",
          "data": {
            "text/plain": [
              "torch.Size([4, 128, 768])"
            ]
          },
          "metadata": {},
          "execution_count": 42
        }
      ]
    },
    {
      "cell_type": "code",
      "metadata": {
        "colab": {
          "base_uri": "https://localhost:8080/"
        },
        "id": "W8Xw7hsmnbbt",
        "outputId": "cf430e4f-cbd1-4009-e52f-191b71885f06"
      },
      "source": [
        "masked_embeddings\n",
        "# Then we sum the remained of the embeddings along axis 1:\n",
        "summed = torch.sum(masked_embeddings, 1)\n",
        "summed.shape"
      ],
      "execution_count": null,
      "outputs": [
        {
          "output_type": "execute_result",
          "data": {
            "text/plain": [
              "torch.Size([4, 768])"
            ]
          },
          "metadata": {},
          "execution_count": 43
        }
      ]
    },
    {
      "cell_type": "code",
      "metadata": {
        "colab": {
          "base_uri": "https://localhost:8080/"
        },
        "id": "bIW0lIB8nuyQ",
        "outputId": "4437dbec-113a-4e43-8a8b-953a2cf298a0"
      },
      "source": [
        "#Then sum the number of values that must be given attention in each position of the tensor:\n",
        "summed_mask = torch.clamp(mask.sum(1), min=1e-9)\n",
        "summed_mask.shape\n",
        "summed_mask"
      ],
      "execution_count": null,
      "outputs": [
        {
          "output_type": "execute_result",
          "data": {
            "text/plain": [
              "tensor([[15., 15., 15.,  ..., 15., 15., 15.],\n",
              "        [22., 22., 22.,  ..., 22., 22., 22.],\n",
              "        [15., 15., 15.,  ..., 15., 15., 15.],\n",
              "        [14., 14., 14.,  ..., 14., 14., 14.]])"
            ]
          },
          "metadata": {},
          "execution_count": 44
        }
      ]
    },
    {
      "cell_type": "markdown",
      "metadata": {
        "id": "Ilw6czemn9ww"
      },
      "source": [
        "Finally, we calculate the mean as the sum of the embedding activations summed divided by the number of values that should be given attention in each position summed_mask:"
      ]
    },
    {
      "cell_type": "code",
      "metadata": {
        "colab": {
          "base_uri": "https://localhost:8080/"
        },
        "id": "MbfxXDPJn6N7",
        "outputId": "8ed7e3e7-189c-4d6c-d3b2-2f8c9a9d1d55"
      },
      "source": [
        "mean_pooled = summed / summed_mask\n",
        "mean_pooled"
      ],
      "execution_count": null,
      "outputs": [
        {
          "output_type": "execute_result",
          "data": {
            "text/plain": [
              "tensor([[ 0.0745,  0.8637,  0.1795,  ...,  0.7734,  1.7247, -0.1803],\n",
              "        [-0.3715,  0.9729,  1.0840,  ..., -0.2552, -0.2759,  0.0358],\n",
              "        [-0.5030,  0.7950, -0.1240,  ...,  0.1441,  0.9704, -0.1791],\n",
              "        [-0.2131,  1.0175, -0.8833,  ...,  0.7371,  0.1947, -0.3011]],\n",
              "       grad_fn=<DivBackward0>)"
            ]
          },
          "metadata": {},
          "execution_count": 45
        }
      ]
    },
    {
      "cell_type": "markdown",
      "metadata": {
        "id": "wYc2xbVqoHVT"
      },
      "source": [
        "Once we have our dense vectors, we can calculate the cosine similarity between each — which is the same logic we used before:"
      ]
    },
    {
      "cell_type": "code",
      "metadata": {
        "colab": {
          "base_uri": "https://localhost:8080/"
        },
        "id": "t4F9dONyoJb4",
        "outputId": "d4c94959-ad42-4af7-92f3-a39a145aeb32"
      },
      "source": [
        "from sklearn.metrics.pairwise import cosine_similarity\n",
        "\n",
        "# Let's calculate cosine similarity for sentence 0:\n",
        "\n",
        "# convert from PyTorch tensor to numpy array\n",
        "mean_pooled = mean_pooled.detach().numpy()\n",
        "\n",
        "# calculate\n",
        "cosine_similarity(\n",
        "    [mean_pooled[0]],\n",
        "    mean_pooled[1:]\n",
        ")"
      ],
      "execution_count": null,
      "outputs": [
        {
          "output_type": "execute_result",
          "data": {
            "text/plain": [
              "array([[0.3308891 , 0.721926  , 0.55483633]], dtype=float32)"
            ]
          },
          "metadata": {},
          "execution_count": 46
        }
      ]
    },
    {
      "cell_type": "markdown",
      "metadata": {
        "id": "2-HqL3Hx7CwN"
      },
      "source": [
        "These similarities translate to:"
      ]
    },
    {
      "cell_type": "code",
      "metadata": {
        "id": "CepfHHI6kHEL"
      },
      "source": [
        "# from scipy import spatial\n",
        "# from sent2vec.vectorizer import Vectorizer\n",
        "\n",
        "# sentences = [\n",
        "#     \"This is an awesome book to learn NLP.\",\n",
        "#     \"DistilBERT is an amazing NLP model.\",\n",
        "#     \"We can interchangeably use embedding, encoding, or vectorizing.\",\n",
        "# ]\n",
        "\n",
        "# vectorizer = Vectorizer()\n",
        "# vectorizer.bert(sentences)\n",
        "# vectors_bert = vectorizer.vectors\n",
        "\n",
        "# dist_1 = spatial.distance.cosine(vectors_bert[0], vectors_bert[1])\n",
        "# dist_2 = spatial.distance.cosine(vectors_bert[0], vectors_bert[2])\n",
        "# print('dist_1: {0}, dist_2: {1}'.format(dist_1, dist_2))\n",
        "# # dist_1: 0.043, dist_2: 0.192"
      ],
      "execution_count": null,
      "outputs": []
    },
    {
      "cell_type": "code",
      "metadata": {
        "id": "NAFyosTQk4ud"
      },
      "source": [
        "# see data, choose the th, range, stats, Simillarty score\n",
        "# web crawling,Rl page to page, \n",
        "How dose the model to get rewarded, papers, reviews "
      ],
      "execution_count": null,
      "outputs": []
    },
    {
      "cell_type": "markdown",
      "metadata": {
        "id": "B4e8w4EtQf1Z"
      },
      "source": [
        "## For every document, we first tokenize the document into individual words."
      ]
    },
    {
      "cell_type": "markdown",
      "metadata": {
        "id": "jSiHbCHu9Trh"
      },
      "source": [
        "## CVSS score"
      ]
    },
    {
      "cell_type": "code",
      "metadata": {
        "colab": {
          "base_uri": "https://localhost:8080/"
        },
        "id": "WkiE_8dx9X5i",
        "outputId": "45d5584a-293d-4380-d2e5-6b0350d11ea3"
      },
      "source": [
        "!pip install cvss"
      ],
      "execution_count": null,
      "outputs": [
        {
          "output_type": "stream",
          "text": [
            "Collecting cvss\n",
            "  Downloading https://files.pythonhosted.org/packages/96/96/474c8b657040a97d9b4ca7d5b59a56897b8536c8a66400ef57e52971777e/cvss-2.3-py2.py3-none-any.whl\n",
            "Installing collected packages: cvss\n",
            "Successfully installed cvss-2.3\n"
          ],
          "name": "stdout"
        }
      ]
    },
    {
      "cell_type": "code",
      "metadata": {
        "colab": {
          "base_uri": "https://localhost:8080/"
        },
        "id": "MCNe26dL9WWX",
        "outputId": "775cac16-5ce7-4045-e05c-c27b4467a2c4"
      },
      "source": [
        "from cvss import CVSS2, CVSS3\n",
        "\n",
        "\n",
        "vector = 'AV:L/AC:L/Au:M/C:N/I:P/A:C/E:U/RL:W/RC:ND/CDP:L/TD:H/CR:ND/IR:ND/AR:M'\n",
        "c = CVSS2(vector)\n",
        "print(vector)\n",
        "print(c.clean_vector())\n",
        "print(c.scores())\n",
        "\n",
        "print()\n",
        "\n",
        "vector = 'CVSS:3.0/S:C/C:H/I:H/A:N/AV:P/AC:H/PR:H/UI:R/E:H/RL:O/RC:R/CR:H/IR:X/AR:X/MAC:H/MPR:X/MUI:X/MC:L/MA:X'\n",
        "c = CVSS3(vector)\n",
        "print(vector)\n",
        "print(c.clean_vector())\n",
        "print(c.scores())\n",
        "print(c.severities())"
      ],
      "execution_count": null,
      "outputs": [
        {
          "output_type": "stream",
          "text": [
            "AV:L/AC:L/Au:M/C:N/I:P/A:C/E:U/RL:W/RC:ND/CDP:L/TD:H/CR:ND/IR:ND/AR:M\n",
            "AV:L/AC:L/Au:M/C:N/I:P/A:C/E:U/RL:W/CDP:L/TD:H/AR:M\n",
            "(5.0, 4.0, 4.6)\n",
            "\n",
            "CVSS:3.0/S:C/C:H/I:H/A:N/AV:P/AC:H/PR:H/UI:R/E:H/RL:O/RC:R/CR:H/IR:X/AR:X/MAC:H/MPR:X/MUI:X/MC:L/MA:X\n",
            "CVSS:3.0/AV:P/AC:H/PR:H/UI:R/S:C/C:H/I:H/A:N/E:H/RL:O/RC:R/CR:H/MAC:H/MC:L\n",
            "(6.5, 6.0, 5.3)\n",
            "('Medium', 'Medium', 'Medium')\n"
          ],
          "name": "stdout"
        }
      ]
    },
    {
      "cell_type": "code",
      "metadata": {
        "id": "G3ecvofk9cm1"
      },
      "source": [
        ""
      ],
      "execution_count": null,
      "outputs": []
    },
    {
      "cell_type": "markdown",
      "metadata": {
        "id": "rdMi4zgfrGZH"
      },
      "source": [
        "# Deep-Deep: Adaptive Crawler (using RL)\n",
        "Deep-Deep is a Scrapy-based crawler which uses Reinforcement Learning methods to learn which links to follow.\n",
        "\n",
        "It is called Deep-Deep, but it doesn't use Deep Learning, and it is not only for Deep web. Weird"
      ]
    },
    {
      "cell_type": "markdown",
      "metadata": {
        "id": "WvyuHLPjrb4v"
      },
      "source": [
        "You can use deep-deep to just run adaptive crawls, updating link model and collecting crawled data at the same time. But in some cases it is more efficient to first train a link model with deep-deep, and then use this model in another crawler. Deep-deep uses a lot of memory to store page and link features, and more CPU to update the link model. So if the link model is general enough to freeze it, you can run a more efficient crawl. Or you might want to just use deep-deep link model in an existing project.\n",
        "[link](https://github.com/TeamHG-Memex/deep-deep)"
      ]
    },
    {
      "cell_type": "markdown",
      "metadata": {
        "id": "h8qA4GAwr8zH"
      },
      "source": [
        "## url-summary\n",
        "Show summary of a large number of URLs in a Jupyter Notebook: analyze domains, paths, query keys and values. This is useful if you want to have a quick glance at URLs obtained by crawling.\n",
        "\n",
        "[link](https://github.com/TeamHG-Memex/url-summary)"
      ]
    },
    {
      "cell_type": "markdown",
      "metadata": {
        "id": "QewNTaHW0Utv"
      },
      "source": [
        "Build a crawler, visit page(input value) and decide- related and compare to wiki_text, (reward) \n",
        "\n",
        " NVD , input/ output, Crawling (decision) random web crawling, sq pro,https://www.virustotal.com/gui/"
      ]
    },
    {
      "cell_type": "markdown",
      "metadata": {
        "id": "GbTB8Qu5wiRm"
      },
      "source": [
        "# RL model "
      ]
    },
    {
      "cell_type": "markdown",
      "metadata": {
        "id": "0tGg6GER4N1t"
      },
      "source": [
        "## **ϵ (epsilon)-greedy algorithm**\n",
        "One very famous approach to solving reinforcement learning problems is the ϵ (epsilon)-greedy algorithm, such that, with a probability ϵ, you will choose an action a at random (exploration), and the rest of the time (probability 1−ϵ) you will select the best lever based on what you currently know from past plays (exploitation). So most of the time you play greedy, but sometimes you take some risks and choose a random lever and see what happens."
      ]
    },
    {
      "cell_type": "markdown",
      "metadata": {
        "id": "xuy4Uycf4SOn"
      },
      "source": [
        "First, import the necessary libraries and modules required to implement the algorithm."
      ]
    },
    {
      "cell_type": "code",
      "metadata": {
        "id": "xq4BKexOu0YQ"
      },
      "source": [
        "import numpy as np\n",
        "import random\n",
        "import matplotlib.pyplot as plt\n",
        "%matplotlib inline\n",
        "np.random.seed(15)"
      ],
      "execution_count": null,
      "outputs": []
    },
    {
      "cell_type": "markdown",
      "metadata": {
        "id": "hYaYfYzC4XW-"
      },
      "source": [
        "We'll be solving the 10-pages visited one time, hence n = 10. is a numpy array of length n filled with random floats that can be understood as probabilities of action of that page."
      ]
    },
    {
      "cell_type": "code",
      "metadata": {
        "colab": {
          "base_uri": "https://localhost:8080/"
        },
        "id": "7ZBfZ-KEvD6o",
        "outputId": "afb13c05-fbdd-432f-fc8c-07906b99887c"
      },
      "source": [
        "n = 10 # no of pages \n",
        "arms = np.random.rand(n) # initial random values for the 10 websites\n",
        "print(arms)\n",
        "eps = 0.1 #probability of exploration action, goto next page  \n"
      ],
      "execution_count": null,
      "outputs": [
        {
          "output_type": "stream",
          "text": [
            "[0.8488177  0.17889592 0.05436321 0.36153845 0.27540093 0.53000022\n",
            " 0.30591892 0.30447436 0.11174128 0.24989901]\n"
          ],
          "name": "stdout"
        }
      ]
    },
    {
      "cell_type": "code",
      "metadata": {
        "id": "KuzZHfvWvIkm"
      },
      "source": [
        "# defining the reward using similarty of the visited page and wiki page\n",
        "# print(similarity[0][0])\n",
        "def reward(prob):\n",
        "    reward = 0\n",
        "    for i in range(10):\n",
        "        if similarity[0][0] < prob:\n",
        "            reward += 1\n",
        "    return reward"
      ],
      "execution_count": null,
      "outputs": []
    },
    {
      "cell_type": "code",
      "metadata": {
        "colab": {
          "base_uri": "https://localhost:8080/"
        },
        "id": "UGgCy3c0vJMD",
        "outputId": "d65a7bbd-38c9-4cf4-da00-e44e6b371d87"
      },
      "source": [
        "#initialize memory array; has 1 row defaulted to random action index\n",
        "av = np.array([np.random.randint(0,(n+1)), 0]).reshape(1,2) #av = action-value\n",
        "print(av)\n",
        "av"
      ],
      "execution_count": null,
      "outputs": [
        {
          "output_type": "stream",
          "text": [
            "[[10  0]]\n"
          ],
          "name": "stdout"
        },
        {
          "output_type": "execute_result",
          "data": {
            "text/plain": [
              "array([[10,  0]])"
            ]
          },
          "metadata": {},
          "execution_count": 22
        }
      ]
    },
    {
      "cell_type": "markdown",
      "metadata": {
        "id": "ykL2h70N4voe"
      },
      "source": [
        "The reward functions work as such - for each page, you run a loop of 10 iterations, and generate a random float every time. If this random number is less than the probability of that arm, you'll add a 1 to the reward. After all iterations, you'll have a value between 0 to 10."
      ]
    },
    {
      "cell_type": "code",
      "metadata": {
        "id": "QWuYonk-vLfc"
      },
      "source": [
        "#greedy method to select best page based on memory array\n",
        "def bestPage(a):\n",
        "    bestPage = 0 #default to 0\n",
        "    bestMean = 0\n",
        "    for u in a:\n",
        "        avg = np.mean(a[np.where(a[:,0] == u[0])][:, 1]) #calculate mean reward for each action\n",
        "        if bestMean < avg:\n",
        "            bestMean = avg\n",
        "            bestPage = u[0]\n",
        "    return bestPage"
      ],
      "execution_count": null,
      "outputs": []
    },
    {
      "cell_type": "code",
      "metadata": {
        "colab": {
          "base_uri": "https://localhost:8080/",
          "height": 279
        },
        "id": "khvz25LwvOHy",
        "outputId": "c5b7b2cf-8eda-4e61-86a8-b561b7af78bd"
      },
      "source": [
        "plt.xlabel(\"Number of times visit page\")\n",
        "plt.ylabel(\"Average Reward\")\n",
        "for i in range(500):\n",
        "    if random.random() > eps: #greedy exploitation action\n",
        "        choice = bestPage(av)\n",
        "        thisAV = np.array([[choice, reward(arms[choice])]])\n",
        "        av = np.concatenate((av, thisAV), axis=0)\n",
        "    else: #exploration action\n",
        "        choice = np.where(arms == np.random.choice(arms))[0][0]\n",
        "        thisAV = np.array([[choice, reward(arms[choice])]]) #choice, reward\n",
        "        av = np.concatenate((av, thisAV), axis=0) #add to our action-value memory array\n",
        "    #calculate the mean reward\n",
        "    runningMean = np.mean(av[:,1])\n",
        "    plt.scatter(i, runningMean)"
      ],
      "execution_count": null,
      "outputs": [
        {
          "output_type": "display_data",
          "data": {
            "image/png": "[encoded data removed]",
            "text/plain": [
              "<Figure size 432x288 with 1 Axes>"
            ]
          },
          "metadata": {
            "needs_background": "light"
          }
        }
      ]
    },
    {
      "cell_type": "code",
      "metadata": {
        "colab": {
          "base_uri": "https://localhost:8080/"
        },
        "id": "TKkCWNntvSVi",
        "outputId": "c7a7c209-dfe6-4fa4-af2d-9b23a8c1a3c2"
      },
      "source": [
        "# random.random()\n",
        "print(av.size)"
      ],
      "execution_count": null,
      "outputs": [
        {
          "output_type": "stream",
          "text": [
            "1002\n"
          ],
          "name": "stdout"
        }
      ]
    },
    {
      "cell_type": "markdown",
      "metadata": {
        "id": "gOGREa1ysBjl"
      },
      "source": [
        "# importing lib"
      ]
    },
    {
      "cell_type": "code",
      "metadata": {
        "id": "VHtIzpp9qSlH"
      },
      "source": [
        "import gym\n",
        "import itertools\n",
        "import matplotlib\n",
        "import matplotlib.style\n",
        "import numpy as np\n",
        "import pandas as pd\n",
        "import sys\n",
        "  \n",
        "  \n",
        "from collections import defaultdict\n",
        "# from windy_gridworld import WindyGridworldEnv\n",
        "# import plotting\n",
        "  \n",
        "matplotlib.style.use('ggplot')"
      ],
      "execution_count": null,
      "outputs": []
    },
    {
      "cell_type": "code",
      "metadata": {
        "id": "ri2gurnkq_H6"
      },
      "source": [
        "# Create gym environment.\n",
        "# env = WindyGridworldEnv()"
      ],
      "execution_count": null,
      "outputs": []
    },
    {
      "cell_type": "code",
      "metadata": {
        "id": "FX6byBGZsPqG"
      },
      "source": [
        "def createEpsilonGreedyPolicy(Q, epsilon, num_actions):\n",
        "    \"\"\"\n",
        "    Creates an epsilon-greedy policy based\n",
        "    on a given Q-function and epsilon.\n",
        "       \n",
        "    Returns a function that takes the state\n",
        "    as an input and returns the probabilities\n",
        "    for each action in the form of a numpy array \n",
        "    of length of the action space(set of possible actions).\n",
        "    \"\"\"\n",
        "    def policyFunction(state):\n",
        "   \n",
        "        Action_probabilities = np.ones(num_actions,\n",
        "                dtype = float) * epsilon / num_actions\n",
        "                  \n",
        "        best_action = np.argmax(Q[state])\n",
        "        Action_probabilities[best_action] += (1.0 - epsilon)\n",
        "        return Action_probabilities\n",
        "   \n",
        "    return policyFunction"
      ],
      "execution_count": null,
      "outputs": []
    },
    {
      "cell_type": "code",
      "metadata": {
        "id": "azT4i-6AsYHk"
      },
      "source": [
        "def qLearning(env, num_episodes, discount_factor = 1.0,\n",
        "                            alpha = 0.6, epsilon = 0.1):\n",
        "    \"\"\"\n",
        "    Q-Learning algorithm: Off-policy TD control.\n",
        "    Finds the optimal greedy policy while improving\n",
        "    following an epsilon-greedy policy\"\"\"\n",
        "       \n",
        "    # Action value function\n",
        "    # A nested dictionary that maps\n",
        "    # state -> (action -> action-value).\n",
        "    Q = defaultdict(lambda: np.zeros(env.action_space.n))\n",
        "   \n",
        "    # Keeps track of useful statistics\n",
        "    stats = plotting.EpisodeStats(\n",
        "        episode_lengths = np.zeros(num_episodes),\n",
        "        episode_rewards = np.zeros(num_episodes))    \n",
        "       \n",
        "    # Create an epsilon greedy policy function\n",
        "    # appropriately for environment action space\n",
        "    policy = createEpsilonGreedyPolicy(Q, epsilon, env.action_space.n)\n",
        "       \n",
        "    # For every episode\n",
        "    for ith_episode in range(num_episodes):\n",
        "           \n",
        "        # Reset the environment and pick the first action\n",
        "        state = env.reset()\n",
        "           \n",
        "        for t in itertools.count():\n",
        "               \n",
        "            # get probabilities of all actions from current state\n",
        "            action_probabilities = policy(state)\n",
        "   \n",
        "            # choose action according to \n",
        "            # the probability distribution\n",
        "            action = np.random.choice(np.arange(\n",
        "                      len(action_probabilities)),\n",
        "                       p = action_probabilities)\n",
        "   \n",
        "            # take action and get reward, transit to next state\n",
        "            next_state, reward, done, _ = env.step(action)\n",
        "   \n",
        "            # Update statistics\n",
        "            stats.episode_rewards[ith_episode] += reward\n",
        "            stats.episode_lengths[ith_episode] = t\n",
        "               \n",
        "            # TD Update\n",
        "            best_next_action = np.argmax(Q[next_state])    \n",
        "            td_target = reward + discount_factor * Q[next_state][best_next_action]\n",
        "            td_delta = td_target - Q[state][action]\n",
        "            Q[state][action] += alpha * td_delta\n",
        "   \n",
        "            # done is True if episode terminated   \n",
        "            if done:\n",
        "                break\n",
        "                   \n",
        "            state = next_state\n",
        "       \n",
        "    return Q, stats"
      ],
      "execution_count": null,
      "outputs": []
    },
    {
      "cell_type": "code",
      "metadata": {
        "id": "eu8ZnknEtGIx"
      },
      "source": [
        "Q, stats = qLearning(env, 1000)"
      ],
      "execution_count": null,
      "outputs": []
    },
    {
      "cell_type": "code",
      "metadata": {
        "id": "Y0T2Of_Fs88L"
      },
      "source": [
        "plotting.plot_episode_stats(stats)"
      ],
      "execution_count": null,
      "outputs": []
    },
    {
      "cell_type": "code",
      "metadata": {
        "id": "ZdMZ6kmisbPL"
      },
      "source": [
        ""
      ],
      "execution_count": null,
      "outputs": []
    },
    {
      "cell_type": "code",
      "metadata": {
        "id": "bIBpNCPKu0MS"
      },
      "source": [
        ""
      ],
      "execution_count": null,
      "outputs": []
    },
    {
      "cell_type": "code",
      "metadata": {
        "id": "bbXzbNRGu0PG"
      },
      "source": [
        ""
      ],
      "execution_count": null,
      "outputs": []
    },
    {
      "cell_type": "code",
      "metadata": {
        "id": "NQD1-WCru0Sf"
      },
      "source": [
        ""
      ],
      "execution_count": null,
      "outputs": []
    },
    {
      "cell_type": "code",
      "metadata": {
        "id": "PT1g9ZRau0VK"
      },
      "source": [
        ""
      ],
      "execution_count": null,
      "outputs": []
    },
    {
      "cell_type": "code",
      "metadata": {
        "id": "2_xtVtxwQuAH",
        "colab": {
          "base_uri": "https://localhost:8080/",
          "height": 129
        },
        "outputId": "3e1b5bfd-b7fa-422c-fe80-d23bce5e0d59"
      },
      "source": [
        "lemmatizer = WordNetLemmatizer() #we instantiate the lemmatizer using the WordNetLemmatizer library\n",
        "stop = set(stopwords.words('english'))\n",
        "for y,x in enumerate(doc):\n",
        "  tokenstop = [item for item in word_tokenize(x) if (item.isalpha() or item.isdigit()) and not item in stop]\n",
        "  #creating a second list called lemm that stores the lemmatized words\n",
        "  lemm = [lemmatizer.lemmatize(item) for item in tokenstop]\n",
        "  for word in lemm:\n",
        "    if word not in invind.keys():\n",
        "      ispresent[word] = [y]\n",
        "      invind[word] = [[y,1]]\n",
        "    elif y not in ispresent[word]:\n",
        "      invind[word].append([y,1])\n",
        "      ispresent[word].append(y)\n",
        "      else:\n",
        "        for i in range(len(invind[word])):\n",
        "        if invind[word][i][0]==y:\n",
        "        invind[word][i][1]+=1"
      ],
      "execution_count": null,
      "outputs": [
        {
          "output_type": "error",
          "ename": "SyntaxError",
          "evalue": "ignored",
          "traceback": [
            "\u001b[0;36m  File \u001b[0;32m\"<ipython-input-64-7e57f2871a54>\"\u001b[0;36m, line \u001b[0;32m14\u001b[0m\n\u001b[0;31m    else:\u001b[0m\n\u001b[0m       ^\u001b[0m\n\u001b[0;31mSyntaxError\u001b[0m\u001b[0;31m:\u001b[0m invalid syntax\n"
          ]
        }
      ]
    },
    {
      "cell_type": "code",
      "metadata": {
        "id": "Em4UaGXpQZl3"
      },
      "source": [
        "import nltk\n",
        "from nltk.tokenize import word_tokenize\n",
        "from nltk.corpus import stopwords\n",
        "from nltk.stem import WordNetLemmatizer\n",
        "import pandas as pd\n",
        "stopwords = pd.read_csv('stopwords.txt').values\n",
        "# stop = set(stopwords.('english')) #stopwords list\n",
        "# doc is a list of many document texts \n",
        "for y,x in enumerate(doc):\n",
        "  tokenstop = [item for item in word_tokenize(x) if (item.isalpha() or item.isdigit()) and not item in stop]\n",
        "\n",
        "\n",
        "lemmatizer = WordNetLemmatizer() #we instantiate the lemmatizer using the WordNetLemmatizer library\n",
        "stop = set(stopwords.words('english'))\n",
        "for y,x in enumerate(doc):\n",
        "  tokenstop = [item for item in word_tokenize(x) if (item.isalpha() or item.isdigit()) and not item in stop]\n",
        "  #creating a second list called lemm that stores the lemmatized words\n",
        "  lemm = [lemmatizer.lemmatize(item) for item in tokenstop]\n"
      ],
      "execution_count": null,
      "outputs": []
    },
    {
      "cell_type": "code",
      "metadata": {
        "id": "FQEYVuB6AD-Q"
      },
      "source": [
        "input, output, 4-5 websites (e.g., NVD) \n",
        "Docomentation:\n",
        " Process dig., (steps, algo. methods) \n",
        " writeup, approach dig. , process diag.  \n",
        "A2C\n",
        "D-Qn\n",
        "We want , domain,  "
      ],
      "execution_count": null,
      "outputs": []
    },
    {
      "cell_type": "code",
      "metadata": {
        "id": "nbyKUoqKQ38I"
      },
      "source": [
        ""
      ],
      "execution_count": null,
      "outputs": []
    },
    {
      "cell_type": "markdown",
      "metadata": {
        "id": "2AOvVXRrQ55U"
      },
      "source": [
        "## A2C"
      ]
    },
    {
      "cell_type": "code",
      "metadata": {
        "id": "Fz1Kof2VQ9hA"
      },
      "source": [
        "import numpy as np\n",
        "import torch\n",
        "import gym\n",
        "from torch import nn\n",
        "import matplotlib.pyplot as plt"
      ],
      "execution_count": null,
      "outputs": []
    },
    {
      "cell_type": "code",
      "metadata": {
        "id": "iEFzVnLzRBFM"
      },
      "source": [
        ""
      ],
      "execution_count": null,
      "outputs": []
    },
    {
      "cell_type": "code",
      "metadata": {
        "id": "ihgucruJRB1S"
      },
      "source": [
        "# helper function to convert numpy arrays to tensors\n",
        "def t(x): return torch.from_numpy(x).float()"
      ],
      "execution_count": null,
      "outputs": []
    },
    {
      "cell_type": "code",
      "metadata": {
        "id": "UvdIO2Y9REcM"
      },
      "source": [
        "# Actor module, categorical actions only\n",
        "class Actor(nn.Module):\n",
        "    def __init__(self, state_dim, n_actions):\n",
        "        super().__init__()\n",
        "        self.model = nn.Sequential(\n",
        "            nn.Linear(state_dim, 64),\n",
        "            nn.Tanh(),\n",
        "            nn.Linear(64, 32),\n",
        "            nn.Tanh(),\n",
        "            nn.Linear(32, n_actions),\n",
        "            nn.Softmax()\n",
        "        )\n",
        "    \n",
        "    def forward(self, X):\n",
        "        return self.model(X)\n"
      ],
      "execution_count": null,
      "outputs": []
    },
    {
      "cell_type": "code",
      "metadata": {
        "id": "6dtatZmyRGzx"
      },
      "source": [
        "# Critic module\n",
        "class Critic(nn.Module):\n",
        "    def __init__(self, state_dim):\n",
        "        super().__init__()\n",
        "        self.model = nn.Sequential(\n",
        "            nn.Linear(state_dim, 64),\n",
        "            nn.ReLU(),\n",
        "            nn.Linear(64, 32),\n",
        "            nn.ReLU(),\n",
        "            nn.Linear(32, 1)\n",
        "        )\n",
        "    \n",
        "    def forward(self, X):\n",
        "        return self.model(X)"
      ],
      "execution_count": null,
      "outputs": []
    },
    {
      "cell_type": "code",
      "metadata": {
        "id": "hs45ngb8RJ-U"
      },
      "source": [
        "env = gym.make(\"CartPole-v1\")\n"
      ],
      "execution_count": null,
      "outputs": []
    },
    {
      "cell_type": "code",
      "metadata": {
        "id": "d_E37bYJROcU"
      },
      "source": [
        "# config\n",
        "state_dim = env.observation_space.shape[0] # 4\n",
        "n_actions = env.action_space.n # 2\n",
        "actor = Actor(state_dim, n_actions)\n",
        "critic = Critic(state_dim)\n",
        "adam_actor = torch.optim.Adam(actor.parameters(), lr=1e-3)\n",
        "adam_critic = torch.optim.Adam(critic.parameters(), lr=1e-3)\n",
        "gamma = 0.99"
      ],
      "execution_count": null,
      "outputs": []
    },
    {
      "cell_type": "code",
      "metadata": {
        "colab": {
          "base_uri": "https://localhost:8080/"
        },
        "id": "DF5l3MxiTs5J",
        "outputId": "60470b24-0a28-433d-a151-847bef054fdc"
      },
      "source": [
        "print(n_actions)"
      ],
      "execution_count": null,
      "outputs": [
        {
          "output_type": "stream",
          "text": [
            "2\n"
          ],
          "name": "stdout"
        }
      ]
    },
    {
      "cell_type": "code",
      "metadata": {
        "colab": {
          "base_uri": "https://localhost:8080/"
        },
        "id": "cnVV6DpJRWnP",
        "outputId": "eba209ec-5adb-4e6d-b837-f3f2818a9ab7"
      },
      "source": [
        "episode_rewards = []\n",
        "\n",
        "for i in range(500):\n",
        "    done = False\n",
        "    total_reward = 0\n",
        "    state = env.reset()\n",
        "\n",
        "\n",
        "    while not done:\n",
        "        probs = actor(t(state))\n",
        "        dist = torch.distributions.Categorical(probs=probs)\n",
        "        action = dist.sample()\n",
        "        \n",
        "        next_state, reward, done, info = env.step(action.detach().data.numpy())\n",
        "        advantage = reward + (1-done)*gamma*critic(t(next_state)) - critic(t(state))\n",
        "        \n",
        "        total_reward += reward\n",
        "        state = next_state\n",
        "\n",
        "        critic_loss = advantage.pow(2).mean()\n",
        "        adam_critic.zero_grad()\n",
        "        critic_loss.backward()\n",
        "        adam_critic.step()\n",
        "\n",
        "        actor_loss = -dist.log_prob(action)*advantage.detach()\n",
        "        adam_actor.zero_grad()\n",
        "        actor_loss.backward()\n",
        "        adam_actor.step()\n",
        "            \n",
        "    episode_rewards.append(total_reward)"
      ],
      "execution_count": null,
      "outputs": [
        {
          "output_type": "stream",
          "text": [
            "/usr/local/lib/python3.7/dist-packages/torch/nn/modules/container.py:139: UserWarning: Implicit dimension choice for softmax has been deprecated. Change the call to include dim=X as an argument.\n",
            "  input = module(input)\n"
          ],
          "name": "stderr"
        }
      ]
    },
    {
      "cell_type": "code",
      "metadata": {
        "colab": {
          "base_uri": "https://localhost:8080/",
          "height": 295
        },
        "id": "o8WyXaphRXD8",
        "outputId": "284eee69-6e0a-4267-f33e-bad3031acc81"
      },
      "source": [
        "plt.scatter(np.arange(len(episode_rewards)), episode_rewards, s=2)\n",
        "plt.title(\"Total reward per episode (online)\")\n",
        "plt.ylabel(\"reward\")\n",
        "plt.xlabel(\"episode\")\n",
        "plt.show()"
      ],
      "execution_count": null,
      "outputs": [
        {
          "output_type": "display_data",
          "data": {
            "image/png": "[encoded data removed]",
            "text/plain": [
              "<Figure size 432x288 with 1 Axes>"
            ]
          },
          "metadata": {
            "needs_background": "light"
          }
        }
      ]
    },
    {
      "cell_type": "code",
      "metadata": {
        "id": "OpLNlXfsRaxv"
      },
      "source": [
        ""
      ],
      "execution_count": null,
      "outputs": []
    }
  ]
}